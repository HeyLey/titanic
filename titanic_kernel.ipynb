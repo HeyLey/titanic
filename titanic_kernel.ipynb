{
  "cells": [
    {
      "metadata": {
        "_uuid": "8f2839f25d086af736a60e9eeb907d3b93b6e0e5",
        "_cell_guid": "b1076dfc-b9ad-4769-8c92-a6c4dae69d19",
        "trusted": true
      },
      "cell_type": "code",
      "source": "import numpy as np \nimport pandas as pd \nimport os\nprint(os.listdir(\"../input\"))\n\nimport csv as csv\nimport sklearn as scl\n\n%matplotlib inline\nimport matplotlib.pyplot as plt\n\nimport seaborn as sns",
      "execution_count": 1,
      "outputs": [
        {
          "output_type": "stream",
          "text": "['train.csv', 'gender_submission.csv', 'test.csv']\n",
          "name": "stdout"
        }
      ]
    },
    {
      "metadata": {
        "_uuid": "2fa269b970ad7462d1e7334db0c0f68923e2c9b3"
      },
      "cell_type": "markdown",
      "source": "# Exploratory Data Analysis"
    },
    {
      "metadata": {
        "trusted": true,
        "_uuid": "ab8fb42eef993e2ab305519087304cf2c3c25228"
      },
      "cell_type": "code",
      "source": "train = pd.read_csv('../input/train.csv') \ntrain.shape",
      "execution_count": 2,
      "outputs": [
        {
          "output_type": "execute_result",
          "execution_count": 2,
          "data": {
            "text/plain": "(891, 12)"
          },
          "metadata": {}
        }
      ]
    },
    {
      "metadata": {
        "trusted": true,
        "_uuid": "2f87aaa51c5b17ad4e3626eb60314bc97b42157a"
      },
      "cell_type": "code",
      "source": "train.head()",
      "execution_count": 3,
      "outputs": [
        {
          "output_type": "execute_result",
          "execution_count": 3,
          "data": {
            "text/plain": "   PassengerId  Survived  Pclass    ...        Fare Cabin  Embarked\n0            1         0       3    ...      7.2500   NaN         S\n1            2         1       1    ...     71.2833   C85         C\n2            3         1       3    ...      7.9250   NaN         S\n3            4         1       1    ...     53.1000  C123         S\n4            5         0       3    ...      8.0500   NaN         S\n\n[5 rows x 12 columns]",
            "text/html": "<div>\n<style scoped>\n    .dataframe tbody tr th:only-of-type {\n        vertical-align: middle;\n    }\n\n    .dataframe tbody tr th {\n        vertical-align: top;\n    }\n\n    .dataframe thead th {\n        text-align: right;\n    }\n</style>\n<table border=\"1\" class=\"dataframe\">\n  <thead>\n    <tr style=\"text-align: right;\">\n      <th></th>\n      <th>PassengerId</th>\n      <th>Survived</th>\n      <th>Pclass</th>\n      <th>Name</th>\n      <th>Sex</th>\n      <th>Age</th>\n      <th>SibSp</th>\n      <th>Parch</th>\n      <th>Ticket</th>\n      <th>Fare</th>\n      <th>Cabin</th>\n      <th>Embarked</th>\n    </tr>\n  </thead>\n  <tbody>\n    <tr>\n      <th>0</th>\n      <td>1</td>\n      <td>0</td>\n      <td>3</td>\n      <td>Braund, Mr. Owen Harris</td>\n      <td>male</td>\n      <td>22.0</td>\n      <td>1</td>\n      <td>0</td>\n      <td>A/5 21171</td>\n      <td>7.2500</td>\n      <td>NaN</td>\n      <td>S</td>\n    </tr>\n    <tr>\n      <th>1</th>\n      <td>2</td>\n      <td>1</td>\n      <td>1</td>\n      <td>Cumings, Mrs. John Bradley (Florence Briggs Th...</td>\n      <td>female</td>\n      <td>38.0</td>\n      <td>1</td>\n      <td>0</td>\n      <td>PC 17599</td>\n      <td>71.2833</td>\n      <td>C85</td>\n      <td>C</td>\n    </tr>\n    <tr>\n      <th>2</th>\n      <td>3</td>\n      <td>1</td>\n      <td>3</td>\n      <td>Heikkinen, Miss. Laina</td>\n      <td>female</td>\n      <td>26.0</td>\n      <td>0</td>\n      <td>0</td>\n      <td>STON/O2. 3101282</td>\n      <td>7.9250</td>\n      <td>NaN</td>\n      <td>S</td>\n    </tr>\n    <tr>\n      <th>3</th>\n      <td>4</td>\n      <td>1</td>\n      <td>1</td>\n      <td>Futrelle, Mrs. Jacques Heath (Lily May Peel)</td>\n      <td>female</td>\n      <td>35.0</td>\n      <td>1</td>\n      <td>0</td>\n      <td>113803</td>\n      <td>53.1000</td>\n      <td>C123</td>\n      <td>S</td>\n    </tr>\n    <tr>\n      <th>4</th>\n      <td>5</td>\n      <td>0</td>\n      <td>3</td>\n      <td>Allen, Mr. William Henry</td>\n      <td>male</td>\n      <td>35.0</td>\n      <td>0</td>\n      <td>0</td>\n      <td>373450</td>\n      <td>8.0500</td>\n      <td>NaN</td>\n      <td>S</td>\n    </tr>\n  </tbody>\n</table>\n</div>"
          },
          "metadata": {}
        }
      ]
    },
    {
      "metadata": {
        "trusted": true,
        "_uuid": "31b18a7549025b60ee37ba79c8b74b200f1eb6e6"
      },
      "cell_type": "code",
      "source": "train.describe()",
      "execution_count": 4,
      "outputs": [
        {
          "output_type": "execute_result",
          "execution_count": 4,
          "data": {
            "text/plain": "       PassengerId    Survived     ...           Parch        Fare\ncount   891.000000  891.000000     ...      891.000000  891.000000\nmean    446.000000    0.383838     ...        0.381594   32.204208\nstd     257.353842    0.486592     ...        0.806057   49.693429\nmin       1.000000    0.000000     ...        0.000000    0.000000\n25%     223.500000    0.000000     ...        0.000000    7.910400\n50%     446.000000    0.000000     ...        0.000000   14.454200\n75%     668.500000    1.000000     ...        0.000000   31.000000\nmax     891.000000    1.000000     ...        6.000000  512.329200\n\n[8 rows x 7 columns]",
            "text/html": "<div>\n<style scoped>\n    .dataframe tbody tr th:only-of-type {\n        vertical-align: middle;\n    }\n\n    .dataframe tbody tr th {\n        vertical-align: top;\n    }\n\n    .dataframe thead th {\n        text-align: right;\n    }\n</style>\n<table border=\"1\" class=\"dataframe\">\n  <thead>\n    <tr style=\"text-align: right;\">\n      <th></th>\n      <th>PassengerId</th>\n      <th>Survived</th>\n      <th>Pclass</th>\n      <th>Age</th>\n      <th>SibSp</th>\n      <th>Parch</th>\n      <th>Fare</th>\n    </tr>\n  </thead>\n  <tbody>\n    <tr>\n      <th>count</th>\n      <td>891.000000</td>\n      <td>891.000000</td>\n      <td>891.000000</td>\n      <td>714.000000</td>\n      <td>891.000000</td>\n      <td>891.000000</td>\n      <td>891.000000</td>\n    </tr>\n    <tr>\n      <th>mean</th>\n      <td>446.000000</td>\n      <td>0.383838</td>\n      <td>2.308642</td>\n      <td>29.699118</td>\n      <td>0.523008</td>\n      <td>0.381594</td>\n      <td>32.204208</td>\n    </tr>\n    <tr>\n      <th>std</th>\n      <td>257.353842</td>\n      <td>0.486592</td>\n      <td>0.836071</td>\n      <td>14.526497</td>\n      <td>1.102743</td>\n      <td>0.806057</td>\n      <td>49.693429</td>\n    </tr>\n    <tr>\n      <th>min</th>\n      <td>1.000000</td>\n      <td>0.000000</td>\n      <td>1.000000</td>\n      <td>0.420000</td>\n      <td>0.000000</td>\n      <td>0.000000</td>\n      <td>0.000000</td>\n    </tr>\n    <tr>\n      <th>25%</th>\n      <td>223.500000</td>\n      <td>0.000000</td>\n      <td>2.000000</td>\n      <td>20.125000</td>\n      <td>0.000000</td>\n      <td>0.000000</td>\n      <td>7.910400</td>\n    </tr>\n    <tr>\n      <th>50%</th>\n      <td>446.000000</td>\n      <td>0.000000</td>\n      <td>3.000000</td>\n      <td>28.000000</td>\n      <td>0.000000</td>\n      <td>0.000000</td>\n      <td>14.454200</td>\n    </tr>\n    <tr>\n      <th>75%</th>\n      <td>668.500000</td>\n      <td>1.000000</td>\n      <td>3.000000</td>\n      <td>38.000000</td>\n      <td>1.000000</td>\n      <td>0.000000</td>\n      <td>31.000000</td>\n    </tr>\n    <tr>\n      <th>max</th>\n      <td>891.000000</td>\n      <td>1.000000</td>\n      <td>3.000000</td>\n      <td>80.000000</td>\n      <td>8.000000</td>\n      <td>6.000000</td>\n      <td>512.329200</td>\n    </tr>\n  </tbody>\n</table>\n</div>"
          },
          "metadata": {}
        }
      ]
    },
    {
      "metadata": {
        "trusted": true,
        "_uuid": "20825cdfa8f90dc4e6135cd8b4f6ba9f10066b3d"
      },
      "cell_type": "code",
      "source": "test = pd.read_csv('../input/test.csv') \ntest.shape",
      "execution_count": 5,
      "outputs": [
        {
          "output_type": "execute_result",
          "execution_count": 5,
          "data": {
            "text/plain": "(418, 11)"
          },
          "metadata": {}
        }
      ]
    },
    {
      "metadata": {
        "trusted": true,
        "_uuid": "cef5aef9926e7b76751dc2119bc1874cafd4ae7f"
      },
      "cell_type": "code",
      "source": "test.describe()",
      "execution_count": 6,
      "outputs": [
        {
          "output_type": "execute_result",
          "execution_count": 6,
          "data": {
            "text/plain": "       PassengerId      Pclass     ...           Parch        Fare\ncount   418.000000  418.000000     ...      418.000000  417.000000\nmean   1100.500000    2.265550     ...        0.392344   35.627188\nstd     120.810458    0.841838     ...        0.981429   55.907576\nmin     892.000000    1.000000     ...        0.000000    0.000000\n25%     996.250000    1.000000     ...        0.000000    7.895800\n50%    1100.500000    3.000000     ...        0.000000   14.454200\n75%    1204.750000    3.000000     ...        0.000000   31.500000\nmax    1309.000000    3.000000     ...        9.000000  512.329200\n\n[8 rows x 6 columns]",
            "text/html": "<div>\n<style scoped>\n    .dataframe tbody tr th:only-of-type {\n        vertical-align: middle;\n    }\n\n    .dataframe tbody tr th {\n        vertical-align: top;\n    }\n\n    .dataframe thead th {\n        text-align: right;\n    }\n</style>\n<table border=\"1\" class=\"dataframe\">\n  <thead>\n    <tr style=\"text-align: right;\">\n      <th></th>\n      <th>PassengerId</th>\n      <th>Pclass</th>\n      <th>Age</th>\n      <th>SibSp</th>\n      <th>Parch</th>\n      <th>Fare</th>\n    </tr>\n  </thead>\n  <tbody>\n    <tr>\n      <th>count</th>\n      <td>418.000000</td>\n      <td>418.000000</td>\n      <td>332.000000</td>\n      <td>418.000000</td>\n      <td>418.000000</td>\n      <td>417.000000</td>\n    </tr>\n    <tr>\n      <th>mean</th>\n      <td>1100.500000</td>\n      <td>2.265550</td>\n      <td>30.272590</td>\n      <td>0.447368</td>\n      <td>0.392344</td>\n      <td>35.627188</td>\n    </tr>\n    <tr>\n      <th>std</th>\n      <td>120.810458</td>\n      <td>0.841838</td>\n      <td>14.181209</td>\n      <td>0.896760</td>\n      <td>0.981429</td>\n      <td>55.907576</td>\n    </tr>\n    <tr>\n      <th>min</th>\n      <td>892.000000</td>\n      <td>1.000000</td>\n      <td>0.170000</td>\n      <td>0.000000</td>\n      <td>0.000000</td>\n      <td>0.000000</td>\n    </tr>\n    <tr>\n      <th>25%</th>\n      <td>996.250000</td>\n      <td>1.000000</td>\n      <td>21.000000</td>\n      <td>0.000000</td>\n      <td>0.000000</td>\n      <td>7.895800</td>\n    </tr>\n    <tr>\n      <th>50%</th>\n      <td>1100.500000</td>\n      <td>3.000000</td>\n      <td>27.000000</td>\n      <td>0.000000</td>\n      <td>0.000000</td>\n      <td>14.454200</td>\n    </tr>\n    <tr>\n      <th>75%</th>\n      <td>1204.750000</td>\n      <td>3.000000</td>\n      <td>39.000000</td>\n      <td>1.000000</td>\n      <td>0.000000</td>\n      <td>31.500000</td>\n    </tr>\n    <tr>\n      <th>max</th>\n      <td>1309.000000</td>\n      <td>3.000000</td>\n      <td>76.000000</td>\n      <td>8.000000</td>\n      <td>9.000000</td>\n      <td>512.329200</td>\n    </tr>\n  </tbody>\n</table>\n</div>"
          },
          "metadata": {}
        }
      ]
    },
    {
      "metadata": {
        "trusted": true,
        "_uuid": "3a99e54b712e2c9c4f8b68a303750782a6a8fc2c"
      },
      "cell_type": "code",
      "source": "features = list(set(test.columns) - {'Name'})\nfeatures",
      "execution_count": 7,
      "outputs": [
        {
          "output_type": "execute_result",
          "execution_count": 7,
          "data": {
            "text/plain": "['SibSp',\n 'Age',\n 'Cabin',\n 'Pclass',\n 'Ticket',\n 'PassengerId',\n 'Sex',\n 'Embarked',\n 'Fare',\n 'Parch']"
          },
          "metadata": {}
        }
      ]
    },
    {
      "metadata": {
        "trusted": true,
        "_uuid": "3ec88b2d2069b8c64fbd2ad101c0945616a8a4cd"
      },
      "cell_type": "code",
      "source": "# Impute missing values using the median for numeric columns and the most common value for string columns.\nfrom sklearn.base import TransformerMixin\nclass DataFrameImputer(TransformerMixin):\n    def fit(self, X, y=None):\n        self.fill = pd.Series([X[c].value_counts().index[0]\n            if X[c].dtype == np.dtype('O') else X[c].median() for c in X],\n            index=X.columns)\n        return self\n    def transform(self, X, y=None):\n        return X.fillna(self.fill)",
      "execution_count": 8,
      "outputs": []
    },
    {
      "metadata": {
        "trusted": true,
        "_uuid": "8f29a7f4f386d838d80ddf8464725380fb5789aa"
      },
      "cell_type": "code",
      "source": "# Join the features from train and test together before imputing missing values,\n# in case their distribution is slightly different\ncommon = train[features].append(test[features])\ncommon = DataFrameImputer().fit_transform(common)\ncommon.describe()",
      "execution_count": 9,
      "outputs": [
        {
          "output_type": "execute_result",
          "execution_count": 9,
          "data": {
            "text/plain": "             SibSp          Age     ...              Fare        Parch\ncount  1309.000000  1309.000000     ...       1309.000000  1309.000000\nmean      0.498854    29.503186     ...         33.281086     0.385027\nstd       1.041658    12.905241     ...         51.741500     0.865560\nmin       0.000000     0.170000     ...          0.000000     0.000000\n25%       0.000000    22.000000     ...          7.895800     0.000000\n50%       0.000000    28.000000     ...         14.454200     0.000000\n75%       1.000000    35.000000     ...         31.275000     0.000000\nmax       8.000000    80.000000     ...        512.329200     9.000000\n\n[8 rows x 6 columns]",
            "text/html": "<div>\n<style scoped>\n    .dataframe tbody tr th:only-of-type {\n        vertical-align: middle;\n    }\n\n    .dataframe tbody tr th {\n        vertical-align: top;\n    }\n\n    .dataframe thead th {\n        text-align: right;\n    }\n</style>\n<table border=\"1\" class=\"dataframe\">\n  <thead>\n    <tr style=\"text-align: right;\">\n      <th></th>\n      <th>SibSp</th>\n      <th>Age</th>\n      <th>Pclass</th>\n      <th>PassengerId</th>\n      <th>Fare</th>\n      <th>Parch</th>\n    </tr>\n  </thead>\n  <tbody>\n    <tr>\n      <th>count</th>\n      <td>1309.000000</td>\n      <td>1309.000000</td>\n      <td>1309.000000</td>\n      <td>1309.000000</td>\n      <td>1309.000000</td>\n      <td>1309.000000</td>\n    </tr>\n    <tr>\n      <th>mean</th>\n      <td>0.498854</td>\n      <td>29.503186</td>\n      <td>2.294882</td>\n      <td>655.000000</td>\n      <td>33.281086</td>\n      <td>0.385027</td>\n    </tr>\n    <tr>\n      <th>std</th>\n      <td>1.041658</td>\n      <td>12.905241</td>\n      <td>0.837836</td>\n      <td>378.020061</td>\n      <td>51.741500</td>\n      <td>0.865560</td>\n    </tr>\n    <tr>\n      <th>min</th>\n      <td>0.000000</td>\n      <td>0.170000</td>\n      <td>1.000000</td>\n      <td>1.000000</td>\n      <td>0.000000</td>\n      <td>0.000000</td>\n    </tr>\n    <tr>\n      <th>25%</th>\n      <td>0.000000</td>\n      <td>22.000000</td>\n      <td>2.000000</td>\n      <td>328.000000</td>\n      <td>7.895800</td>\n      <td>0.000000</td>\n    </tr>\n    <tr>\n      <th>50%</th>\n      <td>0.000000</td>\n      <td>28.000000</td>\n      <td>3.000000</td>\n      <td>655.000000</td>\n      <td>14.454200</td>\n      <td>0.000000</td>\n    </tr>\n    <tr>\n      <th>75%</th>\n      <td>1.000000</td>\n      <td>35.000000</td>\n      <td>3.000000</td>\n      <td>982.000000</td>\n      <td>31.275000</td>\n      <td>0.000000</td>\n    </tr>\n    <tr>\n      <th>max</th>\n      <td>8.000000</td>\n      <td>80.000000</td>\n      <td>3.000000</td>\n      <td>1309.000000</td>\n      <td>512.329200</td>\n      <td>9.000000</td>\n    </tr>\n  </tbody>\n</table>\n</div>"
          },
          "metadata": {}
        }
      ]
    },
    {
      "metadata": {
        "trusted": true,
        "_uuid": "037754b5e6e62c7daa9990d21dc19bb5d41d5b54"
      },
      "cell_type": "code",
      "source": "# Change categorical features  to columns of integer values\nfrom sklearn.preprocessing import LabelEncoder\nle = LabelEncoder()\nfor feature in features:\n    common[feature] = le.fit_transform(common[feature])",
      "execution_count": 10,
      "outputs": []
    },
    {
      "metadata": {
        "trusted": true,
        "_uuid": "16b960a75ba59ea2c71cb17da960d46771204117"
      },
      "cell_type": "code",
      "source": "train2 = common[0:train.shape[0]]\ntest2 = common[train.shape[0]::]",
      "execution_count": 11,
      "outputs": []
    },
    {
      "metadata": {
        "trusted": true,
        "_uuid": "8f1886699b54d478d305b9f6103a9d3000651e52"
      },
      "cell_type": "code",
      "source": "correlation_matrix = train2.corr()\ncorrelation_matrix",
      "execution_count": 12,
      "outputs": [
        {
          "output_type": "execute_result",
          "execution_count": 12,
          "data": {
            "text/plain": "                SibSp       Age    ...         Fare     Parch\nSibSp        1.000000 -0.250597    ...     0.369257  0.423338\nAge         -0.250597  1.000000    ...     0.123296 -0.165856\nCabin        0.008424  0.006034    ...     0.057022  0.014164\nPclass       0.078141 -0.341013    ...    -0.721772  0.018443\nTicket       0.068976 -0.072190    ...    -0.169863  0.019936\nPassengerId -0.065229  0.034809    ...    -0.007500 -0.001652\nSex         -0.123164  0.078462    ...    -0.266027 -0.245489\nEmbarked     0.065635 -0.016476    ...    -0.155600  0.039798\nFare         0.369257  0.123296    ...     1.000000  0.361297\nParch        0.423338 -0.165856    ...     0.361297  1.000000\n\n[10 rows x 10 columns]",
            "text/html": "<div>\n<style scoped>\n    .dataframe tbody tr th:only-of-type {\n        vertical-align: middle;\n    }\n\n    .dataframe tbody tr th {\n        vertical-align: top;\n    }\n\n    .dataframe thead th {\n        text-align: right;\n    }\n</style>\n<table border=\"1\" class=\"dataframe\">\n  <thead>\n    <tr style=\"text-align: right;\">\n      <th></th>\n      <th>SibSp</th>\n      <th>Age</th>\n      <th>Cabin</th>\n      <th>Pclass</th>\n      <th>Ticket</th>\n      <th>PassengerId</th>\n      <th>Sex</th>\n      <th>Embarked</th>\n      <th>Fare</th>\n      <th>Parch</th>\n    </tr>\n  </thead>\n  <tbody>\n    <tr>\n      <th>SibSp</th>\n      <td>1.000000</td>\n      <td>-0.250597</td>\n      <td>0.008424</td>\n      <td>0.078141</td>\n      <td>0.068976</td>\n      <td>-0.065229</td>\n      <td>-0.123164</td>\n      <td>0.065635</td>\n      <td>0.369257</td>\n      <td>0.423338</td>\n    </tr>\n    <tr>\n      <th>Age</th>\n      <td>-0.250597</td>\n      <td>1.000000</td>\n      <td>0.006034</td>\n      <td>-0.341013</td>\n      <td>-0.072190</td>\n      <td>0.034809</td>\n      <td>0.078462</td>\n      <td>-0.016476</td>\n      <td>0.123296</td>\n      <td>-0.165856</td>\n    </tr>\n    <tr>\n      <th>Cabin</th>\n      <td>0.008424</td>\n      <td>0.006034</td>\n      <td>1.000000</td>\n      <td>-0.062211</td>\n      <td>-0.004401</td>\n      <td>-0.025823</td>\n      <td>-0.074228</td>\n      <td>0.071185</td>\n      <td>0.057022</td>\n      <td>0.014164</td>\n    </tr>\n    <tr>\n      <th>Pclass</th>\n      <td>0.078141</td>\n      <td>-0.341013</td>\n      <td>-0.062211</td>\n      <td>1.000000</td>\n      <td>0.322475</td>\n      <td>-0.035144</td>\n      <td>0.131900</td>\n      <td>0.162098</td>\n      <td>-0.721772</td>\n      <td>0.018443</td>\n    </tr>\n    <tr>\n      <th>Ticket</th>\n      <td>0.068976</td>\n      <td>-0.072190</td>\n      <td>-0.004401</td>\n      <td>0.322475</td>\n      <td>1.000000</td>\n      <td>-0.056470</td>\n      <td>0.060416</td>\n      <td>0.000032</td>\n      <td>-0.169863</td>\n      <td>0.019936</td>\n    </tr>\n    <tr>\n      <th>PassengerId</th>\n      <td>-0.065229</td>\n      <td>0.034809</td>\n      <td>-0.025823</td>\n      <td>-0.035144</td>\n      <td>-0.056470</td>\n      <td>1.000000</td>\n      <td>0.042939</td>\n      <td>0.013128</td>\n      <td>-0.007500</td>\n      <td>-0.001652</td>\n    </tr>\n    <tr>\n      <th>Sex</th>\n      <td>-0.123164</td>\n      <td>0.078462</td>\n      <td>-0.074228</td>\n      <td>0.131900</td>\n      <td>0.060416</td>\n      <td>0.042939</td>\n      <td>1.000000</td>\n      <td>0.108262</td>\n      <td>-0.266027</td>\n      <td>-0.245489</td>\n    </tr>\n    <tr>\n      <th>Embarked</th>\n      <td>0.065635</td>\n      <td>-0.016476</td>\n      <td>0.071185</td>\n      <td>0.162098</td>\n      <td>0.000032</td>\n      <td>0.013128</td>\n      <td>0.108262</td>\n      <td>1.000000</td>\n      <td>-0.155600</td>\n      <td>0.039798</td>\n    </tr>\n    <tr>\n      <th>Fare</th>\n      <td>0.369257</td>\n      <td>0.123296</td>\n      <td>0.057022</td>\n      <td>-0.721772</td>\n      <td>-0.169863</td>\n      <td>-0.007500</td>\n      <td>-0.266027</td>\n      <td>-0.155600</td>\n      <td>1.000000</td>\n      <td>0.361297</td>\n    </tr>\n    <tr>\n      <th>Parch</th>\n      <td>0.423338</td>\n      <td>-0.165856</td>\n      <td>0.014164</td>\n      <td>0.018443</td>\n      <td>0.019936</td>\n      <td>-0.001652</td>\n      <td>-0.245489</td>\n      <td>0.039798</td>\n      <td>0.361297</td>\n      <td>1.000000</td>\n    </tr>\n  </tbody>\n</table>\n</div>"
          },
          "metadata": {}
        }
      ]
    },
    {
      "metadata": {
        "trusted": true,
        "_uuid": "0ab7efe9cf12a15281f17cdf80e644d945767959"
      },
      "cell_type": "code",
      "source": "plt.figure(figsize=(14,12))\nplt.title('Pearson Correlation of Features', y=1.05, size=15)\nsns.heatmap(correlation_matrix)",
      "execution_count": 13,
      "outputs": [
        {
          "output_type": "execute_result",
          "execution_count": 13,
          "data": {
            "text/plain": "<matplotlib.axes._subplots.AxesSubplot at 0x7fd057d23780>"
          },
          "metadata": {}
        },
        {
          "output_type": "display_data",
          "data": {
            "text/plain": "<Figure size 1008x864 with 2 Axes>",
            "image/png": "[encoded data removed]"
          },
          "metadata": {
            "needs_background": "light"
          }
        }
      ]
    },
    {
      "metadata": {
        "trusted": true,
        "_uuid": "3bb68dff9155df299ba31384c2d67d3ad36f2f67"
      },
      "cell_type": "code",
      "source": "features2 = ['Sex','Age','Pclass','Parch','Embarked', 'Cabin']\ntrain3 = train2[features2]\ntest3 = test2[features2]\ncorrelation_matrix2 = train3.corr()\ncorrelation_matrix2",
      "execution_count": 14,
      "outputs": [
        {
          "output_type": "execute_result",
          "execution_count": 14,
          "data": {
            "text/plain": "               Sex       Age    Pclass     Parch  Embarked     Cabin\nSex       1.000000  0.078462  0.131900 -0.245489  0.108262 -0.074228\nAge       0.078462  1.000000 -0.341013 -0.165856 -0.016476  0.006034\nPclass    0.131900 -0.341013  1.000000  0.018443  0.162098 -0.062211\nParch    -0.245489 -0.165856  0.018443  1.000000  0.039798  0.014164\nEmbarked  0.108262 -0.016476  0.162098  0.039798  1.000000  0.071185\nCabin    -0.074228  0.006034 -0.062211  0.014164  0.071185  1.000000",
            "text/html": "<div>\n<style scoped>\n    .dataframe tbody tr th:only-of-type {\n        vertical-align: middle;\n    }\n\n    .dataframe tbody tr th {\n        vertical-align: top;\n    }\n\n    .dataframe thead th {\n        text-align: right;\n    }\n</style>\n<table border=\"1\" class=\"dataframe\">\n  <thead>\n    <tr style=\"text-align: right;\">\n      <th></th>\n      <th>Sex</th>\n      <th>Age</th>\n      <th>Pclass</th>\n      <th>Parch</th>\n      <th>Embarked</th>\n      <th>Cabin</th>\n    </tr>\n  </thead>\n  <tbody>\n    <tr>\n      <th>Sex</th>\n      <td>1.000000</td>\n      <td>0.078462</td>\n      <td>0.131900</td>\n      <td>-0.245489</td>\n      <td>0.108262</td>\n      <td>-0.074228</td>\n    </tr>\n    <tr>\n      <th>Age</th>\n      <td>0.078462</td>\n      <td>1.000000</td>\n      <td>-0.341013</td>\n      <td>-0.165856</td>\n      <td>-0.016476</td>\n      <td>0.006034</td>\n    </tr>\n    <tr>\n      <th>Pclass</th>\n      <td>0.131900</td>\n      <td>-0.341013</td>\n      <td>1.000000</td>\n      <td>0.018443</td>\n      <td>0.162098</td>\n      <td>-0.062211</td>\n    </tr>\n    <tr>\n      <th>Parch</th>\n      <td>-0.245489</td>\n      <td>-0.165856</td>\n      <td>0.018443</td>\n      <td>1.000000</td>\n      <td>0.039798</td>\n      <td>0.014164</td>\n    </tr>\n    <tr>\n      <th>Embarked</th>\n      <td>0.108262</td>\n      <td>-0.016476</td>\n      <td>0.162098</td>\n      <td>0.039798</td>\n      <td>1.000000</td>\n      <td>0.071185</td>\n    </tr>\n    <tr>\n      <th>Cabin</th>\n      <td>-0.074228</td>\n      <td>0.006034</td>\n      <td>-0.062211</td>\n      <td>0.014164</td>\n      <td>0.071185</td>\n      <td>1.000000</td>\n    </tr>\n  </tbody>\n</table>\n</div>"
          },
          "metadata": {}
        }
      ]
    },
    {
      "metadata": {
        "trusted": true,
        "_uuid": "dd4b78f2c5a870baa532997f6bbd79be457c6ab3"
      },
      "cell_type": "code",
      "source": "plt.figure(figsize=(14,12))\nplt.title('Pearson Correlation of Features', y=1.05, size=15)\nsns.heatmap(correlation_matrix2)",
      "execution_count": 15,
      "outputs": [
        {
          "output_type": "execute_result",
          "execution_count": 15,
          "data": {
            "text/plain": "<matplotlib.axes._subplots.AxesSubplot at 0x7fd051cc1208>"
          },
          "metadata": {}
        },
        {
          "output_type": "display_data",
          "data": {
            "text/plain": "<Figure size 1008x864 with 2 Axes>",
            "image/png": "[encoded data removed]"
          },
          "metadata": {
            "needs_background": "light"
          }
        }
      ]
    },
    {
      "metadata": {
        "trusted": true,
        "_uuid": "f7a79b54a927cbaa1dacb7bfb0756ac24b9fd86e"
      },
      "cell_type": "code",
      "source": "train_X = train3.values\ntest_X = test3.values\ntrain_y = train['Survived']",
      "execution_count": 16,
      "outputs": []
    },
    {
      "metadata": {
        "_uuid": "f88fa873852639908a40cc6f5cb4c62a49b8ac12"
      },
      "cell_type": "markdown",
      "source": "# Logistic Regression"
    },
    {
      "metadata": {
        "trusted": true,
        "_uuid": "0e703586bd8ed7a7cc5e915d668b30318c9df694"
      },
      "cell_type": "code",
      "source": "from sklearn.linear_model import LogisticRegression\n\nmodel = LogisticRegression()\nmodel.fit(train_X, train_y)\n\n# Make predictions\npreds = model.predict(test_X)\n\nprint(model)",
      "execution_count": 17,
      "outputs": [
        {
          "output_type": "stream",
          "text": "LogisticRegression(C=1.0, class_weight=None, dual=False, fit_intercept=True,\n          intercept_scaling=1, max_iter=100, multi_class='ovr', n_jobs=1,\n          penalty='l2', random_state=None, solver='liblinear', tol=0.0001,\n          verbose=0, warm_start=False)\n",
          "name": "stdout"
        }
      ]
    },
    {
      "metadata": {
        "trusted": true,
        "_uuid": "151ee4e6c2b2fe8b5848988b716962db303fed28"
      },
      "cell_type": "code",
      "source": "submission = pd.DataFrame({ 'PassengerId': test['PassengerId'],\n                            'Survived': preds })\nsubmission.to_csv('submission.csv', index=False)",
      "execution_count": 18,
      "outputs": []
    },
    {
      "metadata": {
        "trusted": true,
        "_uuid": "1e596430c236c091091308224dc5a6b030f334c5"
      },
      "cell_type": "markdown",
      "source": "# XGBoost"
    },
    {
      "metadata": {
        "trusted": true,
        "_uuid": "5fca1b8ec7d36be407fcb70557ed926d3441cd49"
      },
      "cell_type": "code",
      "source": "import xgboost as xgb\n\ngbm = xgb.XGBClassifier(max_depth=3, n_estimators=300, learning_rate=0.05).fit(train_X, train_y)\npreds2 = gbm.predict(test_X)",
      "execution_count": 19,
      "outputs": [
        {
          "output_type": "stream",
          "text": "/opt/conda/lib/python3.6/site-packages/sklearn/preprocessing/label.py:151: DeprecationWarning: The truth value of an empty array is ambiguous. Returning False, but in future this will result in an error. Use `array.size > 0` to check that an array is not empty.\n  if diff:\n",
          "name": "stderr"
        }
      ]
    },
    {
      "metadata": {
        "trusted": true,
        "_uuid": "39b8c7eaa32f6f53665a91e87a912a06afdce778"
      },
      "cell_type": "code",
      "source": "submission2 = pd.DataFrame({ 'PassengerId': test['PassengerId'],\n                             'Survived': preds2 })\nsubmission2.to_csv('submission2.csv')",
      "execution_count": 20,
      "outputs": []
    },
    {
      "metadata": {
        "trusted": true,
        "_uuid": "e7cdd3755e762930f34254d8e3a77791080972e2"
      },
      "cell_type": "code",
      "source": "print(os.listdir())",
      "execution_count": 21,
      "outputs": [
        {
          "output_type": "stream",
          "text": "['submission2.csv', '__notebook_source__.ipynb', 'submission.csv', '.ipynb_checkpoints']\n",
          "name": "stdout"
        }
      ]
    }
  ],
  "metadata": {
    "kernelspec": {
      "display_name": "Python 3",
      "language": "python",
      "name": "python3"
    },
    "language_info": {
      "name": "python",
      "version": "3.6.6",
      "mimetype": "text/x-python",
      "codemirror_mode": {
        "name": "ipython",
        "version": 3
      },
      "pygments_lexer": "ipython3",
      "nbconvert_exporter": "python",
      "file_extension": ".py"
    }
  },
  "nbformat": 4,
  "nbformat_minor": 1
}