{
 "cells": [
  {
   "cell_type": "code",
   "execution_count": 1,
   "metadata": {
    "_cell_guid": "b1076dfc-b9ad-4769-8c92-a6c4dae69d19",
    "_uuid": "8f2839f25d086af736a60e9eeb907d3b93b6e0e5",
    "collapsed": false
   },
   "outputs": [],
   "source": [
    "import numpy as np \n",
    "import pandas as pd \n",
    "import os\n",
    "\n",
    "import csv as csv\n",
    "import sklearn as scl\n",
    "\n",
    "%matplotlib inline\n",
    "import matplotlib.pyplot as plt"
   ]
  },
  {
   "cell_type": "markdown",
   "metadata": {
    "_uuid": "2fa269b970ad7462d1e7334db0c0f68923e2c9b3"
   },
   "source": [
    "# Exploratory Data Analysis"
   ]
  },
  {
   "cell_type": "code",
   "execution_count": 2,
   "metadata": {
    "_uuid": "ab8fb42eef993e2ab305519087304cf2c3c25228",
    "collapsed": false
   },
   "outputs": [
    {
     "data": {
      "text/plain": [
       "(891, 12)"
      ]
     },
     "execution_count": 2,
     "metadata": {},
     "output_type": "execute_result"
    }
   ],
   "source": [
    "train = pd.read_csv('data/train.csv') \n",
    "train.shape"
   ]
  },
  {
   "cell_type": "code",
   "execution_count": 3,
   "metadata": {
    "_uuid": "2f87aaa51c5b17ad4e3626eb60314bc97b42157a",
    "collapsed": false
   },
   "outputs": [
    {
     "data": {
      "text/html": [
       "<div>\n",
       "<style scoped>\n",
       "    .dataframe tbody tr th:only-of-type {\n",
       "        vertical-align: middle;\n",
       "    }\n",
       "\n",
       "    .dataframe tbody tr th {\n",
       "        vertical-align: top;\n",
       "    }\n",
       "\n",
       "    .dataframe thead th {\n",
       "        text-align: right;\n",
       "    }\n",
       "</style>\n",
       "<table border=\"1\" class=\"dataframe\">\n",
       "  <thead>\n",
       "    <tr style=\"text-align: right;\">\n",
       "      <th></th>\n",
       "      <th>PassengerId</th>\n",
       "      <th>Survived</th>\n",
       "      <th>Pclass</th>\n",
       "      <th>Name</th>\n",
       "      <th>Sex</th>\n",
       "      <th>Age</th>\n",
       "      <th>SibSp</th>\n",
       "      <th>Parch</th>\n",
       "      <th>Ticket</th>\n",
       "      <th>Fare</th>\n",
       "      <th>Cabin</th>\n",
       "      <th>Embarked</th>\n",
       "    </tr>\n",
       "  </thead>\n",
       "  <tbody>\n",
       "    <tr>\n",
       "      <th>0</th>\n",
       "      <td>1</td>\n",
       "      <td>0</td>\n",
       "      <td>3</td>\n",
       "      <td>Braund, Mr. Owen Harris</td>\n",
       "      <td>male</td>\n",
       "      <td>22.0</td>\n",
       "      <td>1</td>\n",
       "      <td>0</td>\n",
       "      <td>A/5 21171</td>\n",
       "      <td>7.2500</td>\n",
       "      <td>NaN</td>\n",
       "      <td>S</td>\n",
       "    </tr>\n",
       "    <tr>\n",
       "      <th>1</th>\n",
       "      <td>2</td>\n",
       "      <td>1</td>\n",
       "      <td>1</td>\n",
       "      <td>Cumings, Mrs. John Bradley (Florence Briggs Th...</td>\n",
       "      <td>female</td>\n",
       "      <td>38.0</td>\n",
       "      <td>1</td>\n",
       "      <td>0</td>\n",
       "      <td>PC 17599</td>\n",
       "      <td>71.2833</td>\n",
       "      <td>C85</td>\n",
       "      <td>C</td>\n",
       "    </tr>\n",
       "    <tr>\n",
       "      <th>2</th>\n",
       "      <td>3</td>\n",
       "      <td>1</td>\n",
       "      <td>3</td>\n",
       "      <td>Heikkinen, Miss. Laina</td>\n",
       "      <td>female</td>\n",
       "      <td>26.0</td>\n",
       "      <td>0</td>\n",
       "      <td>0</td>\n",
       "      <td>STON/O2. 3101282</td>\n",
       "      <td>7.9250</td>\n",
       "      <td>NaN</td>\n",
       "      <td>S</td>\n",
       "    </tr>\n",
       "    <tr>\n",
       "      <th>3</th>\n",
       "      <td>4</td>\n",
       "      <td>1</td>\n",
       "      <td>1</td>\n",
       "      <td>Futrelle, Mrs. Jacques Heath (Lily May Peel)</td>\n",
       "      <td>female</td>\n",
       "      <td>35.0</td>\n",
       "      <td>1</td>\n",
       "      <td>0</td>\n",
       "      <td>113803</td>\n",
       "      <td>53.1000</td>\n",
       "      <td>C123</td>\n",
       "      <td>S</td>\n",
       "    </tr>\n",
       "    <tr>\n",
       "      <th>4</th>\n",
       "      <td>5</td>\n",
       "      <td>0</td>\n",
       "      <td>3</td>\n",
       "      <td>Allen, Mr. William Henry</td>\n",
       "      <td>male</td>\n",
       "      <td>35.0</td>\n",
       "      <td>0</td>\n",
       "      <td>0</td>\n",
       "      <td>373450</td>\n",
       "      <td>8.0500</td>\n",
       "      <td>NaN</td>\n",
       "      <td>S</td>\n",
       "    </tr>\n",
       "  </tbody>\n",
       "</table>\n",
       "</div>"
      ],
      "text/plain": [
       "   PassengerId  Survived  Pclass  \\\n",
       "0            1         0       3   \n",
       "1            2         1       1   \n",
       "2            3         1       3   \n",
       "3            4         1       1   \n",
       "4            5         0       3   \n",
       "\n",
       "                                                Name     Sex   Age  SibSp  \\\n",
       "0                            Braund, Mr. Owen Harris    male  22.0      1   \n",
       "1  Cumings, Mrs. John Bradley (Florence Briggs Th...  female  38.0      1   \n",
       "2                             Heikkinen, Miss. Laina  female  26.0      0   \n",
       "3       Futrelle, Mrs. Jacques Heath (Lily May Peel)  female  35.0      1   \n",
       "4                           Allen, Mr. William Henry    male  35.0      0   \n",
       "\n",
       "   Parch            Ticket     Fare Cabin Embarked  \n",
       "0      0         A/5 21171   7.2500   NaN        S  \n",
       "1      0          PC 17599  71.2833   C85        C  \n",
       "2      0  STON/O2. 3101282   7.9250   NaN        S  \n",
       "3      0            113803  53.1000  C123        S  \n",
       "4      0            373450   8.0500   NaN        S  "
      ]
     },
     "execution_count": 3,
     "metadata": {},
     "output_type": "execute_result"
    }
   ],
   "source": [
    "train.head()"
   ]
  },
  {
   "cell_type": "code",
   "execution_count": 4,
   "metadata": {
    "_uuid": "31b18a7549025b60ee37ba79c8b74b200f1eb6e6",
    "collapsed": false
   },
   "outputs": [
    {
     "data": {
      "text/html": [
       "<div>\n",
       "<style scoped>\n",
       "    .dataframe tbody tr th:only-of-type {\n",
       "        vertical-align: middle;\n",
       "    }\n",
       "\n",
       "    .dataframe tbody tr th {\n",
       "        vertical-align: top;\n",
       "    }\n",
       "\n",
       "    .dataframe thead th {\n",
       "        text-align: right;\n",
       "    }\n",
       "</style>\n",
       "<table border=\"1\" class=\"dataframe\">\n",
       "  <thead>\n",
       "    <tr style=\"text-align: right;\">\n",
       "      <th></th>\n",
       "      <th>PassengerId</th>\n",
       "      <th>Survived</th>\n",
       "      <th>Pclass</th>\n",
       "      <th>Age</th>\n",
       "      <th>SibSp</th>\n",
       "      <th>Parch</th>\n",
       "      <th>Fare</th>\n",
       "    </tr>\n",
       "  </thead>\n",
       "  <tbody>\n",
       "    <tr>\n",
       "      <th>count</th>\n",
       "      <td>891.000000</td>\n",
       "      <td>891.000000</td>\n",
       "      <td>891.000000</td>\n",
       "      <td>714.000000</td>\n",
       "      <td>891.000000</td>\n",
       "      <td>891.000000</td>\n",
       "      <td>891.000000</td>\n",
       "    </tr>\n",
       "    <tr>\n",
       "      <th>mean</th>\n",
       "      <td>446.000000</td>\n",
       "      <td>0.383838</td>\n",
       "      <td>2.308642</td>\n",
       "      <td>29.699118</td>\n",
       "      <td>0.523008</td>\n",
       "      <td>0.381594</td>\n",
       "      <td>32.204208</td>\n",
       "    </tr>\n",
       "    <tr>\n",
       "      <th>std</th>\n",
       "      <td>257.353842</td>\n",
       "      <td>0.486592</td>\n",
       "      <td>0.836071</td>\n",
       "      <td>14.526497</td>\n",
       "      <td>1.102743</td>\n",
       "      <td>0.806057</td>\n",
       "      <td>49.693429</td>\n",
       "    </tr>\n",
       "    <tr>\n",
       "      <th>min</th>\n",
       "      <td>1.000000</td>\n",
       "      <td>0.000000</td>\n",
       "      <td>1.000000</td>\n",
       "      <td>0.420000</td>\n",
       "      <td>0.000000</td>\n",
       "      <td>0.000000</td>\n",
       "      <td>0.000000</td>\n",
       "    </tr>\n",
       "    <tr>\n",
       "      <th>25%</th>\n",
       "      <td>223.500000</td>\n",
       "      <td>0.000000</td>\n",
       "      <td>2.000000</td>\n",
       "      <td>20.125000</td>\n",
       "      <td>0.000000</td>\n",
       "      <td>0.000000</td>\n",
       "      <td>7.910400</td>\n",
       "    </tr>\n",
       "    <tr>\n",
       "      <th>50%</th>\n",
       "      <td>446.000000</td>\n",
       "      <td>0.000000</td>\n",
       "      <td>3.000000</td>\n",
       "      <td>28.000000</td>\n",
       "      <td>0.000000</td>\n",
       "      <td>0.000000</td>\n",
       "      <td>14.454200</td>\n",
       "    </tr>\n",
       "    <tr>\n",
       "      <th>75%</th>\n",
       "      <td>668.500000</td>\n",
       "      <td>1.000000</td>\n",
       "      <td>3.000000</td>\n",
       "      <td>38.000000</td>\n",
       "      <td>1.000000</td>\n",
       "      <td>0.000000</td>\n",
       "      <td>31.000000</td>\n",
       "    </tr>\n",
       "    <tr>\n",
       "      <th>max</th>\n",
       "      <td>891.000000</td>\n",
       "      <td>1.000000</td>\n",
       "      <td>3.000000</td>\n",
       "      <td>80.000000</td>\n",
       "      <td>8.000000</td>\n",
       "      <td>6.000000</td>\n",
       "      <td>512.329200</td>\n",
       "    </tr>\n",
       "  </tbody>\n",
       "</table>\n",
       "</div>"
      ],
      "text/plain": [
       "       PassengerId    Survived      Pclass         Age       SibSp  \\\n",
       "count   891.000000  891.000000  891.000000  714.000000  891.000000   \n",
       "mean    446.000000    0.383838    2.308642   29.699118    0.523008   \n",
       "std     257.353842    0.486592    0.836071   14.526497    1.102743   \n",
       "min       1.000000    0.000000    1.000000    0.420000    0.000000   \n",
       "25%     223.500000    0.000000    2.000000   20.125000    0.000000   \n",
       "50%     446.000000    0.000000    3.000000   28.000000    0.000000   \n",
       "75%     668.500000    1.000000    3.000000   38.000000    1.000000   \n",
       "max     891.000000    1.000000    3.000000   80.000000    8.000000   \n",
       "\n",
       "            Parch        Fare  \n",
       "count  891.000000  891.000000  \n",
       "mean     0.381594   32.204208  \n",
       "std      0.806057   49.693429  \n",
       "min      0.000000    0.000000  \n",
       "25%      0.000000    7.910400  \n",
       "50%      0.000000   14.454200  \n",
       "75%      0.000000   31.000000  \n",
       "max      6.000000  512.329200  "
      ]
     },
     "execution_count": 4,
     "metadata": {},
     "output_type": "execute_result"
    }
   ],
   "source": [
    "train.describe()"
   ]
  },
  {
   "cell_type": "code",
   "execution_count": 5,
   "metadata": {
    "_uuid": "20825cdfa8f90dc4e6135cd8b4f6ba9f10066b3d",
    "collapsed": false
   },
   "outputs": [
    {
     "data": {
      "text/plain": [
       "(418, 11)"
      ]
     },
     "execution_count": 5,
     "metadata": {},
     "output_type": "execute_result"
    }
   ],
   "source": [
    "test = pd.read_csv('data/test.csv') \n",
    "test.shape"
   ]
  },
  {
   "cell_type": "code",
   "execution_count": 6,
   "metadata": {
    "_uuid": "cef5aef9926e7b76751dc2119bc1874cafd4ae7f",
    "collapsed": false
   },
   "outputs": [
    {
     "data": {
      "text/html": [
       "<div>\n",
       "<style scoped>\n",
       "    .dataframe tbody tr th:only-of-type {\n",
       "        vertical-align: middle;\n",
       "    }\n",
       "\n",
       "    .dataframe tbody tr th {\n",
       "        vertical-align: top;\n",
       "    }\n",
       "\n",
       "    .dataframe thead th {\n",
       "        text-align: right;\n",
       "    }\n",
       "</style>\n",
       "<table border=\"1\" class=\"dataframe\">\n",
       "  <thead>\n",
       "    <tr style=\"text-align: right;\">\n",
       "      <th></th>\n",
       "      <th>PassengerId</th>\n",
       "      <th>Pclass</th>\n",
       "      <th>Age</th>\n",
       "      <th>SibSp</th>\n",
       "      <th>Parch</th>\n",
       "      <th>Fare</th>\n",
       "    </tr>\n",
       "  </thead>\n",
       "  <tbody>\n",
       "    <tr>\n",
       "      <th>count</th>\n",
       "      <td>418.000000</td>\n",
       "      <td>418.000000</td>\n",
       "      <td>332.000000</td>\n",
       "      <td>418.000000</td>\n",
       "      <td>418.000000</td>\n",
       "      <td>417.000000</td>\n",
       "    </tr>\n",
       "    <tr>\n",
       "      <th>mean</th>\n",
       "      <td>1100.500000</td>\n",
       "      <td>2.265550</td>\n",
       "      <td>30.272590</td>\n",
       "      <td>0.447368</td>\n",
       "      <td>0.392344</td>\n",
       "      <td>35.627188</td>\n",
       "    </tr>\n",
       "    <tr>\n",
       "      <th>std</th>\n",
       "      <td>120.810458</td>\n",
       "      <td>0.841838</td>\n",
       "      <td>14.181209</td>\n",
       "      <td>0.896760</td>\n",
       "      <td>0.981429</td>\n",
       "      <td>55.907576</td>\n",
       "    </tr>\n",
       "    <tr>\n",
       "      <th>min</th>\n",
       "      <td>892.000000</td>\n",
       "      <td>1.000000</td>\n",
       "      <td>0.170000</td>\n",
       "      <td>0.000000</td>\n",
       "      <td>0.000000</td>\n",
       "      <td>0.000000</td>\n",
       "    </tr>\n",
       "    <tr>\n",
       "      <th>25%</th>\n",
       "      <td>996.250000</td>\n",
       "      <td>1.000000</td>\n",
       "      <td>21.000000</td>\n",
       "      <td>0.000000</td>\n",
       "      <td>0.000000</td>\n",
       "      <td>7.895800</td>\n",
       "    </tr>\n",
       "    <tr>\n",
       "      <th>50%</th>\n",
       "      <td>1100.500000</td>\n",
       "      <td>3.000000</td>\n",
       "      <td>27.000000</td>\n",
       "      <td>0.000000</td>\n",
       "      <td>0.000000</td>\n",
       "      <td>14.454200</td>\n",
       "    </tr>\n",
       "    <tr>\n",
       "      <th>75%</th>\n",
       "      <td>1204.750000</td>\n",
       "      <td>3.000000</td>\n",
       "      <td>39.000000</td>\n",
       "      <td>1.000000</td>\n",
       "      <td>0.000000</td>\n",
       "      <td>31.500000</td>\n",
       "    </tr>\n",
       "    <tr>\n",
       "      <th>max</th>\n",
       "      <td>1309.000000</td>\n",
       "      <td>3.000000</td>\n",
       "      <td>76.000000</td>\n",
       "      <td>8.000000</td>\n",
       "      <td>9.000000</td>\n",
       "      <td>512.329200</td>\n",
       "    </tr>\n",
       "  </tbody>\n",
       "</table>\n",
       "</div>"
      ],
      "text/plain": [
       "       PassengerId      Pclass         Age       SibSp       Parch        Fare\n",
       "count   418.000000  418.000000  332.000000  418.000000  418.000000  417.000000\n",
       "mean   1100.500000    2.265550   30.272590    0.447368    0.392344   35.627188\n",
       "std     120.810458    0.841838   14.181209    0.896760    0.981429   55.907576\n",
       "min     892.000000    1.000000    0.170000    0.000000    0.000000    0.000000\n",
       "25%     996.250000    1.000000   21.000000    0.000000    0.000000    7.895800\n",
       "50%    1100.500000    3.000000   27.000000    0.000000    0.000000   14.454200\n",
       "75%    1204.750000    3.000000   39.000000    1.000000    0.000000   31.500000\n",
       "max    1309.000000    3.000000   76.000000    8.000000    9.000000  512.329200"
      ]
     },
     "execution_count": 6,
     "metadata": {},
     "output_type": "execute_result"
    }
   ],
   "source": [
    "test.describe()"
   ]
  },
  {
   "cell_type": "code",
   "execution_count": 7,
   "metadata": {
    "_uuid": "3a99e54b712e2c9c4f8b68a303750782a6a8fc2c",
    "collapsed": false
   },
   "outputs": [
    {
     "data": {
      "text/plain": [
       "['Ticket',\n",
       " 'Age',\n",
       " 'Sex',\n",
       " 'SibSp',\n",
       " 'Fare',\n",
       " 'Cabin',\n",
       " 'Pclass',\n",
       " 'Parch',\n",
       " 'Embarked']"
      ]
     },
     "execution_count": 7,
     "metadata": {},
     "output_type": "execute_result"
    }
   ],
   "source": [
    "features = list(set(test.columns) - {'Name', 'PassengerId'})\n",
    "features"
   ]
  },
  {
   "cell_type": "code",
   "execution_count": 8,
   "metadata": {
    "collapsed": true
   },
   "outputs": [],
   "source": [
    "nonnumeric = ['Sex', 'Cabin', 'Embarked', 'Ticket']"
   ]
  },
  {
   "cell_type": "code",
   "execution_count": 9,
   "metadata": {
    "_uuid": "3ec88b2d2069b8c64fbd2ad101c0945616a8a4cd",
    "collapsed": true
   },
   "outputs": [],
   "source": [
    "# Impute missing values using the median for numeric columns and the most common value for string columns.\n",
    "from sklearn.base import TransformerMixin\n",
    "class DataFrameImputer(TransformerMixin):\n",
    "    def fit(self, X, y=None):\n",
    "        self.fill = pd.Series([X[c].value_counts().index[0]\n",
    "            if X[c].dtype == np.dtype('O') else X[c].median() for c in X],\n",
    "            index=X.columns)\n",
    "        return self\n",
    "    def transform(self, X, y=None):\n",
    "        return X.fillna(self.fill)"
   ]
  },
  {
   "cell_type": "code",
   "execution_count": 10,
   "metadata": {
    "_uuid": "8f29a7f4f386d838d80ddf8464725380fb5789aa",
    "collapsed": false
   },
   "outputs": [],
   "source": [
    "# Join the features from train and test together before imputing missing values,\n",
    "# in case their distribution is slightly different\n",
    "from sklearn.preprocessing import LabelEncoder\n",
    "\n",
    "common = train[features].append(test[features])\n",
    "common = DataFrameImputer().fit_transform(common)"
   ]
  },
  {
   "cell_type": "code",
   "execution_count": 11,
   "metadata": {
    "_uuid": "037754b5e6e62c7daa9990d21dc19bb5d41d5b54",
    "collapsed": false
   },
   "outputs": [
    {
     "data": {
      "text/html": [
       "<div>\n",
       "<style scoped>\n",
       "    .dataframe tbody tr th:only-of-type {\n",
       "        vertical-align: middle;\n",
       "    }\n",
       "\n",
       "    .dataframe tbody tr th {\n",
       "        vertical-align: top;\n",
       "    }\n",
       "\n",
       "    .dataframe thead th {\n",
       "        text-align: right;\n",
       "    }\n",
       "</style>\n",
       "<table border=\"1\" class=\"dataframe\">\n",
       "  <thead>\n",
       "    <tr style=\"text-align: right;\">\n",
       "      <th></th>\n",
       "      <th>Ticket</th>\n",
       "      <th>Age</th>\n",
       "      <th>Sex</th>\n",
       "      <th>SibSp</th>\n",
       "      <th>Fare</th>\n",
       "      <th>Cabin</th>\n",
       "      <th>Pclass</th>\n",
       "      <th>Parch</th>\n",
       "      <th>Embarked</th>\n",
       "    </tr>\n",
       "  </thead>\n",
       "  <tbody>\n",
       "    <tr>\n",
       "      <th>0</th>\n",
       "      <td>720</td>\n",
       "      <td>22.0</td>\n",
       "      <td>1</td>\n",
       "      <td>1</td>\n",
       "      <td>7.2500</td>\n",
       "      <td>80</td>\n",
       "      <td>3</td>\n",
       "      <td>0</td>\n",
       "      <td>2</td>\n",
       "    </tr>\n",
       "    <tr>\n",
       "      <th>1</th>\n",
       "      <td>816</td>\n",
       "      <td>38.0</td>\n",
       "      <td>0</td>\n",
       "      <td>1</td>\n",
       "      <td>71.2833</td>\n",
       "      <td>106</td>\n",
       "      <td>1</td>\n",
       "      <td>0</td>\n",
       "      <td>0</td>\n",
       "    </tr>\n",
       "    <tr>\n",
       "      <th>2</th>\n",
       "      <td>914</td>\n",
       "      <td>26.0</td>\n",
       "      <td>0</td>\n",
       "      <td>0</td>\n",
       "      <td>7.9250</td>\n",
       "      <td>80</td>\n",
       "      <td>3</td>\n",
       "      <td>0</td>\n",
       "      <td>2</td>\n",
       "    </tr>\n",
       "    <tr>\n",
       "      <th>3</th>\n",
       "      <td>65</td>\n",
       "      <td>35.0</td>\n",
       "      <td>0</td>\n",
       "      <td>1</td>\n",
       "      <td>53.1000</td>\n",
       "      <td>70</td>\n",
       "      <td>1</td>\n",
       "      <td>0</td>\n",
       "      <td>2</td>\n",
       "    </tr>\n",
       "    <tr>\n",
       "      <th>4</th>\n",
       "      <td>649</td>\n",
       "      <td>35.0</td>\n",
       "      <td>1</td>\n",
       "      <td>0</td>\n",
       "      <td>8.0500</td>\n",
       "      <td>80</td>\n",
       "      <td>3</td>\n",
       "      <td>0</td>\n",
       "      <td>2</td>\n",
       "    </tr>\n",
       "  </tbody>\n",
       "</table>\n",
       "</div>"
      ],
      "text/plain": [
       "   Ticket   Age  Sex  SibSp     Fare  Cabin  Pclass  Parch  Embarked\n",
       "0     720  22.0    1      1   7.2500     80       3      0         2\n",
       "1     816  38.0    0      1  71.2833    106       1      0         0\n",
       "2     914  26.0    0      0   7.9250     80       3      0         2\n",
       "3      65  35.0    0      1  53.1000     70       1      0         2\n",
       "4     649  35.0    1      0   8.0500     80       3      0         2"
      ]
     },
     "execution_count": 11,
     "metadata": {},
     "output_type": "execute_result"
    }
   ],
   "source": [
    "# Change categorical features  to columns of integer values\n",
    "from sklearn.preprocessing import LabelEncoder\n",
    "le = LabelEncoder()\n",
    "for feature in nonnumeric:\n",
    "    common[feature] = le.fit_transform(common[feature])\n",
    "    \n",
    "common.head()"
   ]
  },
  {
   "cell_type": "code",
   "execution_count": 12,
   "metadata": {
    "_uuid": "16b960a75ba59ea2c71cb17da960d46771204117",
    "collapsed": false
   },
   "outputs": [
    {
     "data": {
      "text/html": [
       "<div>\n",
       "<style scoped>\n",
       "    .dataframe tbody tr th:only-of-type {\n",
       "        vertical-align: middle;\n",
       "    }\n",
       "\n",
       "    .dataframe tbody tr th {\n",
       "        vertical-align: top;\n",
       "    }\n",
       "\n",
       "    .dataframe thead th {\n",
       "        text-align: right;\n",
       "    }\n",
       "</style>\n",
       "<table border=\"1\" class=\"dataframe\">\n",
       "  <thead>\n",
       "    <tr style=\"text-align: right;\">\n",
       "      <th></th>\n",
       "      <th>Ticket</th>\n",
       "      <th>Age</th>\n",
       "      <th>Sex</th>\n",
       "      <th>SibSp</th>\n",
       "      <th>Fare</th>\n",
       "      <th>Cabin</th>\n",
       "      <th>Pclass</th>\n",
       "      <th>Parch</th>\n",
       "      <th>Embarked</th>\n",
       "    </tr>\n",
       "  </thead>\n",
       "  <tbody>\n",
       "    <tr>\n",
       "      <th>0</th>\n",
       "      <td>720</td>\n",
       "      <td>22.0</td>\n",
       "      <td>1</td>\n",
       "      <td>1</td>\n",
       "      <td>7.2500</td>\n",
       "      <td>80</td>\n",
       "      <td>3</td>\n",
       "      <td>0</td>\n",
       "      <td>2</td>\n",
       "    </tr>\n",
       "    <tr>\n",
       "      <th>1</th>\n",
       "      <td>816</td>\n",
       "      <td>38.0</td>\n",
       "      <td>0</td>\n",
       "      <td>1</td>\n",
       "      <td>71.2833</td>\n",
       "      <td>106</td>\n",
       "      <td>1</td>\n",
       "      <td>0</td>\n",
       "      <td>0</td>\n",
       "    </tr>\n",
       "    <tr>\n",
       "      <th>2</th>\n",
       "      <td>914</td>\n",
       "      <td>26.0</td>\n",
       "      <td>0</td>\n",
       "      <td>0</td>\n",
       "      <td>7.9250</td>\n",
       "      <td>80</td>\n",
       "      <td>3</td>\n",
       "      <td>0</td>\n",
       "      <td>2</td>\n",
       "    </tr>\n",
       "    <tr>\n",
       "      <th>3</th>\n",
       "      <td>65</td>\n",
       "      <td>35.0</td>\n",
       "      <td>0</td>\n",
       "      <td>1</td>\n",
       "      <td>53.1000</td>\n",
       "      <td>70</td>\n",
       "      <td>1</td>\n",
       "      <td>0</td>\n",
       "      <td>2</td>\n",
       "    </tr>\n",
       "    <tr>\n",
       "      <th>4</th>\n",
       "      <td>649</td>\n",
       "      <td>35.0</td>\n",
       "      <td>1</td>\n",
       "      <td>0</td>\n",
       "      <td>8.0500</td>\n",
       "      <td>80</td>\n",
       "      <td>3</td>\n",
       "      <td>0</td>\n",
       "      <td>2</td>\n",
       "    </tr>\n",
       "  </tbody>\n",
       "</table>\n",
       "</div>"
      ],
      "text/plain": [
       "   Ticket   Age  Sex  SibSp     Fare  Cabin  Pclass  Parch  Embarked\n",
       "0     720  22.0    1      1   7.2500     80       3      0         2\n",
       "1     816  38.0    0      1  71.2833    106       1      0         0\n",
       "2     914  26.0    0      0   7.9250     80       3      0         2\n",
       "3      65  35.0    0      1  53.1000     70       1      0         2\n",
       "4     649  35.0    1      0   8.0500     80       3      0         2"
      ]
     },
     "execution_count": 12,
     "metadata": {},
     "output_type": "execute_result"
    }
   ],
   "source": [
    "train2 = common[0:train.shape[0]]\n",
    "test2 = common[train.shape[0]::]\n",
    "train2.head()"
   ]
  },
  {
   "cell_type": "code",
   "execution_count": 13,
   "metadata": {
    "_uuid": "8f1886699b54d478d305b9f6103a9d3000651e52",
    "collapsed": false,
    "scrolled": true
   },
   "outputs": [
    {
     "data": {
      "text/html": [
       "<div>\n",
       "<style scoped>\n",
       "    .dataframe tbody tr th:only-of-type {\n",
       "        vertical-align: middle;\n",
       "    }\n",
       "\n",
       "    .dataframe tbody tr th {\n",
       "        vertical-align: top;\n",
       "    }\n",
       "\n",
       "    .dataframe thead th {\n",
       "        text-align: right;\n",
       "    }\n",
       "</style>\n",
       "<table border=\"1\" class=\"dataframe\">\n",
       "  <thead>\n",
       "    <tr style=\"text-align: right;\">\n",
       "      <th></th>\n",
       "      <th>Cabin</th>\n",
       "      <th>Embarked</th>\n",
       "      <th>SibSp</th>\n",
       "      <th>Fare</th>\n",
       "      <th>Ticket</th>\n",
       "      <th>Parch</th>\n",
       "      <th>Sex</th>\n",
       "      <th>Age</th>\n",
       "      <th>Pclass</th>\n",
       "    </tr>\n",
       "  </thead>\n",
       "  <tbody>\n",
       "    <tr>\n",
       "      <th>Cabin</th>\n",
       "      <td>1.000000</td>\n",
       "      <td>0.071185</td>\n",
       "      <td>0.005494</td>\n",
       "      <td>-0.040065</td>\n",
       "      <td>-0.004401</td>\n",
       "      <td>0.014164</td>\n",
       "      <td>-0.074228</td>\n",
       "      <td>-0.004563</td>\n",
       "      <td>-0.062211</td>\n",
       "    </tr>\n",
       "    <tr>\n",
       "      <th>Embarked</th>\n",
       "      <td>0.071185</td>\n",
       "      <td>1.000000</td>\n",
       "      <td>0.068230</td>\n",
       "      <td>-0.224719</td>\n",
       "      <td>0.000032</td>\n",
       "      <td>0.039798</td>\n",
       "      <td>0.108262</td>\n",
       "      <td>-0.018754</td>\n",
       "      <td>0.162098</td>\n",
       "    </tr>\n",
       "    <tr>\n",
       "      <th>SibSp</th>\n",
       "      <td>0.005494</td>\n",
       "      <td>0.068230</td>\n",
       "      <td>1.000000</td>\n",
       "      <td>0.159651</td>\n",
       "      <td>0.079191</td>\n",
       "      <td>0.414838</td>\n",
       "      <td>-0.114631</td>\n",
       "      <td>-0.233296</td>\n",
       "      <td>0.083081</td>\n",
       "    </tr>\n",
       "    <tr>\n",
       "      <th>Fare</th>\n",
       "      <td>-0.040065</td>\n",
       "      <td>-0.224719</td>\n",
       "      <td>0.159651</td>\n",
       "      <td>1.000000</td>\n",
       "      <td>-0.015503</td>\n",
       "      <td>0.216225</td>\n",
       "      <td>-0.182333</td>\n",
       "      <td>0.096688</td>\n",
       "      <td>-0.549500</td>\n",
       "    </tr>\n",
       "    <tr>\n",
       "      <th>Ticket</th>\n",
       "      <td>-0.004401</td>\n",
       "      <td>0.000032</td>\n",
       "      <td>0.079191</td>\n",
       "      <td>-0.015503</td>\n",
       "      <td>1.000000</td>\n",
       "      <td>0.019936</td>\n",
       "      <td>0.060416</td>\n",
       "      <td>-0.070302</td>\n",
       "      <td>0.322475</td>\n",
       "    </tr>\n",
       "    <tr>\n",
       "      <th>Parch</th>\n",
       "      <td>0.014164</td>\n",
       "      <td>0.039798</td>\n",
       "      <td>0.414838</td>\n",
       "      <td>0.216225</td>\n",
       "      <td>0.019936</td>\n",
       "      <td>1.000000</td>\n",
       "      <td>-0.245489</td>\n",
       "      <td>-0.172482</td>\n",
       "      <td>0.018443</td>\n",
       "    </tr>\n",
       "    <tr>\n",
       "      <th>Sex</th>\n",
       "      <td>-0.074228</td>\n",
       "      <td>0.108262</td>\n",
       "      <td>-0.114631</td>\n",
       "      <td>-0.182333</td>\n",
       "      <td>0.060416</td>\n",
       "      <td>-0.245489</td>\n",
       "      <td>1.000000</td>\n",
       "      <td>0.081163</td>\n",
       "      <td>0.131900</td>\n",
       "    </tr>\n",
       "    <tr>\n",
       "      <th>Age</th>\n",
       "      <td>-0.004563</td>\n",
       "      <td>-0.018754</td>\n",
       "      <td>-0.233296</td>\n",
       "      <td>0.096688</td>\n",
       "      <td>-0.070302</td>\n",
       "      <td>-0.172482</td>\n",
       "      <td>0.081163</td>\n",
       "      <td>1.000000</td>\n",
       "      <td>-0.339898</td>\n",
       "    </tr>\n",
       "    <tr>\n",
       "      <th>Pclass</th>\n",
       "      <td>-0.062211</td>\n",
       "      <td>0.162098</td>\n",
       "      <td>0.083081</td>\n",
       "      <td>-0.549500</td>\n",
       "      <td>0.322475</td>\n",
       "      <td>0.018443</td>\n",
       "      <td>0.131900</td>\n",
       "      <td>-0.339898</td>\n",
       "      <td>1.000000</td>\n",
       "    </tr>\n",
       "  </tbody>\n",
       "</table>\n",
       "</div>"
      ],
      "text/plain": [
       "             Cabin  Embarked     SibSp      Fare    Ticket     Parch  \\\n",
       "Cabin     1.000000  0.071185  0.005494 -0.040065 -0.004401  0.014164   \n",
       "Embarked  0.071185  1.000000  0.068230 -0.224719  0.000032  0.039798   \n",
       "SibSp     0.005494  0.068230  1.000000  0.159651  0.079191  0.414838   \n",
       "Fare     -0.040065 -0.224719  0.159651  1.000000 -0.015503  0.216225   \n",
       "Ticket   -0.004401  0.000032  0.079191 -0.015503  1.000000  0.019936   \n",
       "Parch     0.014164  0.039798  0.414838  0.216225  0.019936  1.000000   \n",
       "Sex      -0.074228  0.108262 -0.114631 -0.182333  0.060416 -0.245489   \n",
       "Age      -0.004563 -0.018754 -0.233296  0.096688 -0.070302 -0.172482   \n",
       "Pclass   -0.062211  0.162098  0.083081 -0.549500  0.322475  0.018443   \n",
       "\n",
       "               Sex       Age    Pclass  \n",
       "Cabin    -0.074228 -0.004563 -0.062211  \n",
       "Embarked  0.108262 -0.018754  0.162098  \n",
       "SibSp    -0.114631 -0.233296  0.083081  \n",
       "Fare     -0.182333  0.096688 -0.549500  \n",
       "Ticket    0.060416 -0.070302  0.322475  \n",
       "Parch    -0.245489 -0.172482  0.018443  \n",
       "Sex       1.000000  0.081163  0.131900  \n",
       "Age       0.081163  1.000000 -0.339898  \n",
       "Pclass    0.131900 -0.339898  1.000000  "
      ]
     },
     "execution_count": 13,
     "metadata": {},
     "output_type": "execute_result"
    }
   ],
   "source": [
    "correlation_matrix = train2.corr()\n",
    "correlation_matrix"
   ]
  },
  {
   "cell_type": "code",
   "execution_count": 14,
   "metadata": {
    "collapsed": false
   },
   "outputs": [],
   "source": [
    "import seaborn as sns"
   ]
  },
  {
   "cell_type": "code",
   "execution_count": 15,
   "metadata": {
    "_uuid": "0ab7efe9cf12a15281f17cdf80e644d945767959",
    "collapsed": false
   },
   "outputs": [
    {
     "data": {
      "text/plain": [
       "<matplotlib.axes._subplots.AxesSubplot at 0x1a1c65d780>"
      ]
     },
     "execution_count": 15,
     "metadata": {},
     "output_type": "execute_result"
    },
    {
     "data": {
      "image/png": "[encoded data removed]",
      "text/plain": [
       "<Figure size 1008x864 with 2 Axes>"
      ]
     },
     "metadata": {
      "needs_background": "light"
     },
     "output_type": "display_data"
    }
   ],
   "source": [
    "plt.figure(figsize=(14,12))\n",
    "plt.title('Pearson Correlation of Features', y=1.05, size=15)\n",
    "sns.heatmap(correlation_matrix)"
   ]
  },
  {
   "cell_type": "code",
   "execution_count": 16,
   "metadata": {
    "_uuid": "3bb68dff9155df299ba31384c2d67d3ad36f2f67",
    "collapsed": false
   },
   "outputs": [
    {
     "data": {
      "text/html": [
       "<div>\n",
       "<style scoped>\n",
       "    .dataframe tbody tr th:only-of-type {\n",
       "        vertical-align: middle;\n",
       "    }\n",
       "\n",
       "    .dataframe tbody tr th {\n",
       "        vertical-align: top;\n",
       "    }\n",
       "\n",
       "    .dataframe thead th {\n",
       "        text-align: right;\n",
       "    }\n",
       "</style>\n",
       "<table border=\"1\" class=\"dataframe\">\n",
       "  <thead>\n",
       "    <tr style=\"text-align: right;\">\n",
       "      <th></th>\n",
       "      <th>Sex</th>\n",
       "      <th>Age</th>\n",
       "      <th>Pclass</th>\n",
       "      <th>Parch</th>\n",
       "      <th>Embarked</th>\n",
       "      <th>Cabin</th>\n",
       "    </tr>\n",
       "  </thead>\n",
       "  <tbody>\n",
       "    <tr>\n",
       "      <th>Sex</th>\n",
       "      <td>1.000000</td>\n",
       "      <td>0.081163</td>\n",
       "      <td>0.131900</td>\n",
       "      <td>-0.245489</td>\n",
       "      <td>0.108262</td>\n",
       "      <td>-0.074228</td>\n",
       "    </tr>\n",
       "    <tr>\n",
       "      <th>Age</th>\n",
       "      <td>0.081163</td>\n",
       "      <td>1.000000</td>\n",
       "      <td>-0.339898</td>\n",
       "      <td>-0.172482</td>\n",
       "      <td>-0.018754</td>\n",
       "      <td>-0.004563</td>\n",
       "    </tr>\n",
       "    <tr>\n",
       "      <th>Pclass</th>\n",
       "      <td>0.131900</td>\n",
       "      <td>-0.339898</td>\n",
       "      <td>1.000000</td>\n",
       "      <td>0.018443</td>\n",
       "      <td>0.162098</td>\n",
       "      <td>-0.062211</td>\n",
       "    </tr>\n",
       "    <tr>\n",
       "      <th>Parch</th>\n",
       "      <td>-0.245489</td>\n",
       "      <td>-0.172482</td>\n",
       "      <td>0.018443</td>\n",
       "      <td>1.000000</td>\n",
       "      <td>0.039798</td>\n",
       "      <td>0.014164</td>\n",
       "    </tr>\n",
       "    <tr>\n",
       "      <th>Embarked</th>\n",
       "      <td>0.108262</td>\n",
       "      <td>-0.018754</td>\n",
       "      <td>0.162098</td>\n",
       "      <td>0.039798</td>\n",
       "      <td>1.000000</td>\n",
       "      <td>0.071185</td>\n",
       "    </tr>\n",
       "    <tr>\n",
       "      <th>Cabin</th>\n",
       "      <td>-0.074228</td>\n",
       "      <td>-0.004563</td>\n",
       "      <td>-0.062211</td>\n",
       "      <td>0.014164</td>\n",
       "      <td>0.071185</td>\n",
       "      <td>1.000000</td>\n",
       "    </tr>\n",
       "  </tbody>\n",
       "</table>\n",
       "</div>"
      ],
      "text/plain": [
       "               Sex       Age    Pclass     Parch  Embarked     Cabin\n",
       "Sex       1.000000  0.081163  0.131900 -0.245489  0.108262 -0.074228\n",
       "Age       0.081163  1.000000 -0.339898 -0.172482 -0.018754 -0.004563\n",
       "Pclass    0.131900 -0.339898  1.000000  0.018443  0.162098 -0.062211\n",
       "Parch    -0.245489 -0.172482  0.018443  1.000000  0.039798  0.014164\n",
       "Embarked  0.108262 -0.018754  0.162098  0.039798  1.000000  0.071185\n",
       "Cabin    -0.074228 -0.004563 -0.062211  0.014164  0.071185  1.000000"
      ]
     },
     "execution_count": 16,
     "metadata": {},
     "output_type": "execute_result"
    }
   ],
   "source": [
    "features2 = ['Sex','Age','Pclass','Parch','Embarked', 'Cabin']\n",
    "train3 = train2[features2]\n",
    "test3 = test2[features2]\n",
    "correlation_matrix2 = train3.corr()\n",
    "correlation_matrix2"
   ]
  },
  {
   "cell_type": "code",
   "execution_count": 17,
   "metadata": {
    "_uuid": "dd4b78f2c5a870baa532997f6bbd79be457c6ab3",
    "collapsed": false
   },
   "outputs": [
    {
     "data": {
      "text/plain": [
       "<matplotlib.axes._subplots.AxesSubplot at 0x1a1c9ec048>"
      ]
     },
     "execution_count": 17,
     "metadata": {},
     "output_type": "execute_result"
    },
    {
     "data": {
      "image/png": "[encoded data removed]",
      "text/plain": [
       "<Figure size 1008x864 with 2 Axes>"
      ]
     },
     "metadata": {
      "needs_background": "light"
     },
     "output_type": "display_data"
    }
   ],
   "source": [
    "plt.figure(figsize=(14,12))\n",
    "plt.title('Pearson Correlation of Features', y=1.05, size=15)\n",
    "sns.heatmap(correlation_matrix2)"
   ]
  },
  {
   "cell_type": "code",
   "execution_count": 18,
   "metadata": {
    "_uuid": "f7a79b54a927cbaa1dacb7bfb0756ac24b9fd86e",
    "collapsed": false
   },
   "outputs": [],
   "source": [
    "train_X = train3.values\n",
    "test_X = test3.values\n",
    "train_y = train['Survived']"
   ]
  },
  {
   "cell_type": "markdown",
   "metadata": {
    "_uuid": "46a9696ad4f4d2885632e23c3036400d4a62078d"
   },
   "source": [
    "# Split dataset"
   ]
  },
  {
   "cell_type": "code",
   "execution_count": 19,
   "metadata": {
    "_uuid": "cea53c0e62a582411a867b0d7345d9d5ab6cd804",
    "collapsed": false
   },
   "outputs": [
    {
     "name": "stdout",
     "output_type": "stream",
     "text": [
      "712\n"
     ]
    }
   ],
   "source": [
    "from sklearn.utils import shuffle\n",
    "\n",
    "df_train = train3.join(pd.DataFrame({'Survived': train_y}))\n",
    "size = int(df_train.shape[0] * 0.8)\n",
    "print(size)\n",
    "train4 = shuffle(df_train)\n",
    "train_80 = train4[:size]\n",
    "train_20 = train4[size:]"
   ]
  },
  {
   "cell_type": "code",
   "execution_count": 20,
   "metadata": {
    "_uuid": "68daebd8bd41413cbccbbccb41d3e91550181ab9",
    "collapsed": true
   },
   "outputs": [],
   "source": [
    "cv_train_X = train_80[features2].values\n",
    "cv_test_X = train_20[features2].values\n",
    "cv_train_y = train_80['Survived']\n",
    "cv_test_y = train_20['Survived']"
   ]
  },
  {
   "cell_type": "markdown",
   "metadata": {
    "_uuid": "f88fa873852639908a40cc6f5cb4c62a49b8ac12"
   },
   "source": [
    "# Logistic Regression"
   ]
  },
  {
   "cell_type": "code",
   "execution_count": 21,
   "metadata": {
    "_uuid": "0e703586bd8ed7a7cc5e915d668b30318c9df694",
    "collapsed": false
   },
   "outputs": [
    {
     "name": "stdout",
     "output_type": "stream",
     "text": [
      "LogisticRegression(C=1.0, class_weight=None, dual=False, fit_intercept=True,\n",
      "          intercept_scaling=1, max_iter=100, multi_class='ovr', n_jobs=1,\n",
      "          penalty='l2', random_state=None, solver='liblinear', tol=0.0001,\n",
      "          verbose=0, warm_start=False)\n"
     ]
    }
   ],
   "source": [
    "from sklearn.linear_model import LogisticRegression\n",
    "\n",
    "model = LogisticRegression()\n",
    "model.fit(train_X, train_y)\n",
    "print(model)"
   ]
  },
  {
   "cell_type": "code",
   "execution_count": 22,
   "metadata": {
    "_uuid": "5c3e8729ee2dd0457a7f199d029cef319c4cc053",
    "collapsed": false
   },
   "outputs": [
    {
     "data": {
      "text/plain": [
       "0.8024691358024691"
      ]
     },
     "execution_count": 22,
     "metadata": {},
     "output_type": "execute_result"
    }
   ],
   "source": [
    "from sklearn.metrics import accuracy_score\n",
    "y_pred = model.predict(train_X)\n",
    "accuracy_score(train_y, y_pred)"
   ]
  },
  {
   "cell_type": "code",
   "execution_count": 23,
   "metadata": {
    "_uuid": "368dbca4f21c2babaa34068d6f5ca98bfa93a8e7",
    "collapsed": false
   },
   "outputs": [
    {
     "data": {
      "text/plain": [
       "0.8212290502793296"
      ]
     },
     "execution_count": 23,
     "metadata": {},
     "output_type": "execute_result"
    }
   ],
   "source": [
    "# Cross-validation\n",
    "model2 = LogisticRegression()\n",
    "model2.fit(cv_train_X, cv_train_y)\n",
    "y_pred = model2.predict(cv_test_X)\n",
    "accuracy_score(cv_test_y, y_pred)"
   ]
  },
  {
   "cell_type": "code",
   "execution_count": 24,
   "metadata": {
    "_uuid": "21cea251ad66844d0d51e50288d2b13fe2ff48e8",
    "collapsed": true
   },
   "outputs": [],
   "source": [
    "# Make predictions\n",
    "preds = model.predict(test_X)"
   ]
  },
  {
   "cell_type": "code",
   "execution_count": 25,
   "metadata": {
    "_uuid": "151ee4e6c2b2fe8b5848988b716962db303fed28",
    "collapsed": true
   },
   "outputs": [],
   "source": [
    "submission = pd.DataFrame({ 'PassengerId': test['PassengerId'],\n",
    "                            'Survived': preds })\n",
    "submission.to_csv('submission.csv', index=False)"
   ]
  },
  {
   "cell_type": "markdown",
   "metadata": {
    "_uuid": "1e596430c236c091091308224dc5a6b030f334c5"
   },
   "source": [
    "# XGBoost"
   ]
  },
  {
   "cell_type": "code",
   "execution_count": 26,
   "metadata": {
    "_uuid": "5fca1b8ec7d36be407fcb70557ed926d3441cd49",
    "collapsed": false
   },
   "outputs": [],
   "source": [
    "import xgboost as xgb\n",
    "\n",
    "gbm = xgb.XGBClassifier(max_depth=3, n_estimators=300, learning_rate=0.05).fit(train_X, train_y)"
   ]
  },
  {
   "cell_type": "code",
   "execution_count": 27,
   "metadata": {
    "_uuid": "22994b5ab0d38358a1b3e33b808e9c331d507013",
    "collapsed": false
   },
   "outputs": [
    {
     "name": "stderr",
     "output_type": "stream",
     "text": [
      "/Users/leyla/anaconda/envs/py36/lib/python3.6/site-packages/sklearn/preprocessing/label.py:151: DeprecationWarning: The truth value of an empty array is ambiguous. Returning False, but in future this will result in an error. Use `array.size > 0` to check that an array is not empty.\n",
      "  if diff:\n"
     ]
    },
    {
     "data": {
      "text/plain": [
       "0.8720538720538721"
      ]
     },
     "execution_count": 27,
     "metadata": {},
     "output_type": "execute_result"
    }
   ],
   "source": [
    "y_pred = gbm.predict(train_X)\n",
    "accuracy_score(train_y, y_pred)"
   ]
  },
  {
   "cell_type": "code",
   "execution_count": 28,
   "metadata": {
    "_uuid": "cccd005fcb680a81cb88dee154086ad4ca2523ed",
    "collapsed": false
   },
   "outputs": [
    {
     "name": "stderr",
     "output_type": "stream",
     "text": [
      "/Users/leyla/anaconda/envs/py36/lib/python3.6/site-packages/sklearn/preprocessing/label.py:151: DeprecationWarning: The truth value of an empty array is ambiguous. Returning False, but in future this will result in an error. Use `array.size > 0` to check that an array is not empty.\n",
      "  if diff:\n"
     ]
    },
    {
     "data": {
      "text/plain": [
       "0.8491620111731844"
      ]
     },
     "execution_count": 28,
     "metadata": {},
     "output_type": "execute_result"
    }
   ],
   "source": [
    "# Cross-validation\n",
    "gbm2 = xgb.XGBClassifier(max_depth=3, n_estimators=300, learning_rate=0.05).fit(cv_train_X, cv_train_y)\n",
    "y_pred = gbm2.predict(cv_test_X)\n",
    "accuracy_score(cv_test_y, y_pred)"
   ]
  },
  {
   "cell_type": "code",
   "execution_count": 29,
   "metadata": {
    "_uuid": "6e6f03a1832afeecabe08130a77445fe70eb718b",
    "collapsed": false
   },
   "outputs": [
    {
     "name": "stderr",
     "output_type": "stream",
     "text": [
      "/Users/leyla/anaconda/envs/py36/lib/python3.6/site-packages/sklearn/preprocessing/label.py:151: DeprecationWarning: The truth value of an empty array is ambiguous. Returning False, but in future this will result in an error. Use `array.size > 0` to check that an array is not empty.\n",
      "  if diff:\n"
     ]
    }
   ],
   "source": [
    "preds2 = gbm.predict(test_X)"
   ]
  },
  {
   "cell_type": "code",
   "execution_count": 30,
   "metadata": {
    "_uuid": "39b8c7eaa32f6f53665a91e87a912a06afdce778",
    "collapsed": false
   },
   "outputs": [],
   "source": [
    "submission2 = pd.DataFrame({ 'PassengerId': test['PassengerId'],\n",
    "                             'Survived': preds2 })\n",
    "submission2.to_csv('submission_.csv', index=False)"
   ]
  },
  {
   "cell_type": "markdown",
   "metadata": {},
   "source": [
    "## Tips\n",
    "\n",
    "If you want to drive up your score try to play with XGBoost parameters / features, try to use CatBoost"
   ]
  },
  {
   "cell_type": "markdown",
   "metadata": {},
   "source": [
    "## Grid Search"
   ]
  },
  {
   "cell_type": "code",
   "execution_count": 31,
   "metadata": {
    "collapsed": true
   },
   "outputs": [],
   "source": [
    "# is used all features\n",
    "\n",
    "train_X = train2.values\n",
    "test_X = test2.values\n",
    "train_y = train['Survived']"
   ]
  },
  {
   "cell_type": "code",
   "execution_count": 32,
   "metadata": {
    "collapsed": false
   },
   "outputs": [],
   "source": [
    "import warnings\n",
    "\n",
    "warnings.filterwarnings(module='sklearn*', action='ignore', category=DeprecationWarning)"
   ]
  },
  {
   "cell_type": "code",
   "execution_count": 33,
   "metadata": {
    "collapsed": false
   },
   "outputs": [
    {
     "data": {
      "text/plain": [
       "GridSearchCV(cv=5, error_score='raise',\n",
       "       estimator=XGBClassifier(base_score=0.5, booster='gbtree', colsample_bylevel=1,\n",
       "       colsample_bytree=1, gamma=0, learning_rate=0.1, max_delta_step=0,\n",
       "       max_depth=3, min_child_weight=1, missing=None, n_estimators=100,\n",
       "       n_jobs=1, nthread=None, objective='binary:logistic', random_state=0,\n",
       "       reg_alpha=0, reg_lambda=1, scale_pos_weight=1, seed=None,\n",
       "       silent=True, subsample=1),\n",
       "       fit_params=None, iid=True, n_jobs=1,\n",
       "       param_grid={'learning_rate': [0.005, 0.01, 0.015], 'n_estimators': [300], 'max_depth': [9, 10, 12, 15, 20], 'gamma': [0, 0.01, 0.05], 'subsample': [0.6, 0.7, 0.8], 'colsample_bytree': [0.6, 0.7, 0.8]},\n",
       "       pre_dispatch='2*n_jobs', refit=True, return_train_score='warn',\n",
       "       scoring=None, verbose=0)"
      ]
     },
     "execution_count": 33,
     "metadata": {},
     "output_type": "execute_result"
    }
   ],
   "source": [
    "from sklearn import model_selection\n",
    "import xgboost as xgb\n",
    "\n",
    "# XGBoost - sklearn method\n",
    "gbm = xgb.XGBClassifier()\n",
    "\n",
    "xgb_params = {\n",
    "'learning_rate': [0.005, 0.01, 0.015],\n",
    "'n_estimators': [300],\n",
    "'max_depth': [9, 10, 12, 15, 20],\n",
    "'gamma': [0, 0.01, 0.05],\n",
    "'subsample': [0.6, 0.7, 0.8],\n",
    "'colsample_bytree': [0.6, 0.7, 0.8]\n",
    "}\n",
    "\n",
    "grid = model_selection.GridSearchCV(gbm, xgb_params, cv=5)\n",
    "grid.fit(train_X,train_y)"
   ]
  },
  {
   "cell_type": "code",
   "execution_count": 34,
   "metadata": {
    "collapsed": false
   },
   "outputs": [
    {
     "name": "stdout",
     "output_type": "stream",
     "text": [
      "0.82379349 (+/-0.084) for {'colsample_bytree': 0.6, 'gamma': 0, 'learning_rate': 0.005, 'max_depth': 9, 'n_estimators': 300, 'subsample': 0.6}\n",
      "0.83052750 (+/-0.071) for {'colsample_bytree': 0.6, 'gamma': 0, 'learning_rate': 0.005, 'max_depth': 9, 'n_estimators': 300, 'subsample': 0.7}\n",
      "0.83052750 (+/-0.061) for {'colsample_bytree': 0.6, 'gamma': 0, 'learning_rate': 0.005, 'max_depth': 9, 'n_estimators': 300, 'subsample': 0.8}\n",
      "0.82379349 (+/-0.077) for {'colsample_bytree': 0.6, 'gamma': 0, 'learning_rate': 0.005, 'max_depth': 10, 'n_estimators': 300, 'subsample': 0.6}\n",
      "0.83052750 (+/-0.070) for {'colsample_bytree': 0.6, 'gamma': 0, 'learning_rate': 0.005, 'max_depth': 10, 'n_estimators': 300, 'subsample': 0.7}\n",
      "0.83164983 (+/-0.063) for {'colsample_bytree': 0.6, 'gamma': 0, 'learning_rate': 0.005, 'max_depth': 10, 'n_estimators': 300, 'subsample': 0.8}\n",
      "0.82491582 (+/-0.079) for {'colsample_bytree': 0.6, 'gamma': 0, 'learning_rate': 0.005, 'max_depth': 12, 'n_estimators': 300, 'subsample': 0.6}\n",
      "0.83164983 (+/-0.073) for {'colsample_bytree': 0.6, 'gamma': 0, 'learning_rate': 0.005, 'max_depth': 12, 'n_estimators': 300, 'subsample': 0.7}\n",
      "0.83277217 (+/-0.065) for {'colsample_bytree': 0.6, 'gamma': 0, 'learning_rate': 0.005, 'max_depth': 12, 'n_estimators': 300, 'subsample': 0.8}\n",
      "0.82716049 (+/-0.075) for {'colsample_bytree': 0.6, 'gamma': 0, 'learning_rate': 0.005, 'max_depth': 15, 'n_estimators': 300, 'subsample': 0.6}\n",
      "0.83277217 (+/-0.072) for {'colsample_bytree': 0.6, 'gamma': 0, 'learning_rate': 0.005, 'max_depth': 15, 'n_estimators': 300, 'subsample': 0.7}\n",
      "0.83277217 (+/-0.065) for {'colsample_bytree': 0.6, 'gamma': 0, 'learning_rate': 0.005, 'max_depth': 15, 'n_estimators': 300, 'subsample': 0.8}\n",
      "0.82716049 (+/-0.075) for {'colsample_bytree': 0.6, 'gamma': 0, 'learning_rate': 0.005, 'max_depth': 20, 'n_estimators': 300, 'subsample': 0.6}\n",
      "0.83277217 (+/-0.072) for {'colsample_bytree': 0.6, 'gamma': 0, 'learning_rate': 0.005, 'max_depth': 20, 'n_estimators': 300, 'subsample': 0.7}\n",
      "0.83277217 (+/-0.065) for {'colsample_bytree': 0.6, 'gamma': 0, 'learning_rate': 0.005, 'max_depth': 20, 'n_estimators': 300, 'subsample': 0.8}\n",
      "0.83389450 (+/-0.063) for {'colsample_bytree': 0.6, 'gamma': 0, 'learning_rate': 0.01, 'max_depth': 9, 'n_estimators': 300, 'subsample': 0.6}\n",
      "0.84062851 (+/-0.049) for {'colsample_bytree': 0.6, 'gamma': 0, 'learning_rate': 0.01, 'max_depth': 9, 'n_estimators': 300, 'subsample': 0.7}\n",
      "0.83838384 (+/-0.055) for {'colsample_bytree': 0.6, 'gamma': 0, 'learning_rate': 0.01, 'max_depth': 9, 'n_estimators': 300, 'subsample': 0.8}\n",
      "0.83389450 (+/-0.056) for {'colsample_bytree': 0.6, 'gamma': 0, 'learning_rate': 0.01, 'max_depth': 10, 'n_estimators': 300, 'subsample': 0.6}\n",
      "0.83838384 (+/-0.051) for {'colsample_bytree': 0.6, 'gamma': 0, 'learning_rate': 0.01, 'max_depth': 10, 'n_estimators': 300, 'subsample': 0.7}\n",
      "0.83950617 (+/-0.050) for {'colsample_bytree': 0.6, 'gamma': 0, 'learning_rate': 0.01, 'max_depth': 10, 'n_estimators': 300, 'subsample': 0.8}\n",
      "0.83501684 (+/-0.058) for {'colsample_bytree': 0.6, 'gamma': 0, 'learning_rate': 0.01, 'max_depth': 12, 'n_estimators': 300, 'subsample': 0.6}\n",
      "0.83950617 (+/-0.052) for {'colsample_bytree': 0.6, 'gamma': 0, 'learning_rate': 0.01, 'max_depth': 12, 'n_estimators': 300, 'subsample': 0.7}\n",
      "0.84175084 (+/-0.050) for {'colsample_bytree': 0.6, 'gamma': 0, 'learning_rate': 0.01, 'max_depth': 12, 'n_estimators': 300, 'subsample': 0.8}\n",
      "0.83613917 (+/-0.060) for {'colsample_bytree': 0.6, 'gamma': 0, 'learning_rate': 0.01, 'max_depth': 15, 'n_estimators': 300, 'subsample': 0.6}\n",
      "0.84062851 (+/-0.054) for {'colsample_bytree': 0.6, 'gamma': 0, 'learning_rate': 0.01, 'max_depth': 15, 'n_estimators': 300, 'subsample': 0.7}\n",
      "0.84175084 (+/-0.050) for {'colsample_bytree': 0.6, 'gamma': 0, 'learning_rate': 0.01, 'max_depth': 15, 'n_estimators': 300, 'subsample': 0.8}\n",
      "0.83613917 (+/-0.060) for {'colsample_bytree': 0.6, 'gamma': 0, 'learning_rate': 0.01, 'max_depth': 20, 'n_estimators': 300, 'subsample': 0.6}\n",
      "0.84062851 (+/-0.054) for {'colsample_bytree': 0.6, 'gamma': 0, 'learning_rate': 0.01, 'max_depth': 20, 'n_estimators': 300, 'subsample': 0.7}\n",
      "0.84062851 (+/-0.047) for {'colsample_bytree': 0.6, 'gamma': 0, 'learning_rate': 0.01, 'max_depth': 20, 'n_estimators': 300, 'subsample': 0.8}\n",
      "0.84511785 (+/-0.042) for {'colsample_bytree': 0.6, 'gamma': 0, 'learning_rate': 0.015, 'max_depth': 9, 'n_estimators': 300, 'subsample': 0.6}\n",
      "0.84511785 (+/-0.055) for {'colsample_bytree': 0.6, 'gamma': 0, 'learning_rate': 0.015, 'max_depth': 9, 'n_estimators': 300, 'subsample': 0.7}\n",
      "0.84399551 (+/-0.050) for {'colsample_bytree': 0.6, 'gamma': 0, 'learning_rate': 0.015, 'max_depth': 9, 'n_estimators': 300, 'subsample': 0.8}\n",
      "0.84511785 (+/-0.042) for {'colsample_bytree': 0.6, 'gamma': 0, 'learning_rate': 0.015, 'max_depth': 10, 'n_estimators': 300, 'subsample': 0.6}\n",
      "0.84511785 (+/-0.055) for {'colsample_bytree': 0.6, 'gamma': 0, 'learning_rate': 0.015, 'max_depth': 10, 'n_estimators': 300, 'subsample': 0.7}\n",
      "0.84736251 (+/-0.042) for {'colsample_bytree': 0.6, 'gamma': 0, 'learning_rate': 0.015, 'max_depth': 10, 'n_estimators': 300, 'subsample': 0.8}\n",
      "0.84624018 (+/-0.039) for {'colsample_bytree': 0.6, 'gamma': 0, 'learning_rate': 0.015, 'max_depth': 12, 'n_estimators': 300, 'subsample': 0.6}\n",
      "0.84287318 (+/-0.054) for {'colsample_bytree': 0.6, 'gamma': 0, 'learning_rate': 0.015, 'max_depth': 12, 'n_estimators': 300, 'subsample': 0.7}\n",
      "0.84736251 (+/-0.048) for {'colsample_bytree': 0.6, 'gamma': 0, 'learning_rate': 0.015, 'max_depth': 12, 'n_estimators': 300, 'subsample': 0.8}\n",
      "0.84848485 (+/-0.045) for {'colsample_bytree': 0.6, 'gamma': 0, 'learning_rate': 0.015, 'max_depth': 15, 'n_estimators': 300, 'subsample': 0.6}\n",
      "0.84736251 (+/-0.046) for {'colsample_bytree': 0.6, 'gamma': 0, 'learning_rate': 0.015, 'max_depth': 15, 'n_estimators': 300, 'subsample': 0.7}\n",
      "0.84736251 (+/-0.048) for {'colsample_bytree': 0.6, 'gamma': 0, 'learning_rate': 0.015, 'max_depth': 15, 'n_estimators': 300, 'subsample': 0.8}\n",
      "0.84848485 (+/-0.045) for {'colsample_bytree': 0.6, 'gamma': 0, 'learning_rate': 0.015, 'max_depth': 20, 'n_estimators': 300, 'subsample': 0.6}\n",
      "0.84624018 (+/-0.052) for {'colsample_bytree': 0.6, 'gamma': 0, 'learning_rate': 0.015, 'max_depth': 20, 'n_estimators': 300, 'subsample': 0.7}\n",
      "0.84848485 (+/-0.049) for {'colsample_bytree': 0.6, 'gamma': 0, 'learning_rate': 0.015, 'max_depth': 20, 'n_estimators': 300, 'subsample': 0.8}\n",
      "0.82379349 (+/-0.084) for {'colsample_bytree': 0.6, 'gamma': 0.01, 'learning_rate': 0.005, 'max_depth': 9, 'n_estimators': 300, 'subsample': 0.6}\n",
      "0.83052750 (+/-0.071) for {'colsample_bytree': 0.6, 'gamma': 0.01, 'learning_rate': 0.005, 'max_depth': 9, 'n_estimators': 300, 'subsample': 0.7}\n",
      "0.83052750 (+/-0.061) for {'colsample_bytree': 0.6, 'gamma': 0.01, 'learning_rate': 0.005, 'max_depth': 9, 'n_estimators': 300, 'subsample': 0.8}\n",
      "0.82267116 (+/-0.078) for {'colsample_bytree': 0.6, 'gamma': 0.01, 'learning_rate': 0.005, 'max_depth': 10, 'n_estimators': 300, 'subsample': 0.6}\n",
      "0.82940516 (+/-0.068) for {'colsample_bytree': 0.6, 'gamma': 0.01, 'learning_rate': 0.005, 'max_depth': 10, 'n_estimators': 300, 'subsample': 0.7}\n",
      "0.83164983 (+/-0.063) for {'colsample_bytree': 0.6, 'gamma': 0.01, 'learning_rate': 0.005, 'max_depth': 10, 'n_estimators': 300, 'subsample': 0.8}\n",
      "0.82716049 (+/-0.075) for {'colsample_bytree': 0.6, 'gamma': 0.01, 'learning_rate': 0.005, 'max_depth': 12, 'n_estimators': 300, 'subsample': 0.6}\n",
      "0.83164983 (+/-0.073) for {'colsample_bytree': 0.6, 'gamma': 0.01, 'learning_rate': 0.005, 'max_depth': 12, 'n_estimators': 300, 'subsample': 0.7}\n",
      "0.83277217 (+/-0.065) for {'colsample_bytree': 0.6, 'gamma': 0.01, 'learning_rate': 0.005, 'max_depth': 12, 'n_estimators': 300, 'subsample': 0.8}\n",
      "0.82603816 (+/-0.076) for {'colsample_bytree': 0.6, 'gamma': 0.01, 'learning_rate': 0.005, 'max_depth': 15, 'n_estimators': 300, 'subsample': 0.6}\n",
      "0.83164983 (+/-0.069) for {'colsample_bytree': 0.6, 'gamma': 0.01, 'learning_rate': 0.005, 'max_depth': 15, 'n_estimators': 300, 'subsample': 0.7}\n",
      "0.83277217 (+/-0.065) for {'colsample_bytree': 0.6, 'gamma': 0.01, 'learning_rate': 0.005, 'max_depth': 15, 'n_estimators': 300, 'subsample': 0.8}\n",
      "0.82603816 (+/-0.076) for {'colsample_bytree': 0.6, 'gamma': 0.01, 'learning_rate': 0.005, 'max_depth': 20, 'n_estimators': 300, 'subsample': 0.6}\n",
      "0.83277217 (+/-0.072) for {'colsample_bytree': 0.6, 'gamma': 0.01, 'learning_rate': 0.005, 'max_depth': 20, 'n_estimators': 300, 'subsample': 0.7}\n",
      "0.83277217 (+/-0.065) for {'colsample_bytree': 0.6, 'gamma': 0.01, 'learning_rate': 0.005, 'max_depth': 20, 'n_estimators': 300, 'subsample': 0.8}\n",
      "0.83501684 (+/-0.064) for {'colsample_bytree': 0.6, 'gamma': 0.01, 'learning_rate': 0.01, 'max_depth': 9, 'n_estimators': 300, 'subsample': 0.6}\n",
      "0.84062851 (+/-0.050) for {'colsample_bytree': 0.6, 'gamma': 0.01, 'learning_rate': 0.01, 'max_depth': 9, 'n_estimators': 300, 'subsample': 0.7}\n",
      "0.83838384 (+/-0.055) for {'colsample_bytree': 0.6, 'gamma': 0.01, 'learning_rate': 0.01, 'max_depth': 9, 'n_estimators': 300, 'subsample': 0.8}\n",
      "0.83389450 (+/-0.056) for {'colsample_bytree': 0.6, 'gamma': 0.01, 'learning_rate': 0.01, 'max_depth': 10, 'n_estimators': 300, 'subsample': 0.6}\n",
      "0.83726150 (+/-0.059) for {'colsample_bytree': 0.6, 'gamma': 0.01, 'learning_rate': 0.01, 'max_depth': 10, 'n_estimators': 300, 'subsample': 0.7}\n",
      "0.83838384 (+/-0.054) for {'colsample_bytree': 0.6, 'gamma': 0.01, 'learning_rate': 0.01, 'max_depth': 10, 'n_estimators': 300, 'subsample': 0.8}\n",
      "0.83726150 (+/-0.059) for {'colsample_bytree': 0.6, 'gamma': 0.01, 'learning_rate': 0.01, 'max_depth': 12, 'n_estimators': 300, 'subsample': 0.6}\n",
      "0.83950617 (+/-0.052) for {'colsample_bytree': 0.6, 'gamma': 0.01, 'learning_rate': 0.01, 'max_depth': 12, 'n_estimators': 300, 'subsample': 0.7}\n",
      "0.84175084 (+/-0.050) for {'colsample_bytree': 0.6, 'gamma': 0.01, 'learning_rate': 0.01, 'max_depth': 12, 'n_estimators': 300, 'subsample': 0.8}\n",
      "0.83726150 (+/-0.059) for {'colsample_bytree': 0.6, 'gamma': 0.01, 'learning_rate': 0.01, 'max_depth': 15, 'n_estimators': 300, 'subsample': 0.6}\n",
      "0.83950617 (+/-0.056) for {'colsample_bytree': 0.6, 'gamma': 0.01, 'learning_rate': 0.01, 'max_depth': 15, 'n_estimators': 300, 'subsample': 0.7}\n",
      "0.84062851 (+/-0.053) for {'colsample_bytree': 0.6, 'gamma': 0.01, 'learning_rate': 0.01, 'max_depth': 15, 'n_estimators': 300, 'subsample': 0.8}\n",
      "0.83613917 (+/-0.057) for {'colsample_bytree': 0.6, 'gamma': 0.01, 'learning_rate': 0.01, 'max_depth': 20, 'n_estimators': 300, 'subsample': 0.6}\n",
      "0.83950617 (+/-0.056) for {'colsample_bytree': 0.6, 'gamma': 0.01, 'learning_rate': 0.01, 'max_depth': 20, 'n_estimators': 300, 'subsample': 0.7}\n",
      "0.83950617 (+/-0.050) for {'colsample_bytree': 0.6, 'gamma': 0.01, 'learning_rate': 0.01, 'max_depth': 20, 'n_estimators': 300, 'subsample': 0.8}\n",
      "0.84624018 (+/-0.039) for {'colsample_bytree': 0.6, 'gamma': 0.01, 'learning_rate': 0.015, 'max_depth': 9, 'n_estimators': 300, 'subsample': 0.6}\n",
      "0.84511785 (+/-0.055) for {'colsample_bytree': 0.6, 'gamma': 0.01, 'learning_rate': 0.015, 'max_depth': 9, 'n_estimators': 300, 'subsample': 0.7}\n",
      "0.84399551 (+/-0.046) for {'colsample_bytree': 0.6, 'gamma': 0.01, 'learning_rate': 0.015, 'max_depth': 9, 'n_estimators': 300, 'subsample': 0.8}\n",
      "0.84399551 (+/-0.044) for {'colsample_bytree': 0.6, 'gamma': 0.01, 'learning_rate': 0.015, 'max_depth': 10, 'n_estimators': 300, 'subsample': 0.6}\n",
      "0.84511785 (+/-0.055) for {'colsample_bytree': 0.6, 'gamma': 0.01, 'learning_rate': 0.015, 'max_depth': 10, 'n_estimators': 300, 'subsample': 0.7}\n",
      "0.84736251 (+/-0.046) for {'colsample_bytree': 0.6, 'gamma': 0.01, 'learning_rate': 0.015, 'max_depth': 10, 'n_estimators': 300, 'subsample': 0.8}\n",
      "0.84624018 (+/-0.045) for {'colsample_bytree': 0.6, 'gamma': 0.01, 'learning_rate': 0.015, 'max_depth': 12, 'n_estimators': 300, 'subsample': 0.6}\n",
      "0.84175084 (+/-0.054) for {'colsample_bytree': 0.6, 'gamma': 0.01, 'learning_rate': 0.015, 'max_depth': 12, 'n_estimators': 300, 'subsample': 0.7}\n",
      "0.84736251 (+/-0.050) for {'colsample_bytree': 0.6, 'gamma': 0.01, 'learning_rate': 0.015, 'max_depth': 12, 'n_estimators': 300, 'subsample': 0.8}\n",
      "0.84848485 (+/-0.045) for {'colsample_bytree': 0.6, 'gamma': 0.01, 'learning_rate': 0.015, 'max_depth': 15, 'n_estimators': 300, 'subsample': 0.6}\n",
      "0.84624018 (+/-0.049) for {'colsample_bytree': 0.6, 'gamma': 0.01, 'learning_rate': 0.015, 'max_depth': 15, 'n_estimators': 300, 'subsample': 0.7}\n",
      "0.84960718 (+/-0.050) for {'colsample_bytree': 0.6, 'gamma': 0.01, 'learning_rate': 0.015, 'max_depth': 15, 'n_estimators': 300, 'subsample': 0.8}\n",
      "0.84848485 (+/-0.045) for {'colsample_bytree': 0.6, 'gamma': 0.01, 'learning_rate': 0.015, 'max_depth': 20, 'n_estimators': 300, 'subsample': 0.6}\n",
      "0.84399551 (+/-0.054) for {'colsample_bytree': 0.6, 'gamma': 0.01, 'learning_rate': 0.015, 'max_depth': 20, 'n_estimators': 300, 'subsample': 0.7}\n",
      "0.84736251 (+/-0.048) for {'colsample_bytree': 0.6, 'gamma': 0.01, 'learning_rate': 0.015, 'max_depth': 20, 'n_estimators': 300, 'subsample': 0.8}\n",
      "0.82379349 (+/-0.084) for {'colsample_bytree': 0.6, 'gamma': 0.05, 'learning_rate': 0.005, 'max_depth': 9, 'n_estimators': 300, 'subsample': 0.6}\n",
      "0.83052750 (+/-0.071) for {'colsample_bytree': 0.6, 'gamma': 0.05, 'learning_rate': 0.005, 'max_depth': 9, 'n_estimators': 300, 'subsample': 0.7}\n",
      "0.83052750 (+/-0.061) for {'colsample_bytree': 0.6, 'gamma': 0.05, 'learning_rate': 0.005, 'max_depth': 9, 'n_estimators': 300, 'subsample': 0.8}\n",
      "0.82379349 (+/-0.077) for {'colsample_bytree': 0.6, 'gamma': 0.05, 'learning_rate': 0.005, 'max_depth': 10, 'n_estimators': 300, 'subsample': 0.6}\n",
      "0.83052750 (+/-0.070) for {'colsample_bytree': 0.6, 'gamma': 0.05, 'learning_rate': 0.005, 'max_depth': 10, 'n_estimators': 300, 'subsample': 0.7}\n",
      "0.83389450 (+/-0.062) for {'colsample_bytree': 0.6, 'gamma': 0.05, 'learning_rate': 0.005, 'max_depth': 10, 'n_estimators': 300, 'subsample': 0.8}\n",
      "0.82603816 (+/-0.075) for {'colsample_bytree': 0.6, 'gamma': 0.05, 'learning_rate': 0.005, 'max_depth': 12, 'n_estimators': 300, 'subsample': 0.6}\n",
      "0.83052750 (+/-0.070) for {'colsample_bytree': 0.6, 'gamma': 0.05, 'learning_rate': 0.005, 'max_depth': 12, 'n_estimators': 300, 'subsample': 0.7}\n",
      "0.83277217 (+/-0.065) for {'colsample_bytree': 0.6, 'gamma': 0.05, 'learning_rate': 0.005, 'max_depth': 12, 'n_estimators': 300, 'subsample': 0.8}\n",
      "0.82491582 (+/-0.076) for {'colsample_bytree': 0.6, 'gamma': 0.05, 'learning_rate': 0.005, 'max_depth': 15, 'n_estimators': 300, 'subsample': 0.6}\n",
      "0.83164983 (+/-0.073) for {'colsample_bytree': 0.6, 'gamma': 0.05, 'learning_rate': 0.005, 'max_depth': 15, 'n_estimators': 300, 'subsample': 0.7}\n",
      "0.83389450 (+/-0.064) for {'colsample_bytree': 0.6, 'gamma': 0.05, 'learning_rate': 0.005, 'max_depth': 15, 'n_estimators': 300, 'subsample': 0.8}\n",
      "0.82603816 (+/-0.079) for {'colsample_bytree': 0.6, 'gamma': 0.05, 'learning_rate': 0.005, 'max_depth': 20, 'n_estimators': 300, 'subsample': 0.6}\n",
      "0.83164983 (+/-0.073) for {'colsample_bytree': 0.6, 'gamma': 0.05, 'learning_rate': 0.005, 'max_depth': 20, 'n_estimators': 300, 'subsample': 0.7}\n",
      "0.83389450 (+/-0.064) for {'colsample_bytree': 0.6, 'gamma': 0.05, 'learning_rate': 0.005, 'max_depth': 20, 'n_estimators': 300, 'subsample': 0.8}\n",
      "0.83389450 (+/-0.056) for {'colsample_bytree': 0.6, 'gamma': 0.05, 'learning_rate': 0.01, 'max_depth': 9, 'n_estimators': 300, 'subsample': 0.6}\n",
      "0.83838384 (+/-0.055) for {'colsample_bytree': 0.6, 'gamma': 0.05, 'learning_rate': 0.01, 'max_depth': 9, 'n_estimators': 300, 'subsample': 0.7}\n",
      "0.84062851 (+/-0.059) for {'colsample_bytree': 0.6, 'gamma': 0.05, 'learning_rate': 0.01, 'max_depth': 9, 'n_estimators': 300, 'subsample': 0.8}\n",
      "0.83389450 (+/-0.051) for {'colsample_bytree': 0.6, 'gamma': 0.05, 'learning_rate': 0.01, 'max_depth': 10, 'n_estimators': 300, 'subsample': 0.6}\n",
      "0.83838384 (+/-0.050) for {'colsample_bytree': 0.6, 'gamma': 0.05, 'learning_rate': 0.01, 'max_depth': 10, 'n_estimators': 300, 'subsample': 0.7}\n",
      "0.83950617 (+/-0.056) for {'colsample_bytree': 0.6, 'gamma': 0.05, 'learning_rate': 0.01, 'max_depth': 10, 'n_estimators': 300, 'subsample': 0.8}\n",
      "0.83501684 (+/-0.065) for {'colsample_bytree': 0.6, 'gamma': 0.05, 'learning_rate': 0.01, 'max_depth': 12, 'n_estimators': 300, 'subsample': 0.6}\n",
      "0.83726150 (+/-0.057) for {'colsample_bytree': 0.6, 'gamma': 0.05, 'learning_rate': 0.01, 'max_depth': 12, 'n_estimators': 300, 'subsample': 0.7}\n",
      "0.83950617 (+/-0.050) for {'colsample_bytree': 0.6, 'gamma': 0.05, 'learning_rate': 0.01, 'max_depth': 12, 'n_estimators': 300, 'subsample': 0.8}\n",
      "0.83389450 (+/-0.062) for {'colsample_bytree': 0.6, 'gamma': 0.05, 'learning_rate': 0.01, 'max_depth': 15, 'n_estimators': 300, 'subsample': 0.6}\n",
      "0.83950617 (+/-0.056) for {'colsample_bytree': 0.6, 'gamma': 0.05, 'learning_rate': 0.01, 'max_depth': 15, 'n_estimators': 300, 'subsample': 0.7}\n",
      "0.83950617 (+/-0.050) for {'colsample_bytree': 0.6, 'gamma': 0.05, 'learning_rate': 0.01, 'max_depth': 15, 'n_estimators': 300, 'subsample': 0.8}\n",
      "0.83389450 (+/-0.062) for {'colsample_bytree': 0.6, 'gamma': 0.05, 'learning_rate': 0.01, 'max_depth': 20, 'n_estimators': 300, 'subsample': 0.6}\n",
      "0.83950617 (+/-0.056) for {'colsample_bytree': 0.6, 'gamma': 0.05, 'learning_rate': 0.01, 'max_depth': 20, 'n_estimators': 300, 'subsample': 0.7}\n",
      "0.83950617 (+/-0.050) for {'colsample_bytree': 0.6, 'gamma': 0.05, 'learning_rate': 0.01, 'max_depth': 20, 'n_estimators': 300, 'subsample': 0.8}\n",
      "0.84511785 (+/-0.037) for {'colsample_bytree': 0.6, 'gamma': 0.05, 'learning_rate': 0.015, 'max_depth': 9, 'n_estimators': 300, 'subsample': 0.6}\n",
      "0.84399551 (+/-0.054) for {'colsample_bytree': 0.6, 'gamma': 0.05, 'learning_rate': 0.015, 'max_depth': 9, 'n_estimators': 300, 'subsample': 0.7}\n",
      "0.84624018 (+/-0.048) for {'colsample_bytree': 0.6, 'gamma': 0.05, 'learning_rate': 0.015, 'max_depth': 9, 'n_estimators': 300, 'subsample': 0.8}\n",
      "0.84624018 (+/-0.045) for {'colsample_bytree': 0.6, 'gamma': 0.05, 'learning_rate': 0.015, 'max_depth': 10, 'n_estimators': 300, 'subsample': 0.6}\n",
      "0.84287318 (+/-0.051) for {'colsample_bytree': 0.6, 'gamma': 0.05, 'learning_rate': 0.015, 'max_depth': 10, 'n_estimators': 300, 'subsample': 0.7}\n",
      "0.84511785 (+/-0.045) for {'colsample_bytree': 0.6, 'gamma': 0.05, 'learning_rate': 0.015, 'max_depth': 10, 'n_estimators': 300, 'subsample': 0.8}\n",
      "0.84736251 (+/-0.042) for {'colsample_bytree': 0.6, 'gamma': 0.05, 'learning_rate': 0.015, 'max_depth': 12, 'n_estimators': 300, 'subsample': 0.6}\n",
      "0.84511785 (+/-0.055) for {'colsample_bytree': 0.6, 'gamma': 0.05, 'learning_rate': 0.015, 'max_depth': 12, 'n_estimators': 300, 'subsample': 0.7}\n",
      "0.84511785 (+/-0.045) for {'colsample_bytree': 0.6, 'gamma': 0.05, 'learning_rate': 0.015, 'max_depth': 12, 'n_estimators': 300, 'subsample': 0.8}\n",
      "0.84736251 (+/-0.046) for {'colsample_bytree': 0.6, 'gamma': 0.05, 'learning_rate': 0.015, 'max_depth': 15, 'n_estimators': 300, 'subsample': 0.6}\n",
      "0.84511785 (+/-0.055) for {'colsample_bytree': 0.6, 'gamma': 0.05, 'learning_rate': 0.015, 'max_depth': 15, 'n_estimators': 300, 'subsample': 0.7}\n",
      "0.84624018 (+/-0.048) for {'colsample_bytree': 0.6, 'gamma': 0.05, 'learning_rate': 0.015, 'max_depth': 15, 'n_estimators': 300, 'subsample': 0.8}\n",
      "0.84848485 (+/-0.045) for {'colsample_bytree': 0.6, 'gamma': 0.05, 'learning_rate': 0.015, 'max_depth': 20, 'n_estimators': 300, 'subsample': 0.6}\n",
      "0.84624018 (+/-0.052) for {'colsample_bytree': 0.6, 'gamma': 0.05, 'learning_rate': 0.015, 'max_depth': 20, 'n_estimators': 300, 'subsample': 0.7}\n",
      "0.84624018 (+/-0.052) for {'colsample_bytree': 0.6, 'gamma': 0.05, 'learning_rate': 0.015, 'max_depth': 20, 'n_estimators': 300, 'subsample': 0.8}\n",
      "0.82940516 (+/-0.063) for {'colsample_bytree': 0.7, 'gamma': 0, 'learning_rate': 0.005, 'max_depth': 9, 'n_estimators': 300, 'subsample': 0.6}\n",
      "0.83389450 (+/-0.065) for {'colsample_bytree': 0.7, 'gamma': 0, 'learning_rate': 0.005, 'max_depth': 9, 'n_estimators': 300, 'subsample': 0.7}\n",
      "0.83726150 (+/-0.061) for {'colsample_bytree': 0.7, 'gamma': 0, 'learning_rate': 0.005, 'max_depth': 9, 'n_estimators': 300, 'subsample': 0.8}\n",
      "0.82828283 (+/-0.067) for {'colsample_bytree': 0.7, 'gamma': 0, 'learning_rate': 0.005, 'max_depth': 10, 'n_estimators': 300, 'subsample': 0.6}\n",
      "0.83613917 (+/-0.063) for {'colsample_bytree': 0.7, 'gamma': 0, 'learning_rate': 0.005, 'max_depth': 10, 'n_estimators': 300, 'subsample': 0.7}\n",
      "0.83838384 (+/-0.064) for {'colsample_bytree': 0.7, 'gamma': 0, 'learning_rate': 0.005, 'max_depth': 10, 'n_estimators': 300, 'subsample': 0.8}\n",
      "0.82716049 (+/-0.068) for {'colsample_bytree': 0.7, 'gamma': 0, 'learning_rate': 0.005, 'max_depth': 12, 'n_estimators': 300, 'subsample': 0.6}\n",
      "0.83501684 (+/-0.063) for {'colsample_bytree': 0.7, 'gamma': 0, 'learning_rate': 0.005, 'max_depth': 12, 'n_estimators': 300, 'subsample': 0.7}\n",
      "0.83950617 (+/-0.063) for {'colsample_bytree': 0.7, 'gamma': 0, 'learning_rate': 0.005, 'max_depth': 12, 'n_estimators': 300, 'subsample': 0.8}\n",
      "0.82828283 (+/-0.067) for {'colsample_bytree': 0.7, 'gamma': 0, 'learning_rate': 0.005, 'max_depth': 15, 'n_estimators': 300, 'subsample': 0.6}\n",
      "0.83613917 (+/-0.063) for {'colsample_bytree': 0.7, 'gamma': 0, 'learning_rate': 0.005, 'max_depth': 15, 'n_estimators': 300, 'subsample': 0.7}\n",
      "0.83950617 (+/-0.063) for {'colsample_bytree': 0.7, 'gamma': 0, 'learning_rate': 0.005, 'max_depth': 15, 'n_estimators': 300, 'subsample': 0.8}\n",
      "0.82828283 (+/-0.067) for {'colsample_bytree': 0.7, 'gamma': 0, 'learning_rate': 0.005, 'max_depth': 20, 'n_estimators': 300, 'subsample': 0.6}\n",
      "0.83613917 (+/-0.063) for {'colsample_bytree': 0.7, 'gamma': 0, 'learning_rate': 0.005, 'max_depth': 20, 'n_estimators': 300, 'subsample': 0.7}\n",
      "0.83950617 (+/-0.063) for {'colsample_bytree': 0.7, 'gamma': 0, 'learning_rate': 0.005, 'max_depth': 20, 'n_estimators': 300, 'subsample': 0.8}\n",
      "0.83277217 (+/-0.061) for {'colsample_bytree': 0.7, 'gamma': 0, 'learning_rate': 0.01, 'max_depth': 9, 'n_estimators': 300, 'subsample': 0.6}\n",
      "0.83950617 (+/-0.060) for {'colsample_bytree': 0.7, 'gamma': 0, 'learning_rate': 0.01, 'max_depth': 9, 'n_estimators': 300, 'subsample': 0.7}\n",
      "0.84511785 (+/-0.059) for {'colsample_bytree': 0.7, 'gamma': 0, 'learning_rate': 0.01, 'max_depth': 9, 'n_estimators': 300, 'subsample': 0.8}\n",
      "0.83501684 (+/-0.058) for {'colsample_bytree': 0.7, 'gamma': 0, 'learning_rate': 0.01, 'max_depth': 10, 'n_estimators': 300, 'subsample': 0.6}\n",
      "0.84175084 (+/-0.061) for {'colsample_bytree': 0.7, 'gamma': 0, 'learning_rate': 0.01, 'max_depth': 10, 'n_estimators': 300, 'subsample': 0.7}\n",
      "0.84511785 (+/-0.070) for {'colsample_bytree': 0.7, 'gamma': 0, 'learning_rate': 0.01, 'max_depth': 10, 'n_estimators': 300, 'subsample': 0.8}\n",
      "0.83726150 (+/-0.057) for {'colsample_bytree': 0.7, 'gamma': 0, 'learning_rate': 0.01, 'max_depth': 12, 'n_estimators': 300, 'subsample': 0.6}\n",
      "0.83950617 (+/-0.056) for {'colsample_bytree': 0.7, 'gamma': 0, 'learning_rate': 0.01, 'max_depth': 12, 'n_estimators': 300, 'subsample': 0.7}\n",
      "0.84624018 (+/-0.067) for {'colsample_bytree': 0.7, 'gamma': 0, 'learning_rate': 0.01, 'max_depth': 12, 'n_estimators': 300, 'subsample': 0.8}\n",
      "0.83613917 (+/-0.055) for {'colsample_bytree': 0.7, 'gamma': 0, 'learning_rate': 0.01, 'max_depth': 15, 'n_estimators': 300, 'subsample': 0.6}\n",
      "0.83950617 (+/-0.056) for {'colsample_bytree': 0.7, 'gamma': 0, 'learning_rate': 0.01, 'max_depth': 15, 'n_estimators': 300, 'subsample': 0.7}\n",
      "0.84848485 (+/-0.064) for {'colsample_bytree': 0.7, 'gamma': 0, 'learning_rate': 0.01, 'max_depth': 15, 'n_estimators': 300, 'subsample': 0.8}\n",
      "0.83613917 (+/-0.057) for {'colsample_bytree': 0.7, 'gamma': 0, 'learning_rate': 0.01, 'max_depth': 20, 'n_estimators': 300, 'subsample': 0.6}\n",
      "0.84062851 (+/-0.058) for {'colsample_bytree': 0.7, 'gamma': 0, 'learning_rate': 0.01, 'max_depth': 20, 'n_estimators': 300, 'subsample': 0.7}\n",
      "0.84848485 (+/-0.064) for {'colsample_bytree': 0.7, 'gamma': 0, 'learning_rate': 0.01, 'max_depth': 20, 'n_estimators': 300, 'subsample': 0.8}\n",
      "0.84175084 (+/-0.062) for {'colsample_bytree': 0.7, 'gamma': 0, 'learning_rate': 0.015, 'max_depth': 9, 'n_estimators': 300, 'subsample': 0.6}\n",
      "0.84624018 (+/-0.061) for {'colsample_bytree': 0.7, 'gamma': 0, 'learning_rate': 0.015, 'max_depth': 9, 'n_estimators': 300, 'subsample': 0.7}\n",
      "0.84399551 (+/-0.067) for {'colsample_bytree': 0.7, 'gamma': 0, 'learning_rate': 0.015, 'max_depth': 9, 'n_estimators': 300, 'subsample': 0.8}\n",
      "0.83726150 (+/-0.065) for {'colsample_bytree': 0.7, 'gamma': 0, 'learning_rate': 0.015, 'max_depth': 10, 'n_estimators': 300, 'subsample': 0.6}\n",
      "0.84287318 (+/-0.063) for {'colsample_bytree': 0.7, 'gamma': 0, 'learning_rate': 0.015, 'max_depth': 10, 'n_estimators': 300, 'subsample': 0.7}\n",
      "0.84175084 (+/-0.064) for {'colsample_bytree': 0.7, 'gamma': 0, 'learning_rate': 0.015, 'max_depth': 10, 'n_estimators': 300, 'subsample': 0.8}\n",
      "0.84399551 (+/-0.062) for {'colsample_bytree': 0.7, 'gamma': 0, 'learning_rate': 0.015, 'max_depth': 12, 'n_estimators': 300, 'subsample': 0.6}\n",
      "0.84848485 (+/-0.070) for {'colsample_bytree': 0.7, 'gamma': 0, 'learning_rate': 0.015, 'max_depth': 12, 'n_estimators': 300, 'subsample': 0.7}\n",
      "0.84399551 (+/-0.067) for {'colsample_bytree': 0.7, 'gamma': 0, 'learning_rate': 0.015, 'max_depth': 12, 'n_estimators': 300, 'subsample': 0.8}\n",
      "0.84287318 (+/-0.065) for {'colsample_bytree': 0.7, 'gamma': 0, 'learning_rate': 0.015, 'max_depth': 15, 'n_estimators': 300, 'subsample': 0.6}\n",
      "0.84399551 (+/-0.069) for {'colsample_bytree': 0.7, 'gamma': 0, 'learning_rate': 0.015, 'max_depth': 15, 'n_estimators': 300, 'subsample': 0.7}\n",
      "0.84848485 (+/-0.068) for {'colsample_bytree': 0.7, 'gamma': 0, 'learning_rate': 0.015, 'max_depth': 15, 'n_estimators': 300, 'subsample': 0.8}\n",
      "0.84062851 (+/-0.063) for {'colsample_bytree': 0.7, 'gamma': 0, 'learning_rate': 0.015, 'max_depth': 20, 'n_estimators': 300, 'subsample': 0.6}\n",
      "0.84399551 (+/-0.068) for {'colsample_bytree': 0.7, 'gamma': 0, 'learning_rate': 0.015, 'max_depth': 20, 'n_estimators': 300, 'subsample': 0.7}\n",
      "0.84736251 (+/-0.070) for {'colsample_bytree': 0.7, 'gamma': 0, 'learning_rate': 0.015, 'max_depth': 20, 'n_estimators': 300, 'subsample': 0.8}\n",
      "0.82828283 (+/-0.061) for {'colsample_bytree': 0.7, 'gamma': 0.01, 'learning_rate': 0.005, 'max_depth': 9, 'n_estimators': 300, 'subsample': 0.6}\n",
      "0.83501684 (+/-0.063) for {'colsample_bytree': 0.7, 'gamma': 0.01, 'learning_rate': 0.005, 'max_depth': 9, 'n_estimators': 300, 'subsample': 0.7}\n",
      "0.83726150 (+/-0.061) for {'colsample_bytree': 0.7, 'gamma': 0.01, 'learning_rate': 0.005, 'max_depth': 9, 'n_estimators': 300, 'subsample': 0.8}\n",
      "0.82940516 (+/-0.069) for {'colsample_bytree': 0.7, 'gamma': 0.01, 'learning_rate': 0.005, 'max_depth': 10, 'n_estimators': 300, 'subsample': 0.6}\n",
      "0.83613917 (+/-0.063) for {'colsample_bytree': 0.7, 'gamma': 0.01, 'learning_rate': 0.005, 'max_depth': 10, 'n_estimators': 300, 'subsample': 0.7}\n",
      "0.83613917 (+/-0.061) for {'colsample_bytree': 0.7, 'gamma': 0.01, 'learning_rate': 0.005, 'max_depth': 10, 'n_estimators': 300, 'subsample': 0.8}\n",
      "0.82716049 (+/-0.068) for {'colsample_bytree': 0.7, 'gamma': 0.01, 'learning_rate': 0.005, 'max_depth': 12, 'n_estimators': 300, 'subsample': 0.6}\n",
      "0.83501684 (+/-0.063) for {'colsample_bytree': 0.7, 'gamma': 0.01, 'learning_rate': 0.005, 'max_depth': 12, 'n_estimators': 300, 'subsample': 0.7}\n",
      "0.83838384 (+/-0.063) for {'colsample_bytree': 0.7, 'gamma': 0.01, 'learning_rate': 0.005, 'max_depth': 12, 'n_estimators': 300, 'subsample': 0.8}\n",
      "0.82716049 (+/-0.068) for {'colsample_bytree': 0.7, 'gamma': 0.01, 'learning_rate': 0.005, 'max_depth': 15, 'n_estimators': 300, 'subsample': 0.6}\n",
      "0.83613917 (+/-0.063) for {'colsample_bytree': 0.7, 'gamma': 0.01, 'learning_rate': 0.005, 'max_depth': 15, 'n_estimators': 300, 'subsample': 0.7}\n",
      "0.83950617 (+/-0.063) for {'colsample_bytree': 0.7, 'gamma': 0.01, 'learning_rate': 0.005, 'max_depth': 15, 'n_estimators': 300, 'subsample': 0.8}\n",
      "0.82716049 (+/-0.068) for {'colsample_bytree': 0.7, 'gamma': 0.01, 'learning_rate': 0.005, 'max_depth': 20, 'n_estimators': 300, 'subsample': 0.6}\n",
      "0.83613917 (+/-0.063) for {'colsample_bytree': 0.7, 'gamma': 0.01, 'learning_rate': 0.005, 'max_depth': 20, 'n_estimators': 300, 'subsample': 0.7}\n",
      "0.84062851 (+/-0.064) for {'colsample_bytree': 0.7, 'gamma': 0.01, 'learning_rate': 0.005, 'max_depth': 20, 'n_estimators': 300, 'subsample': 0.8}\n",
      "0.83389450 (+/-0.063) for {'colsample_bytree': 0.7, 'gamma': 0.01, 'learning_rate': 0.01, 'max_depth': 9, 'n_estimators': 300, 'subsample': 0.6}\n",
      "0.83950617 (+/-0.060) for {'colsample_bytree': 0.7, 'gamma': 0.01, 'learning_rate': 0.01, 'max_depth': 9, 'n_estimators': 300, 'subsample': 0.7}\n",
      "0.84287318 (+/-0.063) for {'colsample_bytree': 0.7, 'gamma': 0.01, 'learning_rate': 0.01, 'max_depth': 9, 'n_estimators': 300, 'subsample': 0.8}\n",
      "0.83501684 (+/-0.058) for {'colsample_bytree': 0.7, 'gamma': 0.01, 'learning_rate': 0.01, 'max_depth': 10, 'n_estimators': 300, 'subsample': 0.6}\n",
      "0.84287318 (+/-0.058) for {'colsample_bytree': 0.7, 'gamma': 0.01, 'learning_rate': 0.01, 'max_depth': 10, 'n_estimators': 300, 'subsample': 0.7}\n",
      "0.84399551 (+/-0.068) for {'colsample_bytree': 0.7, 'gamma': 0.01, 'learning_rate': 0.01, 'max_depth': 10, 'n_estimators': 300, 'subsample': 0.8}\n",
      "0.83726150 (+/-0.057) for {'colsample_bytree': 0.7, 'gamma': 0.01, 'learning_rate': 0.01, 'max_depth': 12, 'n_estimators': 300, 'subsample': 0.6}\n",
      "0.84175084 (+/-0.061) for {'colsample_bytree': 0.7, 'gamma': 0.01, 'learning_rate': 0.01, 'max_depth': 12, 'n_estimators': 300, 'subsample': 0.7}\n",
      "0.84960718 (+/-0.067) for {'colsample_bytree': 0.7, 'gamma': 0.01, 'learning_rate': 0.01, 'max_depth': 12, 'n_estimators': 300, 'subsample': 0.8}\n",
      "0.83726150 (+/-0.057) for {'colsample_bytree': 0.7, 'gamma': 0.01, 'learning_rate': 0.01, 'max_depth': 15, 'n_estimators': 300, 'subsample': 0.6}\n",
      "0.84062851 (+/-0.058) for {'colsample_bytree': 0.7, 'gamma': 0.01, 'learning_rate': 0.01, 'max_depth': 15, 'n_estimators': 300, 'subsample': 0.7}\n",
      "0.84848485 (+/-0.065) for {'colsample_bytree': 0.7, 'gamma': 0.01, 'learning_rate': 0.01, 'max_depth': 15, 'n_estimators': 300, 'subsample': 0.8}\n",
      "0.83613917 (+/-0.055) for {'colsample_bytree': 0.7, 'gamma': 0.01, 'learning_rate': 0.01, 'max_depth': 20, 'n_estimators': 300, 'subsample': 0.6}\n",
      "0.84175084 (+/-0.061) for {'colsample_bytree': 0.7, 'gamma': 0.01, 'learning_rate': 0.01, 'max_depth': 20, 'n_estimators': 300, 'subsample': 0.7}\n",
      "0.84848485 (+/-0.070) for {'colsample_bytree': 0.7, 'gamma': 0.01, 'learning_rate': 0.01, 'max_depth': 20, 'n_estimators': 300, 'subsample': 0.8}\n",
      "0.84175084 (+/-0.062) for {'colsample_bytree': 0.7, 'gamma': 0.01, 'learning_rate': 0.015, 'max_depth': 9, 'n_estimators': 300, 'subsample': 0.6}\n",
      "0.84624018 (+/-0.058) for {'colsample_bytree': 0.7, 'gamma': 0.01, 'learning_rate': 0.015, 'max_depth': 9, 'n_estimators': 300, 'subsample': 0.7}\n",
      "0.84399551 (+/-0.072) for {'colsample_bytree': 0.7, 'gamma': 0.01, 'learning_rate': 0.015, 'max_depth': 9, 'n_estimators': 300, 'subsample': 0.8}\n",
      "0.83950617 (+/-0.062) for {'colsample_bytree': 0.7, 'gamma': 0.01, 'learning_rate': 0.015, 'max_depth': 10, 'n_estimators': 300, 'subsample': 0.6}\n",
      "0.84175084 (+/-0.065) for {'colsample_bytree': 0.7, 'gamma': 0.01, 'learning_rate': 0.015, 'max_depth': 10, 'n_estimators': 300, 'subsample': 0.7}\n",
      "0.84399551 (+/-0.067) for {'colsample_bytree': 0.7, 'gamma': 0.01, 'learning_rate': 0.015, 'max_depth': 10, 'n_estimators': 300, 'subsample': 0.8}\n",
      "0.84287318 (+/-0.065) for {'colsample_bytree': 0.7, 'gamma': 0.01, 'learning_rate': 0.015, 'max_depth': 12, 'n_estimators': 300, 'subsample': 0.6}\n",
      "0.84624018 (+/-0.067) for {'colsample_bytree': 0.7, 'gamma': 0.01, 'learning_rate': 0.015, 'max_depth': 12, 'n_estimators': 300, 'subsample': 0.7}\n",
      "0.84624018 (+/-0.070) for {'colsample_bytree': 0.7, 'gamma': 0.01, 'learning_rate': 0.015, 'max_depth': 12, 'n_estimators': 300, 'subsample': 0.8}\n",
      "0.83950617 (+/-0.064) for {'colsample_bytree': 0.7, 'gamma': 0.01, 'learning_rate': 0.015, 'max_depth': 15, 'n_estimators': 300, 'subsample': 0.6}\n",
      "0.84287318 (+/-0.071) for {'colsample_bytree': 0.7, 'gamma': 0.01, 'learning_rate': 0.015, 'max_depth': 15, 'n_estimators': 300, 'subsample': 0.7}\n",
      "0.84736251 (+/-0.070) for {'colsample_bytree': 0.7, 'gamma': 0.01, 'learning_rate': 0.015, 'max_depth': 15, 'n_estimators': 300, 'subsample': 0.8}\n",
      "0.84062851 (+/-0.064) for {'colsample_bytree': 0.7, 'gamma': 0.01, 'learning_rate': 0.015, 'max_depth': 20, 'n_estimators': 300, 'subsample': 0.6}\n",
      "0.84624018 (+/-0.076) for {'colsample_bytree': 0.7, 'gamma': 0.01, 'learning_rate': 0.015, 'max_depth': 20, 'n_estimators': 300, 'subsample': 0.7}\n",
      "0.84848485 (+/-0.068) for {'colsample_bytree': 0.7, 'gamma': 0.01, 'learning_rate': 0.015, 'max_depth': 20, 'n_estimators': 300, 'subsample': 0.8}\n",
      "0.82716049 (+/-0.064) for {'colsample_bytree': 0.7, 'gamma': 0.05, 'learning_rate': 0.005, 'max_depth': 9, 'n_estimators': 300, 'subsample': 0.6}\n",
      "0.83613917 (+/-0.066) for {'colsample_bytree': 0.7, 'gamma': 0.05, 'learning_rate': 0.005, 'max_depth': 9, 'n_estimators': 300, 'subsample': 0.7}\n",
      "0.83613917 (+/-0.067) for {'colsample_bytree': 0.7, 'gamma': 0.05, 'learning_rate': 0.005, 'max_depth': 9, 'n_estimators': 300, 'subsample': 0.8}\n",
      "0.82828283 (+/-0.061) for {'colsample_bytree': 0.7, 'gamma': 0.05, 'learning_rate': 0.005, 'max_depth': 10, 'n_estimators': 300, 'subsample': 0.6}\n",
      "0.83501684 (+/-0.063) for {'colsample_bytree': 0.7, 'gamma': 0.05, 'learning_rate': 0.005, 'max_depth': 10, 'n_estimators': 300, 'subsample': 0.7}\n",
      "0.83726150 (+/-0.061) for {'colsample_bytree': 0.7, 'gamma': 0.05, 'learning_rate': 0.005, 'max_depth': 10, 'n_estimators': 300, 'subsample': 0.8}\n",
      "0.82603816 (+/-0.065) for {'colsample_bytree': 0.7, 'gamma': 0.05, 'learning_rate': 0.005, 'max_depth': 12, 'n_estimators': 300, 'subsample': 0.6}\n",
      "0.83501684 (+/-0.063) for {'colsample_bytree': 0.7, 'gamma': 0.05, 'learning_rate': 0.005, 'max_depth': 12, 'n_estimators': 300, 'subsample': 0.7}\n",
      "0.83950617 (+/-0.062) for {'colsample_bytree': 0.7, 'gamma': 0.05, 'learning_rate': 0.005, 'max_depth': 12, 'n_estimators': 300, 'subsample': 0.8}\n",
      "0.82828283 (+/-0.070) for {'colsample_bytree': 0.7, 'gamma': 0.05, 'learning_rate': 0.005, 'max_depth': 15, 'n_estimators': 300, 'subsample': 0.6}\n",
      "0.83613917 (+/-0.063) for {'colsample_bytree': 0.7, 'gamma': 0.05, 'learning_rate': 0.005, 'max_depth': 15, 'n_estimators': 300, 'subsample': 0.7}\n",
      "0.84062851 (+/-0.060) for {'colsample_bytree': 0.7, 'gamma': 0.05, 'learning_rate': 0.005, 'max_depth': 15, 'n_estimators': 300, 'subsample': 0.8}\n",
      "0.82828283 (+/-0.070) for {'colsample_bytree': 0.7, 'gamma': 0.05, 'learning_rate': 0.005, 'max_depth': 20, 'n_estimators': 300, 'subsample': 0.6}\n",
      "0.83613917 (+/-0.063) for {'colsample_bytree': 0.7, 'gamma': 0.05, 'learning_rate': 0.005, 'max_depth': 20, 'n_estimators': 300, 'subsample': 0.7}\n",
      "0.84062851 (+/-0.060) for {'colsample_bytree': 0.7, 'gamma': 0.05, 'learning_rate': 0.005, 'max_depth': 20, 'n_estimators': 300, 'subsample': 0.8}\n",
      "0.83501684 (+/-0.064) for {'colsample_bytree': 0.7, 'gamma': 0.05, 'learning_rate': 0.01, 'max_depth': 9, 'n_estimators': 300, 'subsample': 0.6}\n",
      "0.84175084 (+/-0.060) for {'colsample_bytree': 0.7, 'gamma': 0.05, 'learning_rate': 0.01, 'max_depth': 9, 'n_estimators': 300, 'subsample': 0.7}\n",
      "0.84175084 (+/-0.066) for {'colsample_bytree': 0.7, 'gamma': 0.05, 'learning_rate': 0.01, 'max_depth': 9, 'n_estimators': 300, 'subsample': 0.8}\n",
      "0.83501684 (+/-0.058) for {'colsample_bytree': 0.7, 'gamma': 0.05, 'learning_rate': 0.01, 'max_depth': 10, 'n_estimators': 300, 'subsample': 0.6}\n",
      "0.84287318 (+/-0.064) for {'colsample_bytree': 0.7, 'gamma': 0.05, 'learning_rate': 0.01, 'max_depth': 10, 'n_estimators': 300, 'subsample': 0.7}\n",
      "0.84624018 (+/-0.057) for {'colsample_bytree': 0.7, 'gamma': 0.05, 'learning_rate': 0.01, 'max_depth': 10, 'n_estimators': 300, 'subsample': 0.8}\n",
      "0.83726150 (+/-0.057) for {'colsample_bytree': 0.7, 'gamma': 0.05, 'learning_rate': 0.01, 'max_depth': 12, 'n_estimators': 300, 'subsample': 0.6}\n",
      "0.84287318 (+/-0.064) for {'colsample_bytree': 0.7, 'gamma': 0.05, 'learning_rate': 0.01, 'max_depth': 12, 'n_estimators': 300, 'subsample': 0.7}\n",
      "0.84848485 (+/-0.067) for {'colsample_bytree': 0.7, 'gamma': 0.05, 'learning_rate': 0.01, 'max_depth': 12, 'n_estimators': 300, 'subsample': 0.8}\n",
      "0.83613917 (+/-0.057) for {'colsample_bytree': 0.7, 'gamma': 0.05, 'learning_rate': 0.01, 'max_depth': 15, 'n_estimators': 300, 'subsample': 0.6}\n",
      "0.84399551 (+/-0.055) for {'colsample_bytree': 0.7, 'gamma': 0.05, 'learning_rate': 0.01, 'max_depth': 15, 'n_estimators': 300, 'subsample': 0.7}\n",
      "0.84848485 (+/-0.064) for {'colsample_bytree': 0.7, 'gamma': 0.05, 'learning_rate': 0.01, 'max_depth': 15, 'n_estimators': 300, 'subsample': 0.8}\n",
      "0.83613917 (+/-0.057) for {'colsample_bytree': 0.7, 'gamma': 0.05, 'learning_rate': 0.01, 'max_depth': 20, 'n_estimators': 300, 'subsample': 0.6}\n",
      "0.84511785 (+/-0.055) for {'colsample_bytree': 0.7, 'gamma': 0.05, 'learning_rate': 0.01, 'max_depth': 20, 'n_estimators': 300, 'subsample': 0.7}\n",
      "0.84736251 (+/-0.067) for {'colsample_bytree': 0.7, 'gamma': 0.05, 'learning_rate': 0.01, 'max_depth': 20, 'n_estimators': 300, 'subsample': 0.8}\n",
      "0.83950617 (+/-0.064) for {'colsample_bytree': 0.7, 'gamma': 0.05, 'learning_rate': 0.015, 'max_depth': 9, 'n_estimators': 300, 'subsample': 0.6}\n",
      "0.84511785 (+/-0.060) for {'colsample_bytree': 0.7, 'gamma': 0.05, 'learning_rate': 0.015, 'max_depth': 9, 'n_estimators': 300, 'subsample': 0.7}\n",
      "0.84175084 (+/-0.067) for {'colsample_bytree': 0.7, 'gamma': 0.05, 'learning_rate': 0.015, 'max_depth': 9, 'n_estimators': 300, 'subsample': 0.8}\n",
      "0.84175084 (+/-0.067) for {'colsample_bytree': 0.7, 'gamma': 0.05, 'learning_rate': 0.015, 'max_depth': 10, 'n_estimators': 300, 'subsample': 0.6}\n",
      "0.84624018 (+/-0.065) for {'colsample_bytree': 0.7, 'gamma': 0.05, 'learning_rate': 0.015, 'max_depth': 10, 'n_estimators': 300, 'subsample': 0.7}\n",
      "0.84062851 (+/-0.062) for {'colsample_bytree': 0.7, 'gamma': 0.05, 'learning_rate': 0.015, 'max_depth': 10, 'n_estimators': 300, 'subsample': 0.8}\n",
      "0.84062851 (+/-0.064) for {'colsample_bytree': 0.7, 'gamma': 0.05, 'learning_rate': 0.015, 'max_depth': 12, 'n_estimators': 300, 'subsample': 0.6}\n",
      "0.85185185 (+/-0.065) for {'colsample_bytree': 0.7, 'gamma': 0.05, 'learning_rate': 0.015, 'max_depth': 12, 'n_estimators': 300, 'subsample': 0.7}\n",
      "0.84511785 (+/-0.060) for {'colsample_bytree': 0.7, 'gamma': 0.05, 'learning_rate': 0.015, 'max_depth': 12, 'n_estimators': 300, 'subsample': 0.8}\n",
      "0.84175084 (+/-0.067) for {'colsample_bytree': 0.7, 'gamma': 0.05, 'learning_rate': 0.015, 'max_depth': 15, 'n_estimators': 300, 'subsample': 0.6}\n",
      "0.84399551 (+/-0.060) for {'colsample_bytree': 0.7, 'gamma': 0.05, 'learning_rate': 0.015, 'max_depth': 15, 'n_estimators': 300, 'subsample': 0.7}\n",
      "0.84736251 (+/-0.062) for {'colsample_bytree': 0.7, 'gamma': 0.05, 'learning_rate': 0.015, 'max_depth': 15, 'n_estimators': 300, 'subsample': 0.8}\n",
      "0.84287318 (+/-0.065) for {'colsample_bytree': 0.7, 'gamma': 0.05, 'learning_rate': 0.015, 'max_depth': 20, 'n_estimators': 300, 'subsample': 0.6}\n",
      "0.84736251 (+/-0.068) for {'colsample_bytree': 0.7, 'gamma': 0.05, 'learning_rate': 0.015, 'max_depth': 20, 'n_estimators': 300, 'subsample': 0.7}\n",
      "0.84736251 (+/-0.065) for {'colsample_bytree': 0.7, 'gamma': 0.05, 'learning_rate': 0.015, 'max_depth': 20, 'n_estimators': 300, 'subsample': 0.8}\n",
      "0.82940516 (+/-0.061) for {'colsample_bytree': 0.8, 'gamma': 0, 'learning_rate': 0.005, 'max_depth': 9, 'n_estimators': 300, 'subsample': 0.6}\n",
      "0.83389450 (+/-0.059) for {'colsample_bytree': 0.8, 'gamma': 0, 'learning_rate': 0.005, 'max_depth': 9, 'n_estimators': 300, 'subsample': 0.7}\n",
      "0.83501684 (+/-0.066) for {'colsample_bytree': 0.8, 'gamma': 0, 'learning_rate': 0.005, 'max_depth': 9, 'n_estimators': 300, 'subsample': 0.8}\n",
      "0.82828283 (+/-0.067) for {'colsample_bytree': 0.8, 'gamma': 0, 'learning_rate': 0.005, 'max_depth': 10, 'n_estimators': 300, 'subsample': 0.6}\n",
      "0.83501684 (+/-0.060) for {'colsample_bytree': 0.8, 'gamma': 0, 'learning_rate': 0.005, 'max_depth': 10, 'n_estimators': 300, 'subsample': 0.7}\n",
      "0.83613917 (+/-0.068) for {'colsample_bytree': 0.8, 'gamma': 0, 'learning_rate': 0.005, 'max_depth': 10, 'n_estimators': 300, 'subsample': 0.8}\n",
      "0.82940516 (+/-0.066) for {'colsample_bytree': 0.8, 'gamma': 0, 'learning_rate': 0.005, 'max_depth': 12, 'n_estimators': 300, 'subsample': 0.6}\n",
      "0.83389450 (+/-0.058) for {'colsample_bytree': 0.8, 'gamma': 0, 'learning_rate': 0.005, 'max_depth': 12, 'n_estimators': 300, 'subsample': 0.7}\n",
      "0.83501684 (+/-0.066) for {'colsample_bytree': 0.8, 'gamma': 0, 'learning_rate': 0.005, 'max_depth': 12, 'n_estimators': 300, 'subsample': 0.8}\n",
      "0.82940516 (+/-0.066) for {'colsample_bytree': 0.8, 'gamma': 0, 'learning_rate': 0.005, 'max_depth': 15, 'n_estimators': 300, 'subsample': 0.6}\n",
      "0.83389450 (+/-0.058) for {'colsample_bytree': 0.8, 'gamma': 0, 'learning_rate': 0.005, 'max_depth': 15, 'n_estimators': 300, 'subsample': 0.7}\n",
      "0.83389450 (+/-0.069) for {'colsample_bytree': 0.8, 'gamma': 0, 'learning_rate': 0.005, 'max_depth': 15, 'n_estimators': 300, 'subsample': 0.8}\n",
      "0.82940516 (+/-0.066) for {'colsample_bytree': 0.8, 'gamma': 0, 'learning_rate': 0.005, 'max_depth': 20, 'n_estimators': 300, 'subsample': 0.6}\n",
      "0.83389450 (+/-0.058) for {'colsample_bytree': 0.8, 'gamma': 0, 'learning_rate': 0.005, 'max_depth': 20, 'n_estimators': 300, 'subsample': 0.7}\n",
      "0.83389450 (+/-0.069) for {'colsample_bytree': 0.8, 'gamma': 0, 'learning_rate': 0.005, 'max_depth': 20, 'n_estimators': 300, 'subsample': 0.8}\n",
      "0.83726150 (+/-0.059) for {'colsample_bytree': 0.8, 'gamma': 0, 'learning_rate': 0.01, 'max_depth': 9, 'n_estimators': 300, 'subsample': 0.6}\n",
      "0.83838384 (+/-0.050) for {'colsample_bytree': 0.8, 'gamma': 0, 'learning_rate': 0.01, 'max_depth': 9, 'n_estimators': 300, 'subsample': 0.7}\n",
      "0.84062851 (+/-0.064) for {'colsample_bytree': 0.8, 'gamma': 0, 'learning_rate': 0.01, 'max_depth': 9, 'n_estimators': 300, 'subsample': 0.8}\n",
      "0.83838384 (+/-0.060) for {'colsample_bytree': 0.8, 'gamma': 0, 'learning_rate': 0.01, 'max_depth': 10, 'n_estimators': 300, 'subsample': 0.6}\n",
      "0.83613917 (+/-0.054) for {'colsample_bytree': 0.8, 'gamma': 0, 'learning_rate': 0.01, 'max_depth': 10, 'n_estimators': 300, 'subsample': 0.7}\n",
      "0.83950617 (+/-0.062) for {'colsample_bytree': 0.8, 'gamma': 0, 'learning_rate': 0.01, 'max_depth': 10, 'n_estimators': 300, 'subsample': 0.8}\n",
      "0.83726150 (+/-0.058) for {'colsample_bytree': 0.8, 'gamma': 0, 'learning_rate': 0.01, 'max_depth': 12, 'n_estimators': 300, 'subsample': 0.6}\n",
      "0.83613917 (+/-0.054) for {'colsample_bytree': 0.8, 'gamma': 0, 'learning_rate': 0.01, 'max_depth': 12, 'n_estimators': 300, 'subsample': 0.7}\n",
      "0.84175084 (+/-0.062) for {'colsample_bytree': 0.8, 'gamma': 0, 'learning_rate': 0.01, 'max_depth': 12, 'n_estimators': 300, 'subsample': 0.8}\n",
      "0.83501684 (+/-0.058) for {'colsample_bytree': 0.8, 'gamma': 0, 'learning_rate': 0.01, 'max_depth': 15, 'n_estimators': 300, 'subsample': 0.6}\n",
      "0.83613917 (+/-0.054) for {'colsample_bytree': 0.8, 'gamma': 0, 'learning_rate': 0.01, 'max_depth': 15, 'n_estimators': 300, 'subsample': 0.7}\n",
      "0.84511785 (+/-0.064) for {'colsample_bytree': 0.8, 'gamma': 0, 'learning_rate': 0.01, 'max_depth': 15, 'n_estimators': 300, 'subsample': 0.8}\n",
      "0.83389450 (+/-0.062) for {'colsample_bytree': 0.8, 'gamma': 0, 'learning_rate': 0.01, 'max_depth': 20, 'n_estimators': 300, 'subsample': 0.6}\n",
      "0.83613917 (+/-0.054) for {'colsample_bytree': 0.8, 'gamma': 0, 'learning_rate': 0.01, 'max_depth': 20, 'n_estimators': 300, 'subsample': 0.7}\n",
      "0.84511785 (+/-0.064) for {'colsample_bytree': 0.8, 'gamma': 0, 'learning_rate': 0.01, 'max_depth': 20, 'n_estimators': 300, 'subsample': 0.8}\n",
      "0.83950617 (+/-0.058) for {'colsample_bytree': 0.8, 'gamma': 0, 'learning_rate': 0.015, 'max_depth': 9, 'n_estimators': 300, 'subsample': 0.6}\n",
      "0.83501684 (+/-0.062) for {'colsample_bytree': 0.8, 'gamma': 0, 'learning_rate': 0.015, 'max_depth': 9, 'n_estimators': 300, 'subsample': 0.7}\n",
      "0.84848485 (+/-0.065) for {'colsample_bytree': 0.8, 'gamma': 0, 'learning_rate': 0.015, 'max_depth': 9, 'n_estimators': 300, 'subsample': 0.8}\n",
      "0.84062851 (+/-0.058) for {'colsample_bytree': 0.8, 'gamma': 0, 'learning_rate': 0.015, 'max_depth': 10, 'n_estimators': 300, 'subsample': 0.6}\n",
      "0.84062851 (+/-0.063) for {'colsample_bytree': 0.8, 'gamma': 0, 'learning_rate': 0.015, 'max_depth': 10, 'n_estimators': 300, 'subsample': 0.7}\n",
      "0.84399551 (+/-0.068) for {'colsample_bytree': 0.8, 'gamma': 0, 'learning_rate': 0.015, 'max_depth': 10, 'n_estimators': 300, 'subsample': 0.8}\n",
      "0.83838384 (+/-0.070) for {'colsample_bytree': 0.8, 'gamma': 0, 'learning_rate': 0.015, 'max_depth': 12, 'n_estimators': 300, 'subsample': 0.6}\n",
      "0.84175084 (+/-0.063) for {'colsample_bytree': 0.8, 'gamma': 0, 'learning_rate': 0.015, 'max_depth': 12, 'n_estimators': 300, 'subsample': 0.7}\n",
      "0.84736251 (+/-0.062) for {'colsample_bytree': 0.8, 'gamma': 0, 'learning_rate': 0.015, 'max_depth': 12, 'n_estimators': 300, 'subsample': 0.8}\n",
      "0.84062851 (+/-0.057) for {'colsample_bytree': 0.8, 'gamma': 0, 'learning_rate': 0.015, 'max_depth': 15, 'n_estimators': 300, 'subsample': 0.6}\n",
      "0.84062851 (+/-0.063) for {'colsample_bytree': 0.8, 'gamma': 0, 'learning_rate': 0.015, 'max_depth': 15, 'n_estimators': 300, 'subsample': 0.7}\n",
      "0.84960718 (+/-0.062) for {'colsample_bytree': 0.8, 'gamma': 0, 'learning_rate': 0.015, 'max_depth': 15, 'n_estimators': 300, 'subsample': 0.8}\n",
      "0.83950617 (+/-0.059) for {'colsample_bytree': 0.8, 'gamma': 0, 'learning_rate': 0.015, 'max_depth': 20, 'n_estimators': 300, 'subsample': 0.6}\n",
      "0.83838384 (+/-0.066) for {'colsample_bytree': 0.8, 'gamma': 0, 'learning_rate': 0.015, 'max_depth': 20, 'n_estimators': 300, 'subsample': 0.7}\n",
      "0.84960718 (+/-0.062) for {'colsample_bytree': 0.8, 'gamma': 0, 'learning_rate': 0.015, 'max_depth': 20, 'n_estimators': 300, 'subsample': 0.8}\n",
      "0.82940516 (+/-0.061) for {'colsample_bytree': 0.8, 'gamma': 0.01, 'learning_rate': 0.005, 'max_depth': 9, 'n_estimators': 300, 'subsample': 0.6}\n",
      "0.83277217 (+/-0.055) for {'colsample_bytree': 0.8, 'gamma': 0.01, 'learning_rate': 0.005, 'max_depth': 9, 'n_estimators': 300, 'subsample': 0.7}\n",
      "0.83501684 (+/-0.066) for {'colsample_bytree': 0.8, 'gamma': 0.01, 'learning_rate': 0.005, 'max_depth': 9, 'n_estimators': 300, 'subsample': 0.8}\n",
      "0.82940516 (+/-0.066) for {'colsample_bytree': 0.8, 'gamma': 0.01, 'learning_rate': 0.005, 'max_depth': 10, 'n_estimators': 300, 'subsample': 0.6}\n",
      "0.83389450 (+/-0.058) for {'colsample_bytree': 0.8, 'gamma': 0.01, 'learning_rate': 0.005, 'max_depth': 10, 'n_estimators': 300, 'subsample': 0.7}\n",
      "0.83613917 (+/-0.068) for {'colsample_bytree': 0.8, 'gamma': 0.01, 'learning_rate': 0.005, 'max_depth': 10, 'n_estimators': 300, 'subsample': 0.8}\n",
      "0.82940516 (+/-0.066) for {'colsample_bytree': 0.8, 'gamma': 0.01, 'learning_rate': 0.005, 'max_depth': 12, 'n_estimators': 300, 'subsample': 0.6}\n",
      "0.83389450 (+/-0.058) for {'colsample_bytree': 0.8, 'gamma': 0.01, 'learning_rate': 0.005, 'max_depth': 12, 'n_estimators': 300, 'subsample': 0.7}\n",
      "0.83501684 (+/-0.066) for {'colsample_bytree': 0.8, 'gamma': 0.01, 'learning_rate': 0.005, 'max_depth': 12, 'n_estimators': 300, 'subsample': 0.8}\n",
      "0.82940516 (+/-0.066) for {'colsample_bytree': 0.8, 'gamma': 0.01, 'learning_rate': 0.005, 'max_depth': 15, 'n_estimators': 300, 'subsample': 0.6}\n",
      "0.83389450 (+/-0.058) for {'colsample_bytree': 0.8, 'gamma': 0.01, 'learning_rate': 0.005, 'max_depth': 15, 'n_estimators': 300, 'subsample': 0.7}\n",
      "0.83389450 (+/-0.069) for {'colsample_bytree': 0.8, 'gamma': 0.01, 'learning_rate': 0.005, 'max_depth': 15, 'n_estimators': 300, 'subsample': 0.8}\n",
      "0.82940516 (+/-0.066) for {'colsample_bytree': 0.8, 'gamma': 0.01, 'learning_rate': 0.005, 'max_depth': 20, 'n_estimators': 300, 'subsample': 0.6}\n",
      "0.83389450 (+/-0.058) for {'colsample_bytree': 0.8, 'gamma': 0.01, 'learning_rate': 0.005, 'max_depth': 20, 'n_estimators': 300, 'subsample': 0.7}\n",
      "0.83389450 (+/-0.069) for {'colsample_bytree': 0.8, 'gamma': 0.01, 'learning_rate': 0.005, 'max_depth': 20, 'n_estimators': 300, 'subsample': 0.8}\n",
      "0.83950617 (+/-0.053) for {'colsample_bytree': 0.8, 'gamma': 0.01, 'learning_rate': 0.01, 'max_depth': 9, 'n_estimators': 300, 'subsample': 0.6}\n",
      "0.83726150 (+/-0.052) for {'colsample_bytree': 0.8, 'gamma': 0.01, 'learning_rate': 0.01, 'max_depth': 9, 'n_estimators': 300, 'subsample': 0.7}\n",
      "0.83950617 (+/-0.067) for {'colsample_bytree': 0.8, 'gamma': 0.01, 'learning_rate': 0.01, 'max_depth': 9, 'n_estimators': 300, 'subsample': 0.8}\n",
      "0.83726150 (+/-0.058) for {'colsample_bytree': 0.8, 'gamma': 0.01, 'learning_rate': 0.01, 'max_depth': 10, 'n_estimators': 300, 'subsample': 0.6}\n",
      "0.83501684 (+/-0.057) for {'colsample_bytree': 0.8, 'gamma': 0.01, 'learning_rate': 0.01, 'max_depth': 10, 'n_estimators': 300, 'subsample': 0.7}\n",
      "0.84175084 (+/-0.067) for {'colsample_bytree': 0.8, 'gamma': 0.01, 'learning_rate': 0.01, 'max_depth': 10, 'n_estimators': 300, 'subsample': 0.8}\n",
      "0.83726150 (+/-0.058) for {'colsample_bytree': 0.8, 'gamma': 0.01, 'learning_rate': 0.01, 'max_depth': 12, 'n_estimators': 300, 'subsample': 0.6}\n",
      "0.83501684 (+/-0.057) for {'colsample_bytree': 0.8, 'gamma': 0.01, 'learning_rate': 0.01, 'max_depth': 12, 'n_estimators': 300, 'subsample': 0.7}\n",
      "0.84175084 (+/-0.062) for {'colsample_bytree': 0.8, 'gamma': 0.01, 'learning_rate': 0.01, 'max_depth': 12, 'n_estimators': 300, 'subsample': 0.8}\n",
      "0.83613917 (+/-0.061) for {'colsample_bytree': 0.8, 'gamma': 0.01, 'learning_rate': 0.01, 'max_depth': 15, 'n_estimators': 300, 'subsample': 0.6}\n",
      "0.83613917 (+/-0.054) for {'colsample_bytree': 0.8, 'gamma': 0.01, 'learning_rate': 0.01, 'max_depth': 15, 'n_estimators': 300, 'subsample': 0.7}\n",
      "0.84287318 (+/-0.059) for {'colsample_bytree': 0.8, 'gamma': 0.01, 'learning_rate': 0.01, 'max_depth': 15, 'n_estimators': 300, 'subsample': 0.8}\n",
      "0.83613917 (+/-0.061) for {'colsample_bytree': 0.8, 'gamma': 0.01, 'learning_rate': 0.01, 'max_depth': 20, 'n_estimators': 300, 'subsample': 0.6}\n",
      "0.83613917 (+/-0.054) for {'colsample_bytree': 0.8, 'gamma': 0.01, 'learning_rate': 0.01, 'max_depth': 20, 'n_estimators': 300, 'subsample': 0.7}\n",
      "0.84399551 (+/-0.062) for {'colsample_bytree': 0.8, 'gamma': 0.01, 'learning_rate': 0.01, 'max_depth': 20, 'n_estimators': 300, 'subsample': 0.8}\n",
      "0.83950617 (+/-0.058) for {'colsample_bytree': 0.8, 'gamma': 0.01, 'learning_rate': 0.015, 'max_depth': 9, 'n_estimators': 300, 'subsample': 0.6}\n",
      "0.83613917 (+/-0.062) for {'colsample_bytree': 0.8, 'gamma': 0.01, 'learning_rate': 0.015, 'max_depth': 9, 'n_estimators': 300, 'subsample': 0.7}\n",
      "0.84848485 (+/-0.067) for {'colsample_bytree': 0.8, 'gamma': 0.01, 'learning_rate': 0.015, 'max_depth': 9, 'n_estimators': 300, 'subsample': 0.8}\n",
      "0.83501684 (+/-0.057) for {'colsample_bytree': 0.8, 'gamma': 0.01, 'learning_rate': 0.015, 'max_depth': 10, 'n_estimators': 300, 'subsample': 0.6}\n",
      "0.83726150 (+/-0.068) for {'colsample_bytree': 0.8, 'gamma': 0.01, 'learning_rate': 0.015, 'max_depth': 10, 'n_estimators': 300, 'subsample': 0.7}\n",
      "0.84287318 (+/-0.063) for {'colsample_bytree': 0.8, 'gamma': 0.01, 'learning_rate': 0.015, 'max_depth': 10, 'n_estimators': 300, 'subsample': 0.8}\n",
      "0.84062851 (+/-0.062) for {'colsample_bytree': 0.8, 'gamma': 0.01, 'learning_rate': 0.015, 'max_depth': 12, 'n_estimators': 300, 'subsample': 0.6}\n",
      "0.83950617 (+/-0.058) for {'colsample_bytree': 0.8, 'gamma': 0.01, 'learning_rate': 0.015, 'max_depth': 12, 'n_estimators': 300, 'subsample': 0.7}\n",
      "0.84624018 (+/-0.062) for {'colsample_bytree': 0.8, 'gamma': 0.01, 'learning_rate': 0.015, 'max_depth': 12, 'n_estimators': 300, 'subsample': 0.8}\n",
      "0.83950617 (+/-0.060) for {'colsample_bytree': 0.8, 'gamma': 0.01, 'learning_rate': 0.015, 'max_depth': 15, 'n_estimators': 300, 'subsample': 0.6}\n",
      "0.83726150 (+/-0.061) for {'colsample_bytree': 0.8, 'gamma': 0.01, 'learning_rate': 0.015, 'max_depth': 15, 'n_estimators': 300, 'subsample': 0.7}\n",
      "0.84960718 (+/-0.067) for {'colsample_bytree': 0.8, 'gamma': 0.01, 'learning_rate': 0.015, 'max_depth': 15, 'n_estimators': 300, 'subsample': 0.8}\n",
      "0.83838384 (+/-0.061) for {'colsample_bytree': 0.8, 'gamma': 0.01, 'learning_rate': 0.015, 'max_depth': 20, 'n_estimators': 300, 'subsample': 0.6}\n",
      "0.83838384 (+/-0.064) for {'colsample_bytree': 0.8, 'gamma': 0.01, 'learning_rate': 0.015, 'max_depth': 20, 'n_estimators': 300, 'subsample': 0.7}\n",
      "0.85072952 (+/-0.065) for {'colsample_bytree': 0.8, 'gamma': 0.01, 'learning_rate': 0.015, 'max_depth': 20, 'n_estimators': 300, 'subsample': 0.8}\n",
      "0.82940516 (+/-0.061) for {'colsample_bytree': 0.8, 'gamma': 0.05, 'learning_rate': 0.005, 'max_depth': 9, 'n_estimators': 300, 'subsample': 0.6}\n",
      "0.83501684 (+/-0.056) for {'colsample_bytree': 0.8, 'gamma': 0.05, 'learning_rate': 0.005, 'max_depth': 9, 'n_estimators': 300, 'subsample': 0.7}\n",
      "0.83501684 (+/-0.066) for {'colsample_bytree': 0.8, 'gamma': 0.05, 'learning_rate': 0.005, 'max_depth': 9, 'n_estimators': 300, 'subsample': 0.8}\n",
      "0.82940516 (+/-0.066) for {'colsample_bytree': 0.8, 'gamma': 0.05, 'learning_rate': 0.005, 'max_depth': 10, 'n_estimators': 300, 'subsample': 0.6}\n",
      "0.83389450 (+/-0.058) for {'colsample_bytree': 0.8, 'gamma': 0.05, 'learning_rate': 0.005, 'max_depth': 10, 'n_estimators': 300, 'subsample': 0.7}\n",
      "0.83613917 (+/-0.068) for {'colsample_bytree': 0.8, 'gamma': 0.05, 'learning_rate': 0.005, 'max_depth': 10, 'n_estimators': 300, 'subsample': 0.8}\n",
      "0.82940516 (+/-0.066) for {'colsample_bytree': 0.8, 'gamma': 0.05, 'learning_rate': 0.005, 'max_depth': 12, 'n_estimators': 300, 'subsample': 0.6}\n",
      "0.83389450 (+/-0.058) for {'colsample_bytree': 0.8, 'gamma': 0.05, 'learning_rate': 0.005, 'max_depth': 12, 'n_estimators': 300, 'subsample': 0.7}\n",
      "0.83613917 (+/-0.063) for {'colsample_bytree': 0.8, 'gamma': 0.05, 'learning_rate': 0.005, 'max_depth': 12, 'n_estimators': 300, 'subsample': 0.8}\n",
      "0.82940516 (+/-0.066) for {'colsample_bytree': 0.8, 'gamma': 0.05, 'learning_rate': 0.005, 'max_depth': 15, 'n_estimators': 300, 'subsample': 0.6}\n",
      "0.83389450 (+/-0.058) for {'colsample_bytree': 0.8, 'gamma': 0.05, 'learning_rate': 0.005, 'max_depth': 15, 'n_estimators': 300, 'subsample': 0.7}\n",
      "0.83613917 (+/-0.063) for {'colsample_bytree': 0.8, 'gamma': 0.05, 'learning_rate': 0.005, 'max_depth': 15, 'n_estimators': 300, 'subsample': 0.8}\n",
      "0.82940516 (+/-0.066) for {'colsample_bytree': 0.8, 'gamma': 0.05, 'learning_rate': 0.005, 'max_depth': 20, 'n_estimators': 300, 'subsample': 0.6}\n",
      "0.83389450 (+/-0.058) for {'colsample_bytree': 0.8, 'gamma': 0.05, 'learning_rate': 0.005, 'max_depth': 20, 'n_estimators': 300, 'subsample': 0.7}\n",
      "0.83613917 (+/-0.063) for {'colsample_bytree': 0.8, 'gamma': 0.05, 'learning_rate': 0.005, 'max_depth': 20, 'n_estimators': 300, 'subsample': 0.8}\n",
      "0.83838384 (+/-0.056) for {'colsample_bytree': 0.8, 'gamma': 0.05, 'learning_rate': 0.01, 'max_depth': 9, 'n_estimators': 300, 'subsample': 0.6}\n",
      "0.83726150 (+/-0.052) for {'colsample_bytree': 0.8, 'gamma': 0.05, 'learning_rate': 0.01, 'max_depth': 9, 'n_estimators': 300, 'subsample': 0.7}\n",
      "0.83838384 (+/-0.064) for {'colsample_bytree': 0.8, 'gamma': 0.05, 'learning_rate': 0.01, 'max_depth': 9, 'n_estimators': 300, 'subsample': 0.8}\n",
      "0.83950617 (+/-0.058) for {'colsample_bytree': 0.8, 'gamma': 0.05, 'learning_rate': 0.01, 'max_depth': 10, 'n_estimators': 300, 'subsample': 0.6}\n",
      "0.83501684 (+/-0.057) for {'colsample_bytree': 0.8, 'gamma': 0.05, 'learning_rate': 0.01, 'max_depth': 10, 'n_estimators': 300, 'subsample': 0.7}\n",
      "0.84062851 (+/-0.064) for {'colsample_bytree': 0.8, 'gamma': 0.05, 'learning_rate': 0.01, 'max_depth': 10, 'n_estimators': 300, 'subsample': 0.8}\n",
      "0.83726150 (+/-0.063) for {'colsample_bytree': 0.8, 'gamma': 0.05, 'learning_rate': 0.01, 'max_depth': 12, 'n_estimators': 300, 'subsample': 0.6}\n",
      "0.83613917 (+/-0.054) for {'colsample_bytree': 0.8, 'gamma': 0.05, 'learning_rate': 0.01, 'max_depth': 12, 'n_estimators': 300, 'subsample': 0.7}\n",
      "0.84287318 (+/-0.059) for {'colsample_bytree': 0.8, 'gamma': 0.05, 'learning_rate': 0.01, 'max_depth': 12, 'n_estimators': 300, 'subsample': 0.8}\n",
      "0.83613917 (+/-0.055) for {'colsample_bytree': 0.8, 'gamma': 0.05, 'learning_rate': 0.01, 'max_depth': 15, 'n_estimators': 300, 'subsample': 0.6}\n",
      "0.83726150 (+/-0.052) for {'colsample_bytree': 0.8, 'gamma': 0.05, 'learning_rate': 0.01, 'max_depth': 15, 'n_estimators': 300, 'subsample': 0.7}\n",
      "0.84399551 (+/-0.062) for {'colsample_bytree': 0.8, 'gamma': 0.05, 'learning_rate': 0.01, 'max_depth': 15, 'n_estimators': 300, 'subsample': 0.8}\n",
      "0.83613917 (+/-0.055) for {'colsample_bytree': 0.8, 'gamma': 0.05, 'learning_rate': 0.01, 'max_depth': 20, 'n_estimators': 300, 'subsample': 0.6}\n",
      "0.83726150 (+/-0.052) for {'colsample_bytree': 0.8, 'gamma': 0.05, 'learning_rate': 0.01, 'max_depth': 20, 'n_estimators': 300, 'subsample': 0.7}\n",
      "0.84287318 (+/-0.064) for {'colsample_bytree': 0.8, 'gamma': 0.05, 'learning_rate': 0.01, 'max_depth': 20, 'n_estimators': 300, 'subsample': 0.8}\n",
      "0.83726150 (+/-0.063) for {'colsample_bytree': 0.8, 'gamma': 0.05, 'learning_rate': 0.015, 'max_depth': 9, 'n_estimators': 300, 'subsample': 0.6}\n",
      "0.83950617 (+/-0.054) for {'colsample_bytree': 0.8, 'gamma': 0.05, 'learning_rate': 0.015, 'max_depth': 9, 'n_estimators': 300, 'subsample': 0.7}\n",
      "0.84736251 (+/-0.064) for {'colsample_bytree': 0.8, 'gamma': 0.05, 'learning_rate': 0.015, 'max_depth': 9, 'n_estimators': 300, 'subsample': 0.8}\n",
      "0.83613917 (+/-0.058) for {'colsample_bytree': 0.8, 'gamma': 0.05, 'learning_rate': 0.015, 'max_depth': 10, 'n_estimators': 300, 'subsample': 0.6}\n",
      "0.84062851 (+/-0.066) for {'colsample_bytree': 0.8, 'gamma': 0.05, 'learning_rate': 0.015, 'max_depth': 10, 'n_estimators': 300, 'subsample': 0.7}\n",
      "0.84511785 (+/-0.069) for {'colsample_bytree': 0.8, 'gamma': 0.05, 'learning_rate': 0.015, 'max_depth': 10, 'n_estimators': 300, 'subsample': 0.8}\n",
      "0.84175084 (+/-0.054) for {'colsample_bytree': 0.8, 'gamma': 0.05, 'learning_rate': 0.015, 'max_depth': 12, 'n_estimators': 300, 'subsample': 0.6}\n",
      "0.83838384 (+/-0.068) for {'colsample_bytree': 0.8, 'gamma': 0.05, 'learning_rate': 0.015, 'max_depth': 12, 'n_estimators': 300, 'subsample': 0.7}\n",
      "0.84624018 (+/-0.069) for {'colsample_bytree': 0.8, 'gamma': 0.05, 'learning_rate': 0.015, 'max_depth': 12, 'n_estimators': 300, 'subsample': 0.8}\n",
      "0.84062851 (+/-0.055) for {'colsample_bytree': 0.8, 'gamma': 0.05, 'learning_rate': 0.015, 'max_depth': 15, 'n_estimators': 300, 'subsample': 0.6}\n",
      "0.83726150 (+/-0.064) for {'colsample_bytree': 0.8, 'gamma': 0.05, 'learning_rate': 0.015, 'max_depth': 15, 'n_estimators': 300, 'subsample': 0.7}\n",
      "0.84624018 (+/-0.062) for {'colsample_bytree': 0.8, 'gamma': 0.05, 'learning_rate': 0.015, 'max_depth': 15, 'n_estimators': 300, 'subsample': 0.8}\n",
      "0.84062851 (+/-0.055) for {'colsample_bytree': 0.8, 'gamma': 0.05, 'learning_rate': 0.015, 'max_depth': 20, 'n_estimators': 300, 'subsample': 0.6}\n",
      "0.83950617 (+/-0.064) for {'colsample_bytree': 0.8, 'gamma': 0.05, 'learning_rate': 0.015, 'max_depth': 20, 'n_estimators': 300, 'subsample': 0.7}\n",
      "0.84624018 (+/-0.060) for {'colsample_bytree': 0.8, 'gamma': 0.05, 'learning_rate': 0.015, 'max_depth': 20, 'n_estimators': 300, 'subsample': 0.8}\n"
     ]
    }
   ],
   "source": [
    "means = grid.cv_results_['mean_test_score']\n",
    "stds = grid.cv_results_['std_test_score']\n",
    "for mean, std, params in zip(means, stds, grid.cv_results_['params']):\n",
    "    print(\"%0.8f (+/-%0.03f) for %r\"\n",
    "              % (mean, std * 2, params))"
   ]
  },
  {
   "cell_type": "code",
   "execution_count": 35,
   "metadata": {
    "collapsed": false
   },
   "outputs": [
    {
     "name": "stdout",
     "output_type": "stream",
     "text": [
      "Best Params:\n",
      "{'colsample_bytree': 0.7, 'gamma': 0.05, 'learning_rate': 0.015, 'max_depth': 12, 'n_estimators': 300, 'subsample': 0.7}\n",
      "Best CV Score:\n",
      "0.8518518518518519\n"
     ]
    }
   ],
   "source": [
    "print('Best Params:')\n",
    "print(grid.best_params_)\n",
    "print('Best CV Score:')\n",
    "print(grid.best_score_)"
   ]
  },
  {
   "cell_type": "code",
   "execution_count": 36,
   "metadata": {
    "collapsed": false
   },
   "outputs": [],
   "source": [
    "gbm2 = xgb.XGBClassifier(colsample_bytree=0.7, gamma=0, learning_rate=0.01, max_depth=15, n_estimators=300, subsample=0.7).fit(train_X, train_y)\n",
    "\n",
    "preds = gbm2.predict(test_X)"
   ]
  },
  {
   "cell_type": "code",
   "execution_count": 37,
   "metadata": {
    "collapsed": true
   },
   "outputs": [],
   "source": [
    "submission2 = pd.DataFrame({ 'PassengerId': test['PassengerId'],\n",
    "                             'Survived': preds2 })\n",
    "submission2.to_csv('submission_2.csv', index=False)"
   ]
  },
  {
   "cell_type": "markdown",
   "metadata": {},
   "source": [
    "## CatBoost"
   ]
  },
  {
   "cell_type": "code",
   "execution_count": 38,
   "metadata": {
    "collapsed": false
   },
   "outputs": [],
   "source": [
    "from catboost import CatBoostClassifier"
   ]
  },
  {
   "cell_type": "code",
   "execution_count": null,
   "metadata": {
    "collapsed": true
   },
   "outputs": [],
   "source": [
    "def column_index(df, query_cols):\n",
    "    cols = df.columns.values\n",
    "    sidx = np.argsort(cols)\n",
    "    return sidx[np.searchsorted(cols,query_cols,sorter=sidx)]\n",
    "\n",
    "fe = column_index(train2, ['Ticket', 'Sex', 'SibSp', 'Cabin', 'Pclass', 'Parch', 'Embarked'])"
   ]
  },
  {
   "cell_type": "code",
   "execution_count": 48,
   "metadata": {
    "collapsed": true
   },
   "outputs": [],
   "source": [
    "model = CatBoostClassifier(iterations=100, learning_rate=0.07, depth=16, loss_function='Logloss')"
   ]
  },
  {
   "cell_type": "code",
   "execution_count": 49,
   "metadata": {
    "collapsed": false
   },
   "outputs": [
    {
     "name": "stdout",
     "output_type": "stream",
     "text": [
      "0:\tlearn: 0.6570468\ttotal: 70.8ms\tremaining: 35.3s\n",
      "1:\tlearn: 0.6262480\ttotal: 80.3ms\tremaining: 20s\n",
      "2:\tlearn: 0.5983369\ttotal: 91.2ms\tremaining: 15.1s\n",
      "3:\tlearn: 0.5735452\ttotal: 111ms\tremaining: 13.7s\n",
      "4:\tlearn: 0.5599538\ttotal: 119ms\tremaining: 11.8s\n",
      "5:\tlearn: 0.5407836\ttotal: 134ms\tremaining: 11.1s\n",
      "6:\tlearn: 0.5273169\ttotal: 150ms\tremaining: 10.6s\n",
      "7:\tlearn: 0.5220339\ttotal: 161ms\tremaining: 9.88s\n",
      "8:\tlearn: 0.5072500\ttotal: 192ms\tremaining: 10.5s\n",
      "9:\tlearn: 0.5001981\ttotal: 200ms\tremaining: 9.79s\n",
      "10:\tlearn: 0.4851755\ttotal: 241ms\tremaining: 10.7s\n",
      "11:\tlearn: 0.4807826\ttotal: 250ms\tremaining: 10.1s\n",
      "12:\tlearn: 0.4677350\ttotal: 267ms\tremaining: 9.99s\n",
      "13:\tlearn: 0.4591082\ttotal: 290ms\tremaining: 10.1s\n",
      "14:\tlearn: 0.4544872\ttotal: 314ms\tremaining: 10.2s\n",
      "15:\tlearn: 0.4453588\ttotal: 469ms\tremaining: 14.2s\n",
      "16:\tlearn: 0.4421652\ttotal: 477ms\tremaining: 13.6s\n",
      "17:\tlearn: 0.4404184\ttotal: 486ms\tremaining: 13s\n",
      "18:\tlearn: 0.4364107\ttotal: 500ms\tremaining: 12.7s\n",
      "19:\tlearn: 0.4323866\ttotal: 537ms\tremaining: 12.9s\n",
      "20:\tlearn: 0.4294196\ttotal: 546ms\tremaining: 12.5s\n",
      "21:\tlearn: 0.4268719\ttotal: 556ms\tremaining: 12.1s\n",
      "22:\tlearn: 0.4260042\ttotal: 562ms\tremaining: 11.7s\n",
      "23:\tlearn: 0.4224494\ttotal: 571ms\tremaining: 11.3s\n",
      "24:\tlearn: 0.4196692\ttotal: 579ms\tremaining: 11s\n",
      "25:\tlearn: 0.4152130\ttotal: 604ms\tremaining: 11s\n",
      "26:\tlearn: 0.4080540\ttotal: 1.92s\tremaining: 33.6s\n",
      "27:\tlearn: 0.4014772\ttotal: 2.04s\tremaining: 34.4s\n",
      "28:\tlearn: 0.3991362\ttotal: 2.06s\tremaining: 33.4s\n",
      "29:\tlearn: 0.3963081\ttotal: 2.07s\tremaining: 32.4s\n",
      "30:\tlearn: 0.3944471\ttotal: 2.08s\tremaining: 31.5s\n",
      "31:\tlearn: 0.3921946\ttotal: 2.1s\tremaining: 30.7s\n",
      "32:\tlearn: 0.3908702\ttotal: 2.11s\tremaining: 29.8s\n",
      "33:\tlearn: 0.3904953\ttotal: 2.12s\tremaining: 29s\n",
      "34:\tlearn: 0.3887370\ttotal: 2.15s\tremaining: 28.5s\n",
      "35:\tlearn: 0.3883733\ttotal: 2.15s\tremaining: 27.8s\n",
      "36:\tlearn: 0.3874036\ttotal: 2.16s\tremaining: 27.1s\n",
      "37:\tlearn: 0.3858959\ttotal: 2.17s\tremaining: 26.4s\n",
      "38:\tlearn: 0.3841955\ttotal: 2.18s\tremaining: 25.8s\n",
      "39:\tlearn: 0.3830144\ttotal: 2.19s\tremaining: 25.2s\n",
      "40:\tlearn: 0.3810791\ttotal: 2.2s\tremaining: 24.7s\n",
      "41:\tlearn: 0.3808408\ttotal: 2.22s\tremaining: 24.2s\n",
      "42:\tlearn: 0.3801396\ttotal: 2.23s\tremaining: 23.7s\n",
      "43:\tlearn: 0.3792975\ttotal: 2.24s\tremaining: 23.2s\n",
      "44:\tlearn: 0.3761359\ttotal: 2.37s\tremaining: 24s\n",
      "45:\tlearn: 0.3759784\ttotal: 2.38s\tremaining: 23.5s\n",
      "46:\tlearn: 0.3755792\ttotal: 2.4s\tremaining: 23.1s\n",
      "47:\tlearn: 0.3754351\ttotal: 2.41s\tremaining: 22.7s\n",
      "48:\tlearn: 0.3746658\ttotal: 2.42s\tremaining: 22.2s\n",
      "49:\tlearn: 0.3746565\ttotal: 2.42s\tremaining: 21.8s\n",
      "50:\tlearn: 0.3742177\ttotal: 2.44s\tremaining: 21.5s\n",
      "51:\tlearn: 0.3742012\ttotal: 2.45s\tremaining: 21.1s\n",
      "52:\tlearn: 0.3741880\ttotal: 2.46s\tremaining: 20.7s\n",
      "53:\tlearn: 0.3718872\ttotal: 2.47s\tremaining: 20.4s\n",
      "54:\tlearn: 0.3689282\ttotal: 2.51s\tremaining: 20.3s\n",
      "55:\tlearn: 0.3678795\ttotal: 2.52s\tremaining: 20s\n",
      "56:\tlearn: 0.3678634\ttotal: 2.53s\tremaining: 19.6s\n",
      "57:\tlearn: 0.3674872\ttotal: 2.54s\tremaining: 19.3s\n",
      "58:\tlearn: 0.3674818\ttotal: 2.54s\tremaining: 19s\n",
      "59:\tlearn: 0.3674684\ttotal: 2.55s\tremaining: 18.7s\n",
      "60:\tlearn: 0.3671116\ttotal: 2.56s\tremaining: 18.5s\n",
      "61:\tlearn: 0.3664812\ttotal: 2.58s\tremaining: 18.2s\n",
      "62:\tlearn: 0.3663112\ttotal: 2.61s\tremaining: 18.1s\n",
      "63:\tlearn: 0.3651922\ttotal: 2.63s\tremaining: 17.9s\n",
      "64:\tlearn: 0.3644355\ttotal: 2.64s\tremaining: 17.7s\n",
      "65:\tlearn: 0.3636887\ttotal: 2.65s\tremaining: 17.4s\n",
      "66:\tlearn: 0.3632284\ttotal: 2.66s\tremaining: 17.2s\n",
      "67:\tlearn: 0.3627264\ttotal: 2.67s\tremaining: 17s\n",
      "68:\tlearn: 0.3626475\ttotal: 2.68s\tremaining: 16.7s\n",
      "69:\tlearn: 0.3615436\ttotal: 2.69s\tremaining: 16.5s\n",
      "70:\tlearn: 0.3614578\ttotal: 2.7s\tremaining: 16.3s\n",
      "71:\tlearn: 0.3614237\ttotal: 2.71s\tremaining: 16.1s\n",
      "72:\tlearn: 0.3611066\ttotal: 2.71s\tremaining: 15.9s\n",
      "73:\tlearn: 0.3604964\ttotal: 2.72s\tremaining: 15.7s\n",
      "74:\tlearn: 0.3602594\ttotal: 2.73s\tremaining: 15.5s\n",
      "75:\tlearn: 0.3602457\ttotal: 2.74s\tremaining: 15.3s\n",
      "76:\tlearn: 0.3602421\ttotal: 2.75s\tremaining: 15.1s\n",
      "77:\tlearn: 0.3593051\ttotal: 2.76s\tremaining: 14.9s\n",
      "78:\tlearn: 0.3587195\ttotal: 2.77s\tremaining: 14.8s\n",
      "79:\tlearn: 0.3586362\ttotal: 2.77s\tremaining: 14.6s\n",
      "80:\tlearn: 0.3585628\ttotal: 2.78s\tremaining: 14.4s\n",
      "81:\tlearn: 0.3580694\ttotal: 2.82s\tremaining: 14.4s\n",
      "82:\tlearn: 0.3576844\ttotal: 2.83s\tremaining: 14.2s\n",
      "83:\tlearn: 0.3576675\ttotal: 2.84s\tremaining: 14.1s\n",
      "84:\tlearn: 0.3563790\ttotal: 2.85s\tremaining: 13.9s\n",
      "85:\tlearn: 0.3556970\ttotal: 2.87s\tremaining: 13.8s\n",
      "86:\tlearn: 0.3556956\ttotal: 2.87s\tremaining: 13.6s\n",
      "87:\tlearn: 0.3551774\ttotal: 2.88s\tremaining: 13.5s\n",
      "88:\tlearn: 0.3550788\ttotal: 2.89s\tremaining: 13.4s\n",
      "89:\tlearn: 0.3543376\ttotal: 2.9s\tremaining: 13.2s\n",
      "90:\tlearn: 0.3542782\ttotal: 2.91s\tremaining: 13.1s\n",
      "91:\tlearn: 0.3540209\ttotal: 2.92s\tremaining: 12.9s\n",
      "92:\tlearn: 0.3538731\ttotal: 2.92s\tremaining: 12.8s\n",
      "93:\tlearn: 0.3538557\ttotal: 2.93s\tremaining: 12.7s\n",
      "94:\tlearn: 0.3534489\ttotal: 2.94s\tremaining: 12.5s\n",
      "95:\tlearn: 0.3532991\ttotal: 2.95s\tremaining: 12.4s\n",
      "96:\tlearn: 0.3526066\ttotal: 2.96s\tremaining: 12.3s\n",
      "97:\tlearn: 0.3516950\ttotal: 3.02s\tremaining: 12.4s\n",
      "98:\tlearn: 0.3502154\ttotal: 3.05s\tremaining: 12.4s\n",
      "99:\tlearn: 0.3498278\ttotal: 3.06s\tremaining: 12.3s\n",
      "100:\tlearn: 0.3496703\ttotal: 3.07s\tremaining: 12.1s\n",
      "101:\tlearn: 0.3487861\ttotal: 3.1s\tremaining: 12.1s\n",
      "102:\tlearn: 0.3487061\ttotal: 3.11s\tremaining: 12s\n",
      "103:\tlearn: 0.3480155\ttotal: 3.14s\tremaining: 11.9s\n",
      "104:\tlearn: 0.3468355\ttotal: 3.18s\tremaining: 11.9s\n",
      "105:\tlearn: 0.3457464\ttotal: 3.19s\tremaining: 11.9s\n",
      "106:\tlearn: 0.3457152\ttotal: 3.2s\tremaining: 11.8s\n",
      "107:\tlearn: 0.3448550\ttotal: 3.25s\tremaining: 11.8s\n",
      "108:\tlearn: 0.3446862\ttotal: 3.27s\tremaining: 11.7s\n"
     ]
    },
    {
     "name": "stderr",
     "output_type": "stream",
     "text": [
      "\n",
      "Iteration with suspicious time 9.09 sec ignored in overall statistics.\n"
     ]
    },
    {
     "name": "stdout",
     "output_type": "stream",
     "text": [
      "109:\tlearn: 0.3412003\ttotal: 3.27s\tremaining: 11.7s\n",
      "110:\tlearn: 0.3392380\ttotal: 3.39s\tremaining: 12s\n",
      "111:\tlearn: 0.3391651\ttotal: 3.4s\tremaining: 11.9s\n",
      "112:\tlearn: 0.3390035\ttotal: 3.41s\tremaining: 11.8s\n",
      "113:\tlearn: 0.3380419\ttotal: 3.46s\tremaining: 11.8s\n",
      "114:\tlearn: 0.3371662\ttotal: 3.52s\tremaining: 11.9s\n",
      "115:\tlearn: 0.3365627\ttotal: 3.58s\tremaining: 11.9s\n",
      "116:\tlearn: 0.3362139\ttotal: 3.65s\tremaining: 12.1s\n",
      "117:\tlearn: 0.3354388\ttotal: 3.71s\tremaining: 12.1s\n",
      "118:\tlearn: 0.3349970\ttotal: 3.76s\tremaining: 12.2s\n",
      "119:\tlearn: 0.3349662\ttotal: 3.77s\tremaining: 12s\n",
      "120:\tlearn: 0.3344388\ttotal: 3.78s\tremaining: 11.9s\n",
      "121:\tlearn: 0.3344254\ttotal: 3.79s\tremaining: 11.9s\n",
      "122:\tlearn: 0.3343360\ttotal: 3.81s\tremaining: 11.8s\n",
      "123:\tlearn: 0.3333720\ttotal: 3.86s\tremaining: 11.8s\n",
      "124:\tlearn: 0.3325433\ttotal: 3.95s\tremaining: 11.9s\n",
      "125:\tlearn: 0.3321697\ttotal: 3.96s\tremaining: 11.9s\n",
      "126:\tlearn: 0.3316349\ttotal: 3.99s\tremaining: 11.8s\n",
      "127:\tlearn: 0.3314616\ttotal: 4s\tremaining: 11.7s\n",
      "128:\tlearn: 0.3314530\ttotal: 4.01s\tremaining: 11.6s\n",
      "129:\tlearn: 0.3311124\ttotal: 4.11s\tremaining: 11.8s\n",
      "130:\tlearn: 0.3308576\ttotal: 4.15s\tremaining: 11.8s\n",
      "131:\tlearn: 0.3308276\ttotal: 4.16s\tremaining: 11.7s\n",
      "132:\tlearn: 0.3299982\ttotal: 4.2s\tremaining: 11.7s\n"
     ]
    },
    {
     "name": "stderr",
     "output_type": "stream",
     "text": [
      "\n",
      "Iteration with suspicious time 11.8 sec ignored in overall statistics.\n"
     ]
    },
    {
     "name": "stdout",
     "output_type": "stream",
     "text": [
      "133:\tlearn: 0.3287957\ttotal: 4.2s\tremaining: 11.7s\n",
      "134:\tlearn: 0.3287692\ttotal: 4.22s\tremaining: 11.6s\n",
      "135:\tlearn: 0.3284241\ttotal: 4.3s\tremaining: 11.7s\n"
     ]
    },
    {
     "name": "stderr",
     "output_type": "stream",
     "text": [
      "\n",
      "Iteration with suspicious time 23.6 sec ignored in overall statistics.\n"
     ]
    },
    {
     "name": "stdout",
     "output_type": "stream",
     "text": [
      "136:\tlearn: 0.3260768\ttotal: 4.3s\tremaining: 11.7s\n",
      "137:\tlearn: 0.3259392\ttotal: 4.34s\tremaining: 11.6s\n"
     ]
    },
    {
     "name": "stderr",
     "output_type": "stream",
     "text": [
      "\n",
      "Iteration with suspicious time 6.99 sec ignored in overall statistics.\n"
     ]
    },
    {
     "name": "stdout",
     "output_type": "stream",
     "text": [
      "138:\tlearn: 0.3233901\ttotal: 4.34s\tremaining: 11.6s\n"
     ]
    },
    {
     "name": "stderr",
     "output_type": "stream",
     "text": [
      "\n",
      "Iteration with suspicious time 23 sec ignored in overall statistics.\n"
     ]
    },
    {
     "name": "stdout",
     "output_type": "stream",
     "text": [
      "139:\tlearn: 0.3217556\ttotal: 4.34s\tremaining: 11.6s\n",
      "140:\tlearn: 0.3215671\ttotal: 4.37s\tremaining: 11.5s\n",
      "141:\tlearn: 0.3214974\ttotal: 4.39s\tremaining: 11.5s\n",
      "142:\tlearn: 0.3209457\ttotal: 5.56s\tremaining: 14.4s\n"
     ]
    },
    {
     "name": "stderr",
     "output_type": "stream",
     "text": [
      "\n",
      "Iteration with suspicious time 21.9 sec ignored in overall statistics.\n"
     ]
    },
    {
     "name": "stdout",
     "output_type": "stream",
     "text": [
      "143:\tlearn: 0.3175149\ttotal: 5.56s\tremaining: 14.4s\n",
      "144:\tlearn: 0.3167212\ttotal: 5.64s\tremaining: 14.4s\n",
      "145:\tlearn: 0.3165032\ttotal: 5.69s\tremaining: 14.4s\n"
     ]
    },
    {
     "name": "stderr",
     "output_type": "stream",
     "text": [
      "\n",
      "Iteration with suspicious time 21.2 sec ignored in overall statistics.\n"
     ]
    },
    {
     "name": "stdout",
     "output_type": "stream",
     "text": [
      "146:\tlearn: 0.3136256\ttotal: 5.69s\tremaining: 14.4s\n",
      "147:\tlearn: 0.3132349\ttotal: 5.91s\tremaining: 14.8s\n"
     ]
    },
    {
     "name": "stderr",
     "output_type": "stream",
     "text": [
      "\n",
      "Iteration with suspicious time 21.1 sec ignored in overall statistics.\n"
     ]
    },
    {
     "name": "stdout",
     "output_type": "stream",
     "text": [
      "148:\tlearn: 0.3118841\ttotal: 5.91s\tremaining: 14.8s\n"
     ]
    },
    {
     "name": "stderr",
     "output_type": "stream",
     "text": [
      "\n",
      "Iteration with suspicious time 18.9 sec ignored in overall statistics.\n"
     ]
    },
    {
     "name": "stdout",
     "output_type": "stream",
     "text": [
      "149:\tlearn: 0.3112571\ttotal: 5.91s\tremaining: 14.8s\n"
     ]
    },
    {
     "name": "stderr",
     "output_type": "stream",
     "text": [
      "\n",
      "Iteration with suspicious time 23.3 sec ignored in overall statistics.\n"
     ]
    },
    {
     "name": "stdout",
     "output_type": "stream",
     "text": [
      "150:\tlearn: 0.3090581\ttotal: 5.91s\tremaining: 14.8s\n",
      "151:\tlearn: 0.3088631\ttotal: 8.99s\tremaining: 22s\n"
     ]
    },
    {
     "name": "stderr",
     "output_type": "stream",
     "text": [
      "\n",
      "Iteration with suspicious time 21.5 sec ignored in overall statistics.\n"
     ]
    },
    {
     "name": "stdout",
     "output_type": "stream",
     "text": [
      "152:\tlearn: 0.3081372\ttotal: 8.99s\tremaining: 22s\n"
     ]
    },
    {
     "name": "stderr",
     "output_type": "stream",
     "text": [
      "\n",
      "Iteration with suspicious time 24.7 sec ignored in overall statistics.\n"
     ]
    },
    {
     "name": "stdout",
     "output_type": "stream",
     "text": [
      "153:\tlearn: 0.3077925\ttotal: 8.99s\tremaining: 22s\n"
     ]
    },
    {
     "name": "stderr",
     "output_type": "stream",
     "text": [
      "\n",
      "Iteration with suspicious time 22.7 sec ignored in overall statistics.\n"
     ]
    },
    {
     "name": "stdout",
     "output_type": "stream",
     "text": [
      "154:\tlearn: 0.3070272\ttotal: 8.99s\tremaining: 22s\n",
      "155:\tlearn: 0.3069676\ttotal: 9.01s\tremaining: 21.7s\n",
      "156:\tlearn: 0.3069439\ttotal: 9.02s\tremaining: 21.5s\n",
      "157:\tlearn: 0.3068991\ttotal: 9.03s\tremaining: 21.3s\n"
     ]
    },
    {
     "name": "stderr",
     "output_type": "stream",
     "text": [
      "\n",
      "Iteration with suspicious time 42.7 sec ignored in overall statistics.\n"
     ]
    },
    {
     "name": "stdout",
     "output_type": "stream",
     "text": [
      "158:\tlearn: 0.3051722\ttotal: 9.03s\tremaining: 21.3s\n"
     ]
    },
    {
     "name": "stderr",
     "output_type": "stream",
     "text": [
      "\n",
      "Iteration with suspicious time 23.6 sec ignored in overall statistics.\n"
     ]
    },
    {
     "name": "stdout",
     "output_type": "stream",
     "text": [
      "159:\tlearn: 0.3046378\ttotal: 9.03s\tremaining: 21.3s\n"
     ]
    },
    {
     "name": "stderr",
     "output_type": "stream",
     "text": [
      "\n",
      "Iteration with suspicious time 7.75 sec ignored in overall statistics.\n"
     ]
    },
    {
     "name": "stdout",
     "output_type": "stream",
     "text": [
      "160:\tlearn: 0.3045542\ttotal: 9.03s\tremaining: 21.3s\n"
     ]
    },
    {
     "name": "stderr",
     "output_type": "stream",
     "text": [
      "\n",
      "Iteration with suspicious time 24.4 sec ignored in overall statistics.\n"
     ]
    },
    {
     "name": "stdout",
     "output_type": "stream",
     "text": [
      "161:\tlearn: 0.3037880\ttotal: 9.03s\tremaining: 21.3s\n",
      "162:\tlearn: 0.3037832\ttotal: 9.04s\tremaining: 20.9s\n",
      "163:\tlearn: 0.3037684\ttotal: 9.05s\tremaining: 20.7s\n",
      "164:\tlearn: 0.3037642\ttotal: 9.05s\tremaining: 20.5s\n"
     ]
    },
    {
     "name": "stderr",
     "output_type": "stream",
     "text": [
      "\n",
      "Iteration with suspicious time 26 sec ignored in overall statistics.\n"
     ]
    },
    {
     "name": "stdout",
     "output_type": "stream",
     "text": [
      "165:\tlearn: 0.3016004\ttotal: 9.05s\tremaining: 20.5s\n"
     ]
    },
    {
     "name": "stderr",
     "output_type": "stream",
     "text": [
      "\n",
      "Iteration with suspicious time 24.4 sec ignored in overall statistics.\n"
     ]
    },
    {
     "name": "stdout",
     "output_type": "stream",
     "text": [
      "166:\tlearn: 0.2999771\ttotal: 9.05s\tremaining: 20.5s\n"
     ]
    },
    {
     "name": "stderr",
     "output_type": "stream",
     "text": [
      "\n",
      "Iteration with suspicious time 31.4 sec ignored in overall statistics.\n"
     ]
    },
    {
     "name": "stdout",
     "output_type": "stream",
     "text": [
      "167:\tlearn: 0.2986219\ttotal: 9.05s\tremaining: 20.5s\n"
     ]
    },
    {
     "name": "stderr",
     "output_type": "stream",
     "text": [
      "\n",
      "Iteration with suspicious time 23.8 sec ignored in overall statistics.\n"
     ]
    },
    {
     "name": "stdout",
     "output_type": "stream",
     "text": [
      "168:\tlearn: 0.2979641\ttotal: 9.05s\tremaining: 20.5s\n"
     ]
    },
    {
     "name": "stderr",
     "output_type": "stream",
     "text": [
      "\n",
      "Iteration with suspicious time 20.5 sec ignored in overall statistics.\n"
     ]
    },
    {
     "name": "stdout",
     "output_type": "stream",
     "text": [
      "169:\tlearn: 0.2967347\ttotal: 9.05s\tremaining: 20.5s\n"
     ]
    },
    {
     "name": "stderr",
     "output_type": "stream",
     "text": [
      "\n",
      "Iteration with suspicious time 22.8 sec ignored in overall statistics.\n"
     ]
    },
    {
     "name": "stdout",
     "output_type": "stream",
     "text": [
      "170:\tlearn: 0.2964359\ttotal: 9.05s\tremaining: 20.5s\n"
     ]
    },
    {
     "name": "stderr",
     "output_type": "stream",
     "text": [
      "\n",
      "Iteration with suspicious time 24.8 sec ignored in overall statistics.\n"
     ]
    },
    {
     "name": "stdout",
     "output_type": "stream",
     "text": [
      "171:\tlearn: 0.2942683\ttotal: 9.05s\tremaining: 20.5s\n"
     ]
    },
    {
     "name": "stderr",
     "output_type": "stream",
     "text": [
      "\n",
      "Iteration with suspicious time 28 sec ignored in overall statistics.\n"
     ]
    },
    {
     "name": "stdout",
     "output_type": "stream",
     "text": [
      "172:\tlearn: 0.2931072\ttotal: 9.05s\tremaining: 20.5s\n"
     ]
    },
    {
     "name": "stderr",
     "output_type": "stream",
     "text": [
      "\n",
      "Iteration with suspicious time 20.1 sec ignored in overall statistics.\n"
     ]
    },
    {
     "name": "stdout",
     "output_type": "stream",
     "text": [
      "173:\tlearn: 0.2914917\ttotal: 9.05s\tremaining: 20.5s\n"
     ]
    },
    {
     "name": "stderr",
     "output_type": "stream",
     "text": [
      "\n",
      "Iteration with suspicious time 22.1 sec ignored in overall statistics.\n"
     ]
    },
    {
     "name": "stdout",
     "output_type": "stream",
     "text": [
      "174:\tlearn: 0.2911515\ttotal: 9.05s\tremaining: 20.5s\n"
     ]
    },
    {
     "name": "stderr",
     "output_type": "stream",
     "text": [
      "\n",
      "Iteration with suspicious time 20.8 sec ignored in overall statistics.\n"
     ]
    },
    {
     "name": "stdout",
     "output_type": "stream",
     "text": [
      "175:\tlearn: 0.2901513\ttotal: 9.05s\tremaining: 20.5s\n"
     ]
    },
    {
     "name": "stderr",
     "output_type": "stream",
     "text": [
      "\n",
      "Iteration with suspicious time 20.3 sec ignored in overall statistics.\n"
     ]
    },
    {
     "name": "stdout",
     "output_type": "stream",
     "text": [
      "176:\tlearn: 0.2855900\ttotal: 9.05s\tremaining: 20.5s\n"
     ]
    },
    {
     "name": "stderr",
     "output_type": "stream",
     "text": [
      "\n",
      "Iteration with suspicious time 19.1 sec ignored in overall statistics.\n"
     ]
    },
    {
     "name": "stdout",
     "output_type": "stream",
     "text": [
      "177:\tlearn: 0.2839178\ttotal: 9.05s\tremaining: 20.5s\n"
     ]
    },
    {
     "name": "stderr",
     "output_type": "stream",
     "text": [
      "\n",
      "Iteration with suspicious time 20 sec ignored in overall statistics.\n"
     ]
    },
    {
     "name": "stdout",
     "output_type": "stream",
     "text": [
      "178:\tlearn: 0.2823093\ttotal: 9.05s\tremaining: 20.5s\n"
     ]
    },
    {
     "name": "stderr",
     "output_type": "stream",
     "text": [
      "\n",
      "Iteration with suspicious time 22.9 sec ignored in overall statistics.\n"
     ]
    },
    {
     "name": "stdout",
     "output_type": "stream",
     "text": [
      "179:\tlearn: 0.2819029\ttotal: 9.05s\tremaining: 20.5s\n"
     ]
    },
    {
     "name": "stderr",
     "output_type": "stream",
     "text": [
      "\n",
      "Iteration with suspicious time 21.5 sec ignored in overall statistics.\n"
     ]
    },
    {
     "name": "stdout",
     "output_type": "stream",
     "text": [
      "180:\tlearn: 0.2799685\ttotal: 9.05s\tremaining: 20.5s\n"
     ]
    },
    {
     "name": "stderr",
     "output_type": "stream",
     "text": [
      "\n",
      "Iteration with suspicious time 23.5 sec ignored in overall statistics.\n"
     ]
    },
    {
     "name": "stdout",
     "output_type": "stream",
     "text": [
      "181:\tlearn: 0.2793702\ttotal: 9.05s\tremaining: 20.5s\n"
     ]
    },
    {
     "name": "stderr",
     "output_type": "stream",
     "text": [
      "\n",
      "Iteration with suspicious time 21.3 sec ignored in overall statistics.\n"
     ]
    },
    {
     "name": "stdout",
     "output_type": "stream",
     "text": [
      "182:\tlearn: 0.2778291\ttotal: 9.05s\tremaining: 20.5s\n"
     ]
    },
    {
     "name": "stderr",
     "output_type": "stream",
     "text": [
      "\n",
      "Iteration with suspicious time 26.3 sec ignored in overall statistics.\n"
     ]
    },
    {
     "name": "stdout",
     "output_type": "stream",
     "text": [
      "183:\tlearn: 0.2769077\ttotal: 9.05s\tremaining: 20.5s\n",
      "184:\tlearn: 0.2749969\ttotal: 13.2s\tremaining: 27.8s\n"
     ]
    },
    {
     "name": "stderr",
     "output_type": "stream",
     "text": [
      "\n",
      "Iteration with suspicious time 24.6 sec ignored in overall statistics.\n"
     ]
    },
    {
     "name": "stdout",
     "output_type": "stream",
     "text": [
      "185:\tlearn: 0.2747582\ttotal: 13.2s\tremaining: 27.8s\n"
     ]
    },
    {
     "name": "stderr",
     "output_type": "stream",
     "text": [
      "\n",
      "Iteration with suspicious time 22.9 sec ignored in overall statistics.\n"
     ]
    },
    {
     "name": "stdout",
     "output_type": "stream",
     "text": [
      "186:\tlearn: 0.2745685\ttotal: 13.2s\tremaining: 27.8s\n"
     ]
    },
    {
     "name": "stderr",
     "output_type": "stream",
     "text": [
      "\n",
      "Iteration with suspicious time 20.7 sec ignored in overall statistics.\n"
     ]
    },
    {
     "name": "stdout",
     "output_type": "stream",
     "text": [
      "187:\tlearn: 0.2739624\ttotal: 13.2s\tremaining: 27.8s\n"
     ]
    },
    {
     "name": "stderr",
     "output_type": "stream",
     "text": [
      "\n",
      "Iteration with suspicious time 20.3 sec ignored in overall statistics.\n"
     ]
    },
    {
     "name": "stdout",
     "output_type": "stream",
     "text": [
      "188:\tlearn: 0.2720108\ttotal: 13.2s\tremaining: 27.8s\n"
     ]
    },
    {
     "name": "stderr",
     "output_type": "stream",
     "text": [
      "\n",
      "Iteration with suspicious time 22.1 sec ignored in overall statistics.\n"
     ]
    },
    {
     "name": "stdout",
     "output_type": "stream",
     "text": [
      "189:\tlearn: 0.2715384\ttotal: 13.2s\tremaining: 27.8s\n"
     ]
    },
    {
     "name": "stderr",
     "output_type": "stream",
     "text": [
      "\n",
      "Iteration with suspicious time 24.1 sec ignored in overall statistics.\n"
     ]
    },
    {
     "name": "stdout",
     "output_type": "stream",
     "text": [
      "190:\tlearn: 0.2700882\ttotal: 13.2s\tremaining: 27.8s\n"
     ]
    },
    {
     "name": "stderr",
     "output_type": "stream",
     "text": [
      "\n",
      "Iteration with suspicious time 22.1 sec ignored in overall statistics.\n"
     ]
    },
    {
     "name": "stdout",
     "output_type": "stream",
     "text": [
      "191:\tlearn: 0.2682833\ttotal: 13.2s\tremaining: 27.8s\n"
     ]
    },
    {
     "name": "stderr",
     "output_type": "stream",
     "text": [
      "\n",
      "Iteration with suspicious time 21.2 sec ignored in overall statistics.\n"
     ]
    },
    {
     "name": "stdout",
     "output_type": "stream",
     "text": [
      "192:\tlearn: 0.2669728\ttotal: 13.2s\tremaining: 27.8s\n"
     ]
    },
    {
     "name": "stderr",
     "output_type": "stream",
     "text": [
      "\n",
      "Iteration with suspicious time 21.8 sec ignored in overall statistics.\n"
     ]
    },
    {
     "name": "stdout",
     "output_type": "stream",
     "text": [
      "193:\tlearn: 0.2659726\ttotal: 13.2s\tremaining: 27.8s\n"
     ]
    },
    {
     "name": "stderr",
     "output_type": "stream",
     "text": [
      "\n",
      "Iteration with suspicious time 21 sec ignored in overall statistics.\n"
     ]
    },
    {
     "name": "stdout",
     "output_type": "stream",
     "text": [
      "194:\tlearn: 0.2640691\ttotal: 13.2s\tremaining: 27.8s\n"
     ]
    },
    {
     "name": "stderr",
     "output_type": "stream",
     "text": [
      "\n",
      "Iteration with suspicious time 19.4 sec ignored in overall statistics.\n"
     ]
    },
    {
     "name": "stdout",
     "output_type": "stream",
     "text": [
      "195:\tlearn: 0.2638819\ttotal: 13.2s\tremaining: 27.8s\n"
     ]
    },
    {
     "name": "stderr",
     "output_type": "stream",
     "text": [
      "\n",
      "Iteration with suspicious time 19.1 sec ignored in overall statistics.\n"
     ]
    },
    {
     "name": "stdout",
     "output_type": "stream",
     "text": [
      "196:\tlearn: 0.2632822\ttotal: 13.2s\tremaining: 27.8s\n"
     ]
    },
    {
     "name": "stderr",
     "output_type": "stream",
     "text": [
      "\n",
      "Iteration with suspicious time 22.1 sec ignored in overall statistics.\n"
     ]
    },
    {
     "name": "stdout",
     "output_type": "stream",
     "text": [
      "197:\tlearn: 0.2603507\ttotal: 13.2s\tremaining: 27.8s\n"
     ]
    },
    {
     "name": "stderr",
     "output_type": "stream",
     "text": [
      "\n",
      "Iteration with suspicious time 23.7 sec ignored in overall statistics.\n"
     ]
    },
    {
     "name": "stdout",
     "output_type": "stream",
     "text": [
      "198:\tlearn: 0.2594828\ttotal: 13.2s\tremaining: 27.8s\n"
     ]
    },
    {
     "name": "stderr",
     "output_type": "stream",
     "text": [
      "\n",
      "Iteration with suspicious time 24.4 sec ignored in overall statistics.\n"
     ]
    },
    {
     "name": "stdout",
     "output_type": "stream",
     "text": [
      "199:\tlearn: 0.2583217\ttotal: 13.2s\tremaining: 27.8s\n"
     ]
    },
    {
     "name": "stderr",
     "output_type": "stream",
     "text": [
      "\n",
      "Iteration with suspicious time 9.87 sec ignored in overall statistics.\n"
     ]
    },
    {
     "name": "stdout",
     "output_type": "stream",
     "text": [
      "200:\tlearn: 0.2580823\ttotal: 13.2s\tremaining: 27.8s\n"
     ]
    },
    {
     "name": "stderr",
     "output_type": "stream",
     "text": [
      "\n",
      "Iteration with suspicious time 25.6 sec ignored in overall statistics.\n"
     ]
    },
    {
     "name": "stdout",
     "output_type": "stream",
     "text": [
      "201:\tlearn: 0.2570642\ttotal: 13.2s\tremaining: 27.8s\n"
     ]
    },
    {
     "name": "stderr",
     "output_type": "stream",
     "text": [
      "\n",
      "Iteration with suspicious time 24.7 sec ignored in overall statistics.\n"
     ]
    },
    {
     "name": "stdout",
     "output_type": "stream",
     "text": [
      "202:\tlearn: 0.2565971\ttotal: 13.2s\tremaining: 27.8s\n"
     ]
    },
    {
     "name": "stderr",
     "output_type": "stream",
     "text": [
      "\n",
      "Iteration with suspicious time 14.3 sec ignored in overall statistics.\n"
     ]
    },
    {
     "name": "stdout",
     "output_type": "stream",
     "text": [
      "203:\tlearn: 0.2541920\ttotal: 13.2s\tremaining: 27.8s\n"
     ]
    },
    {
     "name": "stderr",
     "output_type": "stream",
     "text": [
      "\n",
      "Iteration with suspicious time 19.3 sec ignored in overall statistics.\n"
     ]
    },
    {
     "name": "stdout",
     "output_type": "stream",
     "text": [
      "204:\tlearn: 0.2536071\ttotal: 13.2s\tremaining: 27.8s\n"
     ]
    },
    {
     "name": "stderr",
     "output_type": "stream",
     "text": [
      "\n",
      "Iteration with suspicious time 20.8 sec ignored in overall statistics.\n"
     ]
    },
    {
     "name": "stdout",
     "output_type": "stream",
     "text": [
      "205:\tlearn: 0.2530728\ttotal: 13.2s\tremaining: 27.8s\n"
     ]
    },
    {
     "name": "stderr",
     "output_type": "stream",
     "text": [
      "\n",
      "Iteration with suspicious time 23.5 sec ignored in overall statistics.\n"
     ]
    },
    {
     "name": "stdout",
     "output_type": "stream",
     "text": [
      "206:\tlearn: 0.2522738\ttotal: 13.2s\tremaining: 27.8s\n"
     ]
    },
    {
     "name": "stderr",
     "output_type": "stream",
     "text": [
      "\n",
      "Iteration with suspicious time 19.1 sec ignored in overall statistics.\n"
     ]
    },
    {
     "name": "stdout",
     "output_type": "stream",
     "text": [
      "207:\tlearn: 0.2501434\ttotal: 13.2s\tremaining: 27.8s\n"
     ]
    },
    {
     "name": "stderr",
     "output_type": "stream",
     "text": [
      "\n",
      "Iteration with suspicious time 21 sec ignored in overall statistics.\n"
     ]
    },
    {
     "name": "stdout",
     "output_type": "stream",
     "text": [
      "208:\tlearn: 0.2491017\ttotal: 13.2s\tremaining: 27.8s\n"
     ]
    },
    {
     "name": "stderr",
     "output_type": "stream",
     "text": [
      "\n",
      "Iteration with suspicious time 25.9 sec ignored in overall statistics.\n"
     ]
    },
    {
     "name": "stdout",
     "output_type": "stream",
     "text": [
      "209:\tlearn: 0.2478953\ttotal: 13.2s\tremaining: 27.8s\n",
      "210:\tlearn: 0.2478789\ttotal: 13.2s\tremaining: 25.5s\n"
     ]
    },
    {
     "name": "stderr",
     "output_type": "stream",
     "text": [
      "\n",
      "Iteration with suspicious time 27.4 sec ignored in overall statistics.\n"
     ]
    },
    {
     "name": "stdout",
     "output_type": "stream",
     "text": [
      "211:\tlearn: 0.2450888\ttotal: 13.2s\tremaining: 25.5s\n",
      "212:\tlearn: 0.2449729\ttotal: 13.4s\tremaining: 25.4s\n"
     ]
    },
    {
     "name": "stderr",
     "output_type": "stream",
     "text": [
      "\n",
      "Iteration with suspicious time 21.8 sec ignored in overall statistics.\n"
     ]
    },
    {
     "name": "stdout",
     "output_type": "stream",
     "text": [
      "213:\tlearn: 0.2441043\ttotal: 13.4s\tremaining: 25.4s\n",
      "214:\tlearn: 0.2440844\ttotal: 13.4s\tremaining: 25.1s\n"
     ]
    },
    {
     "name": "stderr",
     "output_type": "stream",
     "text": [
      "\n",
      "Iteration with suspicious time 22.8 sec ignored in overall statistics.\n"
     ]
    },
    {
     "name": "stdout",
     "output_type": "stream",
     "text": [
      "215:\tlearn: 0.2437569\ttotal: 13.4s\tremaining: 25.1s\n"
     ]
    },
    {
     "name": "stderr",
     "output_type": "stream",
     "text": [
      "\n",
      "Iteration with suspicious time 24 sec ignored in overall statistics.\n"
     ]
    },
    {
     "name": "stdout",
     "output_type": "stream",
     "text": [
      "216:\tlearn: 0.2429125\ttotal: 13.4s\tremaining: 25.1s\n"
     ]
    },
    {
     "name": "stderr",
     "output_type": "stream",
     "text": [
      "\n",
      "Iteration with suspicious time 23.9 sec ignored in overall statistics.\n"
     ]
    },
    {
     "name": "stdout",
     "output_type": "stream",
     "text": [
      "217:\tlearn: 0.2423760\ttotal: 13.4s\tremaining: 25.1s\n"
     ]
    },
    {
     "name": "stderr",
     "output_type": "stream",
     "text": [
      "\n",
      "Iteration with suspicious time 25.6 sec ignored in overall statistics.\n"
     ]
    },
    {
     "name": "stdout",
     "output_type": "stream",
     "text": [
      "218:\tlearn: 0.2421206\ttotal: 13.4s\tremaining: 25.1s\n"
     ]
    },
    {
     "name": "stderr",
     "output_type": "stream",
     "text": [
      "\n",
      "Iteration with suspicious time 27.2 sec ignored in overall statistics.\n"
     ]
    },
    {
     "name": "stdout",
     "output_type": "stream",
     "text": [
      "219:\tlearn: 0.2416165\ttotal: 13.4s\tremaining: 25.1s\n"
     ]
    },
    {
     "name": "stderr",
     "output_type": "stream",
     "text": [
      "\n",
      "Iteration with suspicious time 26.2 sec ignored in overall statistics.\n"
     ]
    },
    {
     "name": "stdout",
     "output_type": "stream",
     "text": [
      "220:\tlearn: 0.2415512\ttotal: 13.4s\tremaining: 25.1s\n"
     ]
    },
    {
     "name": "stderr",
     "output_type": "stream",
     "text": [
      "\n",
      "Iteration with suspicious time 25.8 sec ignored in overall statistics.\n"
     ]
    },
    {
     "name": "stdout",
     "output_type": "stream",
     "text": [
      "221:\tlearn: 0.2408137\ttotal: 13.4s\tremaining: 25.1s\n"
     ]
    },
    {
     "name": "stderr",
     "output_type": "stream",
     "text": [
      "\n",
      "Iteration with suspicious time 22.9 sec ignored in overall statistics.\n"
     ]
    },
    {
     "name": "stdout",
     "output_type": "stream",
     "text": [
      "222:\tlearn: 0.2404945\ttotal: 13.4s\tremaining: 25.1s\n"
     ]
    },
    {
     "name": "stderr",
     "output_type": "stream",
     "text": [
      "\n",
      "Iteration with suspicious time 22.6 sec ignored in overall statistics.\n"
     ]
    },
    {
     "name": "stdout",
     "output_type": "stream",
     "text": [
      "223:\tlearn: 0.2401611\ttotal: 13.4s\tremaining: 25.1s\n"
     ]
    },
    {
     "name": "stderr",
     "output_type": "stream",
     "text": [
      "\n",
      "Iteration with suspicious time 25.4 sec ignored in overall statistics.\n"
     ]
    },
    {
     "name": "stdout",
     "output_type": "stream",
     "text": [
      "224:\tlearn: 0.2395067\ttotal: 13.4s\tremaining: 25.1s\n"
     ]
    },
    {
     "name": "stderr",
     "output_type": "stream",
     "text": [
      "\n",
      "Iteration with suspicious time 22 sec ignored in overall statistics.\n"
     ]
    },
    {
     "name": "stdout",
     "output_type": "stream",
     "text": [
      "225:\tlearn: 0.2383750\ttotal: 13.4s\tremaining: 25.1s\n"
     ]
    },
    {
     "name": "stderr",
     "output_type": "stream",
     "text": [
      "\n",
      "Iteration with suspicious time 18.5 sec ignored in overall statistics.\n"
     ]
    },
    {
     "name": "stdout",
     "output_type": "stream",
     "text": [
      "226:\tlearn: 0.2380279\ttotal: 13.4s\tremaining: 25.1s\n"
     ]
    },
    {
     "name": "stderr",
     "output_type": "stream",
     "text": [
      "\n",
      "Iteration with suspicious time 23.6 sec ignored in overall statistics.\n"
     ]
    },
    {
     "name": "stdout",
     "output_type": "stream",
     "text": [
      "227:\tlearn: 0.2376731\ttotal: 13.4s\tremaining: 25.1s\n"
     ]
    },
    {
     "name": "stderr",
     "output_type": "stream",
     "text": [
      "\n",
      "Iteration with suspicious time 19.2 sec ignored in overall statistics.\n"
     ]
    },
    {
     "name": "stdout",
     "output_type": "stream",
     "text": [
      "228:\tlearn: 0.2372061\ttotal: 13.4s\tremaining: 25.1s\n"
     ]
    },
    {
     "name": "stderr",
     "output_type": "stream",
     "text": [
      "\n",
      "Iteration with suspicious time 19 sec ignored in overall statistics.\n"
     ]
    },
    {
     "name": "stdout",
     "output_type": "stream",
     "text": [
      "229:\tlearn: 0.2367944\ttotal: 13.4s\tremaining: 25.1s\n",
      "230:\tlearn: 0.2366326\ttotal: 16.2s\tremaining: 28.5s\n"
     ]
    },
    {
     "name": "stderr",
     "output_type": "stream",
     "text": [
      "\n",
      "Iteration with suspicious time 21 sec ignored in overall statistics.\n"
     ]
    },
    {
     "name": "stdout",
     "output_type": "stream",
     "text": [
      "231:\tlearn: 0.2358544\ttotal: 16.2s\tremaining: 28.5s\n"
     ]
    },
    {
     "name": "stderr",
     "output_type": "stream",
     "text": [
      "\n",
      "Iteration with suspicious time 22.1 sec ignored in overall statistics.\n"
     ]
    },
    {
     "name": "stdout",
     "output_type": "stream",
     "text": [
      "232:\tlearn: 0.2356952\ttotal: 16.2s\tremaining: 28.5s\n"
     ]
    },
    {
     "name": "stderr",
     "output_type": "stream",
     "text": [
      "\n",
      "Iteration with suspicious time 21.8 sec ignored in overall statistics.\n"
     ]
    },
    {
     "name": "stdout",
     "output_type": "stream",
     "text": [
      "233:\tlearn: 0.2347502\ttotal: 16.2s\tremaining: 28.5s\n"
     ]
    },
    {
     "name": "stderr",
     "output_type": "stream",
     "text": [
      "\n",
      "Iteration with suspicious time 16.7 sec ignored in overall statistics.\n"
     ]
    },
    {
     "name": "stdout",
     "output_type": "stream",
     "text": [
      "234:\tlearn: 0.2344981\ttotal: 16.2s\tremaining: 28.5s\n"
     ]
    },
    {
     "name": "stderr",
     "output_type": "stream",
     "text": [
      "\n",
      "Iteration with suspicious time 20.1 sec ignored in overall statistics.\n"
     ]
    },
    {
     "name": "stdout",
     "output_type": "stream",
     "text": [
      "235:\tlearn: 0.2343667\ttotal: 16.2s\tremaining: 28.5s\n"
     ]
    },
    {
     "name": "stderr",
     "output_type": "stream",
     "text": [
      "\n",
      "Iteration with suspicious time 21 sec ignored in overall statistics.\n"
     ]
    },
    {
     "name": "stdout",
     "output_type": "stream",
     "text": [
      "236:\tlearn: 0.2342956\ttotal: 16.2s\tremaining: 28.5s\n"
     ]
    },
    {
     "name": "stderr",
     "output_type": "stream",
     "text": [
      "\n",
      "Iteration with suspicious time 25.5 sec ignored in overall statistics.\n"
     ]
    },
    {
     "name": "stdout",
     "output_type": "stream",
     "text": [
      "237:\tlearn: 0.2334144\ttotal: 16.2s\tremaining: 28.5s\n"
     ]
    },
    {
     "name": "stderr",
     "output_type": "stream",
     "text": [
      "\n",
      "Iteration with suspicious time 23.1 sec ignored in overall statistics.\n"
     ]
    },
    {
     "name": "stdout",
     "output_type": "stream",
     "text": [
      "238:\tlearn: 0.2325642\ttotal: 16.2s\tremaining: 28.5s\n"
     ]
    },
    {
     "name": "stderr",
     "output_type": "stream",
     "text": [
      "\n",
      "Iteration with suspicious time 24.3 sec ignored in overall statistics.\n"
     ]
    },
    {
     "name": "stdout",
     "output_type": "stream",
     "text": [
      "239:\tlearn: 0.2315792\ttotal: 16.2s\tremaining: 28.5s\n"
     ]
    },
    {
     "name": "stderr",
     "output_type": "stream",
     "text": [
      "\n",
      "Iteration with suspicious time 26.9 sec ignored in overall statistics.\n"
     ]
    },
    {
     "name": "stdout",
     "output_type": "stream",
     "text": [
      "240:\tlearn: 0.2314665\ttotal: 16.2s\tremaining: 28.5s\n"
     ]
    },
    {
     "name": "stderr",
     "output_type": "stream",
     "text": [
      "\n",
      "Iteration with suspicious time 25.7 sec ignored in overall statistics.\n"
     ]
    },
    {
     "name": "stdout",
     "output_type": "stream",
     "text": [
      "241:\tlearn: 0.2311161\ttotal: 16.2s\tremaining: 28.5s\n"
     ]
    },
    {
     "name": "stderr",
     "output_type": "stream",
     "text": [
      "\n",
      "Iteration with suspicious time 26.6 sec ignored in overall statistics.\n"
     ]
    },
    {
     "name": "stdout",
     "output_type": "stream",
     "text": [
      "242:\tlearn: 0.2295413\ttotal: 16.2s\tremaining: 28.5s\n"
     ]
    },
    {
     "name": "stderr",
     "output_type": "stream",
     "text": [
      "\n",
      "Iteration with suspicious time 24.6 sec ignored in overall statistics.\n"
     ]
    },
    {
     "name": "stdout",
     "output_type": "stream",
     "text": [
      "243:\tlearn: 0.2291732\ttotal: 16.2s\tremaining: 28.5s\n"
     ]
    },
    {
     "name": "stderr",
     "output_type": "stream",
     "text": [
      "\n",
      "Iteration with suspicious time 23.5 sec ignored in overall statistics.\n"
     ]
    },
    {
     "name": "stdout",
     "output_type": "stream",
     "text": [
      "244:\tlearn: 0.2280980\ttotal: 16.2s\tremaining: 28.5s\n"
     ]
    },
    {
     "name": "stderr",
     "output_type": "stream",
     "text": [
      "\n",
      "Iteration with suspicious time 25.9 sec ignored in overall statistics.\n"
     ]
    },
    {
     "name": "stdout",
     "output_type": "stream",
     "text": [
      "245:\tlearn: 0.2268800\ttotal: 16.2s\tremaining: 28.5s\n"
     ]
    },
    {
     "name": "stderr",
     "output_type": "stream",
     "text": [
      "\n",
      "Iteration with suspicious time 26.2 sec ignored in overall statistics.\n"
     ]
    },
    {
     "name": "stdout",
     "output_type": "stream",
     "text": [
      "246:\tlearn: 0.2261084\ttotal: 16.2s\tremaining: 28.5s\n"
     ]
    },
    {
     "name": "stderr",
     "output_type": "stream",
     "text": [
      "\n",
      "Iteration with suspicious time 19.5 sec ignored in overall statistics.\n"
     ]
    },
    {
     "name": "stdout",
     "output_type": "stream",
     "text": [
      "247:\tlearn: 0.2251676\ttotal: 16.2s\tremaining: 28.5s\n"
     ]
    },
    {
     "name": "stderr",
     "output_type": "stream",
     "text": [
      "\n",
      "Iteration with suspicious time 20.5 sec ignored in overall statistics.\n"
     ]
    },
    {
     "name": "stdout",
     "output_type": "stream",
     "text": [
      "248:\tlearn: 0.2247502\ttotal: 16.2s\tremaining: 28.5s\n"
     ]
    },
    {
     "name": "stderr",
     "output_type": "stream",
     "text": [
      "\n",
      "Iteration with suspicious time 21.2 sec ignored in overall statistics.\n"
     ]
    },
    {
     "name": "stdout",
     "output_type": "stream",
     "text": [
      "249:\tlearn: 0.2238740\ttotal: 16.2s\tremaining: 28.5s\n"
     ]
    },
    {
     "name": "stderr",
     "output_type": "stream",
     "text": [
      "\n",
      "Iteration with suspicious time 20.1 sec ignored in overall statistics.\n"
     ]
    },
    {
     "name": "stdout",
     "output_type": "stream",
     "text": [
      "250:\tlearn: 0.2224755\ttotal: 16.2s\tremaining: 28.5s\n"
     ]
    },
    {
     "name": "stderr",
     "output_type": "stream",
     "text": [
      "\n",
      "Iteration with suspicious time 18.8 sec ignored in overall statistics.\n"
     ]
    },
    {
     "name": "stdout",
     "output_type": "stream",
     "text": [
      "251:\tlearn: 0.2219156\ttotal: 16.2s\tremaining: 28.5s\n"
     ]
    },
    {
     "name": "stderr",
     "output_type": "stream",
     "text": [
      "\n",
      "Iteration with suspicious time 21.7 sec ignored in overall statistics.\n"
     ]
    },
    {
     "name": "stdout",
     "output_type": "stream",
     "text": [
      "252:\tlearn: 0.2202554\ttotal: 16.2s\tremaining: 28.5s\n"
     ]
    },
    {
     "name": "stderr",
     "output_type": "stream",
     "text": [
      "\n",
      "Iteration with suspicious time 24.2 sec ignored in overall statistics.\n"
     ]
    },
    {
     "name": "stdout",
     "output_type": "stream",
     "text": [
      "253:\tlearn: 0.2195789\ttotal: 16.2s\tremaining: 28.5s\n"
     ]
    },
    {
     "name": "stderr",
     "output_type": "stream",
     "text": [
      "\n",
      "Iteration with suspicious time 23.7 sec ignored in overall statistics.\n"
     ]
    },
    {
     "name": "stdout",
     "output_type": "stream",
     "text": [
      "254:\tlearn: 0.2193029\ttotal: 16.2s\tremaining: 28.5s\n"
     ]
    },
    {
     "name": "stderr",
     "output_type": "stream",
     "text": [
      "\n",
      "Iteration with suspicious time 23.7 sec ignored in overall statistics.\n"
     ]
    },
    {
     "name": "stdout",
     "output_type": "stream",
     "text": [
      "255:\tlearn: 0.2192310\ttotal: 16.2s\tremaining: 28.5s\n"
     ]
    },
    {
     "name": "stderr",
     "output_type": "stream",
     "text": [
      "\n",
      "Iteration with suspicious time 26.5 sec ignored in overall statistics.\n"
     ]
    },
    {
     "name": "stdout",
     "output_type": "stream",
     "text": [
      "256:\tlearn: 0.2187902\ttotal: 16.2s\tremaining: 28.5s\n"
     ]
    },
    {
     "name": "stderr",
     "output_type": "stream",
     "text": [
      "\n",
      "Iteration with suspicious time 21.9 sec ignored in overall statistics.\n"
     ]
    },
    {
     "name": "stdout",
     "output_type": "stream",
     "text": [
      "257:\tlearn: 0.2181149\ttotal: 16.2s\tremaining: 28.5s\n"
     ]
    },
    {
     "name": "stderr",
     "output_type": "stream",
     "text": [
      "\n",
      "Iteration with suspicious time 27.7 sec ignored in overall statistics.\n"
     ]
    },
    {
     "name": "stdout",
     "output_type": "stream",
     "text": [
      "258:\tlearn: 0.2171086\ttotal: 16.2s\tremaining: 28.5s\n"
     ]
    },
    {
     "name": "stderr",
     "output_type": "stream",
     "text": [
      "\n",
      "Iteration with suspicious time 24.7 sec ignored in overall statistics.\n"
     ]
    },
    {
     "name": "stdout",
     "output_type": "stream",
     "text": [
      "259:\tlearn: 0.2169887\ttotal: 16.2s\tremaining: 28.5s\n"
     ]
    },
    {
     "name": "stderr",
     "output_type": "stream",
     "text": [
      "\n",
      "Iteration with suspicious time 22.3 sec ignored in overall statistics.\n"
     ]
    },
    {
     "name": "stdout",
     "output_type": "stream",
     "text": [
      "260:\tlearn: 0.2166169\ttotal: 16.2s\tremaining: 28.5s\n"
     ]
    },
    {
     "name": "stderr",
     "output_type": "stream",
     "text": [
      "\n",
      "Iteration with suspicious time 25.5 sec ignored in overall statistics.\n"
     ]
    },
    {
     "name": "stdout",
     "output_type": "stream",
     "text": [
      "261:\tlearn: 0.2162045\ttotal: 16.2s\tremaining: 28.5s\n"
     ]
    },
    {
     "name": "stderr",
     "output_type": "stream",
     "text": [
      "\n",
      "Iteration with suspicious time 25.6 sec ignored in overall statistics.\n"
     ]
    },
    {
     "name": "stdout",
     "output_type": "stream",
     "text": [
      "262:\tlearn: 0.2158717\ttotal: 16.2s\tremaining: 28.5s\n"
     ]
    },
    {
     "name": "stderr",
     "output_type": "stream",
     "text": [
      "\n",
      "Iteration with suspicious time 23.9 sec ignored in overall statistics.\n"
     ]
    },
    {
     "name": "stdout",
     "output_type": "stream",
     "text": [
      "263:\tlearn: 0.2153287\ttotal: 16.2s\tremaining: 28.5s\n"
     ]
    },
    {
     "name": "stderr",
     "output_type": "stream",
     "text": [
      "\n",
      "Iteration with suspicious time 23.3 sec ignored in overall statistics.\n"
     ]
    },
    {
     "name": "stdout",
     "output_type": "stream",
     "text": [
      "264:\tlearn: 0.2146399\ttotal: 16.2s\tremaining: 28.5s\n"
     ]
    },
    {
     "name": "stderr",
     "output_type": "stream",
     "text": [
      "\n",
      "Iteration with suspicious time 20.8 sec ignored in overall statistics.\n"
     ]
    },
    {
     "name": "stdout",
     "output_type": "stream",
     "text": [
      "265:\tlearn: 0.2139553\ttotal: 16.2s\tremaining: 28.5s\n"
     ]
    },
    {
     "name": "stderr",
     "output_type": "stream",
     "text": [
      "\n",
      "Iteration with suspicious time 26.3 sec ignored in overall statistics.\n"
     ]
    },
    {
     "name": "stdout",
     "output_type": "stream",
     "text": [
      "266:\tlearn: 0.2129864\ttotal: 16.2s\tremaining: 28.5s\n"
     ]
    },
    {
     "name": "stderr",
     "output_type": "stream",
     "text": [
      "\n",
      "Iteration with suspicious time 25.3 sec ignored in overall statistics.\n"
     ]
    },
    {
     "name": "stdout",
     "output_type": "stream",
     "text": [
      "267:\tlearn: 0.2114144\ttotal: 16.2s\tremaining: 28.5s\n"
     ]
    },
    {
     "name": "stderr",
     "output_type": "stream",
     "text": [
      "\n",
      "Iteration with suspicious time 23.8 sec ignored in overall statistics.\n"
     ]
    },
    {
     "name": "stdout",
     "output_type": "stream",
     "text": [
      "268:\tlearn: 0.2111379\ttotal: 16.2s\tremaining: 28.5s\n"
     ]
    },
    {
     "name": "stderr",
     "output_type": "stream",
     "text": [
      "\n",
      "Iteration with suspicious time 21.4 sec ignored in overall statistics.\n"
     ]
    },
    {
     "name": "stdout",
     "output_type": "stream",
     "text": [
      "269:\tlearn: 0.2108554\ttotal: 16.2s\tremaining: 28.5s\n"
     ]
    },
    {
     "name": "stderr",
     "output_type": "stream",
     "text": [
      "\n",
      "Iteration with suspicious time 22.1 sec ignored in overall statistics.\n"
     ]
    },
    {
     "name": "stdout",
     "output_type": "stream",
     "text": [
      "270:\tlearn: 0.2098088\ttotal: 16.2s\tremaining: 28.5s\n"
     ]
    },
    {
     "name": "stderr",
     "output_type": "stream",
     "text": [
      "\n",
      "Iteration with suspicious time 25 sec ignored in overall statistics.\n"
     ]
    },
    {
     "name": "stdout",
     "output_type": "stream",
     "text": [
      "271:\tlearn: 0.2097542\ttotal: 16.2s\tremaining: 28.5s\n"
     ]
    },
    {
     "name": "stderr",
     "output_type": "stream",
     "text": [
      "\n",
      "Iteration with suspicious time 20.9 sec ignored in overall statistics.\n"
     ]
    },
    {
     "name": "stdout",
     "output_type": "stream",
     "text": [
      "272:\tlearn: 0.2089427\ttotal: 16.2s\tremaining: 28.5s\n"
     ]
    },
    {
     "name": "stderr",
     "output_type": "stream",
     "text": [
      "\n",
      "Iteration with suspicious time 18.5 sec ignored in overall statistics.\n"
     ]
    },
    {
     "name": "stdout",
     "output_type": "stream",
     "text": [
      "273:\tlearn: 0.2085822\ttotal: 16.2s\tremaining: 28.5s\n"
     ]
    },
    {
     "name": "stderr",
     "output_type": "stream",
     "text": [
      "\n",
      "Iteration with suspicious time 20.5 sec ignored in overall statistics.\n"
     ]
    },
    {
     "name": "stdout",
     "output_type": "stream",
     "text": [
      "274:\tlearn: 0.2082597\ttotal: 16.2s\tremaining: 28.5s\n"
     ]
    },
    {
     "name": "stderr",
     "output_type": "stream",
     "text": [
      "\n",
      "Iteration with suspicious time 19 sec ignored in overall statistics.\n"
     ]
    },
    {
     "name": "stdout",
     "output_type": "stream",
     "text": [
      "275:\tlearn: 0.2081107\ttotal: 16.2s\tremaining: 28.5s\n"
     ]
    },
    {
     "name": "stderr",
     "output_type": "stream",
     "text": [
      "\n",
      "Iteration with suspicious time 18.9 sec ignored in overall statistics.\n"
     ]
    },
    {
     "name": "stdout",
     "output_type": "stream",
     "text": [
      "276:\tlearn: 0.2077066\ttotal: 16.2s\tremaining: 28.5s\n"
     ]
    },
    {
     "name": "stderr",
     "output_type": "stream",
     "text": [
      "\n",
      "Iteration with suspicious time 19.3 sec ignored in overall statistics.\n"
     ]
    },
    {
     "name": "stdout",
     "output_type": "stream",
     "text": [
      "277:\tlearn: 0.2072601\ttotal: 16.2s\tremaining: 28.5s\n"
     ]
    },
    {
     "name": "stderr",
     "output_type": "stream",
     "text": [
      "\n",
      "Iteration with suspicious time 19.7 sec ignored in overall statistics.\n"
     ]
    },
    {
     "name": "stdout",
     "output_type": "stream",
     "text": [
      "278:\tlearn: 0.2067359\ttotal: 16.2s\tremaining: 28.5s\n"
     ]
    },
    {
     "name": "stderr",
     "output_type": "stream",
     "text": [
      "\n",
      "Iteration with suspicious time 21.4 sec ignored in overall statistics.\n"
     ]
    },
    {
     "name": "stdout",
     "output_type": "stream",
     "text": [
      "279:\tlearn: 0.2064462\ttotal: 16.2s\tremaining: 28.5s\n"
     ]
    },
    {
     "name": "stderr",
     "output_type": "stream",
     "text": [
      "\n",
      "Iteration with suspicious time 18.4 sec ignored in overall statistics.\n"
     ]
    },
    {
     "name": "stdout",
     "output_type": "stream",
     "text": [
      "280:\tlearn: 0.2062530\ttotal: 16.2s\tremaining: 28.5s\n"
     ]
    },
    {
     "name": "stderr",
     "output_type": "stream",
     "text": [
      "\n",
      "Iteration with suspicious time 19.5 sec ignored in overall statistics.\n"
     ]
    },
    {
     "name": "stdout",
     "output_type": "stream",
     "text": [
      "281:\tlearn: 0.2059609\ttotal: 16.2s\tremaining: 28.5s\n"
     ]
    },
    {
     "name": "stderr",
     "output_type": "stream",
     "text": [
      "\n",
      "Iteration with suspicious time 20 sec ignored in overall statistics.\n"
     ]
    },
    {
     "name": "stdout",
     "output_type": "stream",
     "text": [
      "282:\tlearn: 0.2057338\ttotal: 16.2s\tremaining: 28.5s\n"
     ]
    },
    {
     "name": "stderr",
     "output_type": "stream",
     "text": [
      "\n",
      "Iteration with suspicious time 19.4 sec ignored in overall statistics.\n"
     ]
    },
    {
     "name": "stdout",
     "output_type": "stream",
     "text": [
      "283:\tlearn: 0.2053485\ttotal: 16.2s\tremaining: 28.5s\n"
     ]
    },
    {
     "name": "stderr",
     "output_type": "stream",
     "text": [
      "\n",
      "Iteration with suspicious time 20.3 sec ignored in overall statistics.\n"
     ]
    },
    {
     "name": "stdout",
     "output_type": "stream",
     "text": [
      "284:\tlearn: 0.2051883\ttotal: 16.2s\tremaining: 28.5s\n"
     ]
    },
    {
     "name": "stderr",
     "output_type": "stream",
     "text": [
      "\n",
      "Iteration with suspicious time 19.5 sec ignored in overall statistics.\n"
     ]
    },
    {
     "name": "stdout",
     "output_type": "stream",
     "text": [
      "285:\tlearn: 0.2050896\ttotal: 16.2s\tremaining: 28.5s\n"
     ]
    },
    {
     "name": "stderr",
     "output_type": "stream",
     "text": [
      "\n",
      "Iteration with suspicious time 19.8 sec ignored in overall statistics.\n"
     ]
    },
    {
     "name": "stdout",
     "output_type": "stream",
     "text": [
      "286:\tlearn: 0.2040716\ttotal: 16.2s\tremaining: 28.5s\n"
     ]
    },
    {
     "name": "stderr",
     "output_type": "stream",
     "text": [
      "\n",
      "Iteration with suspicious time 19 sec ignored in overall statistics.\n"
     ]
    },
    {
     "name": "stdout",
     "output_type": "stream",
     "text": [
      "287:\tlearn: 0.2033916\ttotal: 16.2s\tremaining: 28.5s\n"
     ]
    },
    {
     "name": "stderr",
     "output_type": "stream",
     "text": [
      "\n",
      "Iteration with suspicious time 19.7 sec ignored in overall statistics.\n"
     ]
    },
    {
     "name": "stdout",
     "output_type": "stream",
     "text": [
      "288:\tlearn: 0.2031936\ttotal: 16.2s\tremaining: 28.5s\n"
     ]
    },
    {
     "name": "stderr",
     "output_type": "stream",
     "text": [
      "\n",
      "Iteration with suspicious time 26.1 sec ignored in overall statistics.\n"
     ]
    },
    {
     "name": "stdout",
     "output_type": "stream",
     "text": [
      "289:\tlearn: 0.2030640\ttotal: 16.2s\tremaining: 28.5s\n"
     ]
    },
    {
     "name": "stderr",
     "output_type": "stream",
     "text": [
      "\n",
      "Iteration with suspicious time 19.4 sec ignored in overall statistics.\n"
     ]
    },
    {
     "name": "stdout",
     "output_type": "stream",
     "text": [
      "290:\tlearn: 0.2023338\ttotal: 16.2s\tremaining: 28.5s\n"
     ]
    },
    {
     "name": "stderr",
     "output_type": "stream",
     "text": [
      "\n",
      "Iteration with suspicious time 19.8 sec ignored in overall statistics.\n"
     ]
    },
    {
     "name": "stdout",
     "output_type": "stream",
     "text": [
      "291:\tlearn: 0.2020181\ttotal: 16.2s\tremaining: 28.5s\n",
      "292:\tlearn: 0.2019478\ttotal: 22.9s\tremaining: 30.8s\n"
     ]
    },
    {
     "name": "stderr",
     "output_type": "stream",
     "text": [
      "\n",
      "Iteration with suspicious time 20.9 sec ignored in overall statistics.\n"
     ]
    },
    {
     "name": "stdout",
     "output_type": "stream",
     "text": [
      "293:\tlearn: 0.2016416\ttotal: 22.9s\tremaining: 30.8s\n"
     ]
    },
    {
     "name": "stderr",
     "output_type": "stream",
     "text": [
      "\n",
      "Iteration with suspicious time 18.5 sec ignored in overall statistics.\n"
     ]
    },
    {
     "name": "stdout",
     "output_type": "stream",
     "text": [
      "294:\tlearn: 0.2007402\ttotal: 22.9s\tremaining: 30.8s\n"
     ]
    },
    {
     "name": "stderr",
     "output_type": "stream",
     "text": [
      "\n",
      "Iteration with suspicious time 19.8 sec ignored in overall statistics.\n"
     ]
    },
    {
     "name": "stdout",
     "output_type": "stream",
     "text": [
      "295:\tlearn: 0.1988981\ttotal: 22.9s\tremaining: 30.8s\n"
     ]
    },
    {
     "name": "stderr",
     "output_type": "stream",
     "text": [
      "\n",
      "Iteration with suspicious time 19.3 sec ignored in overall statistics.\n"
     ]
    },
    {
     "name": "stdout",
     "output_type": "stream",
     "text": [
      "296:\tlearn: 0.1985865\ttotal: 22.9s\tremaining: 30.8s\n",
      "297:\tlearn: 0.1984474\ttotal: 37.4s\tremaining: 48.7s\n",
      "298:\tlearn: 0.1979445\ttotal: 56.7s\tremaining: 1m 13s\n",
      "299:\tlearn: 0.1975510\ttotal: 1m 18s\tremaining: 1m 39s\n",
      "300:\tlearn: 0.1965356\ttotal: 1m 37s\tremaining: 2m 2s\n",
      "301:\tlearn: 0.1963494\ttotal: 1m 57s\tremaining: 2m 26s\n",
      "302:\tlearn: 0.1962290\ttotal: 2m 22s\tremaining: 2m 55s\n",
      "303:\tlearn: 0.1958864\ttotal: 2m 47s\tremaining: 3m 23s\n",
      "304:\tlearn: 0.1951908\ttotal: 3m 10s\tremaining: 3m 48s\n",
      "305:\tlearn: 0.1950470\ttotal: 3m 34s\tremaining: 4m 14s\n",
      "306:\tlearn: 0.1943716\ttotal: 3m 56s\tremaining: 4m 38s\n",
      "307:\tlearn: 0.1937437\ttotal: 4m 17s\tremaining: 4m 59s\n",
      "308:\tlearn: 0.1935201\ttotal: 4m 40s\tremaining: 5m 22s\n",
      "309:\tlearn: 0.1929686\ttotal: 5m 5s\tremaining: 5m 47s\n",
      "310:\tlearn: 0.1910707\ttotal: 5m 28s\tremaining: 6m 9s\n",
      "311:\tlearn: 0.1898265\ttotal: 5m 50s\tremaining: 6m 29s\n",
      "312:\tlearn: 0.1878621\ttotal: 5m 57s\tremaining: 6m 33s\n",
      "313:\tlearn: 0.1870810\ttotal: 6m 18s\tremaining: 6m 51s\n",
      "314:\tlearn: 0.1862463\ttotal: 6m 41s\tremaining: 7m 12s\n",
      "315:\tlearn: 0.1861382\ttotal: 7m 8s\tremaining: 7m 35s\n",
      "316:\tlearn: 0.1860389\ttotal: 7m 36s\tremaining: 8m\n",
      "317:\tlearn: 0.1848555\ttotal: 7m 59s\tremaining: 8m 19s\n",
      "318:\tlearn: 0.1834715\ttotal: 8m 23s\tremaining: 8m 37s\n",
      "319:\tlearn: 0.1832685\ttotal: 8m 49s\tremaining: 8m 58s\n",
      "320:\tlearn: 0.1831673\ttotal: 9m 20s\tremaining: 9m 23s\n",
      "321:\tlearn: 0.1828395\ttotal: 9m 22s\tremaining: 9m 19s\n",
      "322:\tlearn: 0.1822478\ttotal: 9m 51s\tremaining: 9m 41s\n",
      "323:\tlearn: 0.1814840\ttotal: 10m 22s\tremaining: 10m 5s\n",
      "324:\tlearn: 0.1808205\ttotal: 10m 51s\tremaining: 10m 26s\n",
      "325:\tlearn: 0.1802857\ttotal: 11m 22s\tremaining: 10m 48s\n",
      "326:\tlearn: 0.1802368\ttotal: 11m 22s\tremaining: 10m 41s\n",
      "327:\tlearn: 0.1799792\ttotal: 11m 47s\tremaining: 10m 57s\n",
      "328:\tlearn: 0.1795866\ttotal: 12m 14s\tremaining: 11m 15s\n",
      "329:\tlearn: 0.1785927\ttotal: 12m 43s\tremaining: 11m 33s\n",
      "330:\tlearn: 0.1762683\ttotal: 13m 11s\tremaining: 11m 51s\n",
      "331:\tlearn: 0.1760618\ttotal: 13m 33s\tremaining: 12m 3s\n",
      "332:\tlearn: 0.1754736\ttotal: 14m 1s\tremaining: 12m 20s\n",
      "333:\tlearn: 0.1751636\ttotal: 14m 25s\tremaining: 12m 31s\n",
      "334:\tlearn: 0.1748818\ttotal: 14m 43s\tremaining: 12m 38s\n",
      "335:\tlearn: 0.1739596\ttotal: 15m 11s\tremaining: 12m 54s\n",
      "336:\tlearn: 0.1739390\ttotal: 15m 30s\tremaining: 13m 1s\n",
      "337:\tlearn: 0.1729388\ttotal: 15m 52s\tremaining: 13m 11s\n",
      "338:\tlearn: 0.1725358\ttotal: 16m 16s\tremaining: 13m 21s\n",
      "339:\tlearn: 0.1720261\ttotal: 16m 35s\tremaining: 13m 28s\n",
      "340:\tlearn: 0.1716960\ttotal: 16m 56s\tremaining: 13m 35s\n",
      "341:\tlearn: 0.1703956\ttotal: 17m 16s\tremaining: 13m 42s\n",
      "342:\tlearn: 0.1697582\ttotal: 17m 41s\tremaining: 13m 52s\n",
      "343:\tlearn: 0.1695532\ttotal: 17m 59s\tremaining: 13m 57s\n",
      "344:\tlearn: 0.1693588\ttotal: 17m 59s\tremaining: 13m 48s\n",
      "345:\tlearn: 0.1691321\ttotal: 18m 19s\tremaining: 13m 54s\n",
      "346:\tlearn: 0.1685104\ttotal: 18m 38s\tremaining: 13m 59s\n",
      "347:\tlearn: 0.1683036\ttotal: 19m 1s\tremaining: 14m 6s\n",
      "348:\tlearn: 0.1682618\ttotal: 19m 20s\tremaining: 14m 10s\n",
      "349:\tlearn: 0.1682247\ttotal: 19m 33s\tremaining: 14m 10s\n",
      "350:\tlearn: 0.1680955\ttotal: 19m 52s\tremaining: 14m 14s\n",
      "351:\tlearn: 0.1679807\ttotal: 20m 11s\tremaining: 14m 17s\n",
      "352:\tlearn: 0.1669795\ttotal: 20m 31s\tremaining: 14m 21s\n",
      "353:\tlearn: 0.1666841\ttotal: 20m 31s\tremaining: 14m 12s\n",
      "354:\tlearn: 0.1665391\ttotal: 20m 51s\tremaining: 14m 16s\n",
      "355:\tlearn: 0.1664391\ttotal: 21m 10s\tremaining: 14m 19s\n",
      "356:\tlearn: 0.1655296\ttotal: 21m 30s\tremaining: 14m 22s\n",
      "357:\tlearn: 0.1648288\ttotal: 21m 51s\tremaining: 14m 26s\n",
      "358:\tlearn: 0.1644869\ttotal: 22m 10s\tremaining: 14m 28s\n",
      "359:\tlearn: 0.1639623\ttotal: 22m 28s\tremaining: 14m 30s\n",
      "360:\tlearn: 0.1632625\ttotal: 22m 46s\tremaining: 14m 31s\n",
      "361:\tlearn: 0.1631641\ttotal: 23m 4s\tremaining: 14m 32s\n",
      "362:\tlearn: 0.1625297\ttotal: 23m 23s\tremaining: 14m 34s\n",
      "363:\tlearn: 0.1624036\ttotal: 23m 42s\tremaining: 14m 35s\n",
      "364:\tlearn: 0.1621221\ttotal: 24m 1s\tremaining: 14m 36s\n",
      "365:\tlearn: 0.1619259\ttotal: 24m 20s\tremaining: 14m 37s\n",
      "366:\tlearn: 0.1615229\ttotal: 24m 41s\tremaining: 14m 39s\n",
      "367:\tlearn: 0.1607676\ttotal: 25m\tremaining: 14m 40s\n",
      "368:\tlearn: 0.1605672\ttotal: 25m 19s\tremaining: 14m 40s\n",
      "369:\tlearn: 0.1604194\ttotal: 25m 38s\tremaining: 14m 41s\n",
      "370:\tlearn: 0.1593484\ttotal: 25m 58s\tremaining: 14m 41s\n",
      "371:\tlearn: 0.1590710\ttotal: 26m 17s\tremaining: 14m 41s\n",
      "372:\tlearn: 0.1582902\ttotal: 26m 35s\tremaining: 14m 40s\n",
      "373:\tlearn: 0.1579441\ttotal: 26m 53s\tremaining: 14m 40s\n",
      "374:\tlearn: 0.1578272\ttotal: 26m 59s\tremaining: 14m 32s\n",
      "375:\tlearn: 0.1573632\ttotal: 27m 20s\tremaining: 14m 33s\n",
      "376:\tlearn: 0.1572360\ttotal: 27m 38s\tremaining: 14m 31s\n",
      "377:\tlearn: 0.1570539\ttotal: 28m\tremaining: 14m 32s\n",
      "378:\tlearn: 0.1567371\ttotal: 28m 22s\tremaining: 14m 32s\n",
      "379:\tlearn: 0.1566119\ttotal: 28m 40s\tremaining: 14m 31s\n",
      "380:\tlearn: 0.1558645\ttotal: 29m 3s\tremaining: 14m 31s\n",
      "381:\tlearn: 0.1555899\ttotal: 29m 27s\tremaining: 14m 32s\n",
      "382:\tlearn: 0.1550837\ttotal: 29m 45s\tremaining: 14m 30s\n",
      "383:\tlearn: 0.1549246\ttotal: 30m 6s\tremaining: 14m 29s\n",
      "384:\tlearn: 0.1547127\ttotal: 30m 27s\tremaining: 14m 28s\n",
      "385:\tlearn: 0.1542933\ttotal: 30m 48s\tremaining: 14m 27s\n",
      "386:\tlearn: 0.1542354\ttotal: 31m 7s\tremaining: 14m 24s\n",
      "387:\tlearn: 0.1541995\ttotal: 31m 26s\tremaining: 14m 22s\n",
      "388:\tlearn: 0.1537334\ttotal: 31m 46s\tremaining: 14m 20s\n",
      "389:\tlearn: 0.1536272\ttotal: 32m 7s\tremaining: 14m 18s\n",
      "390:\tlearn: 0.1534911\ttotal: 32m 27s\tremaining: 14m 15s\n",
      "391:\tlearn: 0.1530635\ttotal: 32m 46s\tremaining: 14m 13s\n",
      "392:\tlearn: 0.1528309\ttotal: 33m 6s\tremaining: 14m 10s\n",
      "393:\tlearn: 0.1527743\ttotal: 33m 25s\tremaining: 14m 6s\n",
      "394:\tlearn: 0.1527446\ttotal: 33m 27s\tremaining: 13m 56s\n",
      "395:\tlearn: 0.1525728\ttotal: 33m 44s\tremaining: 13m 52s\n",
      "396:\tlearn: 0.1510994\ttotal: 34m 8s\tremaining: 13m 50s\n",
      "397:\tlearn: 0.1510383\ttotal: 34m 8s\tremaining: 13m 39s\n",
      "398:\tlearn: 0.1507613\ttotal: 34m 32s\tremaining: 13m 37s\n",
      "399:\tlearn: 0.1506989\ttotal: 34m 55s\tremaining: 13m 35s\n",
      "400:\tlearn: 0.1504302\ttotal: 35m 14s\tremaining: 13m 31s\n",
      "401:\tlearn: 0.1501453\ttotal: 35m 39s\tremaining: 13m 29s\n",
      "402:\tlearn: 0.1491808\ttotal: 36m\tremaining: 13m 26s\n",
      "403:\tlearn: 0.1490411\ttotal: 36m 19s\tremaining: 13m 21s\n",
      "404:\tlearn: 0.1487618\ttotal: 36m 39s\tremaining: 13m 17s\n",
      "405:\tlearn: 0.1484307\ttotal: 36m 57s\tremaining: 13m 12s\n",
      "406:\tlearn: 0.1483498\ttotal: 37m 19s\tremaining: 13m 8s\n",
      "407:\tlearn: 0.1480485\ttotal: 37m 41s\tremaining: 13m 5s\n",
      "408:\tlearn: 0.1478958\ttotal: 38m 1s\tremaining: 13m\n",
      "409:\tlearn: 0.1473576\ttotal: 38m 21s\tremaining: 12m 55s\n",
      "410:\tlearn: 0.1470982\ttotal: 38m 43s\tremaining: 12m 51s\n",
      "411:\tlearn: 0.1466387\ttotal: 39m 4s\tremaining: 12m 46s\n",
      "412:\tlearn: 0.1461689\ttotal: 39m 27s\tremaining: 12m 42s\n",
      "413:\tlearn: 0.1459827\ttotal: 39m 48s\tremaining: 12m 37s\n",
      "414:\tlearn: 0.1459043\ttotal: 40m 8s\tremaining: 12m 32s\n",
      "415:\tlearn: 0.1458663\ttotal: 40m 30s\tremaining: 12m 27s\n",
      "416:\tlearn: 0.1457488\ttotal: 40m 47s\tremaining: 12m 21s\n",
      "417:\tlearn: 0.1453293\ttotal: 41m 10s\tremaining: 12m 16s\n",
      "418:\tlearn: 0.1451737\ttotal: 41m 31s\tremaining: 12m 11s\n",
      "419:\tlearn: 0.1451474\ttotal: 41m 31s\tremaining: 11m 59s\n",
      "420:\tlearn: 0.1437701\ttotal: 41m 55s\tremaining: 11m 54s\n",
      "421:\tlearn: 0.1434293\ttotal: 42m 16s\tremaining: 11m 49s\n",
      "422:\tlearn: 0.1433158\ttotal: 42m 38s\tremaining: 11m 43s\n",
      "423:\tlearn: 0.1431567\ttotal: 42m 56s\tremaining: 11m 36s\n",
      "424:\tlearn: 0.1427921\ttotal: 43m 16s\tremaining: 11m 30s\n",
      "425:\tlearn: 0.1413370\ttotal: 43m 35s\tremaining: 11m 23s\n",
      "426:\tlearn: 0.1403572\ttotal: 43m 55s\tremaining: 11m 17s\n",
      "427:\tlearn: 0.1403237\ttotal: 44m 14s\tremaining: 11m 10s\n",
      "428:\tlearn: 0.1401371\ttotal: 44m 35s\tremaining: 11m 4s\n",
      "429:\tlearn: 0.1397279\ttotal: 44m 54s\tremaining: 10m 57s\n",
      "430:\tlearn: 0.1393803\ttotal: 45m 14s\tremaining: 10m 50s\n",
      "431:\tlearn: 0.1392134\ttotal: 45m 33s\tremaining: 10m 43s\n",
      "432:\tlearn: 0.1385254\ttotal: 45m 52s\tremaining: 10m 35s\n",
      "433:\tlearn: 0.1384761\ttotal: 46m 11s\tremaining: 10m 28s\n",
      "434:\tlearn: 0.1384146\ttotal: 46m 29s\tremaining: 10m 21s\n",
      "435:\tlearn: 0.1383346\ttotal: 46m 48s\tremaining: 10m 13s\n",
      "436:\tlearn: 0.1382685\ttotal: 47m 9s\tremaining: 10m 6s\n",
      "437:\tlearn: 0.1381957\ttotal: 47m 28s\tremaining: 9m 58s\n",
      "438:\tlearn: 0.1372581\ttotal: 47m 46s\tremaining: 9m 50s\n",
      "439:\tlearn: 0.1370260\ttotal: 48m 7s\tremaining: 9m 43s\n",
      "440:\tlearn: 0.1370125\ttotal: 48m 8s\tremaining: 9m 31s\n",
      "441:\tlearn: 0.1369500\ttotal: 48m 30s\tremaining: 9m 24s\n",
      "442:\tlearn: 0.1366023\ttotal: 48m 49s\tremaining: 9m 16s\n",
      "443:\tlearn: 0.1361672\ttotal: 49m 7s\tremaining: 9m 8s\n",
      "444:\tlearn: 0.1344566\ttotal: 49m 26s\tremaining: 9m\n",
      "445:\tlearn: 0.1343269\ttotal: 49m 43s\tremaining: 8m 51s\n",
      "446:\tlearn: 0.1339005\ttotal: 50m 4s\tremaining: 8m 43s\n",
      "447:\tlearn: 0.1337044\ttotal: 50m 23s\tremaining: 8m 35s\n",
      "448:\tlearn: 0.1333097\ttotal: 50m 41s\tremaining: 8m 26s\n",
      "449:\tlearn: 0.1331433\ttotal: 51m 2s\tremaining: 8m 18s\n",
      "450:\tlearn: 0.1329908\ttotal: 51m 20s\tremaining: 8m 10s\n",
      "451:\tlearn: 0.1328664\ttotal: 51m 42s\tremaining: 8m 1s\n",
      "452:\tlearn: 0.1323290\ttotal: 52m 5s\tremaining: 7m 53s\n",
      "453:\tlearn: 0.1322636\ttotal: 52m 27s\tremaining: 7m 45s\n",
      "454:\tlearn: 0.1322236\ttotal: 52m 49s\tremaining: 7m 37s\n",
      "455:\tlearn: 0.1309384\ttotal: 53m 11s\tremaining: 7m 28s\n",
      "456:\tlearn: 0.1308815\ttotal: 53m 29s\tremaining: 7m 19s\n",
      "457:\tlearn: 0.1302382\ttotal: 53m 52s\tremaining: 7m 10s\n",
      "458:\tlearn: 0.1301208\ttotal: 54m 14s\tremaining: 7m 2s\n",
      "459:\tlearn: 0.1300665\ttotal: 54m 34s\tremaining: 6m 53s\n",
      "460:\tlearn: 0.1300258\ttotal: 54m 53s\tremaining: 6m 43s\n",
      "461:\tlearn: 0.1299219\ttotal: 55m 12s\tremaining: 6m 34s\n",
      "462:\tlearn: 0.1298874\ttotal: 55m 32s\tremaining: 6m 25s\n",
      "463:\tlearn: 0.1295795\ttotal: 55m 53s\tremaining: 6m 16s\n",
      "464:\tlearn: 0.1292555\ttotal: 56m 13s\tremaining: 6m 6s\n",
      "465:\tlearn: 0.1292268\ttotal: 56m 33s\tremaining: 5m 57s\n",
      "466:\tlearn: 0.1292166\ttotal: 56m 52s\tremaining: 5m 47s\n",
      "467:\tlearn: 0.1292043\ttotal: 57m 11s\tremaining: 5m 37s\n",
      "468:\tlearn: 0.1291359\ttotal: 57m 35s\tremaining: 5m 28s\n",
      "469:\tlearn: 0.1290600\ttotal: 57m 57s\tremaining: 5m 19s\n",
      "470:\tlearn: 0.1290363\ttotal: 58m 17s\tremaining: 5m 9s\n",
      "471:\tlearn: 0.1290068\ttotal: 58m 40s\tremaining: 4m 59s\n",
      "472:\tlearn: 0.1288067\ttotal: 59m\tremaining: 4m 49s\n",
      "473:\tlearn: 0.1285869\ttotal: 59m 24s\tremaining: 4m 39s\n",
      "474:\tlearn: 0.1285812\ttotal: 59m 45s\tremaining: 4m 30s\n",
      "475:\tlearn: 0.1284056\ttotal: 1h 5s\tremaining: 4m 19s\n",
      "476:\tlearn: 0.1281089\ttotal: 1h 23s\tremaining: 4m 9s\n",
      "477:\tlearn: 0.1266964\ttotal: 1h 44s\tremaining: 3m 59s\n",
      "478:\tlearn: 0.1266778\ttotal: 1h 57s\tremaining: 3m 48s\n",
      "479:\tlearn: 0.1265265\ttotal: 1h 1m 14s\tremaining: 3m 38s\n",
      "480:\tlearn: 0.1265059\ttotal: 1h 1m 32s\tremaining: 3m 27s\n",
      "481:\tlearn: 0.1262551\ttotal: 1h 1m 49s\tremaining: 3m 16s\n",
      "482:\tlearn: 0.1260048\ttotal: 1h 1m 49s\tremaining: 3m 5s\n",
      "483:\tlearn: 0.1259162\ttotal: 1h 2m 3s\tremaining: 2m 54s\n",
      "484:\tlearn: 0.1258829\ttotal: 1h 2m 21s\tremaining: 2m 44s\n",
      "485:\tlearn: 0.1256598\ttotal: 1h 2m 40s\tremaining: 2m 33s\n",
      "486:\tlearn: 0.1256030\ttotal: 1h 2m 59s\tremaining: 2m 22s\n",
      "487:\tlearn: 0.1253761\ttotal: 1h 3m 18s\tremaining: 2m 12s\n",
      "488:\tlearn: 0.1252598\ttotal: 1h 3m 36s\tremaining: 2m 1s\n",
      "489:\tlearn: 0.1249332\ttotal: 1h 3m 56s\tremaining: 1m 50s\n",
      "490:\tlearn: 0.1244939\ttotal: 1h 4m 12s\tremaining: 1m 39s\n",
      "491:\tlearn: 0.1244490\ttotal: 1h 4m 30s\tremaining: 1m 28s\n",
      "492:\tlearn: 0.1242174\ttotal: 1h 4m 50s\tremaining: 1m 17s\n",
      "493:\tlearn: 0.1241882\ttotal: 1h 4m 51s\tremaining: 1m 6s\n",
      "494:\tlearn: 0.1239543\ttotal: 1h 5m 10s\tremaining: 55.5s\n",
      "495:\tlearn: 0.1236826\ttotal: 1h 5m 30s\tremaining: 44.5s\n",
      "496:\tlearn: 0.1230432\ttotal: 1h 5m 49s\tremaining: 33.5s\n",
      "497:\tlearn: 0.1229216\ttotal: 1h 6m 9s\tremaining: 22.4s\n",
      "498:\tlearn: 0.1228818\ttotal: 1h 6m 27s\tremaining: 11.2s\n",
      "499:\tlearn: 0.1226213\ttotal: 1h 6m 45s\tremaining: 0us\n"
     ]
    },
    {
     "data": {
      "text/plain": [
       "<catboost.core.CatBoostClassifier at 0x1a0c9ce400>"
      ]
     },
     "execution_count": 49,
     "metadata": {},
     "output_type": "execute_result"
    }
   ],
   "source": [
    "model.fit(train_X, train_y, fe)"
   ]
  },
  {
   "cell_type": "code",
   "execution_count": 56,
   "metadata": {
    "collapsed": false
   },
   "outputs": [],
   "source": [
    "preds = model.predict(test_X)\n",
    "preds = preds.astype(int)"
   ]
  },
  {
   "cell_type": "code",
   "execution_count": 57,
   "metadata": {
    "collapsed": true
   },
   "outputs": [],
   "source": [
    "submission = pd.DataFrame({ 'PassengerId': test['PassengerId'],\n",
    "                             'Survived': preds })\n",
    "submission.to_csv('submission2.csv', index=False)"
   ]
  },
  {
   "cell_type": "markdown",
   "metadata": {},
   "source": [
    "## Tip\n",
    "\n",
    "Try GridSearch for CatBoost"
   ]
  },
  {
   "cell_type": "code",
   "execution_count": null,
   "metadata": {
    "collapsed": true
   },
   "outputs": [],
   "source": []
  }
 ],
 "metadata": {
  "anaconda-cloud": {},
  "kernelspec": {
   "display_name": "Python [Root]",
   "language": "python",
   "name": "Python [Root]"
  },
  "language_info": {
   "codemirror_mode": {
    "name": "ipython",
    "version": 3
   },
   "file_extension": ".py",
   "mimetype": "text/x-python",
   "name": "python",
   "nbconvert_exporter": "python",
   "pygments_lexer": "ipython3",
   "version": "3.5.2"
  }
 },
 "nbformat": 4,
 "nbformat_minor": 1
}
