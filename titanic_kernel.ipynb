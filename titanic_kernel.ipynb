{
 "cells": [
  {
   "cell_type": "code",
   "execution_count": 1,
   "metadata": {
    "_cell_guid": "b1076dfc-b9ad-4769-8c92-a6c4dae69d19",
    "_uuid": "8f2839f25d086af736a60e9eeb907d3b93b6e0e5",
    "collapsed": true
   },
   "outputs": [],
   "source": [
    "import numpy as np \n",
    "import pandas as pd \n",
    "import os\n",
    "\n",
    "import csv as csv\n",
    "import sklearn as scl\n",
    "\n",
    "%matplotlib inline\n",
    "import matplotlib.pyplot as plt\n",
    "\n",
    "import seaborn as sns"
   ]
  },
  {
   "cell_type": "markdown",
   "metadata": {
    "_uuid": "2fa269b970ad7462d1e7334db0c0f68923e2c9b3"
   },
   "source": [
    "# Exploratory Data Analysis"
   ]
  },
  {
   "cell_type": "code",
   "execution_count": 2,
   "metadata": {
    "_uuid": "ab8fb42eef993e2ab305519087304cf2c3c25228",
    "collapsed": false
   },
   "outputs": [
    {
     "data": {
      "text/plain": [
       "(891, 12)"
      ]
     },
     "execution_count": 2,
     "metadata": {},
     "output_type": "execute_result"
    }
   ],
   "source": [
    "train = pd.read_csv('data/train.csv') \n",
    "train.shape"
   ]
  },
  {
   "cell_type": "code",
   "execution_count": 3,
   "metadata": {
    "_uuid": "2f87aaa51c5b17ad4e3626eb60314bc97b42157a",
    "collapsed": false
   },
   "outputs": [
    {
     "data": {
      "text/html": [
       "<div>\n",
       "<style scoped>\n",
       "    .dataframe tbody tr th:only-of-type {\n",
       "        vertical-align: middle;\n",
       "    }\n",
       "\n",
       "    .dataframe tbody tr th {\n",
       "        vertical-align: top;\n",
       "    }\n",
       "\n",
       "    .dataframe thead th {\n",
       "        text-align: right;\n",
       "    }\n",
       "</style>\n",
       "<table border=\"1\" class=\"dataframe\">\n",
       "  <thead>\n",
       "    <tr style=\"text-align: right;\">\n",
       "      <th></th>\n",
       "      <th>PassengerId</th>\n",
       "      <th>Survived</th>\n",
       "      <th>Pclass</th>\n",
       "      <th>Name</th>\n",
       "      <th>Sex</th>\n",
       "      <th>Age</th>\n",
       "      <th>SibSp</th>\n",
       "      <th>Parch</th>\n",
       "      <th>Ticket</th>\n",
       "      <th>Fare</th>\n",
       "      <th>Cabin</th>\n",
       "      <th>Embarked</th>\n",
       "    </tr>\n",
       "  </thead>\n",
       "  <tbody>\n",
       "    <tr>\n",
       "      <th>0</th>\n",
       "      <td>1</td>\n",
       "      <td>0</td>\n",
       "      <td>3</td>\n",
       "      <td>Braund, Mr. Owen Harris</td>\n",
       "      <td>male</td>\n",
       "      <td>22.0</td>\n",
       "      <td>1</td>\n",
       "      <td>0</td>\n",
       "      <td>A/5 21171</td>\n",
       "      <td>7.2500</td>\n",
       "      <td>NaN</td>\n",
       "      <td>S</td>\n",
       "    </tr>\n",
       "    <tr>\n",
       "      <th>1</th>\n",
       "      <td>2</td>\n",
       "      <td>1</td>\n",
       "      <td>1</td>\n",
       "      <td>Cumings, Mrs. John Bradley (Florence Briggs Th...</td>\n",
       "      <td>female</td>\n",
       "      <td>38.0</td>\n",
       "      <td>1</td>\n",
       "      <td>0</td>\n",
       "      <td>PC 17599</td>\n",
       "      <td>71.2833</td>\n",
       "      <td>C85</td>\n",
       "      <td>C</td>\n",
       "    </tr>\n",
       "    <tr>\n",
       "      <th>2</th>\n",
       "      <td>3</td>\n",
       "      <td>1</td>\n",
       "      <td>3</td>\n",
       "      <td>Heikkinen, Miss. Laina</td>\n",
       "      <td>female</td>\n",
       "      <td>26.0</td>\n",
       "      <td>0</td>\n",
       "      <td>0</td>\n",
       "      <td>STON/O2. 3101282</td>\n",
       "      <td>7.9250</td>\n",
       "      <td>NaN</td>\n",
       "      <td>S</td>\n",
       "    </tr>\n",
       "    <tr>\n",
       "      <th>3</th>\n",
       "      <td>4</td>\n",
       "      <td>1</td>\n",
       "      <td>1</td>\n",
       "      <td>Futrelle, Mrs. Jacques Heath (Lily May Peel)</td>\n",
       "      <td>female</td>\n",
       "      <td>35.0</td>\n",
       "      <td>1</td>\n",
       "      <td>0</td>\n",
       "      <td>113803</td>\n",
       "      <td>53.1000</td>\n",
       "      <td>C123</td>\n",
       "      <td>S</td>\n",
       "    </tr>\n",
       "    <tr>\n",
       "      <th>4</th>\n",
       "      <td>5</td>\n",
       "      <td>0</td>\n",
       "      <td>3</td>\n",
       "      <td>Allen, Mr. William Henry</td>\n",
       "      <td>male</td>\n",
       "      <td>35.0</td>\n",
       "      <td>0</td>\n",
       "      <td>0</td>\n",
       "      <td>373450</td>\n",
       "      <td>8.0500</td>\n",
       "      <td>NaN</td>\n",
       "      <td>S</td>\n",
       "    </tr>\n",
       "  </tbody>\n",
       "</table>\n",
       "</div>"
      ],
      "text/plain": [
       "   PassengerId  Survived  Pclass  \\\n",
       "0            1         0       3   \n",
       "1            2         1       1   \n",
       "2            3         1       3   \n",
       "3            4         1       1   \n",
       "4            5         0       3   \n",
       "\n",
       "                                                Name     Sex   Age  SibSp  \\\n",
       "0                            Braund, Mr. Owen Harris    male  22.0      1   \n",
       "1  Cumings, Mrs. John Bradley (Florence Briggs Th...  female  38.0      1   \n",
       "2                             Heikkinen, Miss. Laina  female  26.0      0   \n",
       "3       Futrelle, Mrs. Jacques Heath (Lily May Peel)  female  35.0      1   \n",
       "4                           Allen, Mr. William Henry    male  35.0      0   \n",
       "\n",
       "   Parch            Ticket     Fare Cabin Embarked  \n",
       "0      0         A/5 21171   7.2500   NaN        S  \n",
       "1      0          PC 17599  71.2833   C85        C  \n",
       "2      0  STON/O2. 3101282   7.9250   NaN        S  \n",
       "3      0            113803  53.1000  C123        S  \n",
       "4      0            373450   8.0500   NaN        S  "
      ]
     },
     "execution_count": 3,
     "metadata": {},
     "output_type": "execute_result"
    }
   ],
   "source": [
    "train.head()"
   ]
  },
  {
   "cell_type": "code",
   "execution_count": 4,
   "metadata": {
    "_uuid": "31b18a7549025b60ee37ba79c8b74b200f1eb6e6",
    "collapsed": false
   },
   "outputs": [
    {
     "data": {
      "text/html": [
       "<div>\n",
       "<style scoped>\n",
       "    .dataframe tbody tr th:only-of-type {\n",
       "        vertical-align: middle;\n",
       "    }\n",
       "\n",
       "    .dataframe tbody tr th {\n",
       "        vertical-align: top;\n",
       "    }\n",
       "\n",
       "    .dataframe thead th {\n",
       "        text-align: right;\n",
       "    }\n",
       "</style>\n",
       "<table border=\"1\" class=\"dataframe\">\n",
       "  <thead>\n",
       "    <tr style=\"text-align: right;\">\n",
       "      <th></th>\n",
       "      <th>PassengerId</th>\n",
       "      <th>Survived</th>\n",
       "      <th>Pclass</th>\n",
       "      <th>Age</th>\n",
       "      <th>SibSp</th>\n",
       "      <th>Parch</th>\n",
       "      <th>Fare</th>\n",
       "    </tr>\n",
       "  </thead>\n",
       "  <tbody>\n",
       "    <tr>\n",
       "      <th>count</th>\n",
       "      <td>891.000000</td>\n",
       "      <td>891.000000</td>\n",
       "      <td>891.000000</td>\n",
       "      <td>714.000000</td>\n",
       "      <td>891.000000</td>\n",
       "      <td>891.000000</td>\n",
       "      <td>891.000000</td>\n",
       "    </tr>\n",
       "    <tr>\n",
       "      <th>mean</th>\n",
       "      <td>446.000000</td>\n",
       "      <td>0.383838</td>\n",
       "      <td>2.308642</td>\n",
       "      <td>29.699118</td>\n",
       "      <td>0.523008</td>\n",
       "      <td>0.381594</td>\n",
       "      <td>32.204208</td>\n",
       "    </tr>\n",
       "    <tr>\n",
       "      <th>std</th>\n",
       "      <td>257.353842</td>\n",
       "      <td>0.486592</td>\n",
       "      <td>0.836071</td>\n",
       "      <td>14.526497</td>\n",
       "      <td>1.102743</td>\n",
       "      <td>0.806057</td>\n",
       "      <td>49.693429</td>\n",
       "    </tr>\n",
       "    <tr>\n",
       "      <th>min</th>\n",
       "      <td>1.000000</td>\n",
       "      <td>0.000000</td>\n",
       "      <td>1.000000</td>\n",
       "      <td>0.420000</td>\n",
       "      <td>0.000000</td>\n",
       "      <td>0.000000</td>\n",
       "      <td>0.000000</td>\n",
       "    </tr>\n",
       "    <tr>\n",
       "      <th>25%</th>\n",
       "      <td>223.500000</td>\n",
       "      <td>0.000000</td>\n",
       "      <td>2.000000</td>\n",
       "      <td>20.125000</td>\n",
       "      <td>0.000000</td>\n",
       "      <td>0.000000</td>\n",
       "      <td>7.910400</td>\n",
       "    </tr>\n",
       "    <tr>\n",
       "      <th>50%</th>\n",
       "      <td>446.000000</td>\n",
       "      <td>0.000000</td>\n",
       "      <td>3.000000</td>\n",
       "      <td>28.000000</td>\n",
       "      <td>0.000000</td>\n",
       "      <td>0.000000</td>\n",
       "      <td>14.454200</td>\n",
       "    </tr>\n",
       "    <tr>\n",
       "      <th>75%</th>\n",
       "      <td>668.500000</td>\n",
       "      <td>1.000000</td>\n",
       "      <td>3.000000</td>\n",
       "      <td>38.000000</td>\n",
       "      <td>1.000000</td>\n",
       "      <td>0.000000</td>\n",
       "      <td>31.000000</td>\n",
       "    </tr>\n",
       "    <tr>\n",
       "      <th>max</th>\n",
       "      <td>891.000000</td>\n",
       "      <td>1.000000</td>\n",
       "      <td>3.000000</td>\n",
       "      <td>80.000000</td>\n",
       "      <td>8.000000</td>\n",
       "      <td>6.000000</td>\n",
       "      <td>512.329200</td>\n",
       "    </tr>\n",
       "  </tbody>\n",
       "</table>\n",
       "</div>"
      ],
      "text/plain": [
       "       PassengerId    Survived      Pclass         Age       SibSp  \\\n",
       "count   891.000000  891.000000  891.000000  714.000000  891.000000   \n",
       "mean    446.000000    0.383838    2.308642   29.699118    0.523008   \n",
       "std     257.353842    0.486592    0.836071   14.526497    1.102743   \n",
       "min       1.000000    0.000000    1.000000    0.420000    0.000000   \n",
       "25%     223.500000    0.000000    2.000000   20.125000    0.000000   \n",
       "50%     446.000000    0.000000    3.000000   28.000000    0.000000   \n",
       "75%     668.500000    1.000000    3.000000   38.000000    1.000000   \n",
       "max     891.000000    1.000000    3.000000   80.000000    8.000000   \n",
       "\n",
       "            Parch        Fare  \n",
       "count  891.000000  891.000000  \n",
       "mean     0.381594   32.204208  \n",
       "std      0.806057   49.693429  \n",
       "min      0.000000    0.000000  \n",
       "25%      0.000000    7.910400  \n",
       "50%      0.000000   14.454200  \n",
       "75%      0.000000   31.000000  \n",
       "max      6.000000  512.329200  "
      ]
     },
     "execution_count": 4,
     "metadata": {},
     "output_type": "execute_result"
    }
   ],
   "source": [
    "train.describe()"
   ]
  },
  {
   "cell_type": "code",
   "execution_count": 5,
   "metadata": {
    "_uuid": "20825cdfa8f90dc4e6135cd8b4f6ba9f10066b3d",
    "collapsed": false
   },
   "outputs": [
    {
     "data": {
      "text/plain": [
       "(418, 11)"
      ]
     },
     "execution_count": 5,
     "metadata": {},
     "output_type": "execute_result"
    }
   ],
   "source": [
    "test = pd.read_csv('data/test.csv') \n",
    "test.shape"
   ]
  },
  {
   "cell_type": "code",
   "execution_count": 6,
   "metadata": {
    "_uuid": "cef5aef9926e7b76751dc2119bc1874cafd4ae7f",
    "collapsed": false
   },
   "outputs": [
    {
     "data": {
      "text/html": [
       "<div>\n",
       "<style scoped>\n",
       "    .dataframe tbody tr th:only-of-type {\n",
       "        vertical-align: middle;\n",
       "    }\n",
       "\n",
       "    .dataframe tbody tr th {\n",
       "        vertical-align: top;\n",
       "    }\n",
       "\n",
       "    .dataframe thead th {\n",
       "        text-align: right;\n",
       "    }\n",
       "</style>\n",
       "<table border=\"1\" class=\"dataframe\">\n",
       "  <thead>\n",
       "    <tr style=\"text-align: right;\">\n",
       "      <th></th>\n",
       "      <th>PassengerId</th>\n",
       "      <th>Pclass</th>\n",
       "      <th>Age</th>\n",
       "      <th>SibSp</th>\n",
       "      <th>Parch</th>\n",
       "      <th>Fare</th>\n",
       "    </tr>\n",
       "  </thead>\n",
       "  <tbody>\n",
       "    <tr>\n",
       "      <th>count</th>\n",
       "      <td>418.000000</td>\n",
       "      <td>418.000000</td>\n",
       "      <td>332.000000</td>\n",
       "      <td>418.000000</td>\n",
       "      <td>418.000000</td>\n",
       "      <td>417.000000</td>\n",
       "    </tr>\n",
       "    <tr>\n",
       "      <th>mean</th>\n",
       "      <td>1100.500000</td>\n",
       "      <td>2.265550</td>\n",
       "      <td>30.272590</td>\n",
       "      <td>0.447368</td>\n",
       "      <td>0.392344</td>\n",
       "      <td>35.627188</td>\n",
       "    </tr>\n",
       "    <tr>\n",
       "      <th>std</th>\n",
       "      <td>120.810458</td>\n",
       "      <td>0.841838</td>\n",
       "      <td>14.181209</td>\n",
       "      <td>0.896760</td>\n",
       "      <td>0.981429</td>\n",
       "      <td>55.907576</td>\n",
       "    </tr>\n",
       "    <tr>\n",
       "      <th>min</th>\n",
       "      <td>892.000000</td>\n",
       "      <td>1.000000</td>\n",
       "      <td>0.170000</td>\n",
       "      <td>0.000000</td>\n",
       "      <td>0.000000</td>\n",
       "      <td>0.000000</td>\n",
       "    </tr>\n",
       "    <tr>\n",
       "      <th>25%</th>\n",
       "      <td>996.250000</td>\n",
       "      <td>1.000000</td>\n",
       "      <td>21.000000</td>\n",
       "      <td>0.000000</td>\n",
       "      <td>0.000000</td>\n",
       "      <td>7.895800</td>\n",
       "    </tr>\n",
       "    <tr>\n",
       "      <th>50%</th>\n",
       "      <td>1100.500000</td>\n",
       "      <td>3.000000</td>\n",
       "      <td>27.000000</td>\n",
       "      <td>0.000000</td>\n",
       "      <td>0.000000</td>\n",
       "      <td>14.454200</td>\n",
       "    </tr>\n",
       "    <tr>\n",
       "      <th>75%</th>\n",
       "      <td>1204.750000</td>\n",
       "      <td>3.000000</td>\n",
       "      <td>39.000000</td>\n",
       "      <td>1.000000</td>\n",
       "      <td>0.000000</td>\n",
       "      <td>31.500000</td>\n",
       "    </tr>\n",
       "    <tr>\n",
       "      <th>max</th>\n",
       "      <td>1309.000000</td>\n",
       "      <td>3.000000</td>\n",
       "      <td>76.000000</td>\n",
       "      <td>8.000000</td>\n",
       "      <td>9.000000</td>\n",
       "      <td>512.329200</td>\n",
       "    </tr>\n",
       "  </tbody>\n",
       "</table>\n",
       "</div>"
      ],
      "text/plain": [
       "       PassengerId      Pclass         Age       SibSp       Parch        Fare\n",
       "count   418.000000  418.000000  332.000000  418.000000  418.000000  417.000000\n",
       "mean   1100.500000    2.265550   30.272590    0.447368    0.392344   35.627188\n",
       "std     120.810458    0.841838   14.181209    0.896760    0.981429   55.907576\n",
       "min     892.000000    1.000000    0.170000    0.000000    0.000000    0.000000\n",
       "25%     996.250000    1.000000   21.000000    0.000000    0.000000    7.895800\n",
       "50%    1100.500000    3.000000   27.000000    0.000000    0.000000   14.454200\n",
       "75%    1204.750000    3.000000   39.000000    1.000000    0.000000   31.500000\n",
       "max    1309.000000    3.000000   76.000000    8.000000    9.000000  512.329200"
      ]
     },
     "execution_count": 6,
     "metadata": {},
     "output_type": "execute_result"
    }
   ],
   "source": [
    "test.describe()"
   ]
  },
  {
   "cell_type": "code",
   "execution_count": 7,
   "metadata": {
    "_uuid": "3a99e54b712e2c9c4f8b68a303750782a6a8fc2c",
    "collapsed": false
   },
   "outputs": [
    {
     "data": {
      "text/plain": [
       "['Sex',\n",
       " 'Cabin',\n",
       " 'Parch',\n",
       " 'Age',\n",
       " 'Embarked',\n",
       " 'PassengerId',\n",
       " 'Pclass',\n",
       " 'Ticket',\n",
       " 'SibSp',\n",
       " 'Fare']"
      ]
     },
     "execution_count": 7,
     "metadata": {},
     "output_type": "execute_result"
    }
   ],
   "source": [
    "features = list(set(test.columns) - {'Name'})\n",
    "features"
   ]
  },
  {
   "cell_type": "code",
   "execution_count": 8,
   "metadata": {
    "_uuid": "3ec88b2d2069b8c64fbd2ad101c0945616a8a4cd",
    "collapsed": true
   },
   "outputs": [],
   "source": [
    "# Impute missing values using the median for numeric columns and the most common value for string columns.\n",
    "from sklearn.base import TransformerMixin\n",
    "class DataFrameImputer(TransformerMixin):\n",
    "    def fit(self, X, y=None):\n",
    "        self.fill = pd.Series([X[c].value_counts().index[0]\n",
    "            if X[c].dtype == np.dtype('O') else X[c].median() for c in X],\n",
    "            index=X.columns)\n",
    "        return self\n",
    "    def transform(self, X, y=None):\n",
    "        return X.fillna(self.fill)"
   ]
  },
  {
   "cell_type": "code",
   "execution_count": 9,
   "metadata": {
    "_uuid": "8f29a7f4f386d838d80ddf8464725380fb5789aa",
    "collapsed": false
   },
   "outputs": [
    {
     "data": {
      "text/html": [
       "<div>\n",
       "<style scoped>\n",
       "    .dataframe tbody tr th:only-of-type {\n",
       "        vertical-align: middle;\n",
       "    }\n",
       "\n",
       "    .dataframe tbody tr th {\n",
       "        vertical-align: top;\n",
       "    }\n",
       "\n",
       "    .dataframe thead th {\n",
       "        text-align: right;\n",
       "    }\n",
       "</style>\n",
       "<table border=\"1\" class=\"dataframe\">\n",
       "  <thead>\n",
       "    <tr style=\"text-align: right;\">\n",
       "      <th></th>\n",
       "      <th>Parch</th>\n",
       "      <th>Age</th>\n",
       "      <th>PassengerId</th>\n",
       "      <th>Pclass</th>\n",
       "      <th>SibSp</th>\n",
       "      <th>Fare</th>\n",
       "    </tr>\n",
       "  </thead>\n",
       "  <tbody>\n",
       "    <tr>\n",
       "      <th>count</th>\n",
       "      <td>1309.000000</td>\n",
       "      <td>1309.000000</td>\n",
       "      <td>1309.000000</td>\n",
       "      <td>1309.000000</td>\n",
       "      <td>1309.000000</td>\n",
       "      <td>1309.000000</td>\n",
       "    </tr>\n",
       "    <tr>\n",
       "      <th>mean</th>\n",
       "      <td>0.385027</td>\n",
       "      <td>29.503186</td>\n",
       "      <td>655.000000</td>\n",
       "      <td>2.294882</td>\n",
       "      <td>0.498854</td>\n",
       "      <td>33.281086</td>\n",
       "    </tr>\n",
       "    <tr>\n",
       "      <th>std</th>\n",
       "      <td>0.865560</td>\n",
       "      <td>12.905241</td>\n",
       "      <td>378.020061</td>\n",
       "      <td>0.837836</td>\n",
       "      <td>1.041658</td>\n",
       "      <td>51.741500</td>\n",
       "    </tr>\n",
       "    <tr>\n",
       "      <th>min</th>\n",
       "      <td>0.000000</td>\n",
       "      <td>0.170000</td>\n",
       "      <td>1.000000</td>\n",
       "      <td>1.000000</td>\n",
       "      <td>0.000000</td>\n",
       "      <td>0.000000</td>\n",
       "    </tr>\n",
       "    <tr>\n",
       "      <th>25%</th>\n",
       "      <td>0.000000</td>\n",
       "      <td>22.000000</td>\n",
       "      <td>328.000000</td>\n",
       "      <td>2.000000</td>\n",
       "      <td>0.000000</td>\n",
       "      <td>7.895800</td>\n",
       "    </tr>\n",
       "    <tr>\n",
       "      <th>50%</th>\n",
       "      <td>0.000000</td>\n",
       "      <td>28.000000</td>\n",
       "      <td>655.000000</td>\n",
       "      <td>3.000000</td>\n",
       "      <td>0.000000</td>\n",
       "      <td>14.454200</td>\n",
       "    </tr>\n",
       "    <tr>\n",
       "      <th>75%</th>\n",
       "      <td>0.000000</td>\n",
       "      <td>35.000000</td>\n",
       "      <td>982.000000</td>\n",
       "      <td>3.000000</td>\n",
       "      <td>1.000000</td>\n",
       "      <td>31.275000</td>\n",
       "    </tr>\n",
       "    <tr>\n",
       "      <th>max</th>\n",
       "      <td>9.000000</td>\n",
       "      <td>80.000000</td>\n",
       "      <td>1309.000000</td>\n",
       "      <td>3.000000</td>\n",
       "      <td>8.000000</td>\n",
       "      <td>512.329200</td>\n",
       "    </tr>\n",
       "  </tbody>\n",
       "</table>\n",
       "</div>"
      ],
      "text/plain": [
       "             Parch          Age  PassengerId       Pclass        SibSp  \\\n",
       "count  1309.000000  1309.000000  1309.000000  1309.000000  1309.000000   \n",
       "mean      0.385027    29.503186   655.000000     2.294882     0.498854   \n",
       "std       0.865560    12.905241   378.020061     0.837836     1.041658   \n",
       "min       0.000000     0.170000     1.000000     1.000000     0.000000   \n",
       "25%       0.000000    22.000000   328.000000     2.000000     0.000000   \n",
       "50%       0.000000    28.000000   655.000000     3.000000     0.000000   \n",
       "75%       0.000000    35.000000   982.000000     3.000000     1.000000   \n",
       "max       9.000000    80.000000  1309.000000     3.000000     8.000000   \n",
       "\n",
       "              Fare  \n",
       "count  1309.000000  \n",
       "mean     33.281086  \n",
       "std      51.741500  \n",
       "min       0.000000  \n",
       "25%       7.895800  \n",
       "50%      14.454200  \n",
       "75%      31.275000  \n",
       "max     512.329200  "
      ]
     },
     "execution_count": 9,
     "metadata": {},
     "output_type": "execute_result"
    }
   ],
   "source": [
    "# Join the features from train and test together before imputing missing values,\n",
    "# in case their distribution is slightly different\n",
    "common = train[features].append(test[features])\n",
    "common = DataFrameImputer().fit_transform(common)\n",
    "common.describe()"
   ]
  },
  {
   "cell_type": "code",
   "execution_count": 10,
   "metadata": {
    "_uuid": "037754b5e6e62c7daa9990d21dc19bb5d41d5b54",
    "collapsed": true
   },
   "outputs": [],
   "source": [
    "# Change categorical features  to columns of integer values\n",
    "from sklearn.preprocessing import LabelEncoder\n",
    "le = LabelEncoder()\n",
    "for feature in features:\n",
    "    common[feature] = le.fit_transform(common[feature])"
   ]
  },
  {
   "cell_type": "code",
   "execution_count": 11,
   "metadata": {
    "_uuid": "16b960a75ba59ea2c71cb17da960d46771204117",
    "collapsed": false
   },
   "outputs": [],
   "source": [
    "train2 = common[0:train.shape[0]]\n",
    "test2 = common[train.shape[0]::]"
   ]
  },
  {
   "cell_type": "code",
   "execution_count": 12,
   "metadata": {
    "_uuid": "8f1886699b54d478d305b9f6103a9d3000651e52",
    "collapsed": false
   },
   "outputs": [
    {
     "data": {
      "text/html": [
       "<div>\n",
       "<style scoped>\n",
       "    .dataframe tbody tr th:only-of-type {\n",
       "        vertical-align: middle;\n",
       "    }\n",
       "\n",
       "    .dataframe tbody tr th {\n",
       "        vertical-align: top;\n",
       "    }\n",
       "\n",
       "    .dataframe thead th {\n",
       "        text-align: right;\n",
       "    }\n",
       "</style>\n",
       "<table border=\"1\" class=\"dataframe\">\n",
       "  <thead>\n",
       "    <tr style=\"text-align: right;\">\n",
       "      <th></th>\n",
       "      <th>Sex</th>\n",
       "      <th>Cabin</th>\n",
       "      <th>Parch</th>\n",
       "      <th>Age</th>\n",
       "      <th>Embarked</th>\n",
       "      <th>PassengerId</th>\n",
       "      <th>Pclass</th>\n",
       "      <th>Ticket</th>\n",
       "      <th>SibSp</th>\n",
       "      <th>Fare</th>\n",
       "    </tr>\n",
       "  </thead>\n",
       "  <tbody>\n",
       "    <tr>\n",
       "      <th>Sex</th>\n",
       "      <td>1.000000</td>\n",
       "      <td>-0.074228</td>\n",
       "      <td>-0.245489</td>\n",
       "      <td>0.078462</td>\n",
       "      <td>0.108262</td>\n",
       "      <td>0.042939</td>\n",
       "      <td>0.131900</td>\n",
       "      <td>0.060416</td>\n",
       "      <td>-0.123164</td>\n",
       "      <td>-0.266027</td>\n",
       "    </tr>\n",
       "    <tr>\n",
       "      <th>Cabin</th>\n",
       "      <td>-0.074228</td>\n",
       "      <td>1.000000</td>\n",
       "      <td>0.014164</td>\n",
       "      <td>0.006034</td>\n",
       "      <td>0.071185</td>\n",
       "      <td>-0.025823</td>\n",
       "      <td>-0.062211</td>\n",
       "      <td>-0.004401</td>\n",
       "      <td>0.008424</td>\n",
       "      <td>0.057022</td>\n",
       "    </tr>\n",
       "    <tr>\n",
       "      <th>Parch</th>\n",
       "      <td>-0.245489</td>\n",
       "      <td>0.014164</td>\n",
       "      <td>1.000000</td>\n",
       "      <td>-0.165856</td>\n",
       "      <td>0.039798</td>\n",
       "      <td>-0.001652</td>\n",
       "      <td>0.018443</td>\n",
       "      <td>0.019936</td>\n",
       "      <td>0.423338</td>\n",
       "      <td>0.361297</td>\n",
       "    </tr>\n",
       "    <tr>\n",
       "      <th>Age</th>\n",
       "      <td>0.078462</td>\n",
       "      <td>0.006034</td>\n",
       "      <td>-0.165856</td>\n",
       "      <td>1.000000</td>\n",
       "      <td>-0.016476</td>\n",
       "      <td>0.034809</td>\n",
       "      <td>-0.341013</td>\n",
       "      <td>-0.072190</td>\n",
       "      <td>-0.250597</td>\n",
       "      <td>0.123296</td>\n",
       "    </tr>\n",
       "    <tr>\n",
       "      <th>Embarked</th>\n",
       "      <td>0.108262</td>\n",
       "      <td>0.071185</td>\n",
       "      <td>0.039798</td>\n",
       "      <td>-0.016476</td>\n",
       "      <td>1.000000</td>\n",
       "      <td>0.013128</td>\n",
       "      <td>0.162098</td>\n",
       "      <td>0.000032</td>\n",
       "      <td>0.065635</td>\n",
       "      <td>-0.155600</td>\n",
       "    </tr>\n",
       "    <tr>\n",
       "      <th>PassengerId</th>\n",
       "      <td>0.042939</td>\n",
       "      <td>-0.025823</td>\n",
       "      <td>-0.001652</td>\n",
       "      <td>0.034809</td>\n",
       "      <td>0.013128</td>\n",
       "      <td>1.000000</td>\n",
       "      <td>-0.035144</td>\n",
       "      <td>-0.056470</td>\n",
       "      <td>-0.065229</td>\n",
       "      <td>-0.007500</td>\n",
       "    </tr>\n",
       "    <tr>\n",
       "      <th>Pclass</th>\n",
       "      <td>0.131900</td>\n",
       "      <td>-0.062211</td>\n",
       "      <td>0.018443</td>\n",
       "      <td>-0.341013</td>\n",
       "      <td>0.162098</td>\n",
       "      <td>-0.035144</td>\n",
       "      <td>1.000000</td>\n",
       "      <td>0.322475</td>\n",
       "      <td>0.078141</td>\n",
       "      <td>-0.721772</td>\n",
       "    </tr>\n",
       "    <tr>\n",
       "      <th>Ticket</th>\n",
       "      <td>0.060416</td>\n",
       "      <td>-0.004401</td>\n",
       "      <td>0.019936</td>\n",
       "      <td>-0.072190</td>\n",
       "      <td>0.000032</td>\n",
       "      <td>-0.056470</td>\n",
       "      <td>0.322475</td>\n",
       "      <td>1.000000</td>\n",
       "      <td>0.068976</td>\n",
       "      <td>-0.169863</td>\n",
       "    </tr>\n",
       "    <tr>\n",
       "      <th>SibSp</th>\n",
       "      <td>-0.123164</td>\n",
       "      <td>0.008424</td>\n",
       "      <td>0.423338</td>\n",
       "      <td>-0.250597</td>\n",
       "      <td>0.065635</td>\n",
       "      <td>-0.065229</td>\n",
       "      <td>0.078141</td>\n",
       "      <td>0.068976</td>\n",
       "      <td>1.000000</td>\n",
       "      <td>0.369257</td>\n",
       "    </tr>\n",
       "    <tr>\n",
       "      <th>Fare</th>\n",
       "      <td>-0.266027</td>\n",
       "      <td>0.057022</td>\n",
       "      <td>0.361297</td>\n",
       "      <td>0.123296</td>\n",
       "      <td>-0.155600</td>\n",
       "      <td>-0.007500</td>\n",
       "      <td>-0.721772</td>\n",
       "      <td>-0.169863</td>\n",
       "      <td>0.369257</td>\n",
       "      <td>1.000000</td>\n",
       "    </tr>\n",
       "  </tbody>\n",
       "</table>\n",
       "</div>"
      ],
      "text/plain": [
       "                  Sex     Cabin     Parch       Age  Embarked  PassengerId  \\\n",
       "Sex          1.000000 -0.074228 -0.245489  0.078462  0.108262     0.042939   \n",
       "Cabin       -0.074228  1.000000  0.014164  0.006034  0.071185    -0.025823   \n",
       "Parch       -0.245489  0.014164  1.000000 -0.165856  0.039798    -0.001652   \n",
       "Age          0.078462  0.006034 -0.165856  1.000000 -0.016476     0.034809   \n",
       "Embarked     0.108262  0.071185  0.039798 -0.016476  1.000000     0.013128   \n",
       "PassengerId  0.042939 -0.025823 -0.001652  0.034809  0.013128     1.000000   \n",
       "Pclass       0.131900 -0.062211  0.018443 -0.341013  0.162098    -0.035144   \n",
       "Ticket       0.060416 -0.004401  0.019936 -0.072190  0.000032    -0.056470   \n",
       "SibSp       -0.123164  0.008424  0.423338 -0.250597  0.065635    -0.065229   \n",
       "Fare        -0.266027  0.057022  0.361297  0.123296 -0.155600    -0.007500   \n",
       "\n",
       "               Pclass    Ticket     SibSp      Fare  \n",
       "Sex          0.131900  0.060416 -0.123164 -0.266027  \n",
       "Cabin       -0.062211 -0.004401  0.008424  0.057022  \n",
       "Parch        0.018443  0.019936  0.423338  0.361297  \n",
       "Age         -0.341013 -0.072190 -0.250597  0.123296  \n",
       "Embarked     0.162098  0.000032  0.065635 -0.155600  \n",
       "PassengerId -0.035144 -0.056470 -0.065229 -0.007500  \n",
       "Pclass       1.000000  0.322475  0.078141 -0.721772  \n",
       "Ticket       0.322475  1.000000  0.068976 -0.169863  \n",
       "SibSp        0.078141  0.068976  1.000000  0.369257  \n",
       "Fare        -0.721772 -0.169863  0.369257  1.000000  "
      ]
     },
     "execution_count": 12,
     "metadata": {},
     "output_type": "execute_result"
    }
   ],
   "source": [
    "correlation_matrix = train2.corr()\n",
    "correlation_matrix"
   ]
  },
  {
   "cell_type": "code",
   "execution_count": 13,
   "metadata": {
    "_uuid": "0ab7efe9cf12a15281f17cdf80e644d945767959",
    "collapsed": false
   },
   "outputs": [
    {
     "data": {
      "text/plain": [
       "<matplotlib.axes._subplots.AxesSubplot at 0x1a22c0c668>"
      ]
     },
     "execution_count": 13,
     "metadata": {},
     "output_type": "execute_result"
    },
    {
     "data": {
      "image/png": "[encoded data removed]",
      "text/plain": [
       "<Figure size 1008x864 with 2 Axes>"
      ]
     },
     "metadata": {
      "needs_background": "light"
     },
     "output_type": "display_data"
    }
   ],
   "source": [
    "plt.figure(figsize=(14,12))\n",
    "plt.title('Pearson Correlation of Features', y=1.05, size=15)\n",
    "sns.heatmap(correlation_matrix)"
   ]
  },
  {
   "cell_type": "code",
   "execution_count": 14,
   "metadata": {
    "_uuid": "3bb68dff9155df299ba31384c2d67d3ad36f2f67",
    "collapsed": false
   },
   "outputs": [
    {
     "data": {
      "text/html": [
       "<div>\n",
       "<style scoped>\n",
       "    .dataframe tbody tr th:only-of-type {\n",
       "        vertical-align: middle;\n",
       "    }\n",
       "\n",
       "    .dataframe tbody tr th {\n",
       "        vertical-align: top;\n",
       "    }\n",
       "\n",
       "    .dataframe thead th {\n",
       "        text-align: right;\n",
       "    }\n",
       "</style>\n",
       "<table border=\"1\" class=\"dataframe\">\n",
       "  <thead>\n",
       "    <tr style=\"text-align: right;\">\n",
       "      <th></th>\n",
       "      <th>Sex</th>\n",
       "      <th>Age</th>\n",
       "      <th>Pclass</th>\n",
       "      <th>Parch</th>\n",
       "      <th>Embarked</th>\n",
       "      <th>Cabin</th>\n",
       "    </tr>\n",
       "  </thead>\n",
       "  <tbody>\n",
       "    <tr>\n",
       "      <th>Sex</th>\n",
       "      <td>1.000000</td>\n",
       "      <td>0.078462</td>\n",
       "      <td>0.131900</td>\n",
       "      <td>-0.245489</td>\n",
       "      <td>0.108262</td>\n",
       "      <td>-0.074228</td>\n",
       "    </tr>\n",
       "    <tr>\n",
       "      <th>Age</th>\n",
       "      <td>0.078462</td>\n",
       "      <td>1.000000</td>\n",
       "      <td>-0.341013</td>\n",
       "      <td>-0.165856</td>\n",
       "      <td>-0.016476</td>\n",
       "      <td>0.006034</td>\n",
       "    </tr>\n",
       "    <tr>\n",
       "      <th>Pclass</th>\n",
       "      <td>0.131900</td>\n",
       "      <td>-0.341013</td>\n",
       "      <td>1.000000</td>\n",
       "      <td>0.018443</td>\n",
       "      <td>0.162098</td>\n",
       "      <td>-0.062211</td>\n",
       "    </tr>\n",
       "    <tr>\n",
       "      <th>Parch</th>\n",
       "      <td>-0.245489</td>\n",
       "      <td>-0.165856</td>\n",
       "      <td>0.018443</td>\n",
       "      <td>1.000000</td>\n",
       "      <td>0.039798</td>\n",
       "      <td>0.014164</td>\n",
       "    </tr>\n",
       "    <tr>\n",
       "      <th>Embarked</th>\n",
       "      <td>0.108262</td>\n",
       "      <td>-0.016476</td>\n",
       "      <td>0.162098</td>\n",
       "      <td>0.039798</td>\n",
       "      <td>1.000000</td>\n",
       "      <td>0.071185</td>\n",
       "    </tr>\n",
       "    <tr>\n",
       "      <th>Cabin</th>\n",
       "      <td>-0.074228</td>\n",
       "      <td>0.006034</td>\n",
       "      <td>-0.062211</td>\n",
       "      <td>0.014164</td>\n",
       "      <td>0.071185</td>\n",
       "      <td>1.000000</td>\n",
       "    </tr>\n",
       "  </tbody>\n",
       "</table>\n",
       "</div>"
      ],
      "text/plain": [
       "               Sex       Age    Pclass     Parch  Embarked     Cabin\n",
       "Sex       1.000000  0.078462  0.131900 -0.245489  0.108262 -0.074228\n",
       "Age       0.078462  1.000000 -0.341013 -0.165856 -0.016476  0.006034\n",
       "Pclass    0.131900 -0.341013  1.000000  0.018443  0.162098 -0.062211\n",
       "Parch    -0.245489 -0.165856  0.018443  1.000000  0.039798  0.014164\n",
       "Embarked  0.108262 -0.016476  0.162098  0.039798  1.000000  0.071185\n",
       "Cabin    -0.074228  0.006034 -0.062211  0.014164  0.071185  1.000000"
      ]
     },
     "execution_count": 14,
     "metadata": {},
     "output_type": "execute_result"
    }
   ],
   "source": [
    "features2 = ['Sex','Age','Pclass','Parch','Embarked', 'Cabin']\n",
    "train3 = train2[features2]\n",
    "test3 = test2[features2]\n",
    "correlation_matrix2 = train3.corr()\n",
    "correlation_matrix2"
   ]
  },
  {
   "cell_type": "code",
   "execution_count": 15,
   "metadata": {
    "_uuid": "dd4b78f2c5a870baa532997f6bbd79be457c6ab3",
    "collapsed": false
   },
   "outputs": [
    {
     "data": {
      "text/plain": [
       "<matplotlib.axes._subplots.AxesSubplot at 0x1a233ee2b0>"
      ]
     },
     "execution_count": 15,
     "metadata": {},
     "output_type": "execute_result"
    },
    {
     "data": {
      "image/png": "[encoded data removed]",
      "text/plain": [
       "<Figure size 1008x864 with 2 Axes>"
      ]
     },
     "metadata": {
      "needs_background": "light"
     },
     "output_type": "display_data"
    }
   ],
   "source": [
    "plt.figure(figsize=(14,12))\n",
    "plt.title('Pearson Correlation of Features', y=1.05, size=15)\n",
    "sns.heatmap(correlation_matrix2)"
   ]
  },
  {
   "cell_type": "code",
   "execution_count": 16,
   "metadata": {
    "_uuid": "f7a79b54a927cbaa1dacb7bfb0756ac24b9fd86e",
    "collapsed": true
   },
   "outputs": [],
   "source": [
    "train_X = train3.values\n",
    "test_X = test3.values\n",
    "train_y = train['Survived']"
   ]
  },
  {
   "cell_type": "markdown",
   "metadata": {
    "_uuid": "46a9696ad4f4d2885632e23c3036400d4a62078d"
   },
   "source": [
    "# Split dataset"
   ]
  },
  {
   "cell_type": "code",
   "execution_count": 17,
   "metadata": {
    "_uuid": "cea53c0e62a582411a867b0d7345d9d5ab6cd804",
    "collapsed": false
   },
   "outputs": [
    {
     "name": "stdout",
     "output_type": "stream",
     "text": [
      "712\n"
     ]
    }
   ],
   "source": [
    "from sklearn.utils import shuffle\n",
    "\n",
    "df_train = train3.join(pd.DataFrame({'Survived': train_y}))\n",
    "size = int(df_train.shape[0] * 0.8)\n",
    "print(size)\n",
    "train4 = shuffle(df_train)\n",
    "train_80 = train4[:size]\n",
    "train_20 = train4[size:]"
   ]
  },
  {
   "cell_type": "code",
   "execution_count": 18,
   "metadata": {
    "_uuid": "68daebd8bd41413cbccbbccb41d3e91550181ab9",
    "collapsed": true
   },
   "outputs": [],
   "source": [
    "cv_train_X = train_80[features2].values\n",
    "cv_test_X = train_20[features2].values\n",
    "cv_train_y = train_80['Survived']\n",
    "cv_test_y = train_20['Survived']"
   ]
  },
  {
   "cell_type": "markdown",
   "metadata": {
    "_uuid": "f88fa873852639908a40cc6f5cb4c62a49b8ac12"
   },
   "source": [
    "# Logistic Regression"
   ]
  },
  {
   "cell_type": "code",
   "execution_count": 19,
   "metadata": {
    "_uuid": "0e703586bd8ed7a7cc5e915d668b30318c9df694",
    "collapsed": false
   },
   "outputs": [
    {
     "name": "stdout",
     "output_type": "stream",
     "text": [
      "LogisticRegression(C=1.0, class_weight=None, dual=False, fit_intercept=True,\n",
      "          intercept_scaling=1, max_iter=100, multi_class='ovr', n_jobs=1,\n",
      "          penalty='l2', random_state=None, solver='liblinear', tol=0.0001,\n",
      "          verbose=0, warm_start=False)\n"
     ]
    }
   ],
   "source": [
    "from sklearn.linear_model import LogisticRegression\n",
    "\n",
    "model = LogisticRegression()\n",
    "model.fit(train_X, train_y)\n",
    "print(model)"
   ]
  },
  {
   "cell_type": "code",
   "execution_count": 20,
   "metadata": {
    "_uuid": "5c3e8729ee2dd0457a7f199d029cef319c4cc053",
    "collapsed": false
   },
   "outputs": [
    {
     "data": {
      "text/plain": [
       "0.8013468013468014"
      ]
     },
     "execution_count": 20,
     "metadata": {},
     "output_type": "execute_result"
    }
   ],
   "source": [
    "from sklearn.metrics import accuracy_score\n",
    "y_pred = model.predict(train_X)\n",
    "accuracy_score(train_y, y_pred)"
   ]
  },
  {
   "cell_type": "code",
   "execution_count": 21,
   "metadata": {
    "_uuid": "368dbca4f21c2babaa34068d6f5ca98bfa93a8e7",
    "collapsed": false
   },
   "outputs": [
    {
     "data": {
      "text/plain": [
       "0.7932960893854749"
      ]
     },
     "execution_count": 21,
     "metadata": {},
     "output_type": "execute_result"
    }
   ],
   "source": [
    "# Cross-validation\n",
    "model2 = LogisticRegression()\n",
    "model2.fit(cv_train_X, cv_train_y)\n",
    "y_pred = model2.predict(cv_test_X)\n",
    "accuracy_score(cv_test_y, y_pred)"
   ]
  },
  {
   "cell_type": "code",
   "execution_count": 22,
   "metadata": {
    "_uuid": "21cea251ad66844d0d51e50288d2b13fe2ff48e8",
    "collapsed": true
   },
   "outputs": [],
   "source": [
    "# Make predictions\n",
    "preds = model.predict(test_X)"
   ]
  },
  {
   "cell_type": "code",
   "execution_count": 23,
   "metadata": {
    "_uuid": "151ee4e6c2b2fe8b5848988b716962db303fed28",
    "collapsed": true
   },
   "outputs": [],
   "source": [
    "submission = pd.DataFrame({ 'PassengerId': test['PassengerId'],\n",
    "                            'Survived': preds })\n",
    "submission.to_csv('submission.csv', index=False)"
   ]
  },
  {
   "cell_type": "markdown",
   "metadata": {
    "_uuid": "1e596430c236c091091308224dc5a6b030f334c5"
   },
   "source": [
    "# XGBoost"
   ]
  },
  {
   "cell_type": "code",
   "execution_count": 24,
   "metadata": {
    "_uuid": "5fca1b8ec7d36be407fcb70557ed926d3441cd49",
    "collapsed": true
   },
   "outputs": [],
   "source": [
    "import xgboost as xgb\n",
    "\n",
    "gbm = xgb.XGBClassifier(max_depth=3, n_estimators=300, learning_rate=0.05).fit(train_X, train_y)"
   ]
  },
  {
   "cell_type": "code",
   "execution_count": 25,
   "metadata": {
    "_uuid": "22994b5ab0d38358a1b3e33b808e9c331d507013",
    "collapsed": false
   },
   "outputs": [
    {
     "name": "stderr",
     "output_type": "stream",
     "text": [
      "/Users/leyla/anaconda/envs/py36/lib/python3.6/site-packages/sklearn/preprocessing/label.py:151: DeprecationWarning: The truth value of an empty array is ambiguous. Returning False, but in future this will result in an error. Use `array.size > 0` to check that an array is not empty.\n",
      "  if diff:\n"
     ]
    },
    {
     "data": {
      "text/plain": [
       "0.8720538720538721"
      ]
     },
     "execution_count": 25,
     "metadata": {},
     "output_type": "execute_result"
    }
   ],
   "source": [
    "y_pred = gbm.predict(train_X)\n",
    "accuracy_score(train_y, y_pred)"
   ]
  },
  {
   "cell_type": "code",
   "execution_count": 26,
   "metadata": {
    "_uuid": "cccd005fcb680a81cb88dee154086ad4ca2523ed",
    "collapsed": false
   },
   "outputs": [
    {
     "name": "stderr",
     "output_type": "stream",
     "text": [
      "/Users/leyla/anaconda/envs/py36/lib/python3.6/site-packages/sklearn/preprocessing/label.py:151: DeprecationWarning: The truth value of an empty array is ambiguous. Returning False, but in future this will result in an error. Use `array.size > 0` to check that an array is not empty.\n",
      "  if diff:\n"
     ]
    },
    {
     "data": {
      "text/plain": [
       "0.7988826815642458"
      ]
     },
     "execution_count": 26,
     "metadata": {},
     "output_type": "execute_result"
    }
   ],
   "source": [
    "# Cross-validation\n",
    "gbm2 = xgb.XGBClassifier(max_depth=3, n_estimators=300, learning_rate=0.05).fit(cv_train_X, cv_train_y)\n",
    "y_pred = gbm2.predict(cv_test_X)\n",
    "accuracy_score(cv_test_y, y_pred)"
   ]
  },
  {
   "cell_type": "code",
   "execution_count": 27,
   "metadata": {
    "_uuid": "6e6f03a1832afeecabe08130a77445fe70eb718b",
    "collapsed": false
   },
   "outputs": [
    {
     "name": "stderr",
     "output_type": "stream",
     "text": [
      "/Users/leyla/anaconda/envs/py36/lib/python3.6/site-packages/sklearn/preprocessing/label.py:151: DeprecationWarning: The truth value of an empty array is ambiguous. Returning False, but in future this will result in an error. Use `array.size > 0` to check that an array is not empty.\n",
      "  if diff:\n"
     ]
    }
   ],
   "source": [
    "preds2 = gbm.predict(test_X)"
   ]
  },
  {
   "cell_type": "code",
   "execution_count": 28,
   "metadata": {
    "_uuid": "39b8c7eaa32f6f53665a91e87a912a06afdce778",
    "collapsed": true
   },
   "outputs": [],
   "source": [
    "submission2 = pd.DataFrame({ 'PassengerId': test['PassengerId'],\n",
    "                             'Survived': preds2 })\n",
    "submission2.to_csv('submission_.csv', index=False)"
   ]
  },
  {
   "cell_type": "markdown",
   "metadata": {},
   "source": [
    "## Tip\n",
    "\n",
    "If you want to drive up your score try to play with XGBoost parameters / features, try to use CatBoost"
   ]
  },
  {
   "cell_type": "markdown",
   "metadata": {},
   "source": [
    "## Grid Search"
   ]
  },
  {
   "cell_type": "code",
   "execution_count": 29,
   "metadata": {
    "collapsed": true
   },
   "outputs": [],
   "source": [
    "# is used all features\n",
    "\n",
    "train_X = train2.values\n",
    "test_X = test2.values\n",
    "train_y = train['Survived']"
   ]
  },
  {
   "cell_type": "code",
   "execution_count": 30,
   "metadata": {
    "collapsed": false
   },
   "outputs": [],
   "source": [
    "import warnings\n",
    "\n",
    "warnings.filterwarnings(module='sklearn*', action='ignore', category=DeprecationWarning)"
   ]
  },
  {
   "cell_type": "code",
   "execution_count": 37,
   "metadata": {
    "collapsed": false
   },
   "outputs": [
    {
     "data": {
      "text/plain": [
       "GridSearchCV(cv=5, error_score='raise',\n",
       "       estimator=XGBClassifier(base_score=0.5, booster='gbtree', colsample_bylevel=1,\n",
       "       colsample_bytree=1, gamma=0, learning_rate=0.1, max_delta_step=0,\n",
       "       max_depth=3, min_child_weight=1, missing=None, n_estimators=100,\n",
       "       n_jobs=1, nthread=None, objective='binary:logistic', random_state=0,\n",
       "       reg_alpha=0, reg_lambda=1, scale_pos_weight=1, seed=None,\n",
       "       silent=True, subsample=1),\n",
       "       fit_params=None, iid=True, n_jobs=1,\n",
       "       param_grid={'learning_rate': [0.005, 0.01, 0.015], 'n_estimators': [300], 'max_depth': [9, 10, 12, 15, 20], 'gamma': [0, 0.01, 0.05], 'subsample': [0.6, 0.7, 0.8], 'colsample_bytree': [0.6, 0.7, 0.8]},\n",
       "       pre_dispatch='2*n_jobs', refit=True, return_train_score='warn',\n",
       "       scoring=None, verbose=0)"
      ]
     },
     "execution_count": 37,
     "metadata": {},
     "output_type": "execute_result"
    }
   ],
   "source": [
    "from sklearn import model_selection\n",
    "import xgboost as xgb\n",
    "\n",
    "# XGBoost - sklearn method\n",
    "gbm = xgb.XGBClassifier()\n",
    "\n",
    "xgb_params = {\n",
    "'learning_rate': [0.005, 0.01, 0.015],\n",
    "'n_estimators': [300],\n",
    "'max_depth': [9, 10, 12, 15, 20],\n",
    "'gamma': [0, 0.01, 0.05],\n",
    "'subsample': [0.6, 0.7, 0.8],\n",
    "'colsample_bytree': [0.6, 0.7, 0.8]\n",
    "}\n",
    "\n",
    "grid = model_selection.GridSearchCV(gbm, xgb_params, cv=5)\n",
    "grid.fit(train_X,train_y)"
   ]
  },
  {
   "cell_type": "code",
   "execution_count": 38,
   "metadata": {
    "collapsed": false
   },
   "outputs": [
    {
     "name": "stdout",
     "output_type": "stream",
     "text": [
      "0.83052750 (+/-0.060) for {'colsample_bytree': 0.6, 'gamma': 0, 'learning_rate': 0.005, 'max_depth': 9, 'n_estimators': 300, 'subsample': 0.6}\n",
      "0.83052750 (+/-0.064) for {'colsample_bytree': 0.6, 'gamma': 0, 'learning_rate': 0.005, 'max_depth': 9, 'n_estimators': 300, 'subsample': 0.7}\n",
      "0.83164983 (+/-0.071) for {'colsample_bytree': 0.6, 'gamma': 0, 'learning_rate': 0.005, 'max_depth': 9, 'n_estimators': 300, 'subsample': 0.8}\n",
      "0.82940516 (+/-0.059) for {'colsample_bytree': 0.6, 'gamma': 0, 'learning_rate': 0.005, 'max_depth': 10, 'n_estimators': 300, 'subsample': 0.6}\n",
      "0.83164983 (+/-0.074) for {'colsample_bytree': 0.6, 'gamma': 0, 'learning_rate': 0.005, 'max_depth': 10, 'n_estimators': 300, 'subsample': 0.7}\n",
      "0.83052750 (+/-0.071) for {'colsample_bytree': 0.6, 'gamma': 0, 'learning_rate': 0.005, 'max_depth': 10, 'n_estimators': 300, 'subsample': 0.8}\n",
      "0.82940516 (+/-0.059) for {'colsample_bytree': 0.6, 'gamma': 0, 'learning_rate': 0.005, 'max_depth': 12, 'n_estimators': 300, 'subsample': 0.6}\n",
      "0.83277217 (+/-0.074) for {'colsample_bytree': 0.6, 'gamma': 0, 'learning_rate': 0.005, 'max_depth': 12, 'n_estimators': 300, 'subsample': 0.7}\n",
      "0.82716049 (+/-0.071) for {'colsample_bytree': 0.6, 'gamma': 0, 'learning_rate': 0.005, 'max_depth': 12, 'n_estimators': 300, 'subsample': 0.8}\n",
      "0.82940516 (+/-0.059) for {'colsample_bytree': 0.6, 'gamma': 0, 'learning_rate': 0.005, 'max_depth': 15, 'n_estimators': 300, 'subsample': 0.6}\n",
      "0.83277217 (+/-0.078) for {'colsample_bytree': 0.6, 'gamma': 0, 'learning_rate': 0.005, 'max_depth': 15, 'n_estimators': 300, 'subsample': 0.7}\n",
      "0.82940516 (+/-0.073) for {'colsample_bytree': 0.6, 'gamma': 0, 'learning_rate': 0.005, 'max_depth': 15, 'n_estimators': 300, 'subsample': 0.8}\n",
      "0.82940516 (+/-0.059) for {'colsample_bytree': 0.6, 'gamma': 0, 'learning_rate': 0.005, 'max_depth': 20, 'n_estimators': 300, 'subsample': 0.6}\n",
      "0.83277217 (+/-0.074) for {'colsample_bytree': 0.6, 'gamma': 0, 'learning_rate': 0.005, 'max_depth': 20, 'n_estimators': 300, 'subsample': 0.7}\n",
      "0.83052750 (+/-0.074) for {'colsample_bytree': 0.6, 'gamma': 0, 'learning_rate': 0.005, 'max_depth': 20, 'n_estimators': 300, 'subsample': 0.8}\n",
      "0.83726150 (+/-0.055) for {'colsample_bytree': 0.6, 'gamma': 0, 'learning_rate': 0.01, 'max_depth': 9, 'n_estimators': 300, 'subsample': 0.6}\n",
      "0.83501684 (+/-0.060) for {'colsample_bytree': 0.6, 'gamma': 0, 'learning_rate': 0.01, 'max_depth': 9, 'n_estimators': 300, 'subsample': 0.7}\n",
      "0.82940516 (+/-0.069) for {'colsample_bytree': 0.6, 'gamma': 0, 'learning_rate': 0.01, 'max_depth': 9, 'n_estimators': 300, 'subsample': 0.8}\n",
      "0.83389450 (+/-0.060) for {'colsample_bytree': 0.6, 'gamma': 0, 'learning_rate': 0.01, 'max_depth': 10, 'n_estimators': 300, 'subsample': 0.6}\n",
      "0.83501684 (+/-0.059) for {'colsample_bytree': 0.6, 'gamma': 0, 'learning_rate': 0.01, 'max_depth': 10, 'n_estimators': 300, 'subsample': 0.7}\n",
      "0.83164983 (+/-0.071) for {'colsample_bytree': 0.6, 'gamma': 0, 'learning_rate': 0.01, 'max_depth': 10, 'n_estimators': 300, 'subsample': 0.8}\n",
      "0.83613917 (+/-0.060) for {'colsample_bytree': 0.6, 'gamma': 0, 'learning_rate': 0.01, 'max_depth': 12, 'n_estimators': 300, 'subsample': 0.6}\n",
      "0.83726150 (+/-0.060) for {'colsample_bytree': 0.6, 'gamma': 0, 'learning_rate': 0.01, 'max_depth': 12, 'n_estimators': 300, 'subsample': 0.7}\n",
      "0.83164983 (+/-0.071) for {'colsample_bytree': 0.6, 'gamma': 0, 'learning_rate': 0.01, 'max_depth': 12, 'n_estimators': 300, 'subsample': 0.8}\n",
      "0.83389450 (+/-0.058) for {'colsample_bytree': 0.6, 'gamma': 0, 'learning_rate': 0.01, 'max_depth': 15, 'n_estimators': 300, 'subsample': 0.6}\n",
      "0.83726150 (+/-0.060) for {'colsample_bytree': 0.6, 'gamma': 0, 'learning_rate': 0.01, 'max_depth': 15, 'n_estimators': 300, 'subsample': 0.7}\n",
      "0.82940516 (+/-0.068) for {'colsample_bytree': 0.6, 'gamma': 0, 'learning_rate': 0.01, 'max_depth': 15, 'n_estimators': 300, 'subsample': 0.8}\n",
      "0.83389450 (+/-0.058) for {'colsample_bytree': 0.6, 'gamma': 0, 'learning_rate': 0.01, 'max_depth': 20, 'n_estimators': 300, 'subsample': 0.6}\n",
      "0.83613917 (+/-0.063) for {'colsample_bytree': 0.6, 'gamma': 0, 'learning_rate': 0.01, 'max_depth': 20, 'n_estimators': 300, 'subsample': 0.7}\n",
      "0.82828283 (+/-0.067) for {'colsample_bytree': 0.6, 'gamma': 0, 'learning_rate': 0.01, 'max_depth': 20, 'n_estimators': 300, 'subsample': 0.8}\n",
      "0.82603816 (+/-0.092) for {'colsample_bytree': 0.6, 'gamma': 0, 'learning_rate': 0.015, 'max_depth': 9, 'n_estimators': 300, 'subsample': 0.6}\n",
      "0.82828283 (+/-0.079) for {'colsample_bytree': 0.6, 'gamma': 0, 'learning_rate': 0.015, 'max_depth': 9, 'n_estimators': 300, 'subsample': 0.7}\n",
      "0.82042649 (+/-0.101) for {'colsample_bytree': 0.6, 'gamma': 0, 'learning_rate': 0.015, 'max_depth': 9, 'n_estimators': 300, 'subsample': 0.8}\n",
      "0.82267116 (+/-0.078) for {'colsample_bytree': 0.6, 'gamma': 0, 'learning_rate': 0.015, 'max_depth': 10, 'n_estimators': 300, 'subsample': 0.6}\n",
      "0.83052750 (+/-0.078) for {'colsample_bytree': 0.6, 'gamma': 0, 'learning_rate': 0.015, 'max_depth': 10, 'n_estimators': 300, 'subsample': 0.7}\n",
      "0.81818182 (+/-0.098) for {'colsample_bytree': 0.6, 'gamma': 0, 'learning_rate': 0.015, 'max_depth': 10, 'n_estimators': 300, 'subsample': 0.8}\n",
      "0.82491582 (+/-0.085) for {'colsample_bytree': 0.6, 'gamma': 0, 'learning_rate': 0.015, 'max_depth': 12, 'n_estimators': 300, 'subsample': 0.6}\n",
      "0.83052750 (+/-0.077) for {'colsample_bytree': 0.6, 'gamma': 0, 'learning_rate': 0.015, 'max_depth': 12, 'n_estimators': 300, 'subsample': 0.7}\n",
      "0.82154882 (+/-0.097) for {'colsample_bytree': 0.6, 'gamma': 0, 'learning_rate': 0.015, 'max_depth': 12, 'n_estimators': 300, 'subsample': 0.8}\n",
      "0.82491582 (+/-0.085) for {'colsample_bytree': 0.6, 'gamma': 0, 'learning_rate': 0.015, 'max_depth': 15, 'n_estimators': 300, 'subsample': 0.6}\n",
      "0.82940516 (+/-0.072) for {'colsample_bytree': 0.6, 'gamma': 0, 'learning_rate': 0.015, 'max_depth': 15, 'n_estimators': 300, 'subsample': 0.7}\n",
      "0.82042649 (+/-0.103) for {'colsample_bytree': 0.6, 'gamma': 0, 'learning_rate': 0.015, 'max_depth': 15, 'n_estimators': 300, 'subsample': 0.8}\n",
      "0.82379349 (+/-0.083) for {'colsample_bytree': 0.6, 'gamma': 0, 'learning_rate': 0.015, 'max_depth': 20, 'n_estimators': 300, 'subsample': 0.6}\n",
      "0.83052750 (+/-0.077) for {'colsample_bytree': 0.6, 'gamma': 0, 'learning_rate': 0.015, 'max_depth': 20, 'n_estimators': 300, 'subsample': 0.7}\n",
      "0.82267116 (+/-0.095) for {'colsample_bytree': 0.6, 'gamma': 0, 'learning_rate': 0.015, 'max_depth': 20, 'n_estimators': 300, 'subsample': 0.8}\n",
      "0.82940516 (+/-0.059) for {'colsample_bytree': 0.6, 'gamma': 0.01, 'learning_rate': 0.005, 'max_depth': 9, 'n_estimators': 300, 'subsample': 0.6}\n",
      "0.83052750 (+/-0.064) for {'colsample_bytree': 0.6, 'gamma': 0.01, 'learning_rate': 0.005, 'max_depth': 9, 'n_estimators': 300, 'subsample': 0.7}\n",
      "0.83389450 (+/-0.073) for {'colsample_bytree': 0.6, 'gamma': 0.01, 'learning_rate': 0.005, 'max_depth': 9, 'n_estimators': 300, 'subsample': 0.8}\n",
      "0.82940516 (+/-0.059) for {'colsample_bytree': 0.6, 'gamma': 0.01, 'learning_rate': 0.005, 'max_depth': 10, 'n_estimators': 300, 'subsample': 0.6}\n",
      "0.83164983 (+/-0.074) for {'colsample_bytree': 0.6, 'gamma': 0.01, 'learning_rate': 0.005, 'max_depth': 10, 'n_estimators': 300, 'subsample': 0.7}\n",
      "0.82940516 (+/-0.070) for {'colsample_bytree': 0.6, 'gamma': 0.01, 'learning_rate': 0.005, 'max_depth': 10, 'n_estimators': 300, 'subsample': 0.8}\n",
      "0.82940516 (+/-0.059) for {'colsample_bytree': 0.6, 'gamma': 0.01, 'learning_rate': 0.005, 'max_depth': 12, 'n_estimators': 300, 'subsample': 0.6}\n",
      "0.83389450 (+/-0.073) for {'colsample_bytree': 0.6, 'gamma': 0.01, 'learning_rate': 0.005, 'max_depth': 12, 'n_estimators': 300, 'subsample': 0.7}\n",
      "0.82940516 (+/-0.071) for {'colsample_bytree': 0.6, 'gamma': 0.01, 'learning_rate': 0.005, 'max_depth': 12, 'n_estimators': 300, 'subsample': 0.8}\n",
      "0.82940516 (+/-0.059) for {'colsample_bytree': 0.6, 'gamma': 0.01, 'learning_rate': 0.005, 'max_depth': 15, 'n_estimators': 300, 'subsample': 0.6}\n",
      "0.83501684 (+/-0.073) for {'colsample_bytree': 0.6, 'gamma': 0.01, 'learning_rate': 0.005, 'max_depth': 15, 'n_estimators': 300, 'subsample': 0.7}\n",
      "0.82828283 (+/-0.077) for {'colsample_bytree': 0.6, 'gamma': 0.01, 'learning_rate': 0.005, 'max_depth': 15, 'n_estimators': 300, 'subsample': 0.8}\n",
      "0.82940516 (+/-0.059) for {'colsample_bytree': 0.6, 'gamma': 0.01, 'learning_rate': 0.005, 'max_depth': 20, 'n_estimators': 300, 'subsample': 0.6}\n",
      "0.83501684 (+/-0.073) for {'colsample_bytree': 0.6, 'gamma': 0.01, 'learning_rate': 0.005, 'max_depth': 20, 'n_estimators': 300, 'subsample': 0.7}\n",
      "0.82828283 (+/-0.077) for {'colsample_bytree': 0.6, 'gamma': 0.01, 'learning_rate': 0.005, 'max_depth': 20, 'n_estimators': 300, 'subsample': 0.8}\n",
      "0.83613917 (+/-0.061) for {'colsample_bytree': 0.6, 'gamma': 0.01, 'learning_rate': 0.01, 'max_depth': 9, 'n_estimators': 300, 'subsample': 0.6}\n",
      "0.83277217 (+/-0.062) for {'colsample_bytree': 0.6, 'gamma': 0.01, 'learning_rate': 0.01, 'max_depth': 9, 'n_estimators': 300, 'subsample': 0.7}\n",
      "0.82940516 (+/-0.069) for {'colsample_bytree': 0.6, 'gamma': 0.01, 'learning_rate': 0.01, 'max_depth': 9, 'n_estimators': 300, 'subsample': 0.8}\n",
      "0.83613917 (+/-0.054) for {'colsample_bytree': 0.6, 'gamma': 0.01, 'learning_rate': 0.01, 'max_depth': 10, 'n_estimators': 300, 'subsample': 0.6}\n",
      "0.83501684 (+/-0.059) for {'colsample_bytree': 0.6, 'gamma': 0.01, 'learning_rate': 0.01, 'max_depth': 10, 'n_estimators': 300, 'subsample': 0.7}\n",
      "0.83052750 (+/-0.074) for {'colsample_bytree': 0.6, 'gamma': 0.01, 'learning_rate': 0.01, 'max_depth': 10, 'n_estimators': 300, 'subsample': 0.8}\n",
      "0.83501684 (+/-0.059) for {'colsample_bytree': 0.6, 'gamma': 0.01, 'learning_rate': 0.01, 'max_depth': 12, 'n_estimators': 300, 'subsample': 0.6}\n",
      "0.83389450 (+/-0.063) for {'colsample_bytree': 0.6, 'gamma': 0.01, 'learning_rate': 0.01, 'max_depth': 12, 'n_estimators': 300, 'subsample': 0.7}\n",
      "0.83164983 (+/-0.071) for {'colsample_bytree': 0.6, 'gamma': 0.01, 'learning_rate': 0.01, 'max_depth': 12, 'n_estimators': 300, 'subsample': 0.8}\n",
      "0.83389450 (+/-0.051) for {'colsample_bytree': 0.6, 'gamma': 0.01, 'learning_rate': 0.01, 'max_depth': 15, 'n_estimators': 300, 'subsample': 0.6}\n",
      "0.83501684 (+/-0.062) for {'colsample_bytree': 0.6, 'gamma': 0.01, 'learning_rate': 0.01, 'max_depth': 15, 'n_estimators': 300, 'subsample': 0.7}\n",
      "0.83164983 (+/-0.072) for {'colsample_bytree': 0.6, 'gamma': 0.01, 'learning_rate': 0.01, 'max_depth': 15, 'n_estimators': 300, 'subsample': 0.8}\n",
      "0.83277217 (+/-0.052) for {'colsample_bytree': 0.6, 'gamma': 0.01, 'learning_rate': 0.01, 'max_depth': 20, 'n_estimators': 300, 'subsample': 0.6}\n",
      "0.83613917 (+/-0.058) for {'colsample_bytree': 0.6, 'gamma': 0.01, 'learning_rate': 0.01, 'max_depth': 20, 'n_estimators': 300, 'subsample': 0.7}\n",
      "0.83277217 (+/-0.071) for {'colsample_bytree': 0.6, 'gamma': 0.01, 'learning_rate': 0.01, 'max_depth': 20, 'n_estimators': 300, 'subsample': 0.8}\n",
      "0.82267116 (+/-0.082) for {'colsample_bytree': 0.6, 'gamma': 0.01, 'learning_rate': 0.015, 'max_depth': 9, 'n_estimators': 300, 'subsample': 0.6}\n",
      "0.83052750 (+/-0.075) for {'colsample_bytree': 0.6, 'gamma': 0.01, 'learning_rate': 0.015, 'max_depth': 9, 'n_estimators': 300, 'subsample': 0.7}\n",
      "0.82154882 (+/-0.102) for {'colsample_bytree': 0.6, 'gamma': 0.01, 'learning_rate': 0.015, 'max_depth': 9, 'n_estimators': 300, 'subsample': 0.8}\n",
      "0.82154882 (+/-0.082) for {'colsample_bytree': 0.6, 'gamma': 0.01, 'learning_rate': 0.015, 'max_depth': 10, 'n_estimators': 300, 'subsample': 0.6}\n",
      "0.82828283 (+/-0.071) for {'colsample_bytree': 0.6, 'gamma': 0.01, 'learning_rate': 0.015, 'max_depth': 10, 'n_estimators': 300, 'subsample': 0.7}\n",
      "0.81818182 (+/-0.098) for {'colsample_bytree': 0.6, 'gamma': 0.01, 'learning_rate': 0.015, 'max_depth': 10, 'n_estimators': 300, 'subsample': 0.8}\n",
      "0.82491582 (+/-0.085) for {'colsample_bytree': 0.6, 'gamma': 0.01, 'learning_rate': 0.015, 'max_depth': 12, 'n_estimators': 300, 'subsample': 0.6}\n",
      "0.83277217 (+/-0.079) for {'colsample_bytree': 0.6, 'gamma': 0.01, 'learning_rate': 0.015, 'max_depth': 12, 'n_estimators': 300, 'subsample': 0.7}\n",
      "0.82042649 (+/-0.101) for {'colsample_bytree': 0.6, 'gamma': 0.01, 'learning_rate': 0.015, 'max_depth': 12, 'n_estimators': 300, 'subsample': 0.8}\n",
      "0.82603816 (+/-0.086) for {'colsample_bytree': 0.6, 'gamma': 0.01, 'learning_rate': 0.015, 'max_depth': 15, 'n_estimators': 300, 'subsample': 0.6}\n",
      "0.83164983 (+/-0.079) for {'colsample_bytree': 0.6, 'gamma': 0.01, 'learning_rate': 0.015, 'max_depth': 15, 'n_estimators': 300, 'subsample': 0.7}\n",
      "0.82491582 (+/-0.100) for {'colsample_bytree': 0.6, 'gamma': 0.01, 'learning_rate': 0.015, 'max_depth': 15, 'n_estimators': 300, 'subsample': 0.8}\n",
      "0.82603816 (+/-0.086) for {'colsample_bytree': 0.6, 'gamma': 0.01, 'learning_rate': 0.015, 'max_depth': 20, 'n_estimators': 300, 'subsample': 0.6}\n",
      "0.83052750 (+/-0.080) for {'colsample_bytree': 0.6, 'gamma': 0.01, 'learning_rate': 0.015, 'max_depth': 20, 'n_estimators': 300, 'subsample': 0.7}\n",
      "0.82379349 (+/-0.098) for {'colsample_bytree': 0.6, 'gamma': 0.01, 'learning_rate': 0.015, 'max_depth': 20, 'n_estimators': 300, 'subsample': 0.8}\n",
      "0.82828283 (+/-0.056) for {'colsample_bytree': 0.6, 'gamma': 0.05, 'learning_rate': 0.005, 'max_depth': 9, 'n_estimators': 300, 'subsample': 0.6}\n",
      "0.82940516 (+/-0.065) for {'colsample_bytree': 0.6, 'gamma': 0.05, 'learning_rate': 0.005, 'max_depth': 9, 'n_estimators': 300, 'subsample': 0.7}\n",
      "0.83277217 (+/-0.072) for {'colsample_bytree': 0.6, 'gamma': 0.05, 'learning_rate': 0.005, 'max_depth': 9, 'n_estimators': 300, 'subsample': 0.8}\n",
      "0.82828283 (+/-0.059) for {'colsample_bytree': 0.6, 'gamma': 0.05, 'learning_rate': 0.005, 'max_depth': 10, 'n_estimators': 300, 'subsample': 0.6}\n",
      "0.83277217 (+/-0.073) for {'colsample_bytree': 0.6, 'gamma': 0.05, 'learning_rate': 0.005, 'max_depth': 10, 'n_estimators': 300, 'subsample': 0.7}\n",
      "0.82940516 (+/-0.070) for {'colsample_bytree': 0.6, 'gamma': 0.05, 'learning_rate': 0.005, 'max_depth': 10, 'n_estimators': 300, 'subsample': 0.8}\n",
      "0.82940516 (+/-0.059) for {'colsample_bytree': 0.6, 'gamma': 0.05, 'learning_rate': 0.005, 'max_depth': 12, 'n_estimators': 300, 'subsample': 0.6}\n",
      "0.83389450 (+/-0.073) for {'colsample_bytree': 0.6, 'gamma': 0.05, 'learning_rate': 0.005, 'max_depth': 12, 'n_estimators': 300, 'subsample': 0.7}\n",
      "0.82940516 (+/-0.073) for {'colsample_bytree': 0.6, 'gamma': 0.05, 'learning_rate': 0.005, 'max_depth': 12, 'n_estimators': 300, 'subsample': 0.8}\n",
      "0.82940516 (+/-0.059) for {'colsample_bytree': 0.6, 'gamma': 0.05, 'learning_rate': 0.005, 'max_depth': 15, 'n_estimators': 300, 'subsample': 0.6}\n",
      "0.83389450 (+/-0.073) for {'colsample_bytree': 0.6, 'gamma': 0.05, 'learning_rate': 0.005, 'max_depth': 15, 'n_estimators': 300, 'subsample': 0.7}\n",
      "0.82716049 (+/-0.076) for {'colsample_bytree': 0.6, 'gamma': 0.05, 'learning_rate': 0.005, 'max_depth': 15, 'n_estimators': 300, 'subsample': 0.8}\n",
      "0.82940516 (+/-0.059) for {'colsample_bytree': 0.6, 'gamma': 0.05, 'learning_rate': 0.005, 'max_depth': 20, 'n_estimators': 300, 'subsample': 0.6}\n",
      "0.83389450 (+/-0.073) for {'colsample_bytree': 0.6, 'gamma': 0.05, 'learning_rate': 0.005, 'max_depth': 20, 'n_estimators': 300, 'subsample': 0.7}\n",
      "0.82828283 (+/-0.077) for {'colsample_bytree': 0.6, 'gamma': 0.05, 'learning_rate': 0.005, 'max_depth': 20, 'n_estimators': 300, 'subsample': 0.8}\n",
      "0.83277217 (+/-0.063) for {'colsample_bytree': 0.6, 'gamma': 0.05, 'learning_rate': 0.01, 'max_depth': 9, 'n_estimators': 300, 'subsample': 0.6}\n",
      "0.83277217 (+/-0.058) for {'colsample_bytree': 0.6, 'gamma': 0.05, 'learning_rate': 0.01, 'max_depth': 9, 'n_estimators': 300, 'subsample': 0.7}\n",
      "0.83052750 (+/-0.071) for {'colsample_bytree': 0.6, 'gamma': 0.05, 'learning_rate': 0.01, 'max_depth': 9, 'n_estimators': 300, 'subsample': 0.8}\n",
      "0.83389450 (+/-0.060) for {'colsample_bytree': 0.6, 'gamma': 0.05, 'learning_rate': 0.01, 'max_depth': 10, 'n_estimators': 300, 'subsample': 0.6}\n",
      "0.83613917 (+/-0.056) for {'colsample_bytree': 0.6, 'gamma': 0.05, 'learning_rate': 0.01, 'max_depth': 10, 'n_estimators': 300, 'subsample': 0.7}\n",
      "0.82940516 (+/-0.073) for {'colsample_bytree': 0.6, 'gamma': 0.05, 'learning_rate': 0.01, 'max_depth': 10, 'n_estimators': 300, 'subsample': 0.8}\n",
      "0.83389450 (+/-0.058) for {'colsample_bytree': 0.6, 'gamma': 0.05, 'learning_rate': 0.01, 'max_depth': 12, 'n_estimators': 300, 'subsample': 0.6}\n",
      "0.83389450 (+/-0.063) for {'colsample_bytree': 0.6, 'gamma': 0.05, 'learning_rate': 0.01, 'max_depth': 12, 'n_estimators': 300, 'subsample': 0.7}\n",
      "0.83389450 (+/-0.073) for {'colsample_bytree': 0.6, 'gamma': 0.05, 'learning_rate': 0.01, 'max_depth': 12, 'n_estimators': 300, 'subsample': 0.8}\n",
      "0.83277217 (+/-0.053) for {'colsample_bytree': 0.6, 'gamma': 0.05, 'learning_rate': 0.01, 'max_depth': 15, 'n_estimators': 300, 'subsample': 0.6}\n",
      "0.83501684 (+/-0.065) for {'colsample_bytree': 0.6, 'gamma': 0.05, 'learning_rate': 0.01, 'max_depth': 15, 'n_estimators': 300, 'subsample': 0.7}\n",
      "0.83164983 (+/-0.070) for {'colsample_bytree': 0.6, 'gamma': 0.05, 'learning_rate': 0.01, 'max_depth': 15, 'n_estimators': 300, 'subsample': 0.8}\n",
      "0.83389450 (+/-0.054) for {'colsample_bytree': 0.6, 'gamma': 0.05, 'learning_rate': 0.01, 'max_depth': 20, 'n_estimators': 300, 'subsample': 0.6}\n",
      "0.83613917 (+/-0.066) for {'colsample_bytree': 0.6, 'gamma': 0.05, 'learning_rate': 0.01, 'max_depth': 20, 'n_estimators': 300, 'subsample': 0.7}\n",
      "0.83277217 (+/-0.066) for {'colsample_bytree': 0.6, 'gamma': 0.05, 'learning_rate': 0.01, 'max_depth': 20, 'n_estimators': 300, 'subsample': 0.8}\n",
      "0.82379349 (+/-0.083) for {'colsample_bytree': 0.6, 'gamma': 0.05, 'learning_rate': 0.015, 'max_depth': 9, 'n_estimators': 300, 'subsample': 0.6}\n",
      "0.83389450 (+/-0.075) for {'colsample_bytree': 0.6, 'gamma': 0.05, 'learning_rate': 0.015, 'max_depth': 9, 'n_estimators': 300, 'subsample': 0.7}\n",
      "0.82267116 (+/-0.104) for {'colsample_bytree': 0.6, 'gamma': 0.05, 'learning_rate': 0.015, 'max_depth': 9, 'n_estimators': 300, 'subsample': 0.8}\n",
      "0.82154882 (+/-0.082) for {'colsample_bytree': 0.6, 'gamma': 0.05, 'learning_rate': 0.015, 'max_depth': 10, 'n_estimators': 300, 'subsample': 0.6}\n",
      "0.82940516 (+/-0.072) for {'colsample_bytree': 0.6, 'gamma': 0.05, 'learning_rate': 0.015, 'max_depth': 10, 'n_estimators': 300, 'subsample': 0.7}\n",
      "0.82042649 (+/-0.093) for {'colsample_bytree': 0.6, 'gamma': 0.05, 'learning_rate': 0.015, 'max_depth': 10, 'n_estimators': 300, 'subsample': 0.8}\n",
      "0.82267116 (+/-0.082) for {'colsample_bytree': 0.6, 'gamma': 0.05, 'learning_rate': 0.015, 'max_depth': 12, 'n_estimators': 300, 'subsample': 0.6}\n",
      "0.83052750 (+/-0.074) for {'colsample_bytree': 0.6, 'gamma': 0.05, 'learning_rate': 0.015, 'max_depth': 12, 'n_estimators': 300, 'subsample': 0.7}\n",
      "0.82042649 (+/-0.095) for {'colsample_bytree': 0.6, 'gamma': 0.05, 'learning_rate': 0.015, 'max_depth': 12, 'n_estimators': 300, 'subsample': 0.8}\n",
      "0.82379349 (+/-0.083) for {'colsample_bytree': 0.6, 'gamma': 0.05, 'learning_rate': 0.015, 'max_depth': 15, 'n_estimators': 300, 'subsample': 0.6}\n",
      "0.83164983 (+/-0.074) for {'colsample_bytree': 0.6, 'gamma': 0.05, 'learning_rate': 0.015, 'max_depth': 15, 'n_estimators': 300, 'subsample': 0.7}\n",
      "0.82042649 (+/-0.097) for {'colsample_bytree': 0.6, 'gamma': 0.05, 'learning_rate': 0.015, 'max_depth': 15, 'n_estimators': 300, 'subsample': 0.8}\n",
      "0.82379349 (+/-0.083) for {'colsample_bytree': 0.6, 'gamma': 0.05, 'learning_rate': 0.015, 'max_depth': 20, 'n_estimators': 300, 'subsample': 0.6}\n",
      "0.83164983 (+/-0.074) for {'colsample_bytree': 0.6, 'gamma': 0.05, 'learning_rate': 0.015, 'max_depth': 20, 'n_estimators': 300, 'subsample': 0.7}\n",
      "0.82379349 (+/-0.101) for {'colsample_bytree': 0.6, 'gamma': 0.05, 'learning_rate': 0.015, 'max_depth': 20, 'n_estimators': 300, 'subsample': 0.8}\n",
      "0.83613917 (+/-0.048) for {'colsample_bytree': 0.7, 'gamma': 0, 'learning_rate': 0.005, 'max_depth': 9, 'n_estimators': 300, 'subsample': 0.6}\n",
      "0.83164983 (+/-0.066) for {'colsample_bytree': 0.7, 'gamma': 0, 'learning_rate': 0.005, 'max_depth': 9, 'n_estimators': 300, 'subsample': 0.7}\n",
      "0.83501684 (+/-0.064) for {'colsample_bytree': 0.7, 'gamma': 0, 'learning_rate': 0.005, 'max_depth': 9, 'n_estimators': 300, 'subsample': 0.8}\n",
      "0.83613917 (+/-0.049) for {'colsample_bytree': 0.7, 'gamma': 0, 'learning_rate': 0.005, 'max_depth': 10, 'n_estimators': 300, 'subsample': 0.6}\n",
      "0.82940516 (+/-0.064) for {'colsample_bytree': 0.7, 'gamma': 0, 'learning_rate': 0.005, 'max_depth': 10, 'n_estimators': 300, 'subsample': 0.7}\n",
      "0.83501684 (+/-0.064) for {'colsample_bytree': 0.7, 'gamma': 0, 'learning_rate': 0.005, 'max_depth': 10, 'n_estimators': 300, 'subsample': 0.8}\n",
      "0.83501684 (+/-0.050) for {'colsample_bytree': 0.7, 'gamma': 0, 'learning_rate': 0.005, 'max_depth': 12, 'n_estimators': 300, 'subsample': 0.6}\n",
      "0.82828283 (+/-0.065) for {'colsample_bytree': 0.7, 'gamma': 0, 'learning_rate': 0.005, 'max_depth': 12, 'n_estimators': 300, 'subsample': 0.7}\n",
      "0.83613917 (+/-0.066) for {'colsample_bytree': 0.7, 'gamma': 0, 'learning_rate': 0.005, 'max_depth': 12, 'n_estimators': 300, 'subsample': 0.8}\n",
      "0.83726150 (+/-0.051) for {'colsample_bytree': 0.7, 'gamma': 0, 'learning_rate': 0.005, 'max_depth': 15, 'n_estimators': 300, 'subsample': 0.6}\n",
      "0.83052750 (+/-0.064) for {'colsample_bytree': 0.7, 'gamma': 0, 'learning_rate': 0.005, 'max_depth': 15, 'n_estimators': 300, 'subsample': 0.7}\n",
      "0.83613917 (+/-0.066) for {'colsample_bytree': 0.7, 'gamma': 0, 'learning_rate': 0.005, 'max_depth': 15, 'n_estimators': 300, 'subsample': 0.8}\n",
      "0.83726150 (+/-0.051) for {'colsample_bytree': 0.7, 'gamma': 0, 'learning_rate': 0.005, 'max_depth': 20, 'n_estimators': 300, 'subsample': 0.6}\n",
      "0.83052750 (+/-0.064) for {'colsample_bytree': 0.7, 'gamma': 0, 'learning_rate': 0.005, 'max_depth': 20, 'n_estimators': 300, 'subsample': 0.7}\n",
      "0.83613917 (+/-0.066) for {'colsample_bytree': 0.7, 'gamma': 0, 'learning_rate': 0.005, 'max_depth': 20, 'n_estimators': 300, 'subsample': 0.8}\n",
      "0.83277217 (+/-0.064) for {'colsample_bytree': 0.7, 'gamma': 0, 'learning_rate': 0.01, 'max_depth': 9, 'n_estimators': 300, 'subsample': 0.6}\n",
      "0.83838384 (+/-0.061) for {'colsample_bytree': 0.7, 'gamma': 0, 'learning_rate': 0.01, 'max_depth': 9, 'n_estimators': 300, 'subsample': 0.7}\n",
      "0.83613917 (+/-0.068) for {'colsample_bytree': 0.7, 'gamma': 0, 'learning_rate': 0.01, 'max_depth': 9, 'n_estimators': 300, 'subsample': 0.8}\n",
      "0.83164983 (+/-0.064) for {'colsample_bytree': 0.7, 'gamma': 0, 'learning_rate': 0.01, 'max_depth': 10, 'n_estimators': 300, 'subsample': 0.6}\n",
      "0.84062851 (+/-0.058) for {'colsample_bytree': 0.7, 'gamma': 0, 'learning_rate': 0.01, 'max_depth': 10, 'n_estimators': 300, 'subsample': 0.7}\n",
      "0.83501684 (+/-0.069) for {'colsample_bytree': 0.7, 'gamma': 0, 'learning_rate': 0.01, 'max_depth': 10, 'n_estimators': 300, 'subsample': 0.8}\n",
      "0.83277217 (+/-0.068) for {'colsample_bytree': 0.7, 'gamma': 0, 'learning_rate': 0.01, 'max_depth': 12, 'n_estimators': 300, 'subsample': 0.6}\n",
      "0.84062851 (+/-0.058) for {'colsample_bytree': 0.7, 'gamma': 0, 'learning_rate': 0.01, 'max_depth': 12, 'n_estimators': 300, 'subsample': 0.7}\n",
      "0.83501684 (+/-0.066) for {'colsample_bytree': 0.7, 'gamma': 0, 'learning_rate': 0.01, 'max_depth': 12, 'n_estimators': 300, 'subsample': 0.8}\n",
      "0.83277217 (+/-0.066) for {'colsample_bytree': 0.7, 'gamma': 0, 'learning_rate': 0.01, 'max_depth': 15, 'n_estimators': 300, 'subsample': 0.6}\n",
      "0.84175084 (+/-0.058) for {'colsample_bytree': 0.7, 'gamma': 0, 'learning_rate': 0.01, 'max_depth': 15, 'n_estimators': 300, 'subsample': 0.7}\n",
      "0.83389450 (+/-0.067) for {'colsample_bytree': 0.7, 'gamma': 0, 'learning_rate': 0.01, 'max_depth': 15, 'n_estimators': 300, 'subsample': 0.8}\n",
      "0.83277217 (+/-0.066) for {'colsample_bytree': 0.7, 'gamma': 0, 'learning_rate': 0.01, 'max_depth': 20, 'n_estimators': 300, 'subsample': 0.6}\n",
      "0.84062851 (+/-0.060) for {'colsample_bytree': 0.7, 'gamma': 0, 'learning_rate': 0.01, 'max_depth': 20, 'n_estimators': 300, 'subsample': 0.7}\n",
      "0.83389450 (+/-0.068) for {'colsample_bytree': 0.7, 'gamma': 0, 'learning_rate': 0.01, 'max_depth': 20, 'n_estimators': 300, 'subsample': 0.8}\n",
      "0.81818182 (+/-0.098) for {'colsample_bytree': 0.7, 'gamma': 0, 'learning_rate': 0.015, 'max_depth': 9, 'n_estimators': 300, 'subsample': 0.6}\n",
      "0.82716049 (+/-0.093) for {'colsample_bytree': 0.7, 'gamma': 0, 'learning_rate': 0.015, 'max_depth': 9, 'n_estimators': 300, 'subsample': 0.7}\n",
      "0.81930415 (+/-0.120) for {'colsample_bytree': 0.7, 'gamma': 0, 'learning_rate': 0.015, 'max_depth': 9, 'n_estimators': 300, 'subsample': 0.8}\n",
      "0.81930415 (+/-0.093) for {'colsample_bytree': 0.7, 'gamma': 0, 'learning_rate': 0.015, 'max_depth': 10, 'n_estimators': 300, 'subsample': 0.6}\n",
      "0.82940516 (+/-0.094) for {'colsample_bytree': 0.7, 'gamma': 0, 'learning_rate': 0.015, 'max_depth': 10, 'n_estimators': 300, 'subsample': 0.7}\n",
      "0.81930415 (+/-0.110) for {'colsample_bytree': 0.7, 'gamma': 0, 'learning_rate': 0.015, 'max_depth': 10, 'n_estimators': 300, 'subsample': 0.8}\n",
      "0.81705948 (+/-0.101) for {'colsample_bytree': 0.7, 'gamma': 0, 'learning_rate': 0.015, 'max_depth': 12, 'n_estimators': 300, 'subsample': 0.6}\n",
      "0.82828283 (+/-0.097) for {'colsample_bytree': 0.7, 'gamma': 0, 'learning_rate': 0.015, 'max_depth': 12, 'n_estimators': 300, 'subsample': 0.7}\n",
      "0.82042649 (+/-0.110) for {'colsample_bytree': 0.7, 'gamma': 0, 'learning_rate': 0.015, 'max_depth': 12, 'n_estimators': 300, 'subsample': 0.8}\n",
      "0.81930415 (+/-0.099) for {'colsample_bytree': 0.7, 'gamma': 0, 'learning_rate': 0.015, 'max_depth': 15, 'n_estimators': 300, 'subsample': 0.6}\n",
      "0.82940516 (+/-0.094) for {'colsample_bytree': 0.7, 'gamma': 0, 'learning_rate': 0.015, 'max_depth': 15, 'n_estimators': 300, 'subsample': 0.7}\n",
      "0.82491582 (+/-0.115) for {'colsample_bytree': 0.7, 'gamma': 0, 'learning_rate': 0.015, 'max_depth': 15, 'n_estimators': 300, 'subsample': 0.8}\n",
      "0.81818182 (+/-0.097) for {'colsample_bytree': 0.7, 'gamma': 0, 'learning_rate': 0.015, 'max_depth': 20, 'n_estimators': 300, 'subsample': 0.6}\n",
      "0.82603816 (+/-0.096) for {'colsample_bytree': 0.7, 'gamma': 0, 'learning_rate': 0.015, 'max_depth': 20, 'n_estimators': 300, 'subsample': 0.7}\n",
      "0.82267116 (+/-0.112) for {'colsample_bytree': 0.7, 'gamma': 0, 'learning_rate': 0.015, 'max_depth': 20, 'n_estimators': 300, 'subsample': 0.8}\n",
      "0.83613917 (+/-0.048) for {'colsample_bytree': 0.7, 'gamma': 0.01, 'learning_rate': 0.005, 'max_depth': 9, 'n_estimators': 300, 'subsample': 0.6}\n",
      "0.83164983 (+/-0.066) for {'colsample_bytree': 0.7, 'gamma': 0.01, 'learning_rate': 0.005, 'max_depth': 9, 'n_estimators': 300, 'subsample': 0.7}\n",
      "0.83389450 (+/-0.063) for {'colsample_bytree': 0.7, 'gamma': 0.01, 'learning_rate': 0.005, 'max_depth': 9, 'n_estimators': 300, 'subsample': 0.8}\n",
      "0.83726150 (+/-0.051) for {'colsample_bytree': 0.7, 'gamma': 0.01, 'learning_rate': 0.005, 'max_depth': 10, 'n_estimators': 300, 'subsample': 0.6}\n",
      "0.83052750 (+/-0.061) for {'colsample_bytree': 0.7, 'gamma': 0.01, 'learning_rate': 0.005, 'max_depth': 10, 'n_estimators': 300, 'subsample': 0.7}\n",
      "0.83501684 (+/-0.064) for {'colsample_bytree': 0.7, 'gamma': 0.01, 'learning_rate': 0.005, 'max_depth': 10, 'n_estimators': 300, 'subsample': 0.8}\n",
      "0.83613917 (+/-0.052) for {'colsample_bytree': 0.7, 'gamma': 0.01, 'learning_rate': 0.005, 'max_depth': 12, 'n_estimators': 300, 'subsample': 0.6}\n",
      "0.82940516 (+/-0.058) for {'colsample_bytree': 0.7, 'gamma': 0.01, 'learning_rate': 0.005, 'max_depth': 12, 'n_estimators': 300, 'subsample': 0.7}\n",
      "0.83613917 (+/-0.066) for {'colsample_bytree': 0.7, 'gamma': 0.01, 'learning_rate': 0.005, 'max_depth': 12, 'n_estimators': 300, 'subsample': 0.8}\n",
      "0.83950617 (+/-0.057) for {'colsample_bytree': 0.7, 'gamma': 0.01, 'learning_rate': 0.005, 'max_depth': 15, 'n_estimators': 300, 'subsample': 0.6}\n",
      "0.83164983 (+/-0.060) for {'colsample_bytree': 0.7, 'gamma': 0.01, 'learning_rate': 0.005, 'max_depth': 15, 'n_estimators': 300, 'subsample': 0.7}\n",
      "0.83613917 (+/-0.066) for {'colsample_bytree': 0.7, 'gamma': 0.01, 'learning_rate': 0.005, 'max_depth': 15, 'n_estimators': 300, 'subsample': 0.8}\n",
      "0.83950617 (+/-0.057) for {'colsample_bytree': 0.7, 'gamma': 0.01, 'learning_rate': 0.005, 'max_depth': 20, 'n_estimators': 300, 'subsample': 0.6}\n",
      "0.83164983 (+/-0.060) for {'colsample_bytree': 0.7, 'gamma': 0.01, 'learning_rate': 0.005, 'max_depth': 20, 'n_estimators': 300, 'subsample': 0.7}\n",
      "0.83613917 (+/-0.066) for {'colsample_bytree': 0.7, 'gamma': 0.01, 'learning_rate': 0.005, 'max_depth': 20, 'n_estimators': 300, 'subsample': 0.8}\n",
      "0.83389450 (+/-0.064) for {'colsample_bytree': 0.7, 'gamma': 0.01, 'learning_rate': 0.01, 'max_depth': 9, 'n_estimators': 300, 'subsample': 0.6}\n",
      "0.83838384 (+/-0.061) for {'colsample_bytree': 0.7, 'gamma': 0.01, 'learning_rate': 0.01, 'max_depth': 9, 'n_estimators': 300, 'subsample': 0.7}\n",
      "0.83389450 (+/-0.067) for {'colsample_bytree': 0.7, 'gamma': 0.01, 'learning_rate': 0.01, 'max_depth': 9, 'n_estimators': 300, 'subsample': 0.8}\n",
      "0.83277217 (+/-0.064) for {'colsample_bytree': 0.7, 'gamma': 0.01, 'learning_rate': 0.01, 'max_depth': 10, 'n_estimators': 300, 'subsample': 0.6}\n",
      "0.83950617 (+/-0.061) for {'colsample_bytree': 0.7, 'gamma': 0.01, 'learning_rate': 0.01, 'max_depth': 10, 'n_estimators': 300, 'subsample': 0.7}\n",
      "0.83389450 (+/-0.071) for {'colsample_bytree': 0.7, 'gamma': 0.01, 'learning_rate': 0.01, 'max_depth': 10, 'n_estimators': 300, 'subsample': 0.8}\n",
      "0.83052750 (+/-0.063) for {'colsample_bytree': 0.7, 'gamma': 0.01, 'learning_rate': 0.01, 'max_depth': 12, 'n_estimators': 300, 'subsample': 0.6}\n",
      "0.83838384 (+/-0.056) for {'colsample_bytree': 0.7, 'gamma': 0.01, 'learning_rate': 0.01, 'max_depth': 12, 'n_estimators': 300, 'subsample': 0.7}\n",
      "0.83389450 (+/-0.067) for {'colsample_bytree': 0.7, 'gamma': 0.01, 'learning_rate': 0.01, 'max_depth': 12, 'n_estimators': 300, 'subsample': 0.8}\n",
      "0.83277217 (+/-0.065) for {'colsample_bytree': 0.7, 'gamma': 0.01, 'learning_rate': 0.01, 'max_depth': 15, 'n_estimators': 300, 'subsample': 0.6}\n",
      "0.84175084 (+/-0.058) for {'colsample_bytree': 0.7, 'gamma': 0.01, 'learning_rate': 0.01, 'max_depth': 15, 'n_estimators': 300, 'subsample': 0.7}\n",
      "0.83501684 (+/-0.066) for {'colsample_bytree': 0.7, 'gamma': 0.01, 'learning_rate': 0.01, 'max_depth': 15, 'n_estimators': 300, 'subsample': 0.8}\n",
      "0.83164983 (+/-0.061) for {'colsample_bytree': 0.7, 'gamma': 0.01, 'learning_rate': 0.01, 'max_depth': 20, 'n_estimators': 300, 'subsample': 0.6}\n",
      "0.84175084 (+/-0.058) for {'colsample_bytree': 0.7, 'gamma': 0.01, 'learning_rate': 0.01, 'max_depth': 20, 'n_estimators': 300, 'subsample': 0.7}\n",
      "0.83389450 (+/-0.067) for {'colsample_bytree': 0.7, 'gamma': 0.01, 'learning_rate': 0.01, 'max_depth': 20, 'n_estimators': 300, 'subsample': 0.8}\n",
      "0.81930415 (+/-0.094) for {'colsample_bytree': 0.7, 'gamma': 0.01, 'learning_rate': 0.015, 'max_depth': 9, 'n_estimators': 300, 'subsample': 0.6}\n",
      "0.82603816 (+/-0.094) for {'colsample_bytree': 0.7, 'gamma': 0.01, 'learning_rate': 0.015, 'max_depth': 9, 'n_estimators': 300, 'subsample': 0.7}\n",
      "0.82042649 (+/-0.115) for {'colsample_bytree': 0.7, 'gamma': 0.01, 'learning_rate': 0.015, 'max_depth': 9, 'n_estimators': 300, 'subsample': 0.8}\n",
      "0.81930415 (+/-0.093) for {'colsample_bytree': 0.7, 'gamma': 0.01, 'learning_rate': 0.015, 'max_depth': 10, 'n_estimators': 300, 'subsample': 0.6}\n",
      "0.82940516 (+/-0.094) for {'colsample_bytree': 0.7, 'gamma': 0.01, 'learning_rate': 0.015, 'max_depth': 10, 'n_estimators': 300, 'subsample': 0.7}\n",
      "0.82042649 (+/-0.112) for {'colsample_bytree': 0.7, 'gamma': 0.01, 'learning_rate': 0.015, 'max_depth': 10, 'n_estimators': 300, 'subsample': 0.8}\n",
      "0.81818182 (+/-0.097) for {'colsample_bytree': 0.7, 'gamma': 0.01, 'learning_rate': 0.015, 'max_depth': 12, 'n_estimators': 300, 'subsample': 0.6}\n",
      "0.82716049 (+/-0.098) for {'colsample_bytree': 0.7, 'gamma': 0.01, 'learning_rate': 0.015, 'max_depth': 12, 'n_estimators': 300, 'subsample': 0.7}\n",
      "0.82154882 (+/-0.111) for {'colsample_bytree': 0.7, 'gamma': 0.01, 'learning_rate': 0.015, 'max_depth': 12, 'n_estimators': 300, 'subsample': 0.8}\n",
      "0.81818182 (+/-0.094) for {'colsample_bytree': 0.7, 'gamma': 0.01, 'learning_rate': 0.015, 'max_depth': 15, 'n_estimators': 300, 'subsample': 0.6}\n",
      "0.82716049 (+/-0.092) for {'colsample_bytree': 0.7, 'gamma': 0.01, 'learning_rate': 0.015, 'max_depth': 15, 'n_estimators': 300, 'subsample': 0.7}\n",
      "0.82379349 (+/-0.114) for {'colsample_bytree': 0.7, 'gamma': 0.01, 'learning_rate': 0.015, 'max_depth': 15, 'n_estimators': 300, 'subsample': 0.8}\n",
      "0.81930415 (+/-0.094) for {'colsample_bytree': 0.7, 'gamma': 0.01, 'learning_rate': 0.015, 'max_depth': 20, 'n_estimators': 300, 'subsample': 0.6}\n",
      "0.82940516 (+/-0.094) for {'colsample_bytree': 0.7, 'gamma': 0.01, 'learning_rate': 0.015, 'max_depth': 20, 'n_estimators': 300, 'subsample': 0.7}\n",
      "0.82267116 (+/-0.113) for {'colsample_bytree': 0.7, 'gamma': 0.01, 'learning_rate': 0.015, 'max_depth': 20, 'n_estimators': 300, 'subsample': 0.8}\n",
      "0.83613917 (+/-0.048) for {'colsample_bytree': 0.7, 'gamma': 0.05, 'learning_rate': 0.005, 'max_depth': 9, 'n_estimators': 300, 'subsample': 0.6}\n",
      "0.83277217 (+/-0.062) for {'colsample_bytree': 0.7, 'gamma': 0.05, 'learning_rate': 0.005, 'max_depth': 9, 'n_estimators': 300, 'subsample': 0.7}\n",
      "0.83501684 (+/-0.064) for {'colsample_bytree': 0.7, 'gamma': 0.05, 'learning_rate': 0.005, 'max_depth': 9, 'n_estimators': 300, 'subsample': 0.8}\n",
      "0.83613917 (+/-0.054) for {'colsample_bytree': 0.7, 'gamma': 0.05, 'learning_rate': 0.005, 'max_depth': 10, 'n_estimators': 300, 'subsample': 0.6}\n",
      "0.82940516 (+/-0.056) for {'colsample_bytree': 0.7, 'gamma': 0.05, 'learning_rate': 0.005, 'max_depth': 10, 'n_estimators': 300, 'subsample': 0.7}\n",
      "0.83501684 (+/-0.064) for {'colsample_bytree': 0.7, 'gamma': 0.05, 'learning_rate': 0.005, 'max_depth': 10, 'n_estimators': 300, 'subsample': 0.8}\n",
      "0.83613917 (+/-0.049) for {'colsample_bytree': 0.7, 'gamma': 0.05, 'learning_rate': 0.005, 'max_depth': 12, 'n_estimators': 300, 'subsample': 0.6}\n",
      "0.82940516 (+/-0.058) for {'colsample_bytree': 0.7, 'gamma': 0.05, 'learning_rate': 0.005, 'max_depth': 12, 'n_estimators': 300, 'subsample': 0.7}\n",
      "0.83613917 (+/-0.066) for {'colsample_bytree': 0.7, 'gamma': 0.05, 'learning_rate': 0.005, 'max_depth': 12, 'n_estimators': 300, 'subsample': 0.8}\n",
      "0.83613917 (+/-0.049) for {'colsample_bytree': 0.7, 'gamma': 0.05, 'learning_rate': 0.005, 'max_depth': 15, 'n_estimators': 300, 'subsample': 0.6}\n",
      "0.83052750 (+/-0.061) for {'colsample_bytree': 0.7, 'gamma': 0.05, 'learning_rate': 0.005, 'max_depth': 15, 'n_estimators': 300, 'subsample': 0.7}\n",
      "0.83613917 (+/-0.066) for {'colsample_bytree': 0.7, 'gamma': 0.05, 'learning_rate': 0.005, 'max_depth': 15, 'n_estimators': 300, 'subsample': 0.8}\n",
      "0.83613917 (+/-0.049) for {'colsample_bytree': 0.7, 'gamma': 0.05, 'learning_rate': 0.005, 'max_depth': 20, 'n_estimators': 300, 'subsample': 0.6}\n",
      "0.83052750 (+/-0.061) for {'colsample_bytree': 0.7, 'gamma': 0.05, 'learning_rate': 0.005, 'max_depth': 20, 'n_estimators': 300, 'subsample': 0.7}\n",
      "0.83613917 (+/-0.066) for {'colsample_bytree': 0.7, 'gamma': 0.05, 'learning_rate': 0.005, 'max_depth': 20, 'n_estimators': 300, 'subsample': 0.8}\n",
      "0.83164983 (+/-0.062) for {'colsample_bytree': 0.7, 'gamma': 0.05, 'learning_rate': 0.01, 'max_depth': 9, 'n_estimators': 300, 'subsample': 0.6}\n",
      "0.83950617 (+/-0.058) for {'colsample_bytree': 0.7, 'gamma': 0.05, 'learning_rate': 0.01, 'max_depth': 9, 'n_estimators': 300, 'subsample': 0.7}\n",
      "0.83501684 (+/-0.069) for {'colsample_bytree': 0.7, 'gamma': 0.05, 'learning_rate': 0.01, 'max_depth': 9, 'n_estimators': 300, 'subsample': 0.8}\n",
      "0.83164983 (+/-0.061) for {'colsample_bytree': 0.7, 'gamma': 0.05, 'learning_rate': 0.01, 'max_depth': 10, 'n_estimators': 300, 'subsample': 0.6}\n",
      "0.83950617 (+/-0.058) for {'colsample_bytree': 0.7, 'gamma': 0.05, 'learning_rate': 0.01, 'max_depth': 10, 'n_estimators': 300, 'subsample': 0.7}\n",
      "0.83389450 (+/-0.071) for {'colsample_bytree': 0.7, 'gamma': 0.05, 'learning_rate': 0.01, 'max_depth': 10, 'n_estimators': 300, 'subsample': 0.8}\n",
      "0.83277217 (+/-0.061) for {'colsample_bytree': 0.7, 'gamma': 0.05, 'learning_rate': 0.01, 'max_depth': 12, 'n_estimators': 300, 'subsample': 0.6}\n",
      "0.84175084 (+/-0.061) for {'colsample_bytree': 0.7, 'gamma': 0.05, 'learning_rate': 0.01, 'max_depth': 12, 'n_estimators': 300, 'subsample': 0.7}\n",
      "0.83838384 (+/-0.072) for {'colsample_bytree': 0.7, 'gamma': 0.05, 'learning_rate': 0.01, 'max_depth': 12, 'n_estimators': 300, 'subsample': 0.8}\n",
      "0.83277217 (+/-0.065) for {'colsample_bytree': 0.7, 'gamma': 0.05, 'learning_rate': 0.01, 'max_depth': 15, 'n_estimators': 300, 'subsample': 0.6}\n",
      "0.83950617 (+/-0.059) for {'colsample_bytree': 0.7, 'gamma': 0.05, 'learning_rate': 0.01, 'max_depth': 15, 'n_estimators': 300, 'subsample': 0.7}\n",
      "0.83501684 (+/-0.066) for {'colsample_bytree': 0.7, 'gamma': 0.05, 'learning_rate': 0.01, 'max_depth': 15, 'n_estimators': 300, 'subsample': 0.8}\n",
      "0.83277217 (+/-0.065) for {'colsample_bytree': 0.7, 'gamma': 0.05, 'learning_rate': 0.01, 'max_depth': 20, 'n_estimators': 300, 'subsample': 0.6}\n",
      "0.83838384 (+/-0.061) for {'colsample_bytree': 0.7, 'gamma': 0.05, 'learning_rate': 0.01, 'max_depth': 20, 'n_estimators': 300, 'subsample': 0.7}\n",
      "0.83501684 (+/-0.069) for {'colsample_bytree': 0.7, 'gamma': 0.05, 'learning_rate': 0.01, 'max_depth': 20, 'n_estimators': 300, 'subsample': 0.8}\n",
      "0.81930415 (+/-0.097) for {'colsample_bytree': 0.7, 'gamma': 0.05, 'learning_rate': 0.015, 'max_depth': 9, 'n_estimators': 300, 'subsample': 0.6}\n",
      "0.82491582 (+/-0.091) for {'colsample_bytree': 0.7, 'gamma': 0.05, 'learning_rate': 0.015, 'max_depth': 9, 'n_estimators': 300, 'subsample': 0.7}\n",
      "0.82154882 (+/-0.118) for {'colsample_bytree': 0.7, 'gamma': 0.05, 'learning_rate': 0.015, 'max_depth': 9, 'n_estimators': 300, 'subsample': 0.8}\n",
      "0.81818182 (+/-0.097) for {'colsample_bytree': 0.7, 'gamma': 0.05, 'learning_rate': 0.015, 'max_depth': 10, 'n_estimators': 300, 'subsample': 0.6}\n",
      "0.82940516 (+/-0.094) for {'colsample_bytree': 0.7, 'gamma': 0.05, 'learning_rate': 0.015, 'max_depth': 10, 'n_estimators': 300, 'subsample': 0.7}\n",
      "0.81930415 (+/-0.116) for {'colsample_bytree': 0.7, 'gamma': 0.05, 'learning_rate': 0.015, 'max_depth': 10, 'n_estimators': 300, 'subsample': 0.8}\n",
      "0.81818182 (+/-0.099) for {'colsample_bytree': 0.7, 'gamma': 0.05, 'learning_rate': 0.015, 'max_depth': 12, 'n_estimators': 300, 'subsample': 0.6}\n",
      "0.82828283 (+/-0.097) for {'colsample_bytree': 0.7, 'gamma': 0.05, 'learning_rate': 0.015, 'max_depth': 12, 'n_estimators': 300, 'subsample': 0.7}\n",
      "0.82379349 (+/-0.115) for {'colsample_bytree': 0.7, 'gamma': 0.05, 'learning_rate': 0.015, 'max_depth': 12, 'n_estimators': 300, 'subsample': 0.8}\n",
      "0.82042649 (+/-0.104) for {'colsample_bytree': 0.7, 'gamma': 0.05, 'learning_rate': 0.015, 'max_depth': 15, 'n_estimators': 300, 'subsample': 0.6}\n",
      "0.83052750 (+/-0.096) for {'colsample_bytree': 0.7, 'gamma': 0.05, 'learning_rate': 0.015, 'max_depth': 15, 'n_estimators': 300, 'subsample': 0.7}\n",
      "0.82042649 (+/-0.110) for {'colsample_bytree': 0.7, 'gamma': 0.05, 'learning_rate': 0.015, 'max_depth': 15, 'n_estimators': 300, 'subsample': 0.8}\n",
      "0.82042649 (+/-0.102) for {'colsample_bytree': 0.7, 'gamma': 0.05, 'learning_rate': 0.015, 'max_depth': 20, 'n_estimators': 300, 'subsample': 0.6}\n",
      "0.82940516 (+/-0.093) for {'colsample_bytree': 0.7, 'gamma': 0.05, 'learning_rate': 0.015, 'max_depth': 20, 'n_estimators': 300, 'subsample': 0.7}\n",
      "0.82154882 (+/-0.113) for {'colsample_bytree': 0.7, 'gamma': 0.05, 'learning_rate': 0.015, 'max_depth': 20, 'n_estimators': 300, 'subsample': 0.8}\n",
      "0.83164983 (+/-0.053) for {'colsample_bytree': 0.8, 'gamma': 0, 'learning_rate': 0.005, 'max_depth': 9, 'n_estimators': 300, 'subsample': 0.6}\n",
      "0.83501684 (+/-0.064) for {'colsample_bytree': 0.8, 'gamma': 0, 'learning_rate': 0.005, 'max_depth': 9, 'n_estimators': 300, 'subsample': 0.7}\n",
      "0.83277217 (+/-0.061) for {'colsample_bytree': 0.8, 'gamma': 0, 'learning_rate': 0.005, 'max_depth': 9, 'n_estimators': 300, 'subsample': 0.8}\n",
      "0.83164983 (+/-0.056) for {'colsample_bytree': 0.8, 'gamma': 0, 'learning_rate': 0.005, 'max_depth': 10, 'n_estimators': 300, 'subsample': 0.6}\n",
      "0.83501684 (+/-0.070) for {'colsample_bytree': 0.8, 'gamma': 0, 'learning_rate': 0.005, 'max_depth': 10, 'n_estimators': 300, 'subsample': 0.7}\n",
      "0.83501684 (+/-0.060) for {'colsample_bytree': 0.8, 'gamma': 0, 'learning_rate': 0.005, 'max_depth': 10, 'n_estimators': 300, 'subsample': 0.8}\n",
      "0.83389450 (+/-0.052) for {'colsample_bytree': 0.8, 'gamma': 0, 'learning_rate': 0.005, 'max_depth': 12, 'n_estimators': 300, 'subsample': 0.6}\n",
      "0.83726150 (+/-0.066) for {'colsample_bytree': 0.8, 'gamma': 0, 'learning_rate': 0.005, 'max_depth': 12, 'n_estimators': 300, 'subsample': 0.7}\n",
      "0.83389450 (+/-0.063) for {'colsample_bytree': 0.8, 'gamma': 0, 'learning_rate': 0.005, 'max_depth': 12, 'n_estimators': 300, 'subsample': 0.8}\n",
      "0.83277217 (+/-0.050) for {'colsample_bytree': 0.8, 'gamma': 0, 'learning_rate': 0.005, 'max_depth': 15, 'n_estimators': 300, 'subsample': 0.6}\n",
      "0.83838384 (+/-0.068) for {'colsample_bytree': 0.8, 'gamma': 0, 'learning_rate': 0.005, 'max_depth': 15, 'n_estimators': 300, 'subsample': 0.7}\n",
      "0.83389450 (+/-0.063) for {'colsample_bytree': 0.8, 'gamma': 0, 'learning_rate': 0.005, 'max_depth': 15, 'n_estimators': 300, 'subsample': 0.8}\n",
      "0.83277217 (+/-0.050) for {'colsample_bytree': 0.8, 'gamma': 0, 'learning_rate': 0.005, 'max_depth': 20, 'n_estimators': 300, 'subsample': 0.6}\n",
      "0.83838384 (+/-0.068) for {'colsample_bytree': 0.8, 'gamma': 0, 'learning_rate': 0.005, 'max_depth': 20, 'n_estimators': 300, 'subsample': 0.7}\n",
      "0.83389450 (+/-0.063) for {'colsample_bytree': 0.8, 'gamma': 0, 'learning_rate': 0.005, 'max_depth': 20, 'n_estimators': 300, 'subsample': 0.8}\n",
      "0.83277217 (+/-0.057) for {'colsample_bytree': 0.8, 'gamma': 0, 'learning_rate': 0.01, 'max_depth': 9, 'n_estimators': 300, 'subsample': 0.6}\n",
      "0.83501684 (+/-0.067) for {'colsample_bytree': 0.8, 'gamma': 0, 'learning_rate': 0.01, 'max_depth': 9, 'n_estimators': 300, 'subsample': 0.7}\n",
      "0.83501684 (+/-0.067) for {'colsample_bytree': 0.8, 'gamma': 0, 'learning_rate': 0.01, 'max_depth': 9, 'n_estimators': 300, 'subsample': 0.8}\n",
      "0.83277217 (+/-0.063) for {'colsample_bytree': 0.8, 'gamma': 0, 'learning_rate': 0.01, 'max_depth': 10, 'n_estimators': 300, 'subsample': 0.6}\n",
      "0.83501684 (+/-0.070) for {'colsample_bytree': 0.8, 'gamma': 0, 'learning_rate': 0.01, 'max_depth': 10, 'n_estimators': 300, 'subsample': 0.7}\n",
      "0.83613917 (+/-0.064) for {'colsample_bytree': 0.8, 'gamma': 0, 'learning_rate': 0.01, 'max_depth': 10, 'n_estimators': 300, 'subsample': 0.8}\n",
      "0.83052750 (+/-0.062) for {'colsample_bytree': 0.8, 'gamma': 0, 'learning_rate': 0.01, 'max_depth': 12, 'n_estimators': 300, 'subsample': 0.6}\n",
      "0.83501684 (+/-0.067) for {'colsample_bytree': 0.8, 'gamma': 0, 'learning_rate': 0.01, 'max_depth': 12, 'n_estimators': 300, 'subsample': 0.7}\n",
      "0.83726150 (+/-0.055) for {'colsample_bytree': 0.8, 'gamma': 0, 'learning_rate': 0.01, 'max_depth': 12, 'n_estimators': 300, 'subsample': 0.8}\n",
      "0.83052750 (+/-0.058) for {'colsample_bytree': 0.8, 'gamma': 0, 'learning_rate': 0.01, 'max_depth': 15, 'n_estimators': 300, 'subsample': 0.6}\n",
      "0.83726150 (+/-0.073) for {'colsample_bytree': 0.8, 'gamma': 0, 'learning_rate': 0.01, 'max_depth': 15, 'n_estimators': 300, 'subsample': 0.7}\n",
      "0.83726150 (+/-0.055) for {'colsample_bytree': 0.8, 'gamma': 0, 'learning_rate': 0.01, 'max_depth': 15, 'n_estimators': 300, 'subsample': 0.8}\n",
      "0.83164983 (+/-0.061) for {'colsample_bytree': 0.8, 'gamma': 0, 'learning_rate': 0.01, 'max_depth': 20, 'n_estimators': 300, 'subsample': 0.6}\n",
      "0.83501684 (+/-0.067) for {'colsample_bytree': 0.8, 'gamma': 0, 'learning_rate': 0.01, 'max_depth': 20, 'n_estimators': 300, 'subsample': 0.7}\n",
      "0.83726150 (+/-0.055) for {'colsample_bytree': 0.8, 'gamma': 0, 'learning_rate': 0.01, 'max_depth': 20, 'n_estimators': 300, 'subsample': 0.8}\n",
      "0.82267116 (+/-0.098) for {'colsample_bytree': 0.8, 'gamma': 0, 'learning_rate': 0.015, 'max_depth': 9, 'n_estimators': 300, 'subsample': 0.6}\n",
      "0.82154882 (+/-0.108) for {'colsample_bytree': 0.8, 'gamma': 0, 'learning_rate': 0.015, 'max_depth': 9, 'n_estimators': 300, 'subsample': 0.7}\n",
      "0.82603816 (+/-0.123) for {'colsample_bytree': 0.8, 'gamma': 0, 'learning_rate': 0.015, 'max_depth': 9, 'n_estimators': 300, 'subsample': 0.8}\n",
      "0.82267116 (+/-0.102) for {'colsample_bytree': 0.8, 'gamma': 0, 'learning_rate': 0.015, 'max_depth': 10, 'n_estimators': 300, 'subsample': 0.6}\n",
      "0.82154882 (+/-0.108) for {'colsample_bytree': 0.8, 'gamma': 0, 'learning_rate': 0.015, 'max_depth': 10, 'n_estimators': 300, 'subsample': 0.7}\n",
      "0.82042649 (+/-0.127) for {'colsample_bytree': 0.8, 'gamma': 0, 'learning_rate': 0.015, 'max_depth': 10, 'n_estimators': 300, 'subsample': 0.8}\n",
      "0.81818182 (+/-0.096) for {'colsample_bytree': 0.8, 'gamma': 0, 'learning_rate': 0.015, 'max_depth': 12, 'n_estimators': 300, 'subsample': 0.6}\n",
      "0.82154882 (+/-0.108) for {'colsample_bytree': 0.8, 'gamma': 0, 'learning_rate': 0.015, 'max_depth': 12, 'n_estimators': 300, 'subsample': 0.7}\n",
      "0.82379349 (+/-0.125) for {'colsample_bytree': 0.8, 'gamma': 0, 'learning_rate': 0.015, 'max_depth': 12, 'n_estimators': 300, 'subsample': 0.8}\n",
      "0.81818182 (+/-0.099) for {'colsample_bytree': 0.8, 'gamma': 0, 'learning_rate': 0.015, 'max_depth': 15, 'n_estimators': 300, 'subsample': 0.6}\n",
      "0.82154882 (+/-0.107) for {'colsample_bytree': 0.8, 'gamma': 0, 'learning_rate': 0.015, 'max_depth': 15, 'n_estimators': 300, 'subsample': 0.7}\n",
      "0.82379349 (+/-0.131) for {'colsample_bytree': 0.8, 'gamma': 0, 'learning_rate': 0.015, 'max_depth': 15, 'n_estimators': 300, 'subsample': 0.8}\n",
      "0.81930415 (+/-0.095) for {'colsample_bytree': 0.8, 'gamma': 0, 'learning_rate': 0.015, 'max_depth': 20, 'n_estimators': 300, 'subsample': 0.6}\n",
      "0.82154882 (+/-0.107) for {'colsample_bytree': 0.8, 'gamma': 0, 'learning_rate': 0.015, 'max_depth': 20, 'n_estimators': 300, 'subsample': 0.7}\n",
      "0.82267116 (+/-0.131) for {'colsample_bytree': 0.8, 'gamma': 0, 'learning_rate': 0.015, 'max_depth': 20, 'n_estimators': 300, 'subsample': 0.8}\n",
      "0.83164983 (+/-0.053) for {'colsample_bytree': 0.8, 'gamma': 0.01, 'learning_rate': 0.005, 'max_depth': 9, 'n_estimators': 300, 'subsample': 0.6}\n",
      "0.83613917 (+/-0.067) for {'colsample_bytree': 0.8, 'gamma': 0.01, 'learning_rate': 0.005, 'max_depth': 9, 'n_estimators': 300, 'subsample': 0.7}\n",
      "0.83389450 (+/-0.058) for {'colsample_bytree': 0.8, 'gamma': 0.01, 'learning_rate': 0.005, 'max_depth': 9, 'n_estimators': 300, 'subsample': 0.8}\n",
      "0.83164983 (+/-0.051) for {'colsample_bytree': 0.8, 'gamma': 0.01, 'learning_rate': 0.005, 'max_depth': 10, 'n_estimators': 300, 'subsample': 0.6}\n",
      "0.83726150 (+/-0.069) for {'colsample_bytree': 0.8, 'gamma': 0.01, 'learning_rate': 0.005, 'max_depth': 10, 'n_estimators': 300, 'subsample': 0.7}\n",
      "0.83389450 (+/-0.063) for {'colsample_bytree': 0.8, 'gamma': 0.01, 'learning_rate': 0.005, 'max_depth': 10, 'n_estimators': 300, 'subsample': 0.8}\n",
      "0.83277217 (+/-0.050) for {'colsample_bytree': 0.8, 'gamma': 0.01, 'learning_rate': 0.005, 'max_depth': 12, 'n_estimators': 300, 'subsample': 0.6}\n",
      "0.83726150 (+/-0.066) for {'colsample_bytree': 0.8, 'gamma': 0.01, 'learning_rate': 0.005, 'max_depth': 12, 'n_estimators': 300, 'subsample': 0.7}\n",
      "0.83389450 (+/-0.063) for {'colsample_bytree': 0.8, 'gamma': 0.01, 'learning_rate': 0.005, 'max_depth': 12, 'n_estimators': 300, 'subsample': 0.8}\n",
      "0.83164983 (+/-0.051) for {'colsample_bytree': 0.8, 'gamma': 0.01, 'learning_rate': 0.005, 'max_depth': 15, 'n_estimators': 300, 'subsample': 0.6}\n",
      "0.83838384 (+/-0.068) for {'colsample_bytree': 0.8, 'gamma': 0.01, 'learning_rate': 0.005, 'max_depth': 15, 'n_estimators': 300, 'subsample': 0.7}\n",
      "0.83389450 (+/-0.063) for {'colsample_bytree': 0.8, 'gamma': 0.01, 'learning_rate': 0.005, 'max_depth': 15, 'n_estimators': 300, 'subsample': 0.8}\n",
      "0.83164983 (+/-0.051) for {'colsample_bytree': 0.8, 'gamma': 0.01, 'learning_rate': 0.005, 'max_depth': 20, 'n_estimators': 300, 'subsample': 0.6}\n",
      "0.83838384 (+/-0.068) for {'colsample_bytree': 0.8, 'gamma': 0.01, 'learning_rate': 0.005, 'max_depth': 20, 'n_estimators': 300, 'subsample': 0.7}\n",
      "0.83389450 (+/-0.063) for {'colsample_bytree': 0.8, 'gamma': 0.01, 'learning_rate': 0.005, 'max_depth': 20, 'n_estimators': 300, 'subsample': 0.8}\n",
      "0.83277217 (+/-0.051) for {'colsample_bytree': 0.8, 'gamma': 0.01, 'learning_rate': 0.01, 'max_depth': 9, 'n_estimators': 300, 'subsample': 0.6}\n",
      "0.83613917 (+/-0.070) for {'colsample_bytree': 0.8, 'gamma': 0.01, 'learning_rate': 0.01, 'max_depth': 9, 'n_estimators': 300, 'subsample': 0.7}\n",
      "0.83501684 (+/-0.067) for {'colsample_bytree': 0.8, 'gamma': 0.01, 'learning_rate': 0.01, 'max_depth': 9, 'n_estimators': 300, 'subsample': 0.8}\n",
      "0.83052750 (+/-0.058) for {'colsample_bytree': 0.8, 'gamma': 0.01, 'learning_rate': 0.01, 'max_depth': 10, 'n_estimators': 300, 'subsample': 0.6}\n",
      "0.83501684 (+/-0.070) for {'colsample_bytree': 0.8, 'gamma': 0.01, 'learning_rate': 0.01, 'max_depth': 10, 'n_estimators': 300, 'subsample': 0.7}\n",
      "0.83613917 (+/-0.064) for {'colsample_bytree': 0.8, 'gamma': 0.01, 'learning_rate': 0.01, 'max_depth': 10, 'n_estimators': 300, 'subsample': 0.8}\n",
      "0.83277217 (+/-0.063) for {'colsample_bytree': 0.8, 'gamma': 0.01, 'learning_rate': 0.01, 'max_depth': 12, 'n_estimators': 300, 'subsample': 0.6}\n",
      "0.83501684 (+/-0.067) for {'colsample_bytree': 0.8, 'gamma': 0.01, 'learning_rate': 0.01, 'max_depth': 12, 'n_estimators': 300, 'subsample': 0.7}\n",
      "0.83613917 (+/-0.053) for {'colsample_bytree': 0.8, 'gamma': 0.01, 'learning_rate': 0.01, 'max_depth': 12, 'n_estimators': 300, 'subsample': 0.8}\n",
      "0.82940516 (+/-0.056) for {'colsample_bytree': 0.8, 'gamma': 0.01, 'learning_rate': 0.01, 'max_depth': 15, 'n_estimators': 300, 'subsample': 0.6}\n",
      "0.83501684 (+/-0.067) for {'colsample_bytree': 0.8, 'gamma': 0.01, 'learning_rate': 0.01, 'max_depth': 15, 'n_estimators': 300, 'subsample': 0.7}\n",
      "0.83726150 (+/-0.055) for {'colsample_bytree': 0.8, 'gamma': 0.01, 'learning_rate': 0.01, 'max_depth': 15, 'n_estimators': 300, 'subsample': 0.8}\n",
      "0.83164983 (+/-0.061) for {'colsample_bytree': 0.8, 'gamma': 0.01, 'learning_rate': 0.01, 'max_depth': 20, 'n_estimators': 300, 'subsample': 0.6}\n",
      "0.83501684 (+/-0.067) for {'colsample_bytree': 0.8, 'gamma': 0.01, 'learning_rate': 0.01, 'max_depth': 20, 'n_estimators': 300, 'subsample': 0.7}\n",
      "0.83613917 (+/-0.053) for {'colsample_bytree': 0.8, 'gamma': 0.01, 'learning_rate': 0.01, 'max_depth': 20, 'n_estimators': 300, 'subsample': 0.8}\n",
      "0.81930415 (+/-0.099) for {'colsample_bytree': 0.8, 'gamma': 0.01, 'learning_rate': 0.015, 'max_depth': 9, 'n_estimators': 300, 'subsample': 0.6}\n",
      "0.82154882 (+/-0.108) for {'colsample_bytree': 0.8, 'gamma': 0.01, 'learning_rate': 0.015, 'max_depth': 9, 'n_estimators': 300, 'subsample': 0.7}\n",
      "0.82042649 (+/-0.124) for {'colsample_bytree': 0.8, 'gamma': 0.01, 'learning_rate': 0.015, 'max_depth': 9, 'n_estimators': 300, 'subsample': 0.8}\n",
      "0.82154882 (+/-0.096) for {'colsample_bytree': 0.8, 'gamma': 0.01, 'learning_rate': 0.015, 'max_depth': 10, 'n_estimators': 300, 'subsample': 0.6}\n",
      "0.82042649 (+/-0.106) for {'colsample_bytree': 0.8, 'gamma': 0.01, 'learning_rate': 0.015, 'max_depth': 10, 'n_estimators': 300, 'subsample': 0.7}\n",
      "0.82154882 (+/-0.130) for {'colsample_bytree': 0.8, 'gamma': 0.01, 'learning_rate': 0.015, 'max_depth': 10, 'n_estimators': 300, 'subsample': 0.8}\n",
      "0.82154882 (+/-0.095) for {'colsample_bytree': 0.8, 'gamma': 0.01, 'learning_rate': 0.015, 'max_depth': 12, 'n_estimators': 300, 'subsample': 0.6}\n",
      "0.82042649 (+/-0.108) for {'colsample_bytree': 0.8, 'gamma': 0.01, 'learning_rate': 0.015, 'max_depth': 12, 'n_estimators': 300, 'subsample': 0.7}\n",
      "0.82379349 (+/-0.127) for {'colsample_bytree': 0.8, 'gamma': 0.01, 'learning_rate': 0.015, 'max_depth': 12, 'n_estimators': 300, 'subsample': 0.8}\n",
      "0.82042649 (+/-0.099) for {'colsample_bytree': 0.8, 'gamma': 0.01, 'learning_rate': 0.015, 'max_depth': 15, 'n_estimators': 300, 'subsample': 0.6}\n",
      "0.82154882 (+/-0.108) for {'colsample_bytree': 0.8, 'gamma': 0.01, 'learning_rate': 0.015, 'max_depth': 15, 'n_estimators': 300, 'subsample': 0.7}\n",
      "0.82267116 (+/-0.125) for {'colsample_bytree': 0.8, 'gamma': 0.01, 'learning_rate': 0.015, 'max_depth': 15, 'n_estimators': 300, 'subsample': 0.8}\n",
      "0.81930415 (+/-0.103) for {'colsample_bytree': 0.8, 'gamma': 0.01, 'learning_rate': 0.015, 'max_depth': 20, 'n_estimators': 300, 'subsample': 0.6}\n",
      "0.81930415 (+/-0.106) for {'colsample_bytree': 0.8, 'gamma': 0.01, 'learning_rate': 0.015, 'max_depth': 20, 'n_estimators': 300, 'subsample': 0.7}\n",
      "0.82267116 (+/-0.131) for {'colsample_bytree': 0.8, 'gamma': 0.01, 'learning_rate': 0.015, 'max_depth': 20, 'n_estimators': 300, 'subsample': 0.8}\n",
      "0.83277217 (+/-0.056) for {'colsample_bytree': 0.8, 'gamma': 0.05, 'learning_rate': 0.005, 'max_depth': 9, 'n_estimators': 300, 'subsample': 0.6}\n",
      "0.83501684 (+/-0.070) for {'colsample_bytree': 0.8, 'gamma': 0.05, 'learning_rate': 0.005, 'max_depth': 9, 'n_estimators': 300, 'subsample': 0.7}\n",
      "0.83389450 (+/-0.058) for {'colsample_bytree': 0.8, 'gamma': 0.05, 'learning_rate': 0.005, 'max_depth': 9, 'n_estimators': 300, 'subsample': 0.8}\n",
      "0.82940516 (+/-0.055) for {'colsample_bytree': 0.8, 'gamma': 0.05, 'learning_rate': 0.005, 'max_depth': 10, 'n_estimators': 300, 'subsample': 0.6}\n",
      "0.83613917 (+/-0.067) for {'colsample_bytree': 0.8, 'gamma': 0.05, 'learning_rate': 0.005, 'max_depth': 10, 'n_estimators': 300, 'subsample': 0.7}\n",
      "0.83389450 (+/-0.063) for {'colsample_bytree': 0.8, 'gamma': 0.05, 'learning_rate': 0.005, 'max_depth': 10, 'n_estimators': 300, 'subsample': 0.8}\n",
      "0.83277217 (+/-0.053) for {'colsample_bytree': 0.8, 'gamma': 0.05, 'learning_rate': 0.005, 'max_depth': 12, 'n_estimators': 300, 'subsample': 0.6}\n",
      "0.83726150 (+/-0.066) for {'colsample_bytree': 0.8, 'gamma': 0.05, 'learning_rate': 0.005, 'max_depth': 12, 'n_estimators': 300, 'subsample': 0.7}\n",
      "0.83389450 (+/-0.063) for {'colsample_bytree': 0.8, 'gamma': 0.05, 'learning_rate': 0.005, 'max_depth': 12, 'n_estimators': 300, 'subsample': 0.8}\n",
      "0.83277217 (+/-0.050) for {'colsample_bytree': 0.8, 'gamma': 0.05, 'learning_rate': 0.005, 'max_depth': 15, 'n_estimators': 300, 'subsample': 0.6}\n",
      "0.83726150 (+/-0.070) for {'colsample_bytree': 0.8, 'gamma': 0.05, 'learning_rate': 0.005, 'max_depth': 15, 'n_estimators': 300, 'subsample': 0.7}\n",
      "0.83389450 (+/-0.063) for {'colsample_bytree': 0.8, 'gamma': 0.05, 'learning_rate': 0.005, 'max_depth': 15, 'n_estimators': 300, 'subsample': 0.8}\n",
      "0.83277217 (+/-0.050) for {'colsample_bytree': 0.8, 'gamma': 0.05, 'learning_rate': 0.005, 'max_depth': 20, 'n_estimators': 300, 'subsample': 0.6}\n",
      "0.83501684 (+/-0.071) for {'colsample_bytree': 0.8, 'gamma': 0.05, 'learning_rate': 0.005, 'max_depth': 20, 'n_estimators': 300, 'subsample': 0.7}\n",
      "0.83389450 (+/-0.063) for {'colsample_bytree': 0.8, 'gamma': 0.05, 'learning_rate': 0.005, 'max_depth': 20, 'n_estimators': 300, 'subsample': 0.8}\n",
      "0.83164983 (+/-0.055) for {'colsample_bytree': 0.8, 'gamma': 0.05, 'learning_rate': 0.01, 'max_depth': 9, 'n_estimators': 300, 'subsample': 0.6}\n",
      "0.83501684 (+/-0.070) for {'colsample_bytree': 0.8, 'gamma': 0.05, 'learning_rate': 0.01, 'max_depth': 9, 'n_estimators': 300, 'subsample': 0.7}\n",
      "0.83613917 (+/-0.064) for {'colsample_bytree': 0.8, 'gamma': 0.05, 'learning_rate': 0.01, 'max_depth': 9, 'n_estimators': 300, 'subsample': 0.8}\n",
      "0.83501684 (+/-0.063) for {'colsample_bytree': 0.8, 'gamma': 0.05, 'learning_rate': 0.01, 'max_depth': 10, 'n_estimators': 300, 'subsample': 0.6}\n",
      "0.83501684 (+/-0.070) for {'colsample_bytree': 0.8, 'gamma': 0.05, 'learning_rate': 0.01, 'max_depth': 10, 'n_estimators': 300, 'subsample': 0.7}\n",
      "0.83501684 (+/-0.067) for {'colsample_bytree': 0.8, 'gamma': 0.05, 'learning_rate': 0.01, 'max_depth': 10, 'n_estimators': 300, 'subsample': 0.8}\n",
      "0.83277217 (+/-0.057) for {'colsample_bytree': 0.8, 'gamma': 0.05, 'learning_rate': 0.01, 'max_depth': 12, 'n_estimators': 300, 'subsample': 0.6}\n",
      "0.83726150 (+/-0.073) for {'colsample_bytree': 0.8, 'gamma': 0.05, 'learning_rate': 0.01, 'max_depth': 12, 'n_estimators': 300, 'subsample': 0.7}\n",
      "0.83613917 (+/-0.058) for {'colsample_bytree': 0.8, 'gamma': 0.05, 'learning_rate': 0.01, 'max_depth': 12, 'n_estimators': 300, 'subsample': 0.8}\n",
      "0.83052750 (+/-0.058) for {'colsample_bytree': 0.8, 'gamma': 0.05, 'learning_rate': 0.01, 'max_depth': 15, 'n_estimators': 300, 'subsample': 0.6}\n",
      "0.83726150 (+/-0.073) for {'colsample_bytree': 0.8, 'gamma': 0.05, 'learning_rate': 0.01, 'max_depth': 15, 'n_estimators': 300, 'subsample': 0.7}\n",
      "0.83838384 (+/-0.061) for {'colsample_bytree': 0.8, 'gamma': 0.05, 'learning_rate': 0.01, 'max_depth': 15, 'n_estimators': 300, 'subsample': 0.8}\n",
      "0.83164983 (+/-0.061) for {'colsample_bytree': 0.8, 'gamma': 0.05, 'learning_rate': 0.01, 'max_depth': 20, 'n_estimators': 300, 'subsample': 0.6}\n",
      "0.83726150 (+/-0.073) for {'colsample_bytree': 0.8, 'gamma': 0.05, 'learning_rate': 0.01, 'max_depth': 20, 'n_estimators': 300, 'subsample': 0.7}\n",
      "0.83838384 (+/-0.061) for {'colsample_bytree': 0.8, 'gamma': 0.05, 'learning_rate': 0.01, 'max_depth': 20, 'n_estimators': 300, 'subsample': 0.8}\n",
      "0.81930415 (+/-0.097) for {'colsample_bytree': 0.8, 'gamma': 0.05, 'learning_rate': 0.015, 'max_depth': 9, 'n_estimators': 300, 'subsample': 0.6}\n",
      "0.82267116 (+/-0.104) for {'colsample_bytree': 0.8, 'gamma': 0.05, 'learning_rate': 0.015, 'max_depth': 9, 'n_estimators': 300, 'subsample': 0.7}\n",
      "0.82603816 (+/-0.123) for {'colsample_bytree': 0.8, 'gamma': 0.05, 'learning_rate': 0.015, 'max_depth': 9, 'n_estimators': 300, 'subsample': 0.8}\n",
      "0.81818182 (+/-0.096) for {'colsample_bytree': 0.8, 'gamma': 0.05, 'learning_rate': 0.015, 'max_depth': 10, 'n_estimators': 300, 'subsample': 0.6}\n",
      "0.82042649 (+/-0.106) for {'colsample_bytree': 0.8, 'gamma': 0.05, 'learning_rate': 0.015, 'max_depth': 10, 'n_estimators': 300, 'subsample': 0.7}\n",
      "0.82154882 (+/-0.128) for {'colsample_bytree': 0.8, 'gamma': 0.05, 'learning_rate': 0.015, 'max_depth': 10, 'n_estimators': 300, 'subsample': 0.8}\n",
      "0.81930415 (+/-0.095) for {'colsample_bytree': 0.8, 'gamma': 0.05, 'learning_rate': 0.015, 'max_depth': 12, 'n_estimators': 300, 'subsample': 0.6}\n",
      "0.82379349 (+/-0.104) for {'colsample_bytree': 0.8, 'gamma': 0.05, 'learning_rate': 0.015, 'max_depth': 12, 'n_estimators': 300, 'subsample': 0.7}\n",
      "0.82267116 (+/-0.128) for {'colsample_bytree': 0.8, 'gamma': 0.05, 'learning_rate': 0.015, 'max_depth': 12, 'n_estimators': 300, 'subsample': 0.8}\n",
      "0.81705948 (+/-0.095) for {'colsample_bytree': 0.8, 'gamma': 0.05, 'learning_rate': 0.015, 'max_depth': 15, 'n_estimators': 300, 'subsample': 0.6}\n",
      "0.82154882 (+/-0.109) for {'colsample_bytree': 0.8, 'gamma': 0.05, 'learning_rate': 0.015, 'max_depth': 15, 'n_estimators': 300, 'subsample': 0.7}\n",
      "0.82379349 (+/-0.124) for {'colsample_bytree': 0.8, 'gamma': 0.05, 'learning_rate': 0.015, 'max_depth': 15, 'n_estimators': 300, 'subsample': 0.8}\n",
      "0.81593715 (+/-0.099) for {'colsample_bytree': 0.8, 'gamma': 0.05, 'learning_rate': 0.015, 'max_depth': 20, 'n_estimators': 300, 'subsample': 0.6}\n",
      "0.82042649 (+/-0.107) for {'colsample_bytree': 0.8, 'gamma': 0.05, 'learning_rate': 0.015, 'max_depth': 20, 'n_estimators': 300, 'subsample': 0.7}\n",
      "0.82491582 (+/-0.127) for {'colsample_bytree': 0.8, 'gamma': 0.05, 'learning_rate': 0.015, 'max_depth': 20, 'n_estimators': 300, 'subsample': 0.8}\n"
     ]
    }
   ],
   "source": [
    "means = grid.cv_results_['mean_test_score']\n",
    "stds = grid.cv_results_['std_test_score']\n",
    "for mean, std, params in zip(means, stds, grid.cv_results_['params']):\n",
    "    print(\"%0.8f (+/-%0.03f) for %r\"\n",
    "              % (mean, std * 2, params))"
   ]
  },
  {
   "cell_type": "code",
   "execution_count": 39,
   "metadata": {
    "collapsed": false
   },
   "outputs": [
    {
     "name": "stdout",
     "output_type": "stream",
     "text": [
      "Best Params:\n",
      "{'colsample_bytree': 0.7, 'gamma': 0, 'learning_rate': 0.01, 'max_depth': 15, 'n_estimators': 300, 'subsample': 0.7}\n",
      "Best CV Score:\n",
      "0.8417508417508418\n"
     ]
    }
   ],
   "source": [
    "print('Best Params:')\n",
    "print(grid.best_params_)\n",
    "print('Best CV Score:')\n",
    "print(grid.best_score_)"
   ]
  },
  {
   "cell_type": "code",
   "execution_count": 41,
   "metadata": {
    "collapsed": false
   },
   "outputs": [],
   "source": [
    "gbm2 = xgb.XGBClassifier(colsample_bytree=0.7, gamma=0, learning_rate=0.01, max_depth=15, n_estimators=300, subsample=0.7).fit(train_X, train_y)\n",
    "\n",
    "preds = gbm2.predict(test_X)"
   ]
  },
  {
   "cell_type": "code",
   "execution_count": 42,
   "metadata": {
    "collapsed": true
   },
   "outputs": [],
   "source": [
    "submission2 = pd.DataFrame({ 'PassengerId': test['PassengerId'],\n",
    "                             'Survived': preds2 })\n",
    "submission2.to_csv('submission2.csv', index=False)"
   ]
  },
  {
   "cell_type": "code",
   "execution_count": null,
   "metadata": {
    "collapsed": true
   },
   "outputs": [],
   "source": []
  }
 ],
 "metadata": {
  "anaconda-cloud": {},
  "kernelspec": {
   "display_name": "Python [py36]",
   "language": "python",
   "name": "Python [py36]"
  },
  "language_info": {
   "codemirror_mode": {
    "name": "ipython",
    "version": 3
   },
   "file_extension": ".py",
   "mimetype": "text/x-python",
   "name": "python",
   "nbconvert_exporter": "python",
   "pygments_lexer": "ipython3",
   "version": "3.6.6"
  }
 },
 "nbformat": 4,
 "nbformat_minor": 1
}
